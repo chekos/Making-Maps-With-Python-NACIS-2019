{
 "cells": [
  {
   "cell_type": "markdown",
   "metadata": {},
   "source": [
    "# Napoleon's troop movements"
   ]
  },
  {
   "cell_type": "code",
   "execution_count": null,
   "metadata": {},
   "outputs": [],
   "source": [
    "import geopandas as gpd\n",
    "import geoplot as gplt\n",
    "import matplotlib.pyplot as plt\n",
    "import mplleaflet\n",
    "from matplotlib.colors import LinearSegmentedColormap\n",
    "\n",
    "napoleon_troop_movements = gpd.read_file(gplt.datasets.get_path('napoleon_troop_movements'))\n",
    "\n",
    "colors = [(215/255, 193/255, 126/255), (37/255, 37/255, 37/255)]\n",
    "cm = LinearSegmentedColormap.from_list('minard', colors)\n",
    "\n",
    "gplt.sankey(\n",
    "    napoleon_troop_movements,\n",
    "    scale='survivors', limits=(0.5, 45),\n",
    "    hue='direction',\n",
    "    cmap=cm\n",
    ")\n",
    "fig = plt.gcf()"
   ]
  },
  {
   "cell_type": "code",
   "execution_count": null,
   "metadata": {},
   "outputs": [],
   "source": [
    "fig"
   ]
  },
  {
   "cell_type": "code",
   "execution_count": null,
   "metadata": {},
   "outputs": [],
   "source": [
    "mplleaflet.display(fig)"
   ]
  }
 ],
 "metadata": {
  "kernelspec": {
   "display_name": "Python 3",
   "language": "python",
   "name": "python3"
  },
  "language_info": {
   "codemirror_mode": {
    "name": "ipython",
    "version": 3
   },
   "file_extension": ".py",
   "mimetype": "text/x-python",
   "name": "python",
   "nbconvert_exporter": "python",
   "pygments_lexer": "ipython3",
   "version": "3.6.7"
  }
 },
 "nbformat": 4,
 "nbformat_minor": 4
}
