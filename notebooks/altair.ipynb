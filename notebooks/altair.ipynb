{
 "cells": [
  {
   "cell_type": "code",
   "execution_count": 1,
   "metadata": {},
   "outputs": [],
   "source": [
    "import pandas as pd\n",
    "import altair as alt\n",
    "from vega_datasets import data"
   ]
  },
  {
   "cell_type": "code",
   "execution_count": 2,
   "metadata": {},
   "outputs": [
    {
     "data": {
      "text/html": [
       "<div>\n",
       "<style scoped>\n",
       "    .dataframe tbody tr th:only-of-type {\n",
       "        vertical-align: middle;\n",
       "    }\n",
       "\n",
       "    .dataframe tbody tr th {\n",
       "        vertical-align: top;\n",
       "    }\n",
       "\n",
       "    .dataframe thead th {\n",
       "        text-align: right;\n",
       "    }\n",
       "</style>\n",
       "<table border=\"1\" class=\"dataframe\">\n",
       "  <thead>\n",
       "    <tr style=\"text-align: right;\">\n",
       "      <th></th>\n",
       "      <th>UnitID</th>\n",
       "      <th>Institution Name</th>\n",
       "      <th>FIPS state</th>\n",
       "      <th>Sector</th>\n",
       "      <th>Size</th>\n",
       "      <th>Institution (entity) name</th>\n",
       "      <th>Address</th>\n",
       "      <th>City</th>\n",
       "      <th>State abbreviation</th>\n",
       "      <th>FIPS county</th>\n",
       "      <th>County name</th>\n",
       "      <th>Longitude</th>\n",
       "      <th>Latitude</th>\n",
       "      <th>Undergraduate enrollment</th>\n",
       "      <th>Graduate enrollment</th>\n",
       "      <th>Students receiving a PhD</th>\n",
       "      <th>Students receiving a MA</th>\n",
       "      <th>Students receiving a BA</th>\n",
       "      <th>Students receiving an AA</th>\n",
       "    </tr>\n",
       "  </thead>\n",
       "  <tbody>\n",
       "    <tr>\n",
       "      <td>0</td>\n",
       "      <td>177834</td>\n",
       "      <td>A T Still University of Health Sciences</td>\n",
       "      <td>29</td>\n",
       "      <td>PnP</td>\n",
       "      <td>1,000 - 4,999</td>\n",
       "      <td>A T Still University of Health Sciences</td>\n",
       "      <td>800 W Jefferson</td>\n",
       "      <td>Kirksville</td>\n",
       "      <td>MO</td>\n",
       "      <td>29001</td>\n",
       "      <td>Adair County</td>\n",
       "      <td>-92.589183</td>\n",
       "      <td>40.193648</td>\n",
       "      <td>0.0</td>\n",
       "      <td>3723.0</td>\n",
       "      <td>763</td>\n",
       "      <td>283</td>\n",
       "      <td>0</td>\n",
       "      <td>0</td>\n",
       "    </tr>\n",
       "    <tr>\n",
       "      <td>1</td>\n",
       "      <td>222178</td>\n",
       "      <td>Abilene Christian University</td>\n",
       "      <td>48</td>\n",
       "      <td>PnP</td>\n",
       "      <td>5,000 - 9,999</td>\n",
       "      <td>Abilene Christian University</td>\n",
       "      <td>NaN</td>\n",
       "      <td>Abilene</td>\n",
       "      <td>TX</td>\n",
       "      <td>48441</td>\n",
       "      <td>Taylor County</td>\n",
       "      <td>-99.709797</td>\n",
       "      <td>32.468943</td>\n",
       "      <td>3666.0</td>\n",
       "      <td>1479.0</td>\n",
       "      <td>3</td>\n",
       "      <td>256</td>\n",
       "      <td>743</td>\n",
       "      <td>3</td>\n",
       "    </tr>\n",
       "    <tr>\n",
       "      <td>2</td>\n",
       "      <td>138558</td>\n",
       "      <td>Abraham Baldwin Agricultural College</td>\n",
       "      <td>13</td>\n",
       "      <td>Public</td>\n",
       "      <td>1,000 - 4,999</td>\n",
       "      <td>Abraham Baldwin Agricultural College</td>\n",
       "      <td>2802 Moore Hwy</td>\n",
       "      <td>Tifton</td>\n",
       "      <td>GA</td>\n",
       "      <td>13277</td>\n",
       "      <td>Tift County</td>\n",
       "      <td>-83.528281</td>\n",
       "      <td>31.481889</td>\n",
       "      <td>3394.0</td>\n",
       "      <td>0.0</td>\n",
       "      <td>0</td>\n",
       "      <td>0</td>\n",
       "      <td>206</td>\n",
       "      <td>389</td>\n",
       "    </tr>\n",
       "    <tr>\n",
       "      <td>3</td>\n",
       "      <td>488031</td>\n",
       "      <td>Abraham Lincoln University</td>\n",
       "      <td>6</td>\n",
       "      <td>PfP</td>\n",
       "      <td>Under 1,000</td>\n",
       "      <td>Abraham Lincoln University</td>\n",
       "      <td>3530 Wilshire Boulevard  Suite 1430</td>\n",
       "      <td>Los Angeles</td>\n",
       "      <td>CA</td>\n",
       "      <td>6037</td>\n",
       "      <td>Los Angeles County</td>\n",
       "      <td>-118.301362</td>\n",
       "      <td>34.061398</td>\n",
       "      <td>30.0</td>\n",
       "      <td>167.0</td>\n",
       "      <td>17</td>\n",
       "      <td>6</td>\n",
       "      <td>2</td>\n",
       "      <td>0</td>\n",
       "    </tr>\n",
       "    <tr>\n",
       "      <td>4</td>\n",
       "      <td>172866</td>\n",
       "      <td>Academy College</td>\n",
       "      <td>27</td>\n",
       "      <td>PfP</td>\n",
       "      <td>Under 1,000</td>\n",
       "      <td>Academy College</td>\n",
       "      <td>1600 W. 82nd Street  Suite 100</td>\n",
       "      <td>Bloomington</td>\n",
       "      <td>MN</td>\n",
       "      <td>27053</td>\n",
       "      <td>Hennepin County</td>\n",
       "      <td>-93.299809</td>\n",
       "      <td>44.855722</td>\n",
       "      <td>65.0</td>\n",
       "      <td>0.0</td>\n",
       "      <td>0</td>\n",
       "      <td>0</td>\n",
       "      <td>6</td>\n",
       "      <td>16</td>\n",
       "    </tr>\n",
       "  </tbody>\n",
       "</table>\n",
       "</div>"
      ],
      "text/plain": [
       "   UnitID                         Institution Name  FIPS state  Sector  \\\n",
       "0  177834  A T Still University of Health Sciences          29     PnP   \n",
       "1  222178             Abilene Christian University          48     PnP   \n",
       "2  138558     Abraham Baldwin Agricultural College          13  Public   \n",
       "3  488031               Abraham Lincoln University           6     PfP   \n",
       "4  172866                          Academy College          27     PfP   \n",
       "\n",
       "            Size                Institution (entity) name  \\\n",
       "0  1,000 - 4,999  A T Still University of Health Sciences   \n",
       "1  5,000 - 9,999             Abilene Christian University   \n",
       "2  1,000 - 4,999     Abraham Baldwin Agricultural College   \n",
       "3    Under 1,000               Abraham Lincoln University   \n",
       "4    Under 1,000                          Academy College   \n",
       "\n",
       "                               Address         City State abbreviation  \\\n",
       "0                      800 W Jefferson   Kirksville                 MO   \n",
       "1                                  NaN      Abilene                 TX   \n",
       "2                       2802 Moore Hwy       Tifton                 GA   \n",
       "3  3530 Wilshire Boulevard  Suite 1430  Los Angeles                 CA   \n",
       "4       1600 W. 82nd Street  Suite 100  Bloomington                 MN   \n",
       "\n",
       "   FIPS county         County name   Longitude   Latitude  \\\n",
       "0        29001        Adair County  -92.589183  40.193648   \n",
       "1        48441       Taylor County  -99.709797  32.468943   \n",
       "2        13277         Tift County  -83.528281  31.481889   \n",
       "3         6037  Los Angeles County -118.301362  34.061398   \n",
       "4        27053     Hennepin County  -93.299809  44.855722   \n",
       "\n",
       "   Undergraduate enrollment  Graduate enrollment  Students receiving a PhD  \\\n",
       "0                       0.0               3723.0                       763   \n",
       "1                    3666.0               1479.0                         3   \n",
       "2                    3394.0                  0.0                         0   \n",
       "3                      30.0                167.0                        17   \n",
       "4                      65.0                  0.0                         0   \n",
       "\n",
       "   Students receiving a MA  Students receiving a BA  Students receiving an AA  \n",
       "0                      283                        0                         0  \n",
       "1                      256                      743                         3  \n",
       "2                        0                      206                       389  \n",
       "3                        6                        2                         0  \n",
       "4                        0                        6                        16  "
      ]
     },
     "execution_count": 2,
     "metadata": {},
     "output_type": "execute_result"
    }
   ],
   "source": [
    "colleges = pd.read_csv(\"../data/processed/colleges_in_US.csv\")\n",
    "colleges.head()"
   ]
  },
  {
   "cell_type": "code",
   "execution_count": 3,
   "metadata": {},
   "outputs": [
    {
     "data": {
      "text/html": [
       "<div>\n",
       "<style scoped>\n",
       "    .dataframe tbody tr th:only-of-type {\n",
       "        vertical-align: middle;\n",
       "    }\n",
       "\n",
       "    .dataframe tbody tr th {\n",
       "        vertical-align: top;\n",
       "    }\n",
       "\n",
       "    .dataframe thead th {\n",
       "        text-align: right;\n",
       "    }\n",
       "</style>\n",
       "<table border=\"1\" class=\"dataframe\">\n",
       "  <thead>\n",
       "    <tr style=\"text-align: right;\">\n",
       "      <th></th>\n",
       "      <th>Institution Name</th>\n",
       "      <th>Longitude</th>\n",
       "      <th>Latitude</th>\n",
       "      <th>Undergraduate enrollment</th>\n",
       "    </tr>\n",
       "  </thead>\n",
       "  <tbody>\n",
       "    <tr>\n",
       "      <td>0</td>\n",
       "      <td>A T Still University of Health Sciences</td>\n",
       "      <td>-92.589183</td>\n",
       "      <td>40.193648</td>\n",
       "      <td>0.0</td>\n",
       "    </tr>\n",
       "    <tr>\n",
       "      <td>1</td>\n",
       "      <td>Abilene Christian University</td>\n",
       "      <td>-99.709797</td>\n",
       "      <td>32.468943</td>\n",
       "      <td>3666.0</td>\n",
       "    </tr>\n",
       "    <tr>\n",
       "      <td>2</td>\n",
       "      <td>Abraham Baldwin Agricultural College</td>\n",
       "      <td>-83.528281</td>\n",
       "      <td>31.481889</td>\n",
       "      <td>3394.0</td>\n",
       "    </tr>\n",
       "    <tr>\n",
       "      <td>3</td>\n",
       "      <td>Abraham Lincoln University</td>\n",
       "      <td>-118.301362</td>\n",
       "      <td>34.061398</td>\n",
       "      <td>30.0</td>\n",
       "    </tr>\n",
       "    <tr>\n",
       "      <td>4</td>\n",
       "      <td>Academy College</td>\n",
       "      <td>-93.299809</td>\n",
       "      <td>44.855722</td>\n",
       "      <td>65.0</td>\n",
       "    </tr>\n",
       "  </tbody>\n",
       "</table>\n",
       "</div>"
      ],
      "text/plain": [
       "                          Institution Name   Longitude   Latitude  \\\n",
       "0  A T Still University of Health Sciences  -92.589183  40.193648   \n",
       "1             Abilene Christian University  -99.709797  32.468943   \n",
       "2     Abraham Baldwin Agricultural College  -83.528281  31.481889   \n",
       "3               Abraham Lincoln University -118.301362  34.061398   \n",
       "4                          Academy College  -93.299809  44.855722   \n",
       "\n",
       "   Undergraduate enrollment  \n",
       "0                       0.0  \n",
       "1                    3666.0  \n",
       "2                    3394.0  \n",
       "3                      30.0  \n",
       "4                      65.0  "
      ]
     },
     "execution_count": 3,
     "metadata": {},
     "output_type": "execute_result"
    }
   ],
   "source": [
    "colleges_clean = colleges[['Institution Name', 'Longitude', 'Latitude', 'Undergraduate enrollment']].copy()\n",
    "colleges_clean.fillna(0, inplace = True)\n",
    "colleges_clean.head()"
   ]
  },
  {
   "cell_type": "code",
   "execution_count": 4,
   "metadata": {},
   "outputs": [
    {
     "data": {
      "application/vnd.vegalite.v3+json": {
       "$schema": "https://vega.github.io/schema/vega-lite/v3.4.0.json",
       "config": {
        "mark": {
         "tooltip": null
        },
        "view": {
         "height": 300,
         "width": 400
        }
       },
       "datasets": {
        "data-6c6e00e0a31cc10e908b2b380c1ac807": [
         {
          "Institution Name": "A T Still University of Health Sciences",
          "Latitude": 40.193648,
          "Longitude": -92.589183,
          "Undergraduate enrollment": 0
         },
         {
          "Institution Name": "Abilene Christian University",
          "Latitude": 32.468943,
          "Longitude": -99.709797,
          "Undergraduate enrollment": 3666
         },
         {
          "Institution Name": "Abraham Baldwin Agricultural College",
          "Latitude": 31.481889,
          "Longitude": -83.528281,
          "Undergraduate enrollment": 3394
         },
         {
          "Institution Name": "Abraham Lincoln University",
          "Latitude": 34.061398,
          "Longitude": -118.301362,
          "Undergraduate enrollment": 30
         },
         {
          "Institution Name": "Academy College",
          "Latitude": 44.855722,
          "Longitude": -93.299809,
          "Undergraduate enrollment": 65
         },
         {
          "Institution Name": "Academy for Five Element Acupuncture",
          "Latitude": 29.650075,
          "Longitude": -82.32199399999998,
          "Undergraduate enrollment": 0
         },
         {
          "Institution Name": "Academy for Jewish Religion-California",
          "Latitude": 34.070281,
          "Longitude": -118.438495,
          "Undergraduate enrollment": 0
         },
         {
          "Institution Name": "Academy of Art University",
          "Latitude": 37.787748,
          "Longitude": -122.400686,
          "Undergraduate enrollment": 7652
         },
         {
          "Institution Name": "Academy of Chinese Culture and Health Sciences",
          "Latitude": 37.805972,
          "Longitude": -122.269839,
          "Undergraduate enrollment": 0
         },
         {
          "Institution Name": "Acupuncture and Integrative Medicine College-Berkeley",
          "Latitude": 37.862754,
          "Longitude": -122.267636,
          "Undergraduate enrollment": 0
         },
         {
          "Institution Name": "Acupuncture and Massage College",
          "Latitude": 25.686382,
          "Longitude": -80.364141,
          "Undergraduate enrollment": 37
         },
         {
          "Institution Name": "Adams State University",
          "Latitude": 37.473636,
          "Longitude": -105.879642,
          "Undergraduate enrollment": 1960
         },
         {
          "Institution Name": "Adelphi University",
          "Latitude": 40.721439,
          "Longitude": -73.65332099999998,
          "Undergraduate enrollment": 5266
         },
         {
          "Institution Name": "Adler Graduate School",
          "Latitude": 44.862944,
          "Longitude": -93.252364,
          "Undergraduate enrollment": 0
         },
         {
          "Institution Name": "Adler University",
          "Latitude": 41.882414,
          "Longitude": -87.62915600000002,
          "Undergraduate enrollment": 0
         },
         {
          "Institution Name": "Adrian College",
          "Latitude": 41.898591,
          "Longitude": -84.061481,
          "Undergraduate enrollment": 1671
         },
         {
          "Institution Name": "Adventist University of Health Sciences",
          "Latitude": 28.576142,
          "Longitude": -81.367687,
          "Undergraduate enrollment": 1491
         },
         {
          "Institution Name": "Agnes Scott College",
          "Latitude": 33.769268,
          "Longitude": -84.295459,
          "Undergraduate enrollment": 921
         },
         {
          "Institution Name": "AI Miami International University of Art and Design",
          "Latitude": 25.790008,
          "Longitude": -80.18839,
          "Undergraduate enrollment": 1419
         },
         {
          "Institution Name": "Alabama A & M University",
          "Latitude": 34.783368,
          "Longitude": -86.568502,
          "Undergraduate enrollment": 5038
         },
         {
          "Institution Name": "Alabama College of Osteopathic Medicine",
          "Latitude": 31.206294,
          "Longitude": -85.340805,
          "Undergraduate enrollment": 0
         },
         {
          "Institution Name": "Alabama State University",
          "Latitude": 32.364317,
          "Longitude": -86.295677,
          "Undergraduate enrollment": 4208
         },
         {
          "Institution Name": "Alaska Bible College",
          "Latitude": 61.598553,
          "Longitude": -149.111972,
          "Undergraduate enrollment": 42
         },
         {
          "Institution Name": "Alaska Pacific University",
          "Latitude": 61.19096800000001,
          "Longitude": -149.804168,
          "Undergraduate enrollment": 296
         },
         {
          "Institution Name": "Albany College of Pharmacy and Health Sciences",
          "Latitude": 42.650371,
          "Longitude": -73.779063,
          "Undergraduate enrollment": 890
         },
         {
          "Institution Name": "Albany Law School",
          "Latitude": 42.651818,
          "Longitude": -73.777495,
          "Undergraduate enrollment": 0
         },
         {
          "Institution Name": "Albany Medical College",
          "Latitude": 42.65382,
          "Longitude": -73.777289,
          "Undergraduate enrollment": 0
         },
         {
          "Institution Name": "Albany State University",
          "Latitude": 31.56928,
          "Longitude": -84.141825,
          "Undergraduate enrollment": 6262
         },
         {
          "Institution Name": "Albertus Magnus College",
          "Latitude": 41.332519,
          "Longitude": -72.92384799999998,
          "Undergraduate enrollment": 1128
         },
         {
          "Institution Name": "Albion College",
          "Latitude": 42.245049,
          "Longitude": -84.745639,
          "Undergraduate enrollment": 1568
         },
         {
          "Institution Name": "Albright College",
          "Latitude": 40.361351,
          "Longitude": -75.90974200000002,
          "Undergraduate enrollment": 2015
         },
         {
          "Institution Name": "Alcorn State University",
          "Latitude": 31.877216,
          "Longitude": -91.142854,
          "Undergraduate enrollment": 3172
         },
         {
          "Institution Name": "Alderson Broaddus University",
          "Latitude": 39.158067,
          "Longitude": -80.047728,
          "Undergraduate enrollment": 952
         },
         {
          "Institution Name": "Alfred University",
          "Latitude": 42.254476,
          "Longitude": -77.788106,
          "Undergraduate enrollment": 1707
         },
         {
          "Institution Name": "Alhambra Medical University",
          "Latitude": 34.080181,
          "Longitude": -118.148684,
          "Undergraduate enrollment": 42
         },
         {
          "Institution Name": "Alice Lloyd College",
          "Latitude": 37.335087,
          "Longitude": -82.875068,
          "Undergraduate enrollment": 598
         },
         {
          "Institution Name": "Allegheny College",
          "Latitude": 41.64869,
          "Longitude": -80.14716800000002,
          "Undergraduate enrollment": 1802
         },
         {
          "Institution Name": "Allegheny Wesleyan College",
          "Latitude": 40.86722,
          "Longitude": -80.861232,
          "Undergraduate enrollment": 84
         },
         {
          "Institution Name": "Allen College",
          "Latitude": 42.530084,
          "Longitude": -92.340148,
          "Undergraduate enrollment": 329
         },
         {
          "Institution Name": "Allen University",
          "Latitude": 34.010348,
          "Longitude": -81.020045,
          "Undergraduate enrollment": 590
         },
         {
          "Institution Name": "Alliant International University-San Diego",
          "Latitude": 32.897056,
          "Longitude": -117.094398,
          "Undergraduate enrollment": 1194
         },
         {
          "Institution Name": "Alma College",
          "Latitude": 43.38004,
          "Longitude": -84.672053,
          "Undergraduate enrollment": 1426
         },
         {
          "Institution Name": "Alpena Community College",
          "Latitude": 45.081647,
          "Longitude": -83.44506899999998,
          "Undergraduate enrollment": 1611
         },
         {
          "Institution Name": "Altierus Career College-Orange Park",
          "Latitude": 30.188775,
          "Longitude": -81.706086,
          "Undergraduate enrollment": 265
         },
         {
          "Institution Name": "Altierus Career College-Tampa",
          "Latitude": 27.996582,
          "Longitude": -82.49761600000002,
          "Undergraduate enrollment": 1188
         },
         {
          "Institution Name": "Alvernia University",
          "Latitude": 40.310028,
          "Longitude": -75.93675400000002,
          "Undergraduate enrollment": 2251
         },
         {
          "Institution Name": "Alverno College",
          "Latitude": 42.982842,
          "Longitude": -87.965174,
          "Undergraduate enrollment": 1312
         },
         {
          "Institution Name": "Amberton University",
          "Latitude": 32.859937,
          "Longitude": -96.653028,
          "Undergraduate enrollment": 217
         },
         {
          "Institution Name": "Ambria College of Nursing",
          "Latitude": 42.075628,
          "Longitude": -88.2109,
          "Undergraduate enrollment": 317
         },
         {
          "Institution Name": "America Evangelical University",
          "Latitude": 34.041239000000004,
          "Longitude": -118.308661,
          "Undergraduate enrollment": 14
         },
         {
          "Institution Name": "American Academy of Acupuncture and Oriental Medicine",
          "Latitude": 45.015332,
          "Longitude": -93.18106,
          "Undergraduate enrollment": 0
         },
         {
          "Institution Name": "American Academy of Art",
          "Latitude": 41.87742,
          "Longitude": -87.624788,
          "Undergraduate enrollment": 260
         },
         {
          "Institution Name": "American Baptist College",
          "Latitude": 36.201155,
          "Longitude": -86.789301,
          "Undergraduate enrollment": 115
         },
         {
          "Institution Name": "American Baptist Seminary of the West",
          "Latitude": 37.86525200000001,
          "Longitude": -122.256149,
          "Undergraduate enrollment": 0
         },
         {
          "Institution Name": "American Business and Technology University",
          "Latitude": 39.779095,
          "Longitude": -94.819797,
          "Undergraduate enrollment": 867
         },
         {
          "Institution Name": "American College for Medical Careers",
          "Latitude": 28.470997,
          "Longitude": -81.402271,
          "Undergraduate enrollment": 481
         },
         {
          "Institution Name": "American College of Acupuncture and Oriental Med",
          "Latitude": 29.735747,
          "Longitude": -95.524765,
          "Undergraduate enrollment": 0
         },
         {
          "Institution Name": "American College of Healthcare Sciences",
          "Latitude": 45.486902,
          "Longitude": -122.675858,
          "Undergraduate enrollment": 418
         },
         {
          "Institution Name": "American Conservatory Theater",
          "Latitude": 37.787343,
          "Longitude": -122.40475,
          "Undergraduate enrollment": 13
         },
         {
          "Institution Name": "American Film Institute Conservatory",
          "Latitude": 34.10767,
          "Longitude": -118.310018,
          "Undergraduate enrollment": 0
         },
         {
          "Institution Name": "American Institute of Alternative Medicine",
          "Latitude": 40.102442,
          "Longitude": -82.988733,
          "Undergraduate enrollment": 389
         },
         {
          "Institution Name": "American InterContinental University",
          "Latitude": 42.033191,
          "Longitude": -88.032424,
          "Undergraduate enrollment": 8698
         },
         {
          "Institution Name": "American InterContinental University-Atlanta",
          "Latitude": 33.938779,
          "Longitude": -84.354907,
          "Undergraduate enrollment": 1904
         },
         {
          "Institution Name": "American InterContinental University-Houston",
          "Latitude": 29.728221,
          "Longitude": -95.548309,
          "Undergraduate enrollment": 285
         },
         {
          "Institution Name": "American International College",
          "Latitude": 42.11270800000001,
          "Longitude": -72.55850699999998,
          "Undergraduate enrollment": 1372
         },
         {
          "Institution Name": "American Jewish University",
          "Latitude": 34.128099,
          "Longitude": -118.471764,
          "Undergraduate enrollment": 67
         },
         {
          "Institution Name": "American Musical and Dramatic Academy",
          "Latitude": 40.772275,
          "Longitude": -73.987549,
          "Undergraduate enrollment": 1515
         },
         {
          "Institution Name": "American National University",
          "Latitude": 37.299743,
          "Longitude": -80.023602,
          "Undergraduate enrollment": 917
         },
         {
          "Institution Name": "American National University-Lexington",
          "Latitude": 38.026996,
          "Longitude": -84.421099,
          "Undergraduate enrollment": 233
         },
         {
          "Institution Name": "American Public University System",
          "Latitude": 39.287826,
          "Longitude": -77.86012099999998,
          "Undergraduate enrollment": 37910
         },
         {
          "Institution Name": "American Sentinel University",
          "Latitude": 39.67661,
          "Longitude": -104.831161,
          "Undergraduate enrollment": 1421
         },
         {
          "Institution Name": "American University",
          "Latitude": 38.936005,
          "Longitude": -77.088875,
          "Undergraduate enrollment": 8123
         },
         {
          "Institution Name": "American University of Health Sciences",
          "Latitude": 33.796849,
          "Longitude": -118.171366,
          "Undergraduate enrollment": 249
         },
         {
          "Institution Name": "AmeriTech College-Draper",
          "Latitude": 40.527932,
          "Longitude": -111.892792,
          "Undergraduate enrollment": 604
         },
         {
          "Institution Name": "Amherst College",
          "Latitude": 42.372459,
          "Longitude": -72.518493,
          "Undergraduate enrollment": 1836
         },
         {
          "Institution Name": "Amridge University",
          "Latitude": 32.362609,
          "Longitude": -86.17401,
          "Undergraduate enrollment": 322
         },
         {
          "Institution Name": "Anabaptist Mennonite Biblical Seminary",
          "Latitude": 41.656013,
          "Longitude": -85.972165,
          "Undergraduate enrollment": 0
         },
         {
          "Institution Name": "Anderson University",
          "Latitude": 40.112768,
          "Longitude": -85.664315,
          "Undergraduate enrollment": 1566
         },
         {
          "Institution Name": "Anderson University",
          "Latitude": 34.5152,
          "Longitude": -82.64035799999998,
          "Undergraduate enrollment": 2983
         },
         {
          "Institution Name": "Andover Newton Theological School",
          "Latitude": 42.324852,
          "Longitude": -71.18894300000002,
          "Undergraduate enrollment": 0
         },
         {
          "Institution Name": "Andrew College",
          "Latitude": 31.772321,
          "Longitude": -84.79502099999998,
          "Undergraduate enrollment": 285
         },
         {
          "Institution Name": "Andrews University",
          "Latitude": 41.963859,
          "Longitude": -86.355815,
          "Undergraduate enrollment": 1704
         },
         {
          "Institution Name": "Angeles College",
          "Latitude": 34.061223,
          "Longitude": -118.29903,
          "Undergraduate enrollment": 156
         },
         {
          "Institution Name": "Angelo State University",
          "Latitude": 31.440914000000006,
          "Longitude": -100.465051,
          "Undergraduate enrollment": 8719
         },
         {
          "Institution Name": "Anna Maria College",
          "Latitude": 42.33055,
          "Longitude": -71.918961,
          "Undergraduate enrollment": 1120
         },
         {
          "Institution Name": "Antelope Valley College",
          "Latitude": 34.676207,
          "Longitude": -118.186166,
          "Undergraduate enrollment": 14125
         },
         {
          "Institution Name": "Antioch College",
          "Latitude": 39.799806,
          "Longitude": -83.888077,
          "Undergraduate enrollment": 133
         },
         {
          "Institution Name": "Antioch University-Los Angeles",
          "Latitude": 33.988533000000004,
          "Longitude": -118.384458,
          "Undergraduate enrollment": 255
         },
         {
          "Institution Name": "Antioch University-Midwest",
          "Latitude": 39.80321,
          "Longitude": -83.908684,
          "Undergraduate enrollment": 41
         },
         {
          "Institution Name": "Antioch University-New England",
          "Latitude": 42.932344,
          "Longitude": -72.293798,
          "Undergraduate enrollment": 0
         },
         {
          "Institution Name": "Antioch University-Santa Barbara",
          "Latitude": 34.419203,
          "Longitude": -119.6958,
          "Undergraduate enrollment": 103
         },
         {
          "Institution Name": "Antioch University-Seattle",
          "Latitude": 47.615916,
          "Longitude": -122.346318,
          "Undergraduate enrollment": 89
         },
         {
          "Institution Name": "AOMA Graduate School of Integrative Medicine",
          "Latitude": 30.228551,
          "Longitude": -97.800643,
          "Undergraduate enrollment": 0
         },
         {
          "Institution Name": "Apex School of Theology",
          "Latitude": 35.922645,
          "Longitude": -78.841386,
          "Undergraduate enrollment": 646
         },
         {
          "Institution Name": "Appalachian Bible College",
          "Latitude": 37.853335,
          "Longitude": -81.198867,
          "Undergraduate enrollment": 274
         },
         {
          "Institution Name": "Appalachian College of Pharmacy",
          "Latitude": 37.211496,
          "Longitude": -82.005227,
          "Undergraduate enrollment": 0
         },
         {
          "Institution Name": "Appalachian School of Law",
          "Latitude": 37.278007,
          "Longitude": -82.096426,
          "Undergraduate enrollment": 0
         },
         {
          "Institution Name": "Appalachian State University",
          "Latitude": 36.215536,
          "Longitude": -81.680583,
          "Undergraduate enrollment": 17017
         },
         {
          "Institution Name": "Aquinas College",
          "Latitude": 42.96019,
          "Longitude": -85.628785,
          "Undergraduate enrollment": 1551
         },
         {
          "Institution Name": "Aquinas Institute of Theology",
          "Latitude": 38.634329,
          "Longitude": -90.237795,
          "Undergraduate enrollment": 0
         },
         {
          "Institution Name": "Arcadia University",
          "Latitude": 40.092606,
          "Longitude": -75.163876,
          "Undergraduate enrollment": 2390
         },
         {
          "Institution Name": "Argosy University-Atlanta",
          "Latitude": 33.920309,
          "Longitude": -84.355456,
          "Undergraduate enrollment": 455
         },
         {
          "Institution Name": "Argosy University-Chicago",
          "Latitude": 41.886006,
          "Longitude": -87.623772,
          "Undergraduate enrollment": 143
         },
         {
          "Institution Name": "Argosy University-Dallas",
          "Latitude": 32.928188,
          "Longitude": -96.823294,
          "Undergraduate enrollment": 257
         },
         {
          "Institution Name": "Argosy University-Denver",
          "Latitude": 39.656379,
          "Longitude": -104.901822,
          "Undergraduate enrollment": 218
         },
         {
          "Institution Name": "Argosy University-Hawaii",
          "Latitude": 21.308906,
          "Longitude": -157.860432,
          "Undergraduate enrollment": 389
         },
         {
          "Institution Name": "Argosy University-Inland Empire",
          "Latitude": 34.066571,
          "Longitude": -117.578019,
          "Undergraduate enrollment": 245
         },
         {
          "Institution Name": "Argosy University-Los Angeles",
          "Latitude": 33.92828,
          "Longitude": -118.373216,
          "Undergraduate enrollment": 219
         },
         {
          "Institution Name": "Argosy University-Nashville",
          "Latitude": 36.154664,
          "Longitude": -86.634674,
          "Undergraduate enrollment": 123
         },
         {
          "Institution Name": "Argosy University-Northern Virginia",
          "Latitude": 38.894272,
          "Longitude": -77.07592700000002,
          "Undergraduate enrollment": 55
         },
         {
          "Institution Name": "Argosy University-Orange County",
          "Latitude": 33.779031,
          "Longitude": -117.897077,
          "Undergraduate enrollment": 146
         },
         {
          "Institution Name": "Argosy University-Phoenix",
          "Latitude": 33.566817,
          "Longitude": -112.107494,
          "Undergraduate enrollment": 111
         },
         {
          "Institution Name": "Argosy University-Phoenix Online Division",
          "Latitude": 33.566817,
          "Longitude": -112.107494,
          "Undergraduate enrollment": 4534
         },
         {
          "Institution Name": "Argosy University-Salt Lake City",
          "Latitude": 40.534393,
          "Longitude": -111.893881,
          "Undergraduate enrollment": 46
         },
         {
          "Institution Name": "Argosy University-San Diego",
          "Latitude": 32.775344,
          "Longitude": -117.157733,
          "Undergraduate enrollment": 146
         },
         {
          "Institution Name": "Argosy University-San Francisco Bay Area",
          "Latitude": 37.781238,
          "Longitude": -122.267523,
          "Undergraduate enrollment": 92
         },
         {
          "Institution Name": "Argosy University-Sarasota",
          "Latitude": 27.351394,
          "Longitude": -82.465363,
          "Undergraduate enrollment": 102
         },
         {
          "Institution Name": "Argosy University-Schaumburg",
          "Latitude": 42.048222,
          "Longitude": -88.04399699999998,
          "Undergraduate enrollment": 44
         },
         {
          "Institution Name": "Argosy University-Seattle",
          "Latitude": 47.613924,
          "Longitude": -122.351734,
          "Undergraduate enrollment": 10
         },
         {
          "Institution Name": "Argosy University-Tampa",
          "Latitude": 27.955166,
          "Longitude": -82.482545,
          "Undergraduate enrollment": 135
         },
         {
          "Institution Name": "Argosy University-The Art Institute of California-Hollywood",
          "Latitude": 34.166753,
          "Longitude": -118.37528,
          "Undergraduate enrollment": 987
         },
         {
          "Institution Name": "Argosy University-The Art Institute of California-Inland Empire",
          "Latitude": 34.071827,
          "Longitude": -117.270965,
          "Undergraduate enrollment": 824
         },
         {
          "Institution Name": "Argosy University-The Art Institute of California-Orange County",
          "Latitude": 33.697014,
          "Longitude": -117.916303,
          "Undergraduate enrollment": 558
         },
         {
          "Institution Name": "Argosy University-The Art Institute of California-Sacramento",
          "Latitude": 38.62211,
          "Longitude": -121.519083,
          "Undergraduate enrollment": 423
         },
         {
          "Institution Name": "Argosy University-The Art Institute of California-San Diego",
          "Latitude": 32.778278,
          "Longitude": -117.155395,
          "Undergraduate enrollment": 846
         },
         {
          "Institution Name": "Argosy University-The Art Institute of California-San Francisco",
          "Latitude": 37.780569,
          "Longitude": -122.413417,
          "Undergraduate enrollment": 472
         },
         {
          "Institution Name": "Argosy University-Twin Cities",
          "Latitude": 44.837291,
          "Longitude": -93.173867,
          "Undergraduate enrollment": 1067
         },
         {
          "Institution Name": "Arizona Christian University",
          "Latitude": 33.595117,
          "Longitude": -112.026211,
          "Undergraduate enrollment": 786
         },
         {
          "Institution Name": "Arizona College-Las Vegas",
          "Latitude": 36.1456,
          "Longitude": -115.171331,
          "Undergraduate enrollment": 161
         },
         {
          "Institution Name": "Arizona College-Mesa",
          "Latitude": 33.418374,
          "Longitude": -111.873428,
          "Undergraduate enrollment": 618
         },
         {
          "Institution Name": "Arizona School of Acupuncture and Oriental Medicine",
          "Latitude": 32.26455900000001,
          "Longitude": -110.929118,
          "Undergraduate enrollment": 0
         },
         {
          "Institution Name": "Arizona State University-Downtown Phoenix",
          "Latitude": 33.452914,
          "Longitude": -112.07347,
          "Undergraduate enrollment": 8902
         },
         {
          "Institution Name": "Arizona State University-Polytechnic",
          "Latitude": 33.307142,
          "Longitude": -111.677225,
          "Undergraduate enrollment": 4239
         },
         {
          "Institution Name": "Arizona State University-Skysong",
          "Latitude": 33.463786,
          "Longitude": -111.92386100000002,
          "Undergraduate enrollment": 24346
         },
         {
          "Institution Name": "Arizona State University-Tempe",
          "Latitude": 33.417721,
          "Longitude": -111.934383,
          "Undergraduate enrollment": 42427
         },
         {
          "Institution Name": "Arizona State University-West",
          "Latitude": 33.60726,
          "Longitude": -112.160021,
          "Undergraduate enrollment": 3630
         },
         {
          "Institution Name": "Arizona Summit Law School",
          "Latitude": 33.44866,
          "Longitude": -112.073133,
          "Undergraduate enrollment": 0
         },
         {
          "Institution Name": "Arkansas Baptist College",
          "Latitude": 34.734751,
          "Longitude": -92.290555,
          "Undergraduate enrollment": 593
         },
         {
          "Institution Name": "Arkansas Colleges of Health Education",
          "Latitude": 35.317421,
          "Longitude": -94.319084,
          "Undergraduate enrollment": 0
         },
         {
          "Institution Name": "Arkansas State University-Main Campus",
          "Latitude": 35.842388,
          "Longitude": -90.679988,
          "Undergraduate enrollment": 9604
         },
         {
          "Institution Name": "Arkansas Tech University",
          "Latitude": 35.293237,
          "Longitude": -93.13562,
          "Undergraduate enrollment": 10781
         },
         {
          "Institution Name": "Arlington Baptist University",
          "Latitude": 32.739489,
          "Longitude": -97.156024,
          "Undergraduate enrollment": 160
         },
         {
          "Institution Name": "Armstrong State University",
          "Latitude": 31.979073,
          "Longitude": -81.161803,
          "Undergraduate enrollment": 6281
         },
         {
          "Institution Name": "Art Academy of Cincinnati",
          "Latitude": 39.108805,
          "Longitude": -84.513913,
          "Undergraduate enrollment": 175
         },
         {
          "Institution Name": "Art Center College of Design",
          "Latitude": 34.169031,
          "Longitude": -118.185102,
          "Undergraduate enrollment": 2005
         },
         {
          "Institution Name": "Asbury Theological Seminary",
          "Latitude": 37.861561,
          "Longitude": -84.660127,
          "Undergraduate enrollment": 0
         },
         {
          "Institution Name": "Asbury University",
          "Latitude": 37.862029,
          "Longitude": -84.66260600000003,
          "Undergraduate enrollment": 1733
         },
         {
          "Institution Name": "Ashford University",
          "Latitude": 32.8273,
          "Longitude": -117.141961,
          "Undergraduate enrollment": 31546
         },
         {
          "Institution Name": "Ashland University",
          "Latitude": 40.861755,
          "Longitude": -82.321061,
          "Undergraduate enrollment": 4813
         },
         {
          "Institution Name": "Aspen University",
          "Latitude": 39.68614,
          "Longitude": -104.939111,
          "Undergraduate enrollment": 3130
         },
         {
          "Institution Name": "Assumption College",
          "Latitude": 42.295435,
          "Longitude": -71.828387,
          "Undergraduate enrollment": 2084
         },
         {
          "Institution Name": "Athens State University",
          "Latitude": 34.806793,
          "Longitude": -86.964698,
          "Undergraduate enrollment": 2967
         },
         {
          "Institution Name": "Atlanta Metropolitan State College",
          "Latitude": 33.70893,
          "Longitude": -84.404659,
          "Undergraduate enrollment": 2501
         },
         {
          "Institution Name": "Atlanta's John Marshall Law School",
          "Latitude": 33.793394,
          "Longitude": -84.38789799999998,
          "Undergraduate enrollment": 0
         },
         {
          "Institution Name": "Atlantic Institute of Oriental Medicine",
          "Latitude": 26.121964,
          "Longitude": -80.142235,
          "Undergraduate enrollment": 43
         },
         {
          "Institution Name": "Atlantis University",
          "Latitude": 25.788978,
          "Longitude": -80.18942,
          "Undergraduate enrollment": 197
         },
         {
          "Institution Name": "Auburn University",
          "Latitude": 32.599378,
          "Longitude": -85.488258,
          "Undergraduate enrollment": 23964
         },
         {
          "Institution Name": "Auburn University at Montgomery",
          "Latitude": 32.36736,
          "Longitude": -86.177544,
          "Undergraduate enrollment": 4313
         },
         {
          "Institution Name": "Augsburg University",
          "Latitude": 44.966307,
          "Longitude": -93.240436,
          "Undergraduate enrollment": 2427
         },
         {
          "Institution Name": "Augusta University",
          "Latitude": 33.47037,
          "Longitude": -81.989071,
          "Undergraduate enrollment": 5291
         },
         {
          "Institution Name": "Augustana College",
          "Latitude": 41.50236500000001,
          "Longitude": -90.55057,
          "Undergraduate enrollment": 2647
         },
         {
          "Institution Name": "Augustana University",
          "Latitude": 43.525148,
          "Longitude": -96.736975,
          "Undergraduate enrollment": 1749
         },
         {
          "Institution Name": "Aultman College of Nursing and Health Sciences",
          "Latitude": 40.796186,
          "Longitude": -81.404053,
          "Undergraduate enrollment": 394
         },
         {
          "Institution Name": "Aurora University",
          "Latitude": 41.753631,
          "Longitude": -88.349023,
          "Undergraduate enrollment": 3933
         },
         {
          "Institution Name": "Austin College",
          "Latitude": 33.646307,
          "Longitude": -96.598772,
          "Undergraduate enrollment": 1214
         },
         {
          "Institution Name": "Austin Graduate School of Theology",
          "Latitude": 30.343788,
          "Longitude": -97.711706,
          "Undergraduate enrollment": 22
         },
         {
          "Institution Name": "Austin Peay State University",
          "Latitude": 36.533319,
          "Longitude": -87.35408100000002,
          "Undergraduate enrollment": 9591
         },
         {
          "Institution Name": "Austin Presbyterian Theological Seminary",
          "Latitude": 30.292635,
          "Longitude": -97.737752,
          "Undergraduate enrollment": 0
         },
         {
          "Institution Name": "Ave Maria School of Law",
          "Latitude": 26.242138,
          "Longitude": -81.731358,
          "Undergraduate enrollment": 0
         },
         {
          "Institution Name": "Ave Maria University",
          "Latitude": 26.335983,
          "Longitude": -81.43894499999998,
          "Undergraduate enrollment": 1072
         },
         {
          "Institution Name": "Averett University",
          "Latitude": 36.577287,
          "Longitude": -79.413203,
          "Undergraduate enrollment": 927
         },
         {
          "Institution Name": "Averett University-Non-Traditional Programs",
          "Latitude": 36.577257,
          "Longitude": -79.413195,
          "Undergraduate enrollment": 344
         },
         {
          "Institution Name": "Avila University",
          "Latitude": 38.91339,
          "Longitude": -94.591758,
          "Undergraduate enrollment": 1272
         },
         {
          "Institution Name": "Azusa Pacific University",
          "Latitude": 34.130047,
          "Longitude": -117.888375,
          "Undergraduate enrollment": 5671
         },
         {
          "Institution Name": "Azusa Pacific University College",
          "Latitude": 34.110723,
          "Longitude": -117.827484,
          "Undergraduate enrollment": 1939
         },
         {
          "Institution Name": "Babson College",
          "Latitude": 42.299958,
          "Longitude": -71.265585,
          "Undergraduate enrollment": 2342
         },
         {
          "Institution Name": "Bacone College",
          "Latitude": 35.777082,
          "Longitude": -95.334046,
          "Undergraduate enrollment": 934
         },
         {
          "Institution Name": "Bainbridge State College",
          "Latitude": 30.899474,
          "Longitude": -84.535049,
          "Undergraduate enrollment": 1746
         },
         {
          "Institution Name": "Bais Binyomin Academy",
          "Latitude": 41.123002,
          "Longitude": -74.07888100000002,
          "Undergraduate enrollment": 25
         },
         {
          "Institution Name": "Bais HaMedrash and Mesivta of Baltimore",
          "Latitude": 39.379528,
          "Longitude": -76.674414,
          "Undergraduate enrollment": 77
         },
         {
          "Institution Name": "Bais Medrash Elyon",
          "Latitude": 41.114079,
          "Longitude": -74.06979799999998,
          "Undergraduate enrollment": 38
         },
         {
          "Institution Name": "Bais Medrash Mayan Hatorah",
          "Latitude": 40.107414,
          "Longitude": -74.204332,
          "Undergraduate enrollment": 53
         },
         {
          "Institution Name": "Bais Medrash Toras Chesed",
          "Latitude": 40.099704,
          "Longitude": -74.21127,
          "Undergraduate enrollment": 105
         },
         {
          "Institution Name": "Baker College",
          "Latitude": 42.974764,
          "Longitude": -83.69467900000002,
          "Undergraduate enrollment": 11603
         },
         {
          "Institution Name": "Baker University",
          "Latitude": 38.777278,
          "Longitude": -95.188231,
          "Undergraduate enrollment": 1771
         },
         {
          "Institution Name": "Bakersfield College",
          "Latitude": 35.40911,
          "Longitude": -118.973753,
          "Undergraduate enrollment": 23195
         },
         {
          "Institution Name": "Bakke Graduate University",
          "Latitude": 32.894605,
          "Longitude": -96.753976,
          "Undergraduate enrollment": 0
         },
         {
          "Institution Name": "Baldwin Wallace University",
          "Latitude": 41.373017,
          "Longitude": -81.85114499999997,
          "Undergraduate enrollment": 3183
         },
         {
          "Institution Name": "Ball State University",
          "Latitude": 40.203431,
          "Longitude": -85.40904300000003,
          "Undergraduate enrollment": 17004
         },
         {
          "Institution Name": "Bank Street College of Education",
          "Latitude": 40.805604,
          "Longitude": -73.966643,
          "Undergraduate enrollment": 0
         },
         {
          "Institution Name": "Baptist Bible College",
          "Latitude": 37.239696,
          "Longitude": -93.284286,
          "Undergraduate enrollment": 268
         },
         {
          "Institution Name": "Baptist Health System School of Health Professions",
          "Latitude": 29.517063,
          "Longitude": -98.567486,
          "Undergraduate enrollment": 658
         },
         {
          "Institution Name": "Baptist Memorial College of Health Sciences",
          "Latitude": 35.138415,
          "Longitude": -90.027501,
          "Undergraduate enrollment": 1075
         },
         {
          "Institution Name": "Baptist Missionary Association Theological Seminary",
          "Latitude": 31.978961,
          "Longitude": -95.255524,
          "Undergraduate enrollment": 67
         },
         {
          "Institution Name": "Baptist Theological Seminary at Richmond",
          "Latitude": 37.632354,
          "Longitude": -77.46848299999998,
          "Undergraduate enrollment": 0
         },
         {
          "Institution Name": "Baptist University of the Americas",
          "Latitude": 29.34998,
          "Longitude": -98.546081,
          "Undergraduate enrollment": 177
         },
         {
          "Institution Name": "Barclay College",
          "Latitude": 37.62012,
          "Longitude": -99.105351,
          "Undergraduate enrollment": 229
         },
         {
          "Institution Name": "Bard College",
          "Latitude": 42.020386,
          "Longitude": -73.909927,
          "Undergraduate enrollment": 1938
         },
         {
          "Institution Name": "Bard College at Simon's Rock",
          "Latitude": 42.209241,
          "Longitude": -73.38000799999998,
          "Undergraduate enrollment": 401
         },
         {
          "Institution Name": "Barnard College",
          "Latitude": 40.810098,
          "Longitude": -73.963346,
          "Undergraduate enrollment": 2544
         },
         {
          "Institution Name": "Barnes-Jewish College Goldfarb School of Nursing",
          "Latitude": 38.637165,
          "Longitude": -90.258772,
          "Undergraduate enrollment": 569
         },
         {
          "Institution Name": "Barry University",
          "Latitude": 25.878908,
          "Longitude": -80.198925,
          "Undergraduate enrollment": 3505
         },
         {
          "Institution Name": "Barton College",
          "Latitude": 35.734376,
          "Longitude": -77.91386700000002,
          "Undergraduate enrollment": 887
         },
         {
          "Institution Name": "Bastyr University",
          "Latitude": 47.729935,
          "Longitude": -122.251708,
          "Undergraduate enrollment": 197
         },
         {
          "Institution Name": "Bates College",
          "Latitude": 44.105299,
          "Longitude": -70.203333,
          "Undergraduate enrollment": 1787
         },
         {
          "Institution Name": "Bay Path University",
          "Latitude": 42.055364,
          "Longitude": -72.583974,
          "Undergraduate enrollment": 1947
         },
         {
          "Institution Name": "Bay State College",
          "Latitude": 42.35176,
          "Longitude": -71.076991,
          "Undergraduate enrollment": 717
         },
         {
          "Institution Name": "Baylor College of Medicine",
          "Latitude": 29.7106,
          "Longitude": -95.395743,
          "Undergraduate enrollment": 0
         },
         {
          "Institution Name": "Baylor University",
          "Latitude": 31.54896,
          "Longitude": -97.117641,
          "Undergraduate enrollment": 14316
         },
         {
          "Institution Name": "Be'er Yaakov Talmudic Seminary",
          "Latitude": 41.13905,
          "Longitude": -74.028425,
          "Undergraduate enrollment": 510
         },
         {
          "Institution Name": "Beacon College",
          "Latitude": 28.811281,
          "Longitude": -81.87415,
          "Undergraduate enrollment": 348
         },
         {
          "Institution Name": "Becker College",
          "Latitude": 42.26918,
          "Longitude": -71.81189499999998,
          "Undergraduate enrollment": 1882
         },
         {
          "Institution Name": "Beckfield College-Florence",
          "Latitude": 39.017166,
          "Longitude": -84.641475,
          "Undergraduate enrollment": 617
         },
         {
          "Institution Name": "Beis Medrash Heichal Dovid",
          "Latitude": 40.596845,
          "Longitude": -73.751633,
          "Undergraduate enrollment": 110
         },
         {
          "Institution Name": "Belhaven University",
          "Latitude": 32.318415,
          "Longitude": -90.169228,
          "Undergraduate enrollment": 2482
         },
         {
          "Institution Name": "Bellarmine University",
          "Latitude": 38.219279,
          "Longitude": -85.70499699999998,
          "Undergraduate enrollment": 2544
         },
         {
          "Institution Name": "Bellevue College",
          "Latitude": 47.584014,
          "Longitude": -122.150118,
          "Undergraduate enrollment": 13322
         },
         {
          "Institution Name": "Bellevue University",
          "Latitude": 41.150225,
          "Longitude": -95.91764,
          "Undergraduate enrollment": 5744
         },
         {
          "Institution Name": "Bellin College",
          "Latitude": 44.468277,
          "Longitude": -87.921722,
          "Undergraduate enrollment": 395
         },
         {
          "Institution Name": "Bellingham Technical College",
          "Latitude": 48.766189,
          "Longitude": -122.51216,
          "Undergraduate enrollment": 2392
         },
         {
          "Institution Name": "Belmont Abbey College",
          "Latitude": 35.260651,
          "Longitude": -81.041315,
          "Undergraduate enrollment": 1555
         },
         {
          "Institution Name": "Belmont University",
          "Latitude": 36.133866,
          "Longitude": -86.794715,
          "Undergraduate enrollment": 6497
         },
         {
          "Institution Name": "Beloit College",
          "Latitude": 42.504022,
          "Longitude": -89.029285,
          "Undergraduate enrollment": 1402
         },
         {
          "Institution Name": "Bemidji State University",
          "Latitude": 47.482341,
          "Longitude": -94.874119,
          "Undergraduate enrollment": 4815
         },
         {
          "Institution Name": "Benedict College",
          "Latitude": 34.012941,
          "Longitude": -81.020403,
          "Undergraduate enrollment": 2090
         },
         {
          "Institution Name": "Benedictine College",
          "Latitude": 39.572646,
          "Longitude": -95.111473,
          "Undergraduate enrollment": 2085
         },
         {
          "Institution Name": "Benedictine University",
          "Latitude": 41.777569,
          "Longitude": -88.097307,
          "Undergraduate enrollment": 2884
         },
         {
          "Institution Name": "Benjamin Franklin Institute of Technology",
          "Latitude": 42.346023,
          "Longitude": -71.070231,
          "Undergraduate enrollment": 609
         },
         {
          "Institution Name": "Bennett College",
          "Latitude": 36.067531,
          "Longitude": -79.77998000000002,
          "Undergraduate enrollment": 493
         },
         {
          "Institution Name": "Bennington College",
          "Latitude": 42.919547,
          "Longitude": -73.237799,
          "Undergraduate enrollment": 775
         },
         {
          "Institution Name": "Bentley University",
          "Latitude": 42.388798,
          "Longitude": -71.220148,
          "Undergraduate enrollment": 4272
         },
         {
          "Institution Name": "Berea College",
          "Latitude": 37.57202,
          "Longitude": -84.292893,
          "Undergraduate enrollment": 1670
         },
         {
          "Institution Name": "Bergin University of Canine Studies",
          "Latitude": 38.353867,
          "Longitude": -122.721175,
          "Undergraduate enrollment": 41
         },
         {
          "Institution Name": "Berkeley College-New York",
          "Latitude": 40.753986,
          "Longitude": -73.979458,
          "Undergraduate enrollment": 3635
         },
         {
          "Institution Name": "Berkeley College-Woodland Park",
          "Latitude": 40.898587,
          "Longitude": -74.189483,
          "Undergraduate enrollment": 3353
         },
         {
          "Institution Name": "Berklee College of Music",
          "Latitude": 42.346646,
          "Longitude": -71.089405,
          "Undergraduate enrollment": 6282
         },
         {
          "Institution Name": "Berry College",
          "Latitude": 34.290414,
          "Longitude": -85.18920200000002,
          "Undergraduate enrollment": 1978
         },
         {
          "Institution Name": "Bet Medrash Gadol Ateret Torah",
          "Latitude": 40.607809,
          "Longitude": -73.969945,
          "Undergraduate enrollment": 93
         },
         {
          "Institution Name": "Beth Hamedrash Shaarei Yosher Institute",
          "Latitude": 40.635444,
          "Longitude": -73.981202,
          "Undergraduate enrollment": 54
         },
         {
          "Institution Name": "Beth Hatalmud Rabbinical College",
          "Latitude": 40.605256,
          "Longitude": -73.992684,
          "Undergraduate enrollment": 11
         },
         {
          "Institution Name": "Beth Medrash Govoha",
          "Latitude": 40.09568,
          "Longitude": -74.2221,
          "Undergraduate enrollment": 2629
         },
         {
          "Institution Name": "Beth Medrash Meor Yitzchok",
          "Latitude": 41.100906,
          "Longitude": -74.060843,
          "Undergraduate enrollment": 129
         },
         {
          "Institution Name": "Beth Medrash of Asbury Park",
          "Latitude": 40.043705,
          "Longitude": -74.21081600000002,
          "Undergraduate enrollment": 47
         },
         {
          "Institution Name": "Bethany College",
          "Latitude": 38.580598,
          "Longitude": -97.67367,
          "Undergraduate enrollment": 775
         },
         {
          "Institution Name": "Bethany College",
          "Latitude": 40.205819,
          "Longitude": -80.560056,
          "Undergraduate enrollment": 601
         },
         {
          "Institution Name": "Bethany Global University",
          "Latitude": 44.795501,
          "Longitude": -93.371754,
          "Undergraduate enrollment": 298
         },
         {
          "Institution Name": "Bethany Lutheran College",
          "Latitude": 44.166649,
          "Longitude": -93.990805,
          "Undergraduate enrollment": 651
         },
         {
          "Institution Name": "Bethany Theological Seminary",
          "Latitude": 39.826244,
          "Longitude": -84.910689,
          "Undergraduate enrollment": 0
         },
         {
          "Institution Name": "Bethel College",
          "Latitude": 37.04127,
          "Longitude": -76.409526,
          "Undergraduate enrollment": 39
         },
         {
          "Institution Name": "Bethel College-Indiana",
          "Latitude": 41.678399,
          "Longitude": -86.194686,
          "Undergraduate enrollment": 1330
         },
         {
          "Institution Name": "Bethel College-North Newton",
          "Latitude": 38.075169,
          "Longitude": -97.343256,
          "Undergraduate enrollment": 503
         },
         {
          "Institution Name": "Bethel Seminary-San Diego",
          "Latitude": 32.765387,
          "Longitude": -117.06605,
          "Undergraduate enrollment": 0
         },
         {
          "Institution Name": "Bethel Seminary-St Paul",
          "Latitude": 45.060071,
          "Longitude": -93.16318,
          "Undergraduate enrollment": 0
         },
         {
          "Institution Name": "Bethel University",
          "Latitude": 36.137848,
          "Longitude": -88.516762,
          "Undergraduate enrollment": 4829
         },
         {
          "Institution Name": "Bethel University",
          "Latitude": 45.057655,
          "Longitude": -93.161663,
          "Undergraduate enrollment": 2901
         },
         {
          "Institution Name": "Bethesda University",
          "Latitude": 33.842295,
          "Longitude": -117.941323,
          "Undergraduate enrollment": 257
         },
         {
          "Institution Name": "Bethune-Cookman University",
          "Latitude": 29.207195,
          "Longitude": -81.032946,
          "Undergraduate enrollment": 3992
         },
         {
          "Institution Name": "Beulah Heights University",
          "Latitude": 33.736993,
          "Longitude": -84.35768,
          "Undergraduate enrollment": 276
         },
         {
          "Institution Name": "Beverly Hills Design Institute",
          "Latitude": 34.06463,
          "Longitude": -118.375621,
          "Undergraduate enrollment": 18
         },
         {
          "Institution Name": "Bexley Hall Seabury Western Theological Seminary Federation  Inc.",
          "Latitude": 41.785693,
          "Longitude": -87.591173,
          "Undergraduate enrollment": 0
         },
         {
          "Institution Name": "Biblical Theological Seminary",
          "Latitude": 40.281414,
          "Longitude": -75.30389699999998,
          "Undergraduate enrollment": 0
         },
         {
          "Institution Name": "Binghamton University",
          "Latitude": 42.087868,
          "Longitude": -75.966889,
          "Undergraduate enrollment": 13737
         },
         {
          "Institution Name": "Biola University",
          "Latitude": 33.906203000000005,
          "Longitude": -118.014374,
          "Undergraduate enrollment": 4048
         },
         {
          "Institution Name": "Birmingham Southern College",
          "Latitude": 33.513774,
          "Longitude": -86.85055200000002,
          "Undergraduate enrollment": 1283
         },
         {
          "Institution Name": "Birthingway College of Midwifery",
          "Latitude": 45.476809,
          "Longitude": -122.538471,
          "Undergraduate enrollment": 58
         },
         {
          "Institution Name": "Bismarck State College",
          "Latitude": 46.821459,
          "Longitude": -100.816534,
          "Undergraduate enrollment": 3756
         },
         {
          "Institution Name": "Black Hills State University",
          "Latitude": 44.494889,
          "Longitude": -103.870966,
          "Undergraduate enrollment": 3947
         },
         {
          "Institution Name": "Blackburn College",
          "Latitude": 39.287896,
          "Longitude": -89.87024100000002,
          "Undergraduate enrollment": 554
         },
         {
          "Institution Name": "Blessing Rieman College of Nursing and Health Sciences",
          "Latitude": 39.936549,
          "Longitude": -91.399045,
          "Undergraduate enrollment": 272
         },
         {
          "Institution Name": "Bloomfield College",
          "Latitude": 40.795105,
          "Longitude": -74.19430899999998,
          "Undergraduate enrollment": 1839
         },
         {
          "Institution Name": "Bloomsburg University of Pennsylvania",
          "Latitude": 41.00782,
          "Longitude": -76.44784399999998,
          "Undergraduate enrollment": 8579
         },
         {
          "Institution Name": "Blue Mountain College",
          "Latitude": 34.672090000000004,
          "Longitude": -89.02924,
          "Undergraduate enrollment": 588
         },
         {
          "Institution Name": "Bluefield College",
          "Latitude": 37.244557,
          "Longitude": -81.24623299999998,
          "Undergraduate enrollment": 948
         },
         {
          "Institution Name": "Bluefield State College",
          "Latitude": 37.265732,
          "Longitude": -81.239037,
          "Undergraduate enrollment": 1379
         },
         {
          "Institution Name": "Bluffton University",
          "Latitude": 40.895606,
          "Longitude": -83.899439,
          "Undergraduate enrollment": 739
         },
         {
          "Institution Name": "Bob Jones University",
          "Latitude": 34.874016,
          "Longitude": -82.365838,
          "Undergraduate enrollment": 2606
         },
         {
          "Institution Name": "Boise Bible College",
          "Latitude": 43.658651,
          "Longitude": -116.291321,
          "Undergraduate enrollment": 130
         },
         {
          "Institution Name": "Boise State University",
          "Latitude": 43.604284,
          "Longitude": -116.203301,
          "Undergraduate enrollment": 20744
         },
         {
          "Institution Name": "Bon Secours Memorial College of Nursing",
          "Latitude": 37.646876,
          "Longitude": -77.43319100000002,
          "Undergraduate enrollment": 477
         },
         {
          "Institution Name": "Boricua College",
          "Latitude": 40.833434,
          "Longitude": -73.9458,
          "Undergraduate enrollment": 769
         },
         {
          "Institution Name": "Boston Architectural College",
          "Latitude": 42.348467,
          "Longitude": -71.085786,
          "Undergraduate enrollment": 344
         },
         {
          "Institution Name": "Boston Baptist College",
          "Latitude": 42.254037,
          "Longitude": -71.1103,
          "Undergraduate enrollment": 80
         },
         {
          "Institution Name": "Boston College",
          "Latitude": 42.336213,
          "Longitude": -71.16924200000003,
          "Undergraduate enrollment": 9921
         },
         {
          "Institution Name": "Boston Graduate School of Psychoanalysis Inc",
          "Latitude": 42.33912,
          "Longitude": -71.133151,
          "Undergraduate enrollment": 0
         },
         {
          "Institution Name": "Boston University",
          "Latitude": 42.351118,
          "Longitude": -71.10794200000002,
          "Undergraduate enrollment": 18080
         },
         {
          "Institution Name": "Bowdoin College",
          "Latitude": 43.907134,
          "Longitude": -69.963942,
          "Undergraduate enrollment": 1816
         },
         {
          "Institution Name": "Bowie State University",
          "Latitude": 39.018185,
          "Longitude": -76.759721,
          "Undergraduate enrollment": 5187
         },
         {
          "Institution Name": "Bowling Green State University-Main Campus",
          "Latitude": 41.375513,
          "Longitude": -83.640896,
          "Undergraduate enrollment": 14680
         },
         {
          "Institution Name": "Bradley University",
          "Latitude": 40.696896,
          "Longitude": -89.616786,
          "Undergraduate enrollment": 4649
         },
         {
          "Institution Name": "Brandeis University",
          "Latitude": 42.364947,
          "Longitude": -71.254716,
          "Undergraduate enrollment": 3635
         },
         {
          "Institution Name": "Brandman University",
          "Latitude": 33.656401,
          "Longitude": -117.76901200000002,
          "Undergraduate enrollment": 3677
         },
         {
          "Institution Name": "Brazosport College",
          "Latitude": 29.04836,
          "Longitude": -95.409004,
          "Undergraduate enrollment": 4245
         },
         {
          "Institution Name": "Brenau University",
          "Latitude": 34.303117,
          "Longitude": -83.821513,
          "Undergraduate enrollment": 1736
         },
         {
          "Institution Name": "Brescia University",
          "Latitude": 37.769041,
          "Longitude": -87.111639,
          "Undergraduate enrollment": 1175
         },
         {
          "Institution Name": "Brevard College",
          "Latitude": 35.236763,
          "Longitude": -82.72949399999997,
          "Undergraduate enrollment": 677
         },
         {
          "Institution Name": "Brewton-Parker College",
          "Latitude": 32.185718,
          "Longitude": -82.586136,
          "Undergraduate enrollment": 783
         },
         {
          "Institution Name": "Briar Cliff University",
          "Latitude": 42.526443,
          "Longitude": -96.428444,
          "Undergraduate enrollment": 945
         },
         {
          "Institution Name": "Briarcliffe College",
          "Latitude": 40.75956400000001,
          "Longitude": -73.490213,
          "Undergraduate enrollment": 108
         },
         {
          "Institution Name": "Bridgewater College",
          "Latitude": 38.378484,
          "Longitude": -78.96900699999998,
          "Undergraduate enrollment": 1882
         },
         {
          "Institution Name": "Bridgewater State University",
          "Latitude": 41.98749,
          "Longitude": -70.974553,
          "Undergraduate enrollment": 9558
         },
         {
          "Institution Name": "Brigham Young University-Hawaii",
          "Latitude": 21.642074,
          "Longitude": -157.926586,
          "Undergraduate enrollment": 3143
         },
         {
          "Institution Name": "Brigham Young University-Idaho",
          "Latitude": 43.81840800000001,
          "Longitude": -111.782431,
          "Undergraduate enrollment": 51881
         },
         {
          "Institution Name": "Brigham Young University-Provo",
          "Latitude": 40.250851,
          "Longitude": -111.649281,
          "Undergraduate enrollment": 31233
         },
         {
          "Institution Name": "Brite Divinity School",
          "Latitude": 32.709543,
          "Longitude": -97.361561,
          "Undergraduate enrollment": 0
         },
         {
          "Institution Name": "Broadview Entertainment Arts University",
          "Latitude": 40.717369,
          "Longitude": -111.884491,
          "Undergraduate enrollment": 85
         },
         {
          "Institution Name": "Broadview University-West Jordan",
          "Latitude": 40.609883,
          "Longitude": -111.942296,
          "Undergraduate enrollment": 170
         },
         {
          "Institution Name": "Brookline College-Albuquerque",
          "Latitude": 35.08781,
          "Longitude": -106.68749,
          "Undergraduate enrollment": 255
         },
         {
          "Institution Name": "Brookline College-Phoenix",
          "Latitude": 33.566102,
          "Longitude": -112.112473,
          "Undergraduate enrollment": 1056
         },
         {
          "Institution Name": "Brookline College-Tucson",
          "Latitude": 32.207932,
          "Longitude": -110.876375,
          "Undergraduate enrollment": 348
         },
         {
          "Institution Name": "Brooklyn Law School",
          "Latitude": 40.691836,
          "Longitude": -73.989623,
          "Undergraduate enrollment": 0
         },
         {
          "Institution Name": "Broward College",
          "Latitude": 26.119422,
          "Longitude": -80.14183,
          "Undergraduate enrollment": 40754
         },
         {
          "Institution Name": "Brown University",
          "Latitude": 41.82617,
          "Longitude": -71.40385,
          "Undergraduate enrollment": 6988
         },
         {
          "Institution Name": "Bryan College of Health Sciences",
          "Latitude": 40.796768,
          "Longitude": -96.651532,
          "Undergraduate enrollment": 567
         },
         {
          "Institution Name": "Bryan College-Dayton",
          "Latitude": 35.49720900000001,
          "Longitude": -84.99955200000002,
          "Undergraduate enrollment": 1246
         },
         {
          "Institution Name": "Bryan University",
          "Latitude": 33.437779,
          "Longitude": -111.944197,
          "Undergraduate enrollment": 1242
         },
         {
          "Institution Name": "Bryan University",
          "Latitude": 37.135397,
          "Longitude": -93.248107,
          "Undergraduate enrollment": 291
         },
         {
          "Institution Name": "Bryant & Stratton College-Akron",
          "Latitude": 41.1282,
          "Longitude": -81.65509499999997,
          "Undergraduate enrollment": 88
         },
         {
          "Institution Name": "Bryant & Stratton College-Albany",
          "Latitude": 42.698125,
          "Longitude": -73.809977,
          "Undergraduate enrollment": 371
         },
         {
          "Institution Name": "Bryant & Stratton College-Amherst",
          "Latitude": 43.04079,
          "Longitude": -78.742813,
          "Undergraduate enrollment": 282
         },
         {
          "Institution Name": "Bryant & Stratton College-Bayshore",
          "Latitude": 43.118941,
          "Longitude": -87.9154,
          "Undergraduate enrollment": 353
         },
         {
          "Institution Name": "Bryant & Stratton College-Buffalo",
          "Latitude": 42.886492,
          "Longitude": -78.873296,
          "Undergraduate enrollment": 491
         },
         {
          "Institution Name": "Bryant & Stratton College-Cleveland",
          "Latitude": 41.50300900000001,
          "Longitude": -81.666136,
          "Undergraduate enrollment": 263
         },
         {
          "Institution Name": "Bryant & Stratton College-Eastlake",
          "Latitude": 41.637993,
          "Longitude": -81.436821,
          "Undergraduate enrollment": 238
         },
         {
          "Institution Name": "Bryant & Stratton College-Greece",
          "Latitude": 43.240547,
          "Longitude": -77.69559,
          "Undergraduate enrollment": 217
         },
         {
          "Institution Name": "Bryant & Stratton College-Hampton",
          "Latitude": 37.04386,
          "Longitude": -76.39268,
          "Undergraduate enrollment": 303
         },
         {
          "Institution Name": "Bryant & Stratton College-Milwaukee",
          "Latitude": 43.039176,
          "Longitude": -87.915286,
          "Undergraduate enrollment": 152
         },
         {
          "Institution Name": "Bryant & Stratton College-Online",
          "Latitude": 42.790162,
          "Longitude": -78.768899,
          "Undergraduate enrollment": 4114
         },
         {
          "Institution Name": "Bryant & Stratton College-Parma",
          "Latitude": 41.404607,
          "Longitude": -81.781757,
          "Undergraduate enrollment": 354
         },
         {
          "Institution Name": "Bryant & Stratton College-Richmond",
          "Latitude": 37.45955,
          "Longitude": -77.543378,
          "Undergraduate enrollment": 675
         },
         {
          "Institution Name": "Bryant & Stratton College-Southtowns",
          "Latitude": 42.790182,
          "Longitude": -78.77036600000002,
          "Undergraduate enrollment": 418
         },
         {
          "Institution Name": "Bryant & Stratton College-Syracuse North",
          "Latitude": 43.189703,
          "Longitude": -76.240137,
          "Undergraduate enrollment": 258
         },
         {
          "Institution Name": "Bryant & Stratton College-Virginia Beach",
          "Latitude": 36.827826,
          "Longitude": -76.13819000000002,
          "Undergraduate enrollment": 484
         },
         {
          "Institution Name": "Bryant & Stratton College-Wauwatosa",
          "Latitude": 43.043215,
          "Longitude": -88.050983,
          "Undergraduate enrollment": 781
         },
         {
          "Institution Name": "Bryant University",
          "Latitude": 41.920092,
          "Longitude": -71.539547,
          "Undergraduate enrollment": 3477
         },
         {
          "Institution Name": "Bryn Athyn College of the New Church",
          "Latitude": 40.134393,
          "Longitude": -75.060808,
          "Undergraduate enrollment": 331
         },
         {
          "Institution Name": "Bryn Mawr College",
          "Latitude": 40.02736,
          "Longitude": -75.313223,
          "Undergraduate enrollment": 1334
         },
         {
          "Institution Name": "Bucknell University",
          "Latitude": 40.954317,
          "Longitude": -76.882616,
          "Undergraduate enrollment": 3611
         },
         {
          "Institution Name": "Buena Vista University",
          "Latitude": 42.642255,
          "Longitude": -95.208529,
          "Undergraduate enrollment": 1804
         },
         {
          "Institution Name": "Butler University",
          "Latitude": 39.8374,
          "Longitude": -86.172167,
          "Undergraduate enrollment": 4293
         },
         {
          "Institution Name": "Byzantine Catholic Seminary of Saints Cyril and Methodius",
          "Latitude": 40.484409,
          "Longitude": -80.015825,
          "Undergraduate enrollment": 0
         },
         {
          "Institution Name": "Cabarrus College of Health Sciences",
          "Latitude": 35.440038,
          "Longitude": -80.600824,
          "Undergraduate enrollment": 419
         },
         {
          "Institution Name": "Cabrini University",
          "Latitude": 40.056355,
          "Longitude": -75.375263,
          "Undergraduate enrollment": 1686
         },
         {
          "Institution Name": "Cairn University-Langhorne",
          "Latitude": 40.165809,
          "Longitude": -74.909509,
          "Undergraduate enrollment": 770
         },
         {
          "Institution Name": "Caldwell University",
          "Latitude": 40.832753,
          "Longitude": -74.272571,
          "Undergraduate enrollment": 1603
         },
         {
          "Institution Name": "California Baptist University",
          "Latitude": 33.929321,
          "Longitude": -117.425619,
          "Undergraduate enrollment": 7414
         },
         {
          "Institution Name": "California Christian College",
          "Latitude": 36.749366,
          "Longitude": -119.711123,
          "Undergraduate enrollment": 16
         },
         {
          "Institution Name": "California College of the Arts",
          "Latitude": 37.767485,
          "Longitude": -122.399451,
          "Undergraduate enrollment": 1486
         },
         {
          "Institution Name": "California College San Diego",
          "Latitude": 32.835221000000004,
          "Longitude": -117.166966,
          "Undergraduate enrollment": 875
         },
         {
          "Institution Name": "California College San Diego",
          "Latitude": 33.138303,
          "Longitude": -117.160658,
          "Undergraduate enrollment": 327
         },
         {
          "Institution Name": "California Institute of Advanced Management",
          "Latitude": 34.071748,
          "Longitude": -118.061293,
          "Undergraduate enrollment": 0
         },
         {
          "Institution Name": "California Institute of Integral Studies",
          "Latitude": 37.774924,
          "Longitude": -122.416102,
          "Undergraduate enrollment": 50
         },
         {
          "Institution Name": "California Institute of Technology",
          "Latitude": 34.137349,
          "Longitude": -118.125878,
          "Undergraduate enrollment": 961
         },
         {
          "Institution Name": "California Institute of the Arts",
          "Latitude": 34.39327,
          "Longitude": -118.566837,
          "Undergraduate enrollment": 984
         },
         {
          "Institution Name": "California Intercontinental University",
          "Latitude": 33.696413,
          "Longitude": -117.850961,
          "Undergraduate enrollment": 169
         },
         {
          "Institution Name": "California Jazz Conservatory",
          "Latitude": 37.871235,
          "Longitude": -122.268878,
          "Undergraduate enrollment": 61
         },
         {
          "Institution Name": "California Lutheran University",
          "Latitude": 34.224566,
          "Longitude": -118.878924,
          "Undergraduate enrollment": 2963
         },
         {
          "Institution Name": "California Miramar University",
          "Latitude": 32.77942,
          "Longitude": -117.11851,
          "Undergraduate enrollment": 87
         },
         {
          "Institution Name": "California Polytechnic State University-San Luis Obispo",
          "Latitude": 35.299513,
          "Longitude": -120.657311,
          "Undergraduate enrollment": 21351
         },
         {
          "Institution Name": "California State Polytechnic University-Pomona",
          "Latitude": 34.054272999999995,
          "Longitude": -117.819019,
          "Undergraduate enrollment": 24319
         },
         {
          "Institution Name": "California State University Maritime Academy",
          "Latitude": 38.069061,
          "Longitude": -122.231551,
          "Undergraduate enrollment": 1050
         },
         {
          "Institution Name": "California State University-Bakersfield",
          "Latitude": 35.350005,
          "Longitude": -119.104711,
          "Undergraduate enrollment": 8814
         },
         {
          "Institution Name": "California State University-Channel Islands",
          "Latitude": 34.162949,
          "Longitude": -119.04356,
          "Undergraduate enrollment": 7054
         },
         {
          "Institution Name": "California State University-Chico",
          "Latitude": 39.729712,
          "Longitude": -121.844859,
          "Undergraduate enrollment": 16710
         },
         {
          "Institution Name": "California State University-Dominguez Hills",
          "Latitude": 33.864766,
          "Longitude": -118.255917,
          "Undergraduate enrollment": 13278
         },
         {
          "Institution Name": "California State University-East Bay",
          "Latitude": 37.65707,
          "Longitude": -122.058073,
          "Undergraduate enrollment": 13474
         },
         {
          "Institution Name": "California State University-Fresno",
          "Latitude": 36.814477,
          "Longitude": -119.748258,
          "Undergraduate enrollment": 22261
         },
         {
          "Institution Name": "California State University-Fullerton",
          "Latitude": 33.881506,
          "Longitude": -117.885446,
          "Undergraduate enrollment": 35162
         },
         {
          "Institution Name": "California State University-Long Beach",
          "Latitude": 33.782818,
          "Longitude": -118.11204,
          "Undergraduate enrollment": 31566
         },
         {
          "Institution Name": "California State University-Los Angeles",
          "Latitude": 34.066927,
          "Longitude": -118.168965,
          "Undergraduate enrollment": 24818
         },
         {
          "Institution Name": "California State University-Monterey Bay",
          "Latitude": 36.652397,
          "Longitude": -121.796178,
          "Undergraduate enrollment": 6764
         },
         {
          "Institution Name": "California State University-Northridge",
          "Latitude": 34.240126000000004,
          "Longitude": -118.529319,
          "Undergraduate enrollment": 35839
         },
         {
          "Institution Name": "California State University-Sacramento",
          "Latitude": 38.559415,
          "Longitude": -121.423549,
          "Undergraduate enrollment": 28454
         },
         {
          "Institution Name": "California State University-San Bernardino",
          "Latitude": 34.182621999999995,
          "Longitude": -117.323801,
          "Undergraduate enrollment": 18327
         },
         {
          "Institution Name": "California State University-San Marcos",
          "Latitude": 33.130569,
          "Longitude": -117.159013,
          "Undergraduate enrollment": 14615
         },
         {
          "Institution Name": "California State University-Stanislaus",
          "Latitude": 37.52577,
          "Longitude": -120.852511,
          "Undergraduate enrollment": 9057
         },
         {
          "Institution Name": "California University of Management and Sciences",
          "Latitude": 33.842052,
          "Longitude": -117.941996,
          "Undergraduate enrollment": 8
         },
         {
          "Institution Name": "California University of Pennsylvania",
          "Latitude": 40.064964,
          "Longitude": -79.88679,
          "Undergraduate enrollment": 5557
         },
         {
          "Institution Name": "California Western School of Law",
          "Latitude": 32.722192,
          "Longitude": -117.162416,
          "Undergraduate enrollment": 0
         },
         {
          "Institution Name": "Calumet College of Saint Joseph",
          "Latitude": 41.671008,
          "Longitude": -87.494123,
          "Undergraduate enrollment": 624
         },
         {
          "Institution Name": "Calvary University",
          "Latitude": 38.839578,
          "Longitude": -94.547927,
          "Undergraduate enrollment": 222
         },
         {
          "Institution Name": "Calvin College",
          "Latitude": 42.929916,
          "Longitude": -85.587548,
          "Undergraduate enrollment": 3746
         },
         {
          "Institution Name": "Calvin Theological Seminary",
          "Latitude": 42.927951,
          "Longitude": -85.586439,
          "Undergraduate enrollment": 0
         },
         {
          "Institution Name": "Cambridge College",
          "Latitude": 42.381091,
          "Longitude": -71.07264599999998,
          "Undergraduate enrollment": 750
         },
         {
          "Institution Name": "Cameron University",
          "Latitude": 34.606487,
          "Longitude": -98.434163,
          "Undergraduate enrollment": 4150
         },
         {
          "Institution Name": "Campbell University",
          "Latitude": 35.409149,
          "Longitude": -78.738238,
          "Undergraduate enrollment": 4384
         },
         {
          "Institution Name": "Campbellsville University",
          "Latitude": 37.343342,
          "Longitude": -85.348943,
          "Undergraduate enrollment": 3704
         },
         {
          "Institution Name": "Canisius College",
          "Latitude": 42.925206,
          "Longitude": -78.852577,
          "Undergraduate enrollment": 2398
         },
         {
          "Institution Name": "Capella University",
          "Latitude": 44.976286,
          "Longitude": -93.268796,
          "Undergraduate enrollment": 9210
         },
         {
          "Institution Name": "Capital University",
          "Latitude": 39.954875,
          "Longitude": -82.937867,
          "Undergraduate enrollment": 2699
         },
         {
          "Institution Name": "Capitol Technology University",
          "Latitude": 39.046673,
          "Longitude": -76.85023100000002,
          "Undergraduate enrollment": 431
         },
         {
          "Institution Name": "Cardinal Stritch University",
          "Latitude": 43.139752,
          "Longitude": -87.90904499999998,
          "Undergraduate enrollment": 1543
         },
         {
          "Institution Name": "Career Networks Institute",
          "Latitude": 33.776152,
          "Longitude": -117.860347,
          "Undergraduate enrollment": 403
         },
         {
          "Institution Name": "Careers Unlimited",
          "Latitude": 40.275775,
          "Longitude": -111.731006,
          "Undergraduate enrollment": 116
         },
         {
          "Institution Name": "Carleton College",
          "Latitude": 44.462318,
          "Longitude": -93.154666,
          "Undergraduate enrollment": 2078
         },
         {
          "Institution Name": "Carlos Albizu University-Miami",
          "Latitude": 25.794178,
          "Longitude": -80.35631500000002,
          "Undergraduate enrollment": 376
         },
         {
          "Institution Name": "Carlow University",
          "Latitude": 40.439293,
          "Longitude": -79.963448,
          "Undergraduate enrollment": 1365
         },
         {
          "Institution Name": "Carnegie Mellon University",
          "Latitude": 40.44357,
          "Longitude": -79.94199300000002,
          "Undergraduate enrollment": 6533
         },
         {
          "Institution Name": "Carolina Christian College",
          "Latitude": 36.146168,
          "Longitude": -80.256252,
          "Undergraduate enrollment": 32
         },
         {
          "Institution Name": "Carolina College of Biblical Studies",
          "Latitude": 35.05141,
          "Longitude": -78.939514,
          "Undergraduate enrollment": 193
         },
         {
          "Institution Name": "Carroll College",
          "Latitude": 46.600771,
          "Longitude": -112.040285,
          "Undergraduate enrollment": 1362
         },
         {
          "Institution Name": "Carroll University",
          "Latitude": 43.004527,
          "Longitude": -88.228114,
          "Undergraduate enrollment": 2982
         },
         {
          "Institution Name": "Carson-Newman University",
          "Latitude": 36.122934,
          "Longitude": -83.491709,
          "Undergraduate enrollment": 1690
         },
         {
          "Institution Name": "Carthage College",
          "Latitude": 42.622969,
          "Longitude": -87.820924,
          "Undergraduate enrollment": 2741
         },
         {
          "Institution Name": "Carver Bible College",
          "Latitude": 33.723362,
          "Longitude": -84.515547,
          "Undergraduate enrollment": 60
         },
         {
          "Institution Name": "Cascadia College",
          "Latitude": 47.760915,
          "Longitude": -122.191572,
          "Undergraduate enrollment": 3425
         },
         {
          "Institution Name": "Case Western Reserve University",
          "Latitude": 41.507419,
          "Longitude": -81.609596,
          "Undergraduate enrollment": 5150
         },
         {
          "Institution Name": "Castleton University",
          "Latitude": 43.608397,
          "Longitude": -73.180842,
          "Undergraduate enrollment": 1855
         },
         {
          "Institution Name": "Catawba College",
          "Latitude": 35.691443,
          "Longitude": -80.48275100000002,
          "Undergraduate enrollment": 1322
         },
         {
          "Institution Name": "Catholic Distance University",
          "Latitude": 39.28763,
          "Longitude": -77.860321,
          "Undergraduate enrollment": 89
         },
         {
          "Institution Name": "Catholic Theological Union at Chicago",
          "Latitude": 41.797895,
          "Longitude": -87.585989,
          "Undergraduate enrollment": 0
         },
         {
          "Institution Name": "Catholic University of America",
          "Latitude": 38.933651,
          "Longitude": -76.99790899999998,
          "Undergraduate enrollment": 3315
         },
         {
          "Institution Name": "Cazenovia College",
          "Latitude": 42.932489,
          "Longitude": -75.85488199999998,
          "Undergraduate enrollment": 893
         },
         {
          "Institution Name": "Cedar Crest College",
          "Latitude": 40.586318,
          "Longitude": -75.519221,
          "Undergraduate enrollment": 1433
         },
         {
          "Institution Name": "Cedarville University",
          "Latitude": 39.749237,
          "Longitude": -83.81469200000002,
          "Undergraduate enrollment": 3535
         },
         {
          "Institution Name": "Centenary College of Louisiana",
          "Latitude": 32.483335,
          "Longitude": -93.730834,
          "Undergraduate enrollment": 533
         },
         {
          "Institution Name": "Centenary University",
          "Latitude": 40.84764000000001,
          "Longitude": -74.83364399999998,
          "Undergraduate enrollment": 1369
         },
         {
          "Institution Name": "Centra College of Nursing",
          "Latitude": 37.4051,
          "Longitude": -79.17410100000002,
          "Undergraduate enrollment": 302
         },
         {
          "Institution Name": "Central Baptist College",
          "Latitude": 35.083838,
          "Longitude": -92.445021,
          "Undergraduate enrollment": 745
         },
         {
          "Institution Name": "Central Christian College of Kansas",
          "Latitude": 38.357978,
          "Longitude": -97.668597,
          "Undergraduate enrollment": 865
         },
         {
          "Institution Name": "Central Christian College of the Bible",
          "Latitude": 39.395963,
          "Longitude": -92.427259,
          "Undergraduate enrollment": 239
         },
         {
          "Institution Name": "Central College",
          "Latitude": 41.401539,
          "Longitude": -92.922199,
          "Undergraduate enrollment": 1237
         },
         {
          "Institution Name": "Central Connecticut State University",
          "Latitude": 41.69250200000001,
          "Longitude": -72.765991,
          "Undergraduate enrollment": 9554
         },
         {
          "Institution Name": "Central Methodist University-College of Graduate and Extended Studies",
          "Latitude": 39.150497,
          "Longitude": -92.685253,
          "Undergraduate enrollment": 3667
         },
         {
          "Institution Name": "Central Methodist University-College of Liberal Arts and Sciences",
          "Latitude": 39.150497,
          "Longitude": -92.685253,
          "Undergraduate enrollment": 1060
         },
         {
          "Institution Name": "Central Michigan University",
          "Latitude": 43.591203,
          "Longitude": -84.77525,
          "Undergraduate enrollment": 17804
         },
         {
          "Institution Name": "Central Penn College",
          "Latitude": 40.3049,
          "Longitude": -76.934461,
          "Undergraduate enrollment": 1196
         },
         {
          "Institution Name": "Central State University",
          "Latitude": 39.715787,
          "Longitude": -83.880186,
          "Undergraduate enrollment": 1784
         },
         {
          "Institution Name": "Central Washington University",
          "Latitude": 47.002687,
          "Longitude": -120.538368,
          "Undergraduate enrollment": 12080
         },
         {
          "Institution Name": "Central Yeshiva Beth Joseph",
          "Latitude": 40.615411,
          "Longitude": -73.959386,
          "Undergraduate enrollment": 40
         },
         {
          "Institution Name": "Central Yeshiva Tomchei Tmimim Lubavitz",
          "Latitude": 40.669694,
          "Longitude": -73.938778,
          "Undergraduate enrollment": 453
         },
         {
          "Institution Name": "Centralia College",
          "Latitude": 46.715017,
          "Longitude": -122.960591,
          "Undergraduate enrollment": 3122
         },
         {
          "Institution Name": "Centre College",
          "Latitude": 37.645709,
          "Longitude": -84.779392,
          "Undergraduate enrollment": 1450
         },
         {
          "Institution Name": "Centura College-Chesapeake",
          "Latitude": 36.765954,
          "Longitude": -76.227712,
          "Undergraduate enrollment": 190
         },
         {
          "Institution Name": "Centura College-Virginia Beach",
          "Latitude": 36.837648,
          "Longitude": -76.064499,
          "Undergraduate enrollment": 150
         },
         {
          "Institution Name": "Chadron State College",
          "Latitude": 42.8199,
          "Longitude": -103.001615,
          "Undergraduate enrollment": 2155
         },
         {
          "Institution Name": "Chamberlain University-Arizona",
          "Latitude": 33.56573,
          "Longitude": -112.104421,
          "Undergraduate enrollment": 650
         },
         {
          "Institution Name": "Chamberlain University-California",
          "Latitude": 38.596193,
          "Longitude": -121.278258,
          "Undergraduate enrollment": 142
         },
         {
          "Institution Name": "Chamberlain University-Florida",
          "Latitude": 30.243517,
          "Longitude": -81.586421,
          "Undergraduate enrollment": 1021
         },
         {
          "Institution Name": "Chamberlain University-Georgia",
          "Latitude": 33.911943,
          "Longitude": -84.351949,
          "Undergraduate enrollment": 997
         },
         {
          "Institution Name": "Chamberlain University-Illinois",
          "Latitude": 41.949727,
          "Longitude": -88.038558,
          "Undergraduate enrollment": 15697
         },
         {
          "Institution Name": "Chamberlain University-Indiana",
          "Latitude": 39.91916,
          "Longitude": -86.11106099999998,
          "Undergraduate enrollment": 208
         },
         {
          "Institution Name": "Chamberlain University-Michigan",
          "Latitude": 42.556474,
          "Longitude": -83.15051600000002,
          "Undergraduate enrollment": 290
         },
         {
          "Institution Name": "Chamberlain University-Missouri",
          "Latitude": 38.701907,
          "Longitude": -90.436283,
          "Undergraduate enrollment": 546
         },
         {
          "Institution Name": "Chamberlain University-Nevada",
          "Latitude": 36.185176,
          "Longitude": -115.313525,
          "Undergraduate enrollment": 293
         },
         {
          "Institution Name": "Chamberlain University-New Jersey",
          "Latitude": 40.465934,
          "Longitude": -74.438877,
          "Undergraduate enrollment": 511
         },
         {
          "Institution Name": "Chamberlain University-North Carolina",
          "Latitude": 35.13766,
          "Longitude": -80.93197099999998,
          "Undergraduate enrollment": 135
         },
         {
          "Institution Name": "Chamberlain University-Ohio",
          "Latitude": 39.940449,
          "Longitude": -82.940493,
          "Undergraduate enrollment": 548
         },
         {
          "Institution Name": "Chamberlain University-Texas",
          "Latitude": 29.838386,
          "Longitude": -95.560414,
          "Undergraduate enrollment": 729
         },
         {
          "Institution Name": "Chamberlain University-Virginia",
          "Latitude": 38.852326,
          "Longitude": -77.050273,
          "Undergraduate enrollment": 501
         },
         {
          "Institution Name": "Chaminade University of Honolulu",
          "Latitude": 21.28995,
          "Longitude": -157.807851,
          "Undergraduate enrollment": 1810
         },
         {
          "Institution Name": "Champlain College",
          "Latitude": 44.473287,
          "Longitude": -73.20274599999998,
          "Undergraduate enrollment": 3934
         },
         {
          "Institution Name": "Chapman University",
          "Latitude": 33.793678,
          "Longitude": -117.851481,
          "Undergraduate enrollment": 7020
         },
         {
          "Institution Name": "Charles R Drew University of Medicine and Science",
          "Latitude": 33.925658,
          "Longitude": -118.242791,
          "Undergraduate enrollment": 139
         },
         {
          "Institution Name": "Charleston School of Law",
          "Latitude": 32.790288000000004,
          "Longitude": -79.938357,
          "Undergraduate enrollment": 0
         },
         {
          "Institution Name": "Charleston Southern University",
          "Latitude": 32.983047,
          "Longitude": -80.072587,
          "Undergraduate enrollment": 3061
         },
         {
          "Institution Name": "Charlotte Christian College and Theological Seminary",
          "Latitude": 35.242999,
          "Longitude": -80.802527,
          "Undergraduate enrollment": 65
         },
         {
          "Institution Name": "Charter College",
          "Latitude": 45.617798,
          "Longitude": -122.494766,
          "Undergraduate enrollment": 2660
         },
         {
          "Institution Name": "Charter Oak State College",
          "Latitude": 41.688246,
          "Longitude": -72.767972,
          "Undergraduate enrollment": 1416
         },
         {
          "Institution Name": "Chatham University",
          "Latitude": 40.448432,
          "Longitude": -79.92608299999998,
          "Undergraduate enrollment": 1208
         },
         {
          "Institution Name": "Chestnut Hill College",
          "Latitude": 40.08678,
          "Longitude": -75.22874200000003,
          "Undergraduate enrollment": 1364
         },
         {
          "Institution Name": "Cheyney University of Pennsylvania",
          "Latitude": 39.932274,
          "Longitude": -75.529262,
          "Undergraduate enrollment": 723
         },
         {
          "Institution Name": "Chicago State University",
          "Latitude": 41.718446,
          "Longitude": -87.60938399999998,
          "Undergraduate enrollment": 2029
         },
         {
          "Institution Name": "Chicago Theological Seminary",
          "Latitude": 41.785701,
          "Longitude": -87.591178,
          "Undergraduate enrollment": 0
         },
         {
          "Institution Name": "Chipola College",
          "Latitude": 30.789228,
          "Longitude": -85.23139,
          "Undergraduate enrollment": 2092
         },
         {
          "Institution Name": "Chowan University",
          "Latitude": 36.436258,
          "Longitude": -77.099141,
          "Undergraduate enrollment": 1498
         },
         {
          "Institution Name": "Christ the King Seminary",
          "Latitude": 42.77089,
          "Longitude": -78.660311,
          "Undergraduate enrollment": 0
         },
         {
          "Institution Name": "Christian Brothers University",
          "Latitude": 35.127437,
          "Longitude": -89.983241,
          "Undergraduate enrollment": 1791
         },
         {
          "Institution Name": "Christian Life College",
          "Latitude": 42.074096,
          "Longitude": -87.930934,
          "Undergraduate enrollment": 70
         },
         {
          "Institution Name": "Christian Theological Seminary",
          "Latitude": 39.832673,
          "Longitude": -86.178551,
          "Undergraduate enrollment": 0
         },
         {
          "Institution Name": "Christie's Education",
          "Latitude": 40.758871,
          "Longitude": -73.980819,
          "Undergraduate enrollment": 0
         },
         {
          "Institution Name": "Christopher Newport University",
          "Latitude": 37.062495,
          "Longitude": -76.494364,
          "Undergraduate enrollment": 4954
         },
         {
          "Institution Name": "Church Divinity School of the Pacific",
          "Latitude": 37.876184,
          "Longitude": -122.261122,
          "Undergraduate enrollment": 0
         },
         {
          "Institution Name": "Cincinnati Christian University",
          "Latitude": 39.114169,
          "Longitude": -84.55408,
          "Undergraduate enrollment": 639
         },
         {
          "Institution Name": "Cincinnati College of Mortuary Science",
          "Latitude": 39.206578,
          "Longitude": -84.505604,
          "Undergraduate enrollment": 85
         },
         {
          "Institution Name": "Citadel Military College of South Carolina",
          "Latitude": 32.797183000000004,
          "Longitude": -79.958775,
          "Undergraduate enrollment": 2837
         },
         {
          "Institution Name": "City College-Fort Lauderdale",
          "Latitude": 26.187467,
          "Longitude": -80.1705,
          "Undergraduate enrollment": 401
         },
         {
          "Institution Name": "City College-Gainesville",
          "Latitude": 29.654852,
          "Longitude": -82.417302,
          "Undergraduate enrollment": 257
         },
         {
          "Institution Name": "City College-Miami",
          "Latitude": 25.683673,
          "Longitude": -80.316377,
          "Undergraduate enrollment": 186
         },
         {
          "Institution Name": "City University of Seattle",
          "Latitude": 47.617381,
          "Longitude": -122.344594,
          "Undergraduate enrollment": 928
         },
         {
          "Institution Name": "City Vision University",
          "Latitude": 39.070383,
          "Longitude": -94.571053,
          "Undergraduate enrollment": 102
         },
         {
          "Institution Name": "Claflin University",
          "Latitude": 33.498444,
          "Longitude": -80.85431899999998,
          "Undergraduate enrollment": 2038
         },
         {
          "Institution Name": "Claremont Graduate University",
          "Latitude": 34.103584999999995,
          "Longitude": -117.713703,
          "Undergraduate enrollment": 0
         },
         {
          "Institution Name": "Claremont Lincoln University",
          "Latitude": 34.094143,
          "Longitude": -117.717974,
          "Undergraduate enrollment": 0
         },
         {
          "Institution Name": "Claremont McKenna College",
          "Latitude": 34.102154,
          "Longitude": -117.711188,
          "Undergraduate enrollment": 1338
         },
         {
          "Institution Name": "Claremont School of Theology",
          "Latitude": 34.107602,
          "Longitude": -117.715256,
          "Undergraduate enrollment": 0
         },
         {
          "Institution Name": "Clarion University of Pennsylvania",
          "Latitude": 41.207805,
          "Longitude": -79.377501,
          "Undergraduate enrollment": 4321
         },
         {
          "Institution Name": "Clark Atlanta University",
          "Latitude": 33.74762800000001,
          "Longitude": -84.412584,
          "Undergraduate enrollment": 3302
         },
         {
          "Institution Name": "Clark College",
          "Latitude": 45.636133,
          "Longitude": -122.651257,
          "Undergraduate enrollment": 10000
         },
         {
          "Institution Name": "Clark University",
          "Latitude": 42.249987,
          "Longitude": -71.823356,
          "Undergraduate enrollment": 2240
         },
         {
          "Institution Name": "Clarke University",
          "Latitude": 42.509475,
          "Longitude": -90.690487,
          "Undergraduate enrollment": 768
         },
         {
          "Institution Name": "Clarks Summit University",
          "Latitude": 41.495062,
          "Longitude": -75.685472,
          "Undergraduate enrollment": 503
         },
         {
          "Institution Name": "Clarkson College",
          "Latitude": 41.259165,
          "Longitude": -95.974847,
          "Undergraduate enrollment": 695
         },
         {
          "Institution Name": "Clarkson University",
          "Latitude": 44.662716,
          "Longitude": -74.999359,
          "Undergraduate enrollment": 3090
         },
         {
          "Institution Name": "Clayton  State University",
          "Latitude": 33.594079,
          "Longitude": -84.328174,
          "Undergraduate enrollment": 6555
         },
         {
          "Institution Name": "Clear Creek Baptist Bible College",
          "Latitude": 36.725236,
          "Longitude": -83.72770200000002,
          "Undergraduate enrollment": 138
         },
         {
          "Institution Name": "Cleary University",
          "Latitude": 42.586638,
          "Longitude": -83.879987,
          "Undergraduate enrollment": 524
         },
         {
          "Institution Name": "Clemson University",
          "Latitude": 34.679381,
          "Longitude": -82.835114,
          "Undergraduate enrollment": 19402
         },
         {
          "Institution Name": "Cleveland Institute of Art",
          "Latitude": 41.510435,
          "Longitude": -81.602416,
          "Undergraduate enrollment": 636
         },
         {
          "Institution Name": "Cleveland Institute of Music",
          "Latitude": 41.512444,
          "Longitude": -81.608878,
          "Undergraduate enrollment": 212
         },
         {
          "Institution Name": "Cleveland State University",
          "Latitude": 41.502281,
          "Longitude": -81.674355,
          "Undergraduate enrollment": 12078
         },
         {
          "Institution Name": "Cleveland University-Kansas City",
          "Latitude": 38.932019,
          "Longitude": -94.679076,
          "Undergraduate enrollment": 39
         },
         {
          "Institution Name": "Clinton College",
          "Latitude": 34.913721,
          "Longitude": -81.04346899999999,
          "Undergraduate enrollment": 170
         },
         {
          "Institution Name": "Clover Park Technical College",
          "Latitude": 47.176084,
          "Longitude": -122.497873,
          "Undergraduate enrollment": 3883
         },
         {
          "Institution Name": "Coastal Carolina University",
          "Latitude": 33.794995,
          "Longitude": -79.011767,
          "Undergraduate enrollment": 9898
         },
         {
          "Institution Name": "Coe College",
          "Latitude": 41.988263,
          "Longitude": -91.658192,
          "Undergraduate enrollment": 1394
         },
         {
          "Institution Name": "Cogswell College",
          "Latitude": 37.414049,
          "Longitude": -121.94087,
          "Undergraduate enrollment": 608
         },
         {
          "Institution Name": "Coker College",
          "Latitude": 34.37696,
          "Longitude": -80.07041600000002,
          "Undergraduate enrollment": 1023
         },
         {
          "Institution Name": "Colby College",
          "Latitude": 44.564211,
          "Longitude": -69.66337,
          "Undergraduate enrollment": 1917
         },
         {
          "Institution Name": "Colby-Sawyer College",
          "Latitude": 43.411663,
          "Longitude": -71.97580500000002,
          "Undergraduate enrollment": 982
         },
         {
          "Institution Name": "Coleman University",
          "Latitude": 32.821962,
          "Longitude": -117.136493,
          "Undergraduate enrollment": 222
         },
         {
          "Institution Name": "Colgate Rochester Crozer Divinity School",
          "Latitude": 43.131867,
          "Longitude": -77.598601,
          "Undergraduate enrollment": 0
         },
         {
          "Institution Name": "Colgate University",
          "Latitude": 42.819475,
          "Longitude": -75.536346,
          "Undergraduate enrollment": 2882
         },
         {
          "Institution Name": "College for Creative Studies",
          "Latitude": 42.361839,
          "Longitude": -83.062352,
          "Undergraduate enrollment": 1391
         },
         {
          "Institution Name": "College of Biblical Studies-Houston",
          "Latitude": 29.716681,
          "Longitude": -95.506566,
          "Undergraduate enrollment": 428
         },
         {
          "Institution Name": "College of Business and Technology-Main Campus",
          "Latitude": 25.76859,
          "Longitude": -80.33742099999998,
          "Undergraduate enrollment": 5
         },
         {
          "Institution Name": "College of Business and Technology-Miami Gardens",
          "Latitude": 25.924627,
          "Longitude": -80.28455600000002,
          "Undergraduate enrollment": 92
         },
         {
          "Institution Name": "College of Central Florida",
          "Latitude": 29.166079,
          "Longitude": -82.175692,
          "Undergraduate enrollment": 7151
         },
         {
          "Institution Name": "College of Charleston",
          "Latitude": 32.784225,
          "Longitude": -79.93979399999998,
          "Undergraduate enrollment": 9895
         },
         {
          "Institution Name": "College of Coastal Georgia",
          "Latitude": 31.182745,
          "Longitude": -81.485973,
          "Undergraduate enrollment": 3663
         },
         {
          "Institution Name": "College of Menominee Nation",
          "Latitude": 44.859044,
          "Longitude": -88.625628,
          "Undergraduate enrollment": 285
         },
         {
          "Institution Name": "College of Mount Saint Vincent",
          "Latitude": 40.913657,
          "Longitude": -73.908887,
          "Undergraduate enrollment": 1695
         },
         {
          "Institution Name": "College of Our Lady of the Elms",
          "Latitude": 42.14179,
          "Longitude": -72.601541,
          "Undergraduate enrollment": 1174
         },
         {
          "Institution Name": "College of Saint Benedict",
          "Latitude": 45.561792,
          "Longitude": -94.319888,
          "Undergraduate enrollment": 1937
         },
         {
          "Institution Name": "College of Saint Elizabeth",
          "Latitude": 40.78182,
          "Longitude": -74.438221,
          "Undergraduate enrollment": 757
         },
         {
          "Institution Name": "College of Saint Mary",
          "Latitude": 41.240028,
          "Longitude": -96.021425,
          "Undergraduate enrollment": 832
         },
         {
          "Institution Name": "College of Southern Nevada",
          "Latitude": 36.15811400000001,
          "Longitude": -115.233099,
          "Undergraduate enrollment": 33914
         },
         {
          "Institution Name": "College of St Joseph",
          "Latitude": 43.600507,
          "Longitude": -73.000848,
          "Undergraduate enrollment": 237
         },
         {
          "Institution Name": "College of Staten Island CUNY",
          "Latitude": 40.601831,
          "Longitude": -74.14849,
          "Undergraduate enrollment": 12509
         },
         {
          "Institution Name": "College of the Atlantic",
          "Latitude": 44.395258,
          "Longitude": -68.221517,
          "Undergraduate enrollment": 349
         },
         {
          "Institution Name": "College of the Holy Cross",
          "Latitude": 42.238942,
          "Longitude": -71.808627,
          "Undergraduate enrollment": 2855
         },
         {
          "Institution Name": "College of the Ozarks",
          "Latitude": 36.616019,
          "Longitude": -93.238174,
          "Undergraduate enrollment": 1508
         },
         {
          "Institution Name": "College of William and Mary",
          "Latitude": 37.269489,
          "Longitude": -76.708214,
          "Undergraduate enrollment": 6285
         },
         {
          "Institution Name": "CollegeAmerica-Colorado Springs",
          "Latitude": 38.862312,
          "Longitude": -104.758069,
          "Undergraduate enrollment": 206
         },
         {
          "Institution Name": "CollegeAmerica-Flagstaff",
          "Latitude": 35.194495,
          "Longitude": -111.657673,
          "Undergraduate enrollment": 78
         },
         {
          "Institution Name": "CollegeAmerica-Fort Collins",
          "Latitude": 40.523124,
          "Longitude": -105.080277,
          "Undergraduate enrollment": 126
         },
         {
          "Institution Name": "CollegeAmerica-Phoenix",
          "Latitude": 33.574684999999995,
          "Longitude": -112.117971,
          "Undergraduate enrollment": 512
         },
         {
          "Institution Name": "Colorado Christian University",
          "Latitude": 39.71388,
          "Longitude": -105.09456000000002,
          "Undergraduate enrollment": 6537
         },
         {
          "Institution Name": "Colorado College",
          "Latitude": 38.84886,
          "Longitude": -104.822697,
          "Undergraduate enrollment": 2107
         },
         {
          "Institution Name": "Colorado Mesa University",
          "Latitude": 39.080643,
          "Longitude": -108.553275,
          "Undergraduate enrollment": 9459
         },
         {
          "Institution Name": "Colorado Mountain College",
          "Latitude": 39.54636,
          "Longitude": -107.324441,
          "Undergraduate enrollment": 5934
         },
         {
          "Institution Name": "Colorado School of Mines",
          "Latitude": 39.751443,
          "Longitude": -105.223364,
          "Undergraduate enrollment": 4788
         },
         {
          "Institution Name": "Colorado School of Traditional Chinese Medicine",
          "Latitude": 39.739437,
          "Longitude": -104.960118,
          "Undergraduate enrollment": 0
         },
         {
          "Institution Name": "Colorado State University-Fort Collins",
          "Latitude": 40.574805,
          "Longitude": -105.080732,
          "Undergraduate enrollment": 25523
         },
         {
          "Institution Name": "Colorado State University-Global Campus",
          "Latitude": 39.608848,
          "Longitude": -104.898051,
          "Undergraduate enrollment": 8459
         },
         {
          "Institution Name": "Colorado State University-Pueblo",
          "Latitude": 38.30859,
          "Longitude": -104.579033,
          "Undergraduate enrollment": 4621
         },
         {
          "Institution Name": "Colorado Technical University-Colorado Springs",
          "Latitude": 38.894265,
          "Longitude": -104.833928,
          "Undergraduate enrollment": 22306
         },
         {
          "Institution Name": "Columbia Basin College",
          "Latitude": 46.25216,
          "Longitude": -119.12103,
          "Undergraduate enrollment": 6708
         },
         {
          "Institution Name": "Columbia College",
          "Latitude": 38.957388,
          "Longitude": -92.326354,
          "Undergraduate enrollment": 12754
         },
         {
          "Institution Name": "Columbia College",
          "Latitude": 34.045581,
          "Longitude": -81.029967,
          "Undergraduate enrollment": 1380
         },
         {
          "Institution Name": "Columbia College Chicago",
          "Latitude": 41.874261,
          "Longitude": -87.624667,
          "Undergraduate enrollment": 7027
         },
         {
          "Institution Name": "Columbia College Hollywood",
          "Latitude": 34.17972,
          "Longitude": -118.538793,
          "Undergraduate enrollment": 453
         },
         {
          "Institution Name": "Columbia College of Nursing",
          "Latitude": 43.097318,
          "Longitude": -87.918283,
          "Undergraduate enrollment": 116
         },
         {
          "Institution Name": "Columbia International University",
          "Latitude": 34.075509999999994,
          "Longitude": -81.07443,
          "Undergraduate enrollment": 497
         },
         {
          "Institution Name": "Columbia Southern University",
          "Latitude": 30.329288,
          "Longitude": -87.653162,
          "Undergraduate enrollment": 15050
         },
         {
          "Institution Name": "Columbia Theological Seminary",
          "Latitude": 33.764292,
          "Longitude": -84.281695,
          "Undergraduate enrollment": 0
         },
         {
          "Institution Name": "Columbia University in the City of New York",
          "Latitude": 40.808286,
          "Longitude": -73.961885,
          "Undergraduate enrollment": 8170
         },
         {
          "Institution Name": "Columbus College of Art and Design",
          "Latitude": 39.966074,
          "Longitude": -82.989479,
          "Undergraduate enrollment": 1025
         },
         {
          "Institution Name": "Columbus State University",
          "Latitude": 32.50096,
          "Longitude": -84.94106,
          "Undergraduate enrollment": 6799
         },
         {
          "Institution Name": "Community College of Denver",
          "Latitude": 39.741413,
          "Longitude": -105.001044,
          "Undergraduate enrollment": 8556
         },
         {
          "Institution Name": "Compass College of Cinematic Arts",
          "Latitude": 42.961875,
          "Longitude": -85.66706500000002,
          "Undergraduate enrollment": 134
         },
         {
          "Institution Name": "Conception Seminary College",
          "Latitude": 40.24044,
          "Longitude": -94.682831,
          "Undergraduate enrollment": 75
         },
         {
          "Institution Name": "Concord University",
          "Latitude": 37.423723,
          "Longitude": -81.00669599999998,
          "Undergraduate enrollment": 1853
         },
         {
          "Institution Name": "Concorde Career College-Kansas City",
          "Latitude": 39.06799,
          "Longitude": -94.589819,
          "Undergraduate enrollment": 516
         },
         {
          "Institution Name": "Concordia College Alabama",
          "Latitude": 32.425647,
          "Longitude": -87.019145,
          "Undergraduate enrollment": 389
         },
         {
          "Institution Name": "Concordia College at Moorhead",
          "Latitude": 46.862482,
          "Longitude": -96.76749,
          "Undergraduate enrollment": 2034
         },
         {
          "Institution Name": "Concordia College-New York",
          "Latitude": 40.943382,
          "Longitude": -73.82202,
          "Undergraduate enrollment": 1129
         },
         {
          "Institution Name": "Concordia Seminary",
          "Latitude": 38.637181,
          "Longitude": -90.311324,
          "Undergraduate enrollment": 0
         },
         {
          "Institution Name": "Concordia Theological Seminary",
          "Latitude": 41.139321,
          "Longitude": -85.10994000000002,
          "Undergraduate enrollment": 0
         },
         {
          "Institution Name": "Concordia University-Ann Arbor",
          "Latitude": 42.273157,
          "Longitude": -83.68268,
          "Undergraduate enrollment": 904
         },
         {
          "Institution Name": "Concordia University-Chicago",
          "Latitude": 41.898696,
          "Longitude": -87.80948199999997,
          "Undergraduate enrollment": 1458
         },
         {
          "Institution Name": "Concordia University-Irvine",
          "Latitude": 33.653665000000004,
          "Longitude": -117.812305,
          "Undergraduate enrollment": 1853
         },
         {
          "Institution Name": "Concordia University-Nebraska",
          "Latitude": 40.914853,
          "Longitude": -97.089054,
          "Undergraduate enrollment": 1684
         },
         {
          "Institution Name": "Concordia University-Portland",
          "Latitude": 45.570197,
          "Longitude": -122.636941,
          "Undergraduate enrollment": 1380
         },
         {
          "Institution Name": "Concordia University-Saint Paul",
          "Latitude": 44.949759,
          "Longitude": -93.154861,
          "Undergraduate enrollment": 2870
         },
         {
          "Institution Name": "Concordia University-Texas",
          "Latitude": 30.420952000000003,
          "Longitude": -97.836247,
          "Undergraduate enrollment": 1723
         },
         {
          "Institution Name": "Concordia University-Wisconsin",
          "Latitude": 43.253387,
          "Longitude": -87.91552,
          "Undergraduate enrollment": 3709
         },
         {
          "Institution Name": "Connecticut College",
          "Latitude": 41.37983300000001,
          "Longitude": -72.107321,
          "Undergraduate enrollment": 1817
         },
         {
          "Institution Name": "Converse College",
          "Latitude": 34.955534,
          "Longitude": -81.91788100000002,
          "Undergraduate enrollment": 918
         },
         {
          "Institution Name": "Conway School of Landscape Design",
          "Latitude": 42.274752,
          "Longitude": -72.659276,
          "Undergraduate enrollment": 0
         },
         {
          "Institution Name": "Cooper Union for the Advancement of Science and Art",
          "Latitude": 40.728148,
          "Longitude": -73.991609,
          "Undergraduate enrollment": 868
         },
         {
          "Institution Name": "Coppin State University",
          "Latitude": 39.311258,
          "Longitude": -76.658687,
          "Undergraduate enrollment": 2507
         },
         {
          "Institution Name": "Corban University",
          "Latitude": 44.882399,
          "Longitude": -122.961129,
          "Undergraduate enrollment": 1021
         },
         {
          "Institution Name": "Cornell College",
          "Latitude": 41.924554,
          "Longitude": -91.423741,
          "Undergraduate enrollment": 1009
         },
         {
          "Institution Name": "Cornell University",
          "Latitude": 42.4472,
          "Longitude": -76.48308399999998,
          "Undergraduate enrollment": 14907
         },
         {
          "Institution Name": "Cornerstone University",
          "Latitude": 42.979966,
          "Longitude": -85.59532800000002,
          "Undergraduate enrollment": 1755
         },
         {
          "Institution Name": "Cornish College of the Arts",
          "Latitude": 47.618174,
          "Longitude": -122.336238,
          "Undergraduate enrollment": 658
         },
         {
          "Institution Name": "Cottey College",
          "Latitude": 37.83612700000001,
          "Longitude": -94.371311,
          "Undergraduate enrollment": 270
         },
         {
          "Institution Name": "Covenant College",
          "Latitude": 34.965161,
          "Longitude": -85.375066,
          "Undergraduate enrollment": 1030
         },
         {
          "Institution Name": "Covenant Theological Seminary",
          "Latitude": 38.643066,
          "Longitude": -90.451323,
          "Undergraduate enrollment": 0
         },
         {
          "Institution Name": "Cox College",
          "Latitude": 37.225116,
          "Longitude": -93.290233,
          "Undergraduate enrollment": 730
         },
         {
          "Institution Name": "Cranbrook Academy of Art",
          "Latitude": 42.568904,
          "Longitude": -83.250681,
          "Undergraduate enrollment": 0
         },
         {
          "Institution Name": "Creighton University",
          "Latitude": 41.265361,
          "Longitude": -95.947811,
          "Undergraduate enrollment": 4255
         },
         {
          "Institution Name": "Criswell College",
          "Latitude": 32.793513,
          "Longitude": -96.77669,
          "Undergraduate enrollment": 198
         },
         {
          "Institution Name": "Crossroads Bible College",
          "Latitude": 39.779662,
          "Longitude": -86.039961,
          "Undergraduate enrollment": 168
         },
         {
          "Institution Name": "Crowley's Ridge College",
          "Latitude": 36.064845,
          "Longitude": -90.584395,
          "Undergraduate enrollment": 214
         },
         {
          "Institution Name": "Crown College",
          "Latitude": 44.885393,
          "Longitude": -93.743019,
          "Undergraduate enrollment": 1059
         },
         {
          "Institution Name": "Culinary Institute of America",
          "Latitude": 41.745806,
          "Longitude": -73.933231,
          "Undergraduate enrollment": 3116
         },
         {
          "Institution Name": "Culver-Stockton College",
          "Latitude": 40.128993,
          "Longitude": -91.529374,
          "Undergraduate enrollment": 1093
         },
         {
          "Institution Name": "Cumberland University",
          "Latitude": 36.204514,
          "Longitude": -86.29878199999997,
          "Undergraduate enrollment": 1971
         },
         {
          "Institution Name": "CUNY Bernard M Baruch College",
          "Latitude": 40.740238,
          "Longitude": -73.983417,
          "Undergraduate enrollment": 15253
         },
         {
          "Institution Name": "CUNY Brooklyn College",
          "Latitude": 40.631517,
          "Longitude": -73.949898,
          "Undergraduate enrollment": 14689
         },
         {
          "Institution Name": "CUNY City College",
          "Latitude": 40.81984600000001,
          "Longitude": -73.948542,
          "Undergraduate enrollment": 13210
         },
         {
          "Institution Name": "CUNY Graduate School and University Center",
          "Latitude": 40.748612,
          "Longitude": -73.983822,
          "Undergraduate enrollment": 2066
         },
         {
          "Institution Name": "CUNY Hunter College",
          "Latitude": 40.768669,
          "Longitude": -73.964795,
          "Undergraduate enrollment": 16844
         },
         {
          "Institution Name": "CUNY John Jay College of Criminal Justice",
          "Latitude": 40.770351,
          "Longitude": -73.98841,
          "Undergraduate enrollment": 12916
         },
         {
          "Institution Name": "CUNY Lehman College",
          "Latitude": 40.872962,
          "Longitude": -73.895379,
          "Undergraduate enrollment": 11978
         },
         {
          "Institution Name": "CUNY Medgar Evers College",
          "Latitude": 40.666256,
          "Longitude": -73.957076,
          "Undergraduate enrollment": 6652
         },
         {
          "Institution Name": "CUNY New York City College of Technology",
          "Latitude": 40.695483,
          "Longitude": -73.98785600000002,
          "Undergraduate enrollment": 17279
         },
         {
          "Institution Name": "CUNY Queens College",
          "Latitude": 40.735182,
          "Longitude": -73.816098,
          "Undergraduate enrollment": 16680
         },
         {
          "Institution Name": "CUNY School of Law",
          "Latitude": 40.747797,
          "Longitude": -73.943621,
          "Undergraduate enrollment": 0
         },
         {
          "Institution Name": "CUNY York College",
          "Latitude": 40.701576,
          "Longitude": -73.796313,
          "Undergraduate enrollment": 8393
         },
         {
          "Institution Name": "Curry College",
          "Latitude": 42.238061,
          "Longitude": -71.116539,
          "Undergraduate enrollment": 2565
         },
         {
          "Institution Name": "Curtis Institute of Music",
          "Latitude": 39.948857,
          "Longitude": -75.170727,
          "Undergraduate enrollment": 131
         },
         {
          "Institution Name": "Cypress College",
          "Latitude": 33.827625,
          "Longitude": -118.02388899999998,
          "Undergraduate enrollment": 15673
         },
         {
          "Institution Name": "D'Youville College",
          "Latitude": 42.902636,
          "Longitude": -78.89086800000003,
          "Undergraduate enrollment": 1735
         },
         {
          "Institution Name": "Daemen College",
          "Latitude": 42.965605,
          "Longitude": -78.788111,
          "Undergraduate enrollment": 1801
         },
         {
          "Institution Name": "Dakota State University",
          "Latitude": 44.013014,
          "Longitude": -97.113358,
          "Undergraduate enrollment": 2962
         },
         {
          "Institution Name": "Dakota Wesleyan University",
          "Latitude": 43.697432,
          "Longitude": -98.031188,
          "Undergraduate enrollment": 792
         },
         {
          "Institution Name": "Dallas Baptist University",
          "Latitude": 32.710017,
          "Longitude": -96.947006,
          "Undergraduate enrollment": 3161
         },
         {
          "Institution Name": "Dallas Christian College",
          "Latitude": 32.913698,
          "Longitude": -96.887124,
          "Undergraduate enrollment": 231
         },
         {
          "Institution Name": "Dallas Nursing Institute",
          "Latitude": 32.9138,
          "Longitude": -96.734878,
          "Undergraduate enrollment": 175
         },
         {
          "Institution Name": "Dallas Theological Seminary",
          "Latitude": 32.7943,
          "Longitude": -96.779957,
          "Undergraduate enrollment": 0
         },
         {
          "Institution Name": "Dalton State College",
          "Latitude": 34.774221000000004,
          "Longitude": -85.002775,
          "Undergraduate enrollment": 5164
         },
         {
          "Institution Name": "Daoist Traditions College of Chinese Medical Arts",
          "Latitude": 35.606831,
          "Longitude": -82.568537,
          "Undergraduate enrollment": 0
         },
         {
          "Institution Name": "Dartmouth College",
          "Latitude": 43.704115,
          "Longitude": -72.289949,
          "Undergraduate enrollment": 4410
         },
         {
          "Institution Name": "Davenport University",
          "Latitude": 42.850013,
          "Longitude": -85.533519,
          "Undergraduate enrollment": 5597
         },
         {
          "Institution Name": "Davidson College",
          "Latitude": 35.499767,
          "Longitude": -80.843979,
          "Undergraduate enrollment": 1810
         },
         {
          "Institution Name": "Davis & Elkins College",
          "Latitude": 38.931232,
          "Longitude": -79.84602199999998,
          "Undergraduate enrollment": 837
         },
         {
          "Institution Name": "Davis College",
          "Latitude": 42.101074,
          "Longitude": -75.96251,
          "Undergraduate enrollment": 288
         },
         {
          "Institution Name": "Daymar College-Bowling Green",
          "Latitude": 36.968327,
          "Longitude": -86.47371700000002,
          "Undergraduate enrollment": 288
         },
         {
          "Institution Name": "Daymar College-Clarksville",
          "Latitude": 36.58286500000001,
          "Longitude": -87.31285600000002,
          "Undergraduate enrollment": 1025
         },
         {
          "Institution Name": "Daymar College-Murfreesboro",
          "Latitude": 35.815421,
          "Longitude": -86.40236999999998,
          "Undergraduate enrollment": 206
         },
         {
          "Institution Name": "Daymar College-Nashville",
          "Latitude": 36.14608,
          "Longitude": -86.671921,
          "Undergraduate enrollment": 237
         },
         {
          "Institution Name": "Daymar College-Owensboro",
          "Latitude": 37.73780900000001,
          "Longitude": -87.14378599999998,
          "Undergraduate enrollment": 14
         },
         {
          "Institution Name": "Daytona State College",
          "Latitude": 29.203275,
          "Longitude": -81.049685,
          "Undergraduate enrollment": 13970
         },
         {
          "Institution Name": "Dean College",
          "Latitude": 42.08563400000001,
          "Longitude": -71.397813,
          "Undergraduate enrollment": 1301
         },
         {
          "Institution Name": "Defiance College",
          "Latitude": 41.296842,
          "Longitude": -84.357075,
          "Undergraduate enrollment": 584
         },
         {
          "Institution Name": "Delaware State University",
          "Latitude": 39.187173,
          "Longitude": -75.54053,
          "Undergraduate enrollment": 4050
         },
         {
          "Institution Name": "Delaware Technical Community College-Terry",
          "Latitude": 39.198371,
          "Longitude": -75.56012,
          "Undergraduate enrollment": 14195
         },
         {
          "Institution Name": "Delaware Valley University",
          "Latitude": 40.298659,
          "Longitude": -75.158452,
          "Undergraduate enrollment": 1992
         },
         {
          "Institution Name": "Dell'Arte International School of Physical Theatre",
          "Latitude": 40.880924,
          "Longitude": -123.988808,
          "Undergraduate enrollment": 19
         },
         {
          "Institution Name": "Delta State University",
          "Latitude": 33.744745,
          "Longitude": -90.735365,
          "Undergraduate enrollment": 3037
         },
         {
          "Institution Name": "Denison University",
          "Latitude": 40.071505,
          "Longitude": -82.52327199999998,
          "Undergraduate enrollment": 2341
         },
         {
          "Institution Name": "Denver College of Nursing",
          "Latitude": 39.75303,
          "Longitude": -104.994725,
          "Undergraduate enrollment": 796
         },
         {
          "Institution Name": "Denver Seminary",
          "Latitude": 39.600595,
          "Longitude": -105.02236299999998,
          "Undergraduate enrollment": 0
         },
         {
          "Institution Name": "DePaul University",
          "Latitude": 41.877618,
          "Longitude": -87.62724,
          "Undergraduate enrollment": 14816
         },
         {
          "Institution Name": "DePauw University",
          "Latitude": 39.640904,
          "Longitude": -86.860363,
          "Undergraduate enrollment": 2158
         },
         {
          "Institution Name": "Des Moines University-Osteopathic Medical Center",
          "Latitude": 41.583325,
          "Longitude": -93.661686,
          "Undergraduate enrollment": 0
         },
         {
          "Institution Name": "DeSales University",
          "Latitude": 40.539091,
          "Longitude": -75.375608,
          "Undergraduate enrollment": 2345
         },
         {
          "Institution Name": "Design Institute of San Diego",
          "Latitude": 32.880926,
          "Longitude": -117.167374,
          "Undergraduate enrollment": 126
         },
         {
          "Institution Name": "DeVry College of New York",
          "Latitude": 40.747747,
          "Longitude": -73.983492,
          "Undergraduate enrollment": 945
         },
         {
          "Institution Name": "DeVry University-Arizona",
          "Latitude": 33.565758,
          "Longitude": -112.104601,
          "Undergraduate enrollment": 499
         },
         {
          "Institution Name": "DeVry University-California",
          "Latitude": 34.062904,
          "Longitude": -117.803784,
          "Undergraduate enrollment": 2313
         },
         {
          "Institution Name": "DeVry University-Colorado",
          "Latitude": 39.91934000000001,
          "Longitude": -105.008901,
          "Undergraduate enrollment": 196
         },
         {
          "Institution Name": "DeVry University-Florida",
          "Latitude": 25.987643,
          "Longitude": -80.339842,
          "Undergraduate enrollment": 663
         },
         {
          "Institution Name": "DeVry University-Georgia",
          "Latitude": 33.775112,
          "Longitude": -84.29731600000002,
          "Undergraduate enrollment": 955
         },
         {
          "Institution Name": "DeVry University-Illinois",
          "Latitude": 41.94219,
          "Longitude": -87.69145999999998,
          "Undergraduate enrollment": 12515
         },
         {
          "Institution Name": "DeVry University-Indiana",
          "Latitude": 41.474094,
          "Longitude": -87.325889,
          "Undergraduate enrollment": 63
         },
         {
          "Institution Name": "DeVry University-Missouri",
          "Latitude": 38.939506,
          "Longitude": -94.575014,
          "Undergraduate enrollment": 143
         },
         {
          "Institution Name": "DeVry University-Nevada",
          "Latitude": 36.020266,
          "Longitude": -115.096601,
          "Undergraduate enrollment": 114
         },
         {
          "Institution Name": "DeVry University-New Jersey",
          "Latitude": 40.466026,
          "Longitude": -74.43860600000002,
          "Undergraduate enrollment": 493
         },
         {
          "Institution Name": "DeVry University-North Carolina",
          "Latitude": 35.13766,
          "Longitude": -80.93197099999998,
          "Undergraduate enrollment": 119
         },
         {
          "Institution Name": "DeVry University-Ohio",
          "Latitude": 39.940586,
          "Longitude": -82.940506,
          "Undergraduate enrollment": 897
         },
         {
          "Institution Name": "DeVry University-Oklahoma",
          "Latitude": 35.53830100000001,
          "Longitude": -97.59091,
          "Undergraduate enrollment": 4
         },
         {
          "Institution Name": "DeVry University-Pennsylvania",
          "Latitude": 40.138978,
          "Longitude": -75.179176,
          "Undergraduate enrollment": 338
         },
         {
          "Institution Name": "DeVry University-Tennessee",
          "Latitude": 36.08537000000001,
          "Longitude": -86.694511,
          "Undergraduate enrollment": 67
         },
         {
          "Institution Name": "DeVry University-Texas",
          "Latitude": 32.934524,
          "Longitude": -97.012494,
          "Undergraduate enrollment": 564
         },
         {
          "Institution Name": "DeVry University-Virginia",
          "Latitude": 38.852326,
          "Longitude": -77.050273,
          "Undergraduate enrollment": 227
         },
         {
          "Institution Name": "Dickinson College",
          "Latitude": 40.202796,
          "Longitude": -77.197854,
          "Undergraduate enrollment": 2382
         },
         {
          "Institution Name": "Dickinson State University",
          "Latitude": 46.882917,
          "Longitude": -102.799679,
          "Undergraduate enrollment": 1425
         },
         {
          "Institution Name": "DigiPen Institute of Technology",
          "Latitude": 47.68871,
          "Longitude": -122.150603,
          "Undergraduate enrollment": 1028
         },
         {
          "Institution Name": "Dillard University",
          "Latitude": 29.996587,
          "Longitude": -90.06464,
          "Undergraduate enrollment": 1290
         },
         {
          "Institution Name": "Dine College",
          "Latitude": 36.293328,
          "Longitude": -109.21684,
          "Undergraduate enrollment": 1465
         },
         {
          "Institution Name": "Divine Mercy University",
          "Latitude": 38.855847,
          "Longitude": -77.051354,
          "Undergraduate enrollment": 0
         },
         {
          "Institution Name": "Divine Word College",
          "Latitude": 42.441721,
          "Longitude": -90.934578,
          "Undergraduate enrollment": 71
         },
         {
          "Institution Name": "Dixie State University",
          "Latitude": 37.102769,
          "Longitude": -113.565903,
          "Undergraduate enrollment": 9673
         },
         {
          "Institution Name": "Doane University-Arts & Sciences",
          "Latitude": 40.62295200000001,
          "Longitude": -96.950932,
          "Undergraduate enrollment": 1069
         },
         {
          "Institution Name": "Doane University-Graduate and Professional Studies",
          "Latitude": 40.815541,
          "Longitude": -96.650758,
          "Undergraduate enrollment": 752
         },
         {
          "Institution Name": "Dominican College of Blauvelt",
          "Latitude": 41.047419,
          "Longitude": -73.95055500000002,
          "Undergraduate enrollment": 1425
         },
         {
          "Institution Name": "Dominican School of Philosophy & Theology",
          "Latitude": 37.881099,
          "Longitude": -122.264612,
          "Undergraduate enrollment": 0
         },
         {
          "Institution Name": "Dominican University",
          "Latitude": 41.902678,
          "Longitude": -87.823003,
          "Undergraduate enrollment": 2171
         },
         {
          "Institution Name": "Dominican University of California",
          "Latitude": 37.980014,
          "Longitude": -122.514654,
          "Undergraduate enrollment": 1302
         },
         {
          "Institution Name": "Dongguk University-Los Angeles",
          "Latitude": 34.06597,
          "Longitude": -118.289523,
          "Undergraduate enrollment": 37
         },
         {
          "Institution Name": "Donnelly College",
          "Latitude": 39.112256,
          "Longitude": -94.650677,
          "Undergraduate enrollment": 360
         },
         {
          "Institution Name": "Dordt College",
          "Latitude": 43.082527,
          "Longitude": -96.166562,
          "Undergraduate enrollment": 1448
         },
         {
          "Institution Name": "Dragon Rises College of Oriental Medicine",
          "Latitude": 29.667368,
          "Longitude": -82.31276899999997,
          "Undergraduate enrollment": 0
         },
         {
          "Institution Name": "Drake University",
          "Latitude": 41.60129000000001,
          "Longitude": -93.652163,
          "Undergraduate enrollment": 3098
         },
         {
          "Institution Name": "Drew University",
          "Latitude": 40.761829,
          "Longitude": -74.424584,
          "Undergraduate enrollment": 1537
         },
         {
          "Institution Name": "Drexel University",
          "Latitude": 39.955217,
          "Longitude": -75.190051,
          "Undergraduate enrollment": 15534
         },
         {
          "Institution Name": "Drury University",
          "Latitude": 37.219681,
          "Longitude": -93.286192,
          "Undergraduate enrollment": 3279
         },
         {
          "Institution Name": "Duke University",
          "Latitude": 36.001135,
          "Longitude": -78.937624,
          "Undergraduate enrollment": 6696
         },
         {
          "Institution Name": "Duluth Business University",
          "Latitude": 46.741732,
          "Longitude": -92.157675,
          "Undergraduate enrollment": 47
         },
         {
          "Institution Name": "Dunwoody College of Technology",
          "Latitude": 44.97281,
          "Longitude": -93.290608,
          "Undergraduate enrollment": 1301
         },
         {
          "Institution Name": "Duquesne University",
          "Latitude": 40.43589,
          "Longitude": -79.993123,
          "Undergraduate enrollment": 5942
         },
         {
          "Institution Name": "Eagle Gate College-Layton",
          "Latitude": 41.073374,
          "Longitude": -111.973885,
          "Undergraduate enrollment": 249
         },
         {
          "Institution Name": "Eagle Gate College-Murray",
          "Latitude": 40.649984,
          "Longitude": -111.903609,
          "Undergraduate enrollment": 329
         },
         {
          "Institution Name": "Earlham College",
          "Latitude": 39.823431,
          "Longitude": -84.915037,
          "Undergraduate enrollment": 1060
         },
         {
          "Institution Name": "East Carolina University",
          "Latitude": 35.607186,
          "Longitude": -77.368291,
          "Undergraduate enrollment": 23265
         },
         {
          "Institution Name": "East Central University",
          "Latitude": 34.771934,
          "Longitude": -96.663849,
          "Undergraduate enrollment": 3081
         },
         {
          "Institution Name": "East Georgia State College",
          "Latitude": 32.594944,
          "Longitude": -82.309021,
          "Undergraduate enrollment": 3003
         },
         {
          "Institution Name": "East Stroudsburg University of Pennsylvania",
          "Latitude": 40.99599,
          "Longitude": -75.173905,
          "Undergraduate enrollment": 6051
         },
         {
          "Institution Name": "East Tennessee State University",
          "Latitude": 36.301643,
          "Longitude": -82.366954,
          "Undergraduate enrollment": 11323
         },
         {
          "Institution Name": "East Texas Baptist University",
          "Latitude": 32.557846999999995,
          "Longitude": -94.374488,
          "Undergraduate enrollment": 1421
         },
         {
          "Institution Name": "East West College of Natural Medicine",
          "Latitude": 27.368451,
          "Longitude": -82.551571,
          "Undergraduate enrollment": 6
         },
         {
          "Institution Name": "East-West University",
          "Latitude": 41.871309,
          "Longitude": -87.62479300000003,
          "Undergraduate enrollment": 430
         },
         {
          "Institution Name": "East-West University",
          "Latitude": 44.88177,
          "Longitude": -88.631351,
          "Undergraduate enrollment": 7
         },
         {
          "Institution Name": "Eastern Connecticut State University",
          "Latitude": 41.721673,
          "Longitude": -72.218753,
          "Undergraduate enrollment": 5073
         },
         {
          "Institution Name": "Eastern Florida State College",
          "Latitude": 28.38361,
          "Longitude": -80.756474,
          "Undergraduate enrollment": 15769
         },
         {
          "Institution Name": "Eastern Illinois University",
          "Latitude": 39.479843,
          "Longitude": -88.175658,
          "Undergraduate enrollment": 5568
         },
         {
          "Institution Name": "Eastern International College-Belleville",
          "Latitude": 40.789635,
          "Longitude": -74.152439,
          "Undergraduate enrollment": 244
         },
         {
          "Institution Name": "Eastern International College-Jersey City",
          "Latitude": 40.73517800000001,
          "Longitude": -74.060452,
          "Undergraduate enrollment": 230
         },
         {
          "Institution Name": "Eastern Kentucky University",
          "Latitude": 37.740845,
          "Longitude": -84.30079599999998,
          "Undergraduate enrollment": 14143
         },
         {
          "Institution Name": "Eastern Mennonite University",
          "Latitude": 38.471134,
          "Longitude": -78.880326,
          "Undergraduate enrollment": 1098
         },
         {
          "Institution Name": "Eastern Michigan University",
          "Latitude": 42.24694,
          "Longitude": -83.622501,
          "Undergraduate enrollment": 17217
         },
         {
          "Institution Name": "Eastern Nazarene College",
          "Latitude": 42.271228,
          "Longitude": -71.01107900000002,
          "Undergraduate enrollment": 694
         },
         {
          "Institution Name": "Eastern New Mexico University-Main Campus",
          "Latitude": 34.175592,
          "Longitude": -103.34819,
          "Undergraduate enrollment": 4597
         },
         {
          "Institution Name": "Eastern Oregon University",
          "Latitude": 45.319795,
          "Longitude": -118.092495,
          "Undergraduate enrollment": 2737
         },
         {
          "Institution Name": "Eastern School of Acupuncture and Traditional Medicine",
          "Latitude": 40.79361,
          "Longitude": -74.19716,
          "Undergraduate enrollment": 11
         },
         {
          "Institution Name": "Eastern University",
          "Latitude": 40.050448,
          "Longitude": -75.370316,
          "Undergraduate enrollment": 1887
         },
         {
          "Institution Name": "Eastern Virginia Medical School",
          "Latitude": 36.861232,
          "Longitude": -76.300694,
          "Undergraduate enrollment": 0
         },
         {
          "Institution Name": "Eastern Washington University",
          "Latitude": 47.490667,
          "Longitude": -117.583808,
          "Undergraduate enrollment": 11473
         },
         {
          "Institution Name": "Eastwick College-Ramsey",
          "Latitude": 41.057866,
          "Longitude": -74.131486,
          "Undergraduate enrollment": 772
         },
         {
          "Institution Name": "Ecclesia College",
          "Latitude": 36.2141,
          "Longitude": -94.236643,
          "Undergraduate enrollment": 232
         },
         {
          "Institution Name": "Eckerd College",
          "Latitude": 27.715798,
          "Longitude": -82.687043,
          "Undergraduate enrollment": 2037
         },
         {
          "Institution Name": "ECPI University",
          "Latitude": 36.842533,
          "Longitude": -76.178775,
          "Undergraduate enrollment": 11745
         },
         {
          "Institution Name": "Ecumenical Theological Seminary",
          "Latitude": 42.344129,
          "Longitude": -83.055266,
          "Undergraduate enrollment": 12
         },
         {
          "Institution Name": "Eden Theological Seminary",
          "Latitude": 38.592307,
          "Longitude": -90.345605,
          "Undergraduate enrollment": 0
         },
         {
          "Institution Name": "Edgewood College",
          "Latitude": 43.057059,
          "Longitude": -89.422884,
          "Undergraduate enrollment": 1564
         },
         {
          "Institution Name": "Edinboro University of Pennsylvania",
          "Latitude": 41.870717,
          "Longitude": -80.121318,
          "Undergraduate enrollment": 4290
         },
         {
          "Institution Name": "Edmonds Community College",
          "Latitude": 47.816376,
          "Longitude": -122.327598,
          "Undergraduate enrollment": 8100
         },
         {
          "Institution Name": "Edward Via College of Osteopathic Medicine",
          "Latitude": 37.199666,
          "Longitude": -80.406021,
          "Undergraduate enrollment": 0
         },
         {
          "Institution Name": "Edward Waters College",
          "Latitude": 30.344790000000003,
          "Longitude": -81.68487900000002,
          "Undergraduate enrollment": 3443
         },
         {
          "Institution Name": "Elizabeth City State University",
          "Latitude": 36.277978,
          "Longitude": -76.21404100000002,
          "Undergraduate enrollment": 1368
         },
         {
          "Institution Name": "Elizabethtown College",
          "Latitude": 40.149236,
          "Longitude": -76.59322399999998,
          "Undergraduate enrollment": 1671
         },
         {
          "Institution Name": "Elizabethtown College School of Continuing and Professional Studies",
          "Latitude": 40.149236,
          "Longitude": -76.59322399999998,
          "Undergraduate enrollment": 336
         },
         {
          "Institution Name": "Elmhurst College",
          "Latitude": 41.897164,
          "Longitude": -87.945369,
          "Undergraduate enrollment": 2875
         },
         {
          "Institution Name": "Elmira College",
          "Latitude": 42.0961,
          "Longitude": -76.813459,
          "Undergraduate enrollment": 938
         },
         {
          "Institution Name": "Elon University",
          "Latitude": 36.104148,
          "Longitude": -79.50344,
          "Undergraduate enrollment": 6045
         },
         {
          "Institution Name": "Embry-Riddle Aeronautical University-Daytona Beach",
          "Latitude": 29.189903,
          "Longitude": -81.048367,
          "Undergraduate enrollment": 5729
         },
         {
          "Institution Name": "Embry-Riddle Aeronautical University-Prescott",
          "Latitude": 34.616766,
          "Longitude": -112.449741,
          "Undergraduate enrollment": 2606
         },
         {
          "Institution Name": "Embry-Riddle Aeronautical University-Worldwide",
          "Latitude": 29.189903,
          "Longitude": -81.048367,
          "Undergraduate enrollment": 10457
         },
         {
          "Institution Name": "Emerson College",
          "Latitude": 42.352202,
          "Longitude": -71.065384,
          "Undergraduate enrollment": 3812
         },
         {
          "Institution Name": "Emmanuel College",
          "Latitude": 34.283641,
          "Longitude": -83.14822,
          "Undergraduate enrollment": 953
         },
         {
          "Institution Name": "Emmanuel College",
          "Latitude": 42.340602,
          "Longitude": -71.103634,
          "Undergraduate enrollment": 1947
         },
         {
          "Institution Name": "Emmaus Bible College",
          "Latitude": 42.508307,
          "Longitude": -90.706011,
          "Undergraduate enrollment": 267
         },
         {
          "Institution Name": "Emory & Henry College",
          "Latitude": 36.772857,
          "Longitude": -81.829142,
          "Undergraduate enrollment": 1000
         },
         {
          "Institution Name": "Emory University",
          "Latitude": 33.790183,
          "Longitude": -84.325512,
          "Undergraduate enrollment": 6937
         },
         {
          "Institution Name": "Emperor's College of Traditional Oriental Medicine",
          "Latitude": 34.030438000000004,
          "Longitude": -118.485119,
          "Undergraduate enrollment": 0
         },
         {
          "Institution Name": "Empire College",
          "Latitude": 38.468052,
          "Longitude": -122.72933700000002,
          "Undergraduate enrollment": 333
         },
         {
          "Institution Name": "Emporia State University",
          "Latitude": 38.414784,
          "Longitude": -96.179021,
          "Undergraduate enrollment": 3605
         },
         {
          "Institution Name": "Endicott College",
          "Latitude": 42.553296,
          "Longitude": -70.840847,
          "Undergraduate enrollment": 3344
         },
         {
          "Institution Name": "Epic Bible College",
          "Latitude": 38.645152,
          "Longitude": -121.362642,
          "Undergraduate enrollment": 145
         },
         {
          "Institution Name": "Episcopal Theological Seminary of the Southwest",
          "Latitude": 30.293097,
          "Longitude": -97.73266,
          "Undergraduate enrollment": 0
         },
         {
          "Institution Name": "Erikson Institute",
          "Latitude": 41.890663,
          "Longitude": -87.632178,
          "Undergraduate enrollment": 0
         },
         {
          "Institution Name": "Erskine College",
          "Latitude": 34.332087,
          "Longitude": -82.39095,
          "Undergraduate enrollment": 575
         },
         {
          "Institution Name": "Eureka College",
          "Latitude": 40.71482,
          "Longitude": -89.269624,
          "Undergraduate enrollment": 614
         },
         {
          "Institution Name": "Evangel University",
          "Latitude": 37.220956,
          "Longitude": -93.262614,
          "Undergraduate enrollment": 1631
         },
         {
          "Institution Name": "Evangelical Theological Seminary",
          "Latitude": 40.372981,
          "Longitude": -76.306252,
          "Undergraduate enrollment": 0
         },
         {
          "Institution Name": "Everest University-Brandon",
          "Latitude": 27.980447,
          "Longitude": -82.35034,
          "Undergraduate enrollment": 40
         },
         {
          "Institution Name": "Everest University-South Orlando",
          "Latitude": 28.434702,
          "Longitude": -81.42694200000003,
          "Undergraduate enrollment": 725
         },
         {
          "Institution Name": "Everglades University",
          "Latitude": 26.391218,
          "Longitude": -80.108331,
          "Undergraduate enrollment": 2099
         },
         {
          "Institution Name": "Excelsior College",
          "Latitude": 42.705487,
          "Longitude": -73.862981,
          "Undergraduate enrollment": 31039
         },
         {
          "Institution Name": "Fairfield University",
          "Latitude": 41.157673,
          "Longitude": -73.255903,
          "Undergraduate enrollment": 4113
         },
         {
          "Institution Name": "Fairleigh Dickinson University-Florham Campus",
          "Latitude": 40.774498,
          "Longitude": -74.432121,
          "Undergraduate enrollment": 2747
         },
         {
          "Institution Name": "Fairleigh Dickinson University-Metropolitan Campus",
          "Latitude": 40.897209,
          "Longitude": -74.028986,
          "Undergraduate enrollment": 5467
         },
         {
          "Institution Name": "Fairmont State University",
          "Latitude": 39.483079,
          "Longitude": -80.162433,
          "Undergraduate enrollment": 3661
         },
         {
          "Institution Name": "Faith Baptist Bible College and Theological Seminary",
          "Latitude": 41.737082,
          "Longitude": -93.624422,
          "Undergraduate enrollment": 300
         },
         {
          "Institution Name": "Faith International University",
          "Latitude": 47.280168,
          "Longitude": -122.51687,
          "Undergraduate enrollment": 144
         },
         {
          "Institution Name": "Faith Theological Seminary",
          "Latitude": 39.371639,
          "Longitude": -76.605906,
          "Undergraduate enrollment": 66
         },
         {
          "Institution Name": "Family of Faith Christian University",
          "Latitude": 35.462234,
          "Longitude": -96.901413,
          "Undergraduate enrollment": 39
         },
         {
          "Institution Name": "Farmingdale State College",
          "Latitude": 40.754224,
          "Longitude": -73.42832,
          "Undergraduate enrollment": 9552
         },
         {
          "Institution Name": "Fashion Institute of Technology",
          "Latitude": 40.74731,
          "Longitude": -73.994781,
          "Undergraduate enrollment": 8661
         },
         {
          "Institution Name": "Faulkner University",
          "Latitude": 32.384181,
          "Longitude": -86.21641,
          "Undergraduate enrollment": 2672
         },
         {
          "Institution Name": "Fayetteville State University",
          "Latitude": 35.073640999999995,
          "Longitude": -78.891696,
          "Undergraduate enrollment": 5393
         },
         {
          "Institution Name": "Feather River Community College District",
          "Latitude": 39.952395,
          "Longitude": -120.970877,
          "Undergraduate enrollment": 2151
         },
         {
          "Institution Name": "Felician University",
          "Latitude": 40.867272,
          "Longitude": -74.096452,
          "Undergraduate enrollment": 1626
         },
         {
          "Institution Name": "Ferris State University",
          "Latitude": 43.687724,
          "Longitude": -85.481925,
          "Undergraduate enrollment": 12512
         },
         {
          "Institution Name": "Ferrum College",
          "Latitude": 36.926912,
          "Longitude": -80.02163900000002,
          "Undergraduate enrollment": 1137
         },
         {
          "Institution Name": "FIDM-Fashion Institute of Design & Merchandising-Los Angeles",
          "Latitude": 34.044209,
          "Longitude": -118.25993,
          "Undergraduate enrollment": 2367
         },
         {
          "Institution Name": "FIDM-Fashion Institute of Design & Merchandising-San Francisco",
          "Latitude": 37.786324,
          "Longitude": -122.406503,
          "Undergraduate enrollment": 279
         },
         {
          "Institution Name": "Fielding Graduate University",
          "Latitude": 34.42941,
          "Longitude": -119.717161,
          "Undergraduate enrollment": 0
         },
         {
          "Institution Name": "Finlandia University",
          "Latitude": 47.127868,
          "Longitude": -88.588756,
          "Undergraduate enrollment": 402
         },
         {
          "Institution Name": "Fisher College",
          "Latitude": 42.35525300000001,
          "Longitude": -71.074125,
          "Undergraduate enrollment": 1882
         },
         {
          "Institution Name": "Fisk University",
          "Latitude": 36.16912,
          "Longitude": -86.80567099999998,
          "Undergraduate enrollment": 664
         },
         {
          "Institution Name": "Fitchburg State University",
          "Latitude": 42.589345,
          "Longitude": -71.789354,
          "Undergraduate enrollment": 4117
         },
         {
          "Institution Name": "Five Branches University",
          "Latitude": 36.964348,
          "Longitude": -121.998245,
          "Undergraduate enrollment": 0
         },
         {
          "Institution Name": "Five Towns College",
          "Latitude": 40.794506,
          "Longitude": -73.369348,
          "Undergraduate enrollment": 628
         },
         {
          "Institution Name": "Flagler College-St Augustine",
          "Latitude": 29.892733000000003,
          "Longitude": -81.314887,
          "Undergraduate enrollment": 2676
         },
         {
          "Institution Name": "Flagler College-Tallahassee",
          "Latitude": 30.443866,
          "Longitude": -84.339,
          "Undergraduate enrollment": 424
         },
         {
          "Institution Name": "Florida Agricultural and Mechanical University",
          "Latitude": 30.428504,
          "Longitude": -84.290226,
          "Undergraduate enrollment": 8024
         },
         {
          "Institution Name": "Florida Atlantic University",
          "Latitude": 26.372421000000006,
          "Longitude": -80.10297800000002,
          "Undergraduate enrollment": 25030
         },
         {
          "Institution Name": "Florida Coastal School of Law",
          "Latitude": 30.232676,
          "Longitude": -81.580093,
          "Undergraduate enrollment": 0
         },
         {
          "Institution Name": "Florida College",
          "Latitude": 28.034936,
          "Longitude": -82.383289,
          "Undergraduate enrollment": 508
         },
         {
          "Institution Name": "Florida College of Integrative Medicine",
          "Latitude": 28.463590000000003,
          "Longitude": -81.40175699999998,
          "Undergraduate enrollment": 0
         },
         {
          "Institution Name": "Florida Gateway College",
          "Latitude": 30.175298,
          "Longitude": -82.5679,
          "Undergraduate enrollment": 3292
         },
         {
          "Institution Name": "Florida Gulf Coast University",
          "Latitude": 26.463638,
          "Longitude": -81.7726,
          "Undergraduate enrollment": 13854
         },
         {
          "Institution Name": "Florida Institute of Technology",
          "Latitude": 28.065815,
          "Longitude": -80.622893,
          "Undergraduate enrollment": 3635
         },
         {
          "Institution Name": "Florida Institute of Technology-Online",
          "Latitude": 28.065754,
          "Longitude": -80.62437800000002,
          "Undergraduate enrollment": 1634
         },
         {
          "Institution Name": "Florida International University",
          "Latitude": 25.75732,
          "Longitude": -80.373928,
          "Undergraduate enrollment": 47629
         },
         {
          "Institution Name": "Florida Keys Community College",
          "Latitude": 24.582748,
          "Longitude": -81.74446,
          "Undergraduate enrollment": 1030
         },
         {
          "Institution Name": "Florida Memorial University",
          "Latitude": 25.918278,
          "Longitude": -80.270753,
          "Undergraduate enrollment": 1173
         },
         {
          "Institution Name": "Florida National University-Main Campus",
          "Latitude": 25.86178,
          "Longitude": -80.321846,
          "Undergraduate enrollment": 4023
         },
         {
          "Institution Name": "Florida Polytechnic University",
          "Latitude": 28.150149,
          "Longitude": -81.845995,
          "Undergraduate enrollment": 1439
         },
         {
          "Institution Name": "Florida Southern College",
          "Latitude": 28.032443,
          "Longitude": -81.948203,
          "Undergraduate enrollment": 2615
         },
         {
          "Institution Name": "Florida SouthWestern State College",
          "Latitude": 26.552403,
          "Longitude": -81.887102,
          "Undergraduate enrollment": 15731
         },
         {
          "Institution Name": "Florida State College at Jacksonville",
          "Latitude": 30.334918,
          "Longitude": -81.659901,
          "Undergraduate enrollment": 21092
         },
         {
          "Institution Name": "Florida State University",
          "Latitude": 30.440756,
          "Longitude": -84.291921,
          "Undergraduate enrollment": 33008
         },
         {
          "Institution Name": "Florida Technical College",
          "Latitude": 28.573275,
          "Longitude": -81.196503,
          "Undergraduate enrollment": 3989
         },
         {
          "Institution Name": "Fontbonne University",
          "Latitude": 38.642697,
          "Longitude": -90.315712,
          "Undergraduate enrollment": 893
         },
         {
          "Institution Name": "Foothill College",
          "Latitude": 37.361655,
          "Longitude": -122.127964,
          "Undergraduate enrollment": 15697
         },
         {
          "Institution Name": "Fordham University",
          "Latitude": 40.859354,
          "Longitude": -73.882705,
          "Undergraduate enrollment": 9599
         },
         {
          "Institution Name": "Fort Hays State University",
          "Latitude": 38.872156,
          "Longitude": -99.342503,
          "Undergraduate enrollment": 12494
         },
         {
          "Institution Name": "Fort Lewis College",
          "Latitude": 37.275939,
          "Longitude": -107.867422,
          "Undergraduate enrollment": 3300
         },
         {
          "Institution Name": "Fort Valley State University",
          "Latitude": 32.537595,
          "Longitude": -83.89537,
          "Undergraduate enrollment": 2344
         },
         {
          "Institution Name": "Fountainhead College of Technology",
          "Latitude": 36.029353,
          "Longitude": -83.920856,
          "Undergraduate enrollment": 88
         },
         {
          "Institution Name": "Framingham State University",
          "Latitude": 42.297289,
          "Longitude": -71.437175,
          "Undergraduate enrollment": 4126
         },
         {
          "Institution Name": "Francis Marion University",
          "Latitude": 34.189777,
          "Longitude": -79.652854,
          "Undergraduate enrollment": 3460
         },
         {
          "Institution Name": "Franciscan Missionaries of Our Lady University",
          "Latitude": 30.401379,
          "Longitude": -91.110587,
          "Undergraduate enrollment": 1193
         },
         {
          "Institution Name": "Franciscan School of Theology",
          "Latitude": 33.232416,
          "Longitude": -117.320066,
          "Undergraduate enrollment": 0
         },
         {
          "Institution Name": "Franciscan University of Steubenville",
          "Latitude": 40.376919,
          "Longitude": -80.620524,
          "Undergraduate enrollment": 2200
         },
         {
          "Institution Name": "Franklin and Marshall College",
          "Latitude": 40.048045,
          "Longitude": -76.319037,
          "Undergraduate enrollment": 2283
         },
         {
          "Institution Name": "Franklin College",
          "Latitude": 39.478298,
          "Longitude": -86.04718199999998,
          "Undergraduate enrollment": 1016
         },
         {
          "Institution Name": "Franklin Pierce University",
          "Latitude": 42.78014,
          "Longitude": -72.058011,
          "Undergraduate enrollment": 1713
         },
         {
          "Institution Name": "Franklin University",
          "Latitude": 39.95831,
          "Longitude": -82.990375,
          "Undergraduate enrollment": 3509
         },
         {
          "Institution Name": "Franklin W Olin College of Engineering",
          "Latitude": 42.292842,
          "Longitude": -71.26404699999998,
          "Undergraduate enrollment": 380
         },
         {
          "Institution Name": "Freed-Hardeman University",
          "Latitude": 35.440073,
          "Longitude": -88.639418,
          "Undergraduate enrollment": 1471
         },
         {
          "Institution Name": "Fremont College",
          "Latitude": 33.868382000000004,
          "Longitude": -118.097019,
          "Undergraduate enrollment": 182
         },
         {
          "Institution Name": "Fresno Pacific University",
          "Latitude": 36.726831,
          "Longitude": -119.735199,
          "Undergraduate enrollment": 2803
         },
         {
          "Institution Name": "Friends University",
          "Latitude": 37.678459,
          "Longitude": -97.367048,
          "Undergraduate enrollment": 1146
         },
         {
          "Institution Name": "Frontier Nursing University",
          "Latitude": 37.165605,
          "Longitude": -83.37937,
          "Undergraduate enrollment": 0
         },
         {
          "Institution Name": "Frostburg State University",
          "Latitude": 39.650918,
          "Longitude": -78.93429300000003,
          "Undergraduate enrollment": 4725
         },
         {
          "Institution Name": "Full Sail University",
          "Latitude": 28.596546000000004,
          "Longitude": -81.301286,
          "Undergraduate enrollment": 16908
         },
         {
          "Institution Name": "Fuller Theological Seminary",
          "Latitude": 34.14778,
          "Longitude": -118.140261,
          "Undergraduate enrollment": 0
         },
         {
          "Institution Name": "Furman",
          "Latitude": 34.924676,
          "Longitude": -82.44045799999998,
          "Undergraduate enrollment": 2734
         },
         {
          "Institution Name": "Future Generations University",
          "Latitude": 38.70907,
          "Longitude": -79.405423,
          "Undergraduate enrollment": 0
         },
         {
          "Institution Name": "Galen College of Nursing-Louisville",
          "Latitude": 38.277005,
          "Longitude": -85.695972,
          "Undergraduate enrollment": 1703
         },
         {
          "Institution Name": "Galen College of Nursing-San Antonio",
          "Latitude": 29.507690000000004,
          "Longitude": -98.58566,
          "Undergraduate enrollment": 1246
         },
         {
          "Institution Name": "Gallaudet University",
          "Latitude": 38.90737100000001,
          "Longitude": -76.993675,
          "Undergraduate enrollment": 1129
         },
         {
          "Institution Name": "Gannon University",
          "Latitude": 42.12840300000001,
          "Longitude": -80.087166,
          "Undergraduate enrollment": 3076
         },
         {
          "Institution Name": "Gardner-Webb University",
          "Latitude": 35.24732,
          "Longitude": -81.668141,
          "Undergraduate enrollment": 2215
         },
         {
          "Institution Name": "Garrett-Evangelical Theological Seminary",
          "Latitude": 42.056221,
          "Longitude": -87.675497,
          "Undergraduate enrollment": 0
         },
         {
          "Institution Name": "Geisinger Commonwealth School of Medicine",
          "Latitude": 41.413415,
          "Longitude": -75.655478,
          "Undergraduate enrollment": 0
         },
         {
          "Institution Name": "Gemini School of Visual Arts & Communication",
          "Latitude": 30.50915,
          "Longitude": -97.846121,
          "Undergraduate enrollment": 18
         },
         {
          "Institution Name": "Geneva College",
          "Latitude": 40.772518,
          "Longitude": -80.321826,
          "Undergraduate enrollment": 1417
         },
         {
          "Institution Name": "George Fox University",
          "Latitude": 45.303629,
          "Longitude": -122.967494,
          "Undergraduate enrollment": 2698
         },
         {
          "Institution Name": "George Mason University",
          "Latitude": 38.829976,
          "Longitude": -77.307428,
          "Undergraduate enrollment": 25010
         },
         {
          "Institution Name": "George Washington University",
          "Latitude": 38.89923,
          "Longitude": -77.048363,
          "Undergraduate enrollment": 11999
         },
         {
          "Institution Name": "Georgetown College",
          "Latitude": 38.207615,
          "Longitude": -84.55376700000002,
          "Undergraduate enrollment": 1061
         },
         {
          "Institution Name": "Georgetown University",
          "Latitude": 38.90880900000001,
          "Longitude": -77.073463,
          "Undergraduate enrollment": 7463
         },
         {
          "Institution Name": "Georgia Christian University",
          "Latitude": 33.928319,
          "Longitude": -84.26793,
          "Undergraduate enrollment": 21
         },
         {
          "Institution Name": "Georgia College & State University",
          "Latitude": 33.082787,
          "Longitude": -83.231962,
          "Undergraduate enrollment": 5987
         },
         {
          "Institution Name": "Georgia Gwinnett College",
          "Latitude": 33.979409000000004,
          "Longitude": -84.00459000000002,
          "Undergraduate enrollment": 12287
         },
         {
          "Institution Name": "Georgia Highlands College",
          "Latitude": 34.169791,
          "Longitude": -85.207356,
          "Undergraduate enrollment": 6013
         },
         {
          "Institution Name": "Georgia Institute of Technology-Main Campus",
          "Latitude": 33.772420000000004,
          "Longitude": -84.394832,
          "Undergraduate enrollment": 15573
         },
         {
          "Institution Name": "Georgia Military College",
          "Latitude": 33.079440000000005,
          "Longitude": -83.224211,
          "Undergraduate enrollment": 8595
         },
         {
          "Institution Name": "Georgia Southern University",
          "Latitude": 32.428808000000004,
          "Longitude": -81.782232,
          "Undergraduate enrollment": 17759
         },
         {
          "Institution Name": "Georgia Southwestern State University",
          "Latitude": 32.054662,
          "Longitude": -84.217738,
          "Undergraduate enrollment": 2606
         },
         {
          "Institution Name": "Georgia State University",
          "Latitude": 33.7527,
          "Longitude": -84.38667,
          "Undergraduate enrollment": 25770
         },
         {
          "Institution Name": "Georgian Court University",
          "Latitude": 40.099617,
          "Longitude": -74.228186,
          "Undergraduate enrollment": 1613
         },
         {
          "Institution Name": "Gettysburg College",
          "Latitude": 39.836597,
          "Longitude": -77.23679200000002,
          "Undergraduate enrollment": 2411
         },
         {
          "Institution Name": "Glenville State College",
          "Latitude": 38.93547,
          "Longitude": -80.834295,
          "Undergraduate enrollment": 1655
         },
         {
          "Institution Name": "Gnomon School of Visual Effects",
          "Latitude": 34.090094,
          "Longitude": -118.329106,
          "Undergraduate enrollment": 416
         },
         {
          "Institution Name": "Goddard College",
          "Latitude": 44.279087,
          "Longitude": -72.438388,
          "Undergraduate enrollment": 189
         },
         {
          "Institution Name": "Gods Bible School and College",
          "Latitude": 39.1153,
          "Longitude": -84.505703,
          "Undergraduate enrollment": 292
         },
         {
          "Institution Name": "Golden Gate University-San Francisco",
          "Latitude": 37.789208,
          "Longitude": -122.398785,
          "Undergraduate enrollment": 429
         },
         {
          "Institution Name": "Goldey-Beacom College",
          "Latitude": 39.741501,
          "Longitude": -75.689624,
          "Undergraduate enrollment": 777
         },
         {
          "Institution Name": "Gonzaga University",
          "Latitude": 47.666531,
          "Longitude": -117.400625,
          "Undergraduate enrollment": 5192
         },
         {
          "Institution Name": "Good Samaritan College of Nursing and Health Science",
          "Latitude": 39.140348,
          "Longitude": -84.521196,
          "Undergraduate enrollment": 413
         },
         {
          "Institution Name": "Goodwin College",
          "Latitude": 41.742977,
          "Longitude": -72.64031999999997,
          "Undergraduate enrollment": 3394
         },
         {
          "Institution Name": "Gordon College",
          "Latitude": 42.588173,
          "Longitude": -70.819133,
          "Undergraduate enrollment": 1591
         },
         {
          "Institution Name": "Gordon State College",
          "Latitude": 33.04571,
          "Longitude": -84.15450799999998,
          "Undergraduate enrollment": 3986
         },
         {
          "Institution Name": "Gordon-Conwell Theological Seminary",
          "Latitude": 42.613475,
          "Longitude": -70.846387,
          "Undergraduate enrollment": 0
         },
         {
          "Institution Name": "Goshen College",
          "Latitude": 41.563582,
          "Longitude": -85.827795,
          "Undergraduate enrollment": 883
         },
         {
          "Institution Name": "Goucher College",
          "Latitude": 39.410175,
          "Longitude": -76.59484300000003,
          "Undergraduate enrollment": 1538
         },
         {
          "Institution Name": "Governors State University",
          "Latitude": 41.449103,
          "Longitude": -87.716441,
          "Undergraduate enrollment": 3326
         },
         {
          "Institution Name": "Grace Bible College",
          "Latitude": 42.919541,
          "Longitude": -85.692077,
          "Undergraduate enrollment": 874
         },
         {
          "Institution Name": "Grace College and Theological Seminary",
          "Latitude": 41.22595,
          "Longitude": -85.814228,
          "Undergraduate enrollment": 1762
         },
         {
          "Institution Name": "Grace College of Divinity",
          "Latitude": 35.058616,
          "Longitude": -78.96130500000002,
          "Undergraduate enrollment": 130
         },
         {
          "Institution Name": "Grace Mission University",
          "Latitude": 33.867663,
          "Longitude": -117.958208,
          "Undergraduate enrollment": 85
         },
         {
          "Institution Name": "Grace School of Theology",
          "Latitude": 30.205731,
          "Longitude": -95.472493,
          "Undergraduate enrollment": 151
         },
         {
          "Institution Name": "Grace University",
          "Latitude": 41.246894,
          "Longitude": -95.927709,
          "Undergraduate enrollment": 221
         },
         {
          "Institution Name": "Graceland University-Lamoni",
          "Latitude": 40.615966,
          "Longitude": -93.924893,
          "Undergraduate enrollment": 1403
         },
         {
          "Institution Name": "Graduate Theological Union",
          "Latitude": 37.87554,
          "Longitude": -122.261847,
          "Undergraduate enrollment": 0
         },
         {
          "Institution Name": "Grambling State University",
          "Latitude": 32.523796999999995,
          "Longitude": -92.713245,
          "Undergraduate enrollment": 4079
         },
         {
          "Institution Name": "Grand Canyon University",
          "Latitude": 33.513231,
          "Longitude": -112.129929,
          "Undergraduate enrollment": 49556
         },
         {
          "Institution Name": "Grand Valley State University",
          "Latitude": 42.963001,
          "Longitude": -85.889826,
          "Undergraduate enrollment": 21937
         },
         {
          "Institution Name": "Grand View University",
          "Latitude": 41.620813,
          "Longitude": -93.604352,
          "Undergraduate enrollment": 1788
         },
         {
          "Institution Name": "Granite State College",
          "Latitude": 43.19291,
          "Longitude": -71.527241,
          "Undergraduate enrollment": 1758
         },
         {
          "Institution Name": "Grantham University",
          "Latitude": 38.92258,
          "Longitude": -94.771491,
          "Undergraduate enrollment": 7816
         },
         {
          "Institution Name": "Gratz College",
          "Latitude": 40.067206,
          "Longitude": -75.133915,
          "Undergraduate enrollment": 82
         },
         {
          "Institution Name": "Grays Harbor College",
          "Latitude": 46.953881,
          "Longitude": -123.803068,
          "Undergraduate enrollment": 1971
         },
         {
          "Institution Name": "Great Basin College",
          "Latitude": 40.84343,
          "Longitude": -115.767274,
          "Undergraduate enrollment": 3244
         },
         {
          "Institution Name": "Great Lakes Christian College",
          "Latitude": 42.754249,
          "Longitude": -84.63871400000002,
          "Undergraduate enrollment": 129
         },
         {
          "Institution Name": "Green Mountain College",
          "Latitude": 43.517785,
          "Longitude": -73.241862,
          "Undergraduate enrollment": 468
         },
         {
          "Institution Name": "Green River College",
          "Latitude": 47.313648,
          "Longitude": -122.175819,
          "Undergraduate enrollment": 8048
         },
         {
          "Institution Name": "Greensboro College",
          "Latitude": 36.071082,
          "Longitude": -79.800232,
          "Undergraduate enrollment": 946
         },
         {
          "Institution Name": "Greenville University",
          "Latitude": 38.894162,
          "Longitude": -89.40824,
          "Undergraduate enrollment": 985
         },
         {
          "Institution Name": "Grinnell College",
          "Latitude": 41.74795200000001,
          "Longitude": -92.722094,
          "Undergraduate enrollment": 1712
         },
         {
          "Institution Name": "Guilford College",
          "Latitude": 36.094233,
          "Longitude": -79.887737,
          "Undergraduate enrollment": 1674
         },
         {
          "Institution Name": "Gulf Coast State College",
          "Latitude": 30.185542,
          "Longitude": -85.727918,
          "Undergraduate enrollment": 5379
         },
         {
          "Institution Name": "Gurnick Academy of Medical Arts",
          "Latitude": 37.547377,
          "Longitude": -122.307618,
          "Undergraduate enrollment": 1395
         },
         {
          "Institution Name": "Gustavus Adolphus College",
          "Latitude": 44.323626,
          "Longitude": -93.972196,
          "Undergraduate enrollment": 2181
         },
         {
          "Institution Name": "Gwynedd Mercy University",
          "Latitude": 40.202804,
          "Longitude": -75.23660100000002,
          "Undergraduate enrollment": 2081
         },
         {
          "Institution Name": "Hallmark University",
          "Latitude": 29.538447,
          "Longitude": -98.568626,
          "Undergraduate enrollment": 872
         },
         {
          "Institution Name": "Hamilton College",
          "Latitude": 43.050245,
          "Longitude": -75.40819499999998,
          "Undergraduate enrollment": 1901
         },
         {
          "Institution Name": "Hamilton Technical College",
          "Latitude": 41.573888,
          "Longitude": -90.560088,
          "Undergraduate enrollment": 134
         },
         {
          "Institution Name": "Hamline University",
          "Latitude": 44.96624600000001,
          "Longitude": -93.164479,
          "Undergraduate enrollment": 2168
         },
         {
          "Institution Name": "Hampden-Sydney College",
          "Latitude": 37.24061500000001,
          "Longitude": -78.46421600000002,
          "Undergraduate enrollment": 1046
         },
         {
          "Institution Name": "Hampshire College",
          "Latitude": 42.32585200000001,
          "Longitude": -72.531469,
          "Undergraduate enrollment": 1268
         },
         {
          "Institution Name": "Hampton University",
          "Latitude": 37.019944,
          "Longitude": -76.339161,
          "Undergraduate enrollment": 3792
         },
         {
          "Institution Name": "Hannibal-LaGrange University",
          "Latitude": 39.729015,
          "Longitude": -91.39094,
          "Undergraduate enrollment": 910
         },
         {
          "Institution Name": "Hanover College",
          "Latitude": 38.715642,
          "Longitude": -85.460051,
          "Undergraduate enrollment": 1089
         },
         {
          "Institution Name": "Hardin-Simmons University",
          "Latitude": 32.476434000000005,
          "Longitude": -99.73564,
          "Undergraduate enrollment": 1742
         },
         {
          "Institution Name": "Harding University",
          "Latitude": 35.247337,
          "Longitude": -91.726041,
          "Undergraduate enrollment": 4184
         },
         {
          "Institution Name": "Harrington College of Design",
          "Latitude": 41.874113,
          "Longitude": -87.624678,
          "Undergraduate enrollment": 2
         },
         {
          "Institution Name": "Harris-Stowe State University",
          "Latitude": 38.631744,
          "Longitude": -90.224288,
          "Undergraduate enrollment": 1442
         },
         {
          "Institution Name": "Harrisburg University of Science and Technology",
          "Latitude": 40.26193,
          "Longitude": -76.880261,
          "Undergraduate enrollment": 509
         },
         {
          "Institution Name": "Harrison College-Grove City",
          "Latitude": 39.882331,
          "Longitude": -83.045612,
          "Undergraduate enrollment": 158
         },
         {
          "Institution Name": "Harrison College-Indianapolis",
          "Latitude": 39.767142,
          "Longitude": -86.147609,
          "Undergraduate enrollment": 2045
         },
         {
          "Institution Name": "Hartford Seminary",
          "Latitude": 41.769861,
          "Longitude": -72.707766,
          "Undergraduate enrollment": 0
         },
         {
          "Institution Name": "Hartwick College",
          "Latitude": 42.457599,
          "Longitude": -75.07199399999998,
          "Undergraduate enrollment": 1201
         },
         {
          "Institution Name": "Harvard University",
          "Latitude": 42.374471,
          "Longitude": -71.118313,
          "Undergraduate enrollment": 9965
         },
         {
          "Institution Name": "Harvey Mudd College",
          "Latitude": 34.106515,
          "Longitude": -117.709837,
          "Undergraduate enrollment": 861
         },
         {
          "Institution Name": "Haskell Indian Nations University",
          "Latitude": 38.938834,
          "Longitude": -95.232879,
          "Undergraduate enrollment": 806
         },
         {
          "Institution Name": "Hastings College",
          "Latitude": 40.59025,
          "Longitude": -98.374403,
          "Undergraduate enrollment": 1155
         },
         {
          "Institution Name": "Haverford College",
          "Latitude": 40.007452,
          "Longitude": -75.305207,
          "Undergraduate enrollment": 1296
         },
         {
          "Institution Name": "Hawaii Pacific University",
          "Latitude": 21.310306,
          "Longitude": -157.859645,
          "Undergraduate enrollment": 3560
         },
         {
          "Institution Name": "Hazelden Betty Ford Graduate School of Addiction Studies",
          "Latitude": 45.375319,
          "Longitude": -92.805285,
          "Undergraduate enrollment": 0
         },
         {
          "Institution Name": "Hebrew College",
          "Latitude": 42.3264,
          "Longitude": -71.190525,
          "Undergraduate enrollment": 46
         },
         {
          "Institution Name": "Hebrew Theological College",
          "Latitude": 42.010103,
          "Longitude": -87.760874,
          "Undergraduate enrollment": 196
         },
         {
          "Institution Name": "Hebrew Union College-Jewish Institute of Religion",
          "Latitude": 40.728938,
          "Longitude": -73.994499,
          "Undergraduate enrollment": 0
         },
         {
          "Institution Name": "Heidelberg University",
          "Latitude": 41.114833,
          "Longitude": -83.168387,
          "Undergraduate enrollment": 1051
         },
         {
          "Institution Name": "Helene Fuld College of Nursing",
          "Latitude": 40.802495,
          "Longitude": -73.94335600000002,
          "Undergraduate enrollment": 480
         },
         {
          "Institution Name": "Hellenic College-Holy Cross Greek Orthodox School of Theology",
          "Latitude": 42.317018,
          "Longitude": -71.129418,
          "Undergraduate enrollment": 78
         },
         {
          "Institution Name": "Henderson State University",
          "Latitude": 34.128155,
          "Longitude": -93.059703,
          "Undergraduate enrollment": 2832
         },
         {
          "Institution Name": "Hendrix College",
          "Latitude": 35.101565,
          "Longitude": -92.443256,
          "Undergraduate enrollment": 1238
         },
         {
          "Institution Name": "Henry Ford College",
          "Latitude": 42.32463900000001,
          "Longitude": -83.236056,
          "Undergraduate enrollment": 12786
         },
         {
          "Institution Name": "Heritage Bible College",
          "Latitude": 35.268278,
          "Longitude": -78.612677,
          "Undergraduate enrollment": 42
         },
         {
          "Institution Name": "Heritage Christian University",
          "Latitude": 34.856153000000006,
          "Longitude": -87.663051,
          "Undergraduate enrollment": 59
         },
         {
          "Institution Name": "Heritage University",
          "Latitude": 46.3748,
          "Longitude": -120.394972,
          "Undergraduate enrollment": 812
         },
         {
          "Institution Name": "Herzing University-Akron",
          "Latitude": 41.02817,
          "Longitude": -81.49310899999998,
          "Undergraduate enrollment": 494
         },
         {
          "Institution Name": "Herzing University-Atlanta",
          "Latitude": 33.845128,
          "Longitude": -84.361869,
          "Undergraduate enrollment": 593
         },
         {
          "Institution Name": "Herzing University-Birmingham",
          "Latitude": 33.468466,
          "Longitude": -86.832465,
          "Undergraduate enrollment": 537
         },
         {
          "Institution Name": "Herzing University-Brookfield",
          "Latitude": 43.027347,
          "Longitude": -88.115656,
          "Undergraduate enrollment": 238
         },
         {
          "Institution Name": "Herzing University-Kenner",
          "Latitude": 30.001605,
          "Longitude": -90.239525,
          "Undergraduate enrollment": 398
         },
         {
          "Institution Name": "Herzing University-Kenosha",
          "Latitude": 42.603889,
          "Longitude": -87.857452,
          "Undergraduate enrollment": 280
         },
         {
          "Institution Name": "Herzing University-Madison",
          "Latitude": 43.14415,
          "Longitude": -89.291561,
          "Undergraduate enrollment": 1732
         },
         {
          "Institution Name": "Herzing University-Minneapolis",
          "Latitude": 45.056259,
          "Longitude": -93.366502,
          "Undergraduate enrollment": 372
         },
         {
          "Institution Name": "Herzing University-Toledo",
          "Latitude": 41.639266,
          "Longitude": -83.665453,
          "Undergraduate enrollment": 213
         },
         {
          "Institution Name": "Herzing University-Winter Park",
          "Latitude": 28.615784,
          "Longitude": -81.312669,
          "Undergraduate enrollment": 506
         },
         {
          "Institution Name": "Hesston College",
          "Latitude": 38.134558,
          "Longitude": -97.433883,
          "Undergraduate enrollment": 440
         },
         {
          "Institution Name": "Hickey College",
          "Latitude": 38.709638,
          "Longitude": -90.407513,
          "Undergraduate enrollment": 246
         },
         {
          "Institution Name": "High Point University",
          "Latitude": 35.972035,
          "Longitude": -79.994675,
          "Undergraduate enrollment": 4467
         },
         {
          "Institution Name": "High Tech High Graduate School of Education",
          "Latitude": 32.732001000000004,
          "Longitude": -117.217661,
          "Undergraduate enrollment": 0
         },
         {
          "Institution Name": "Highline College",
          "Latitude": 47.388231,
          "Longitude": -122.303064,
          "Undergraduate enrollment": 6824
         },
         {
          "Institution Name": "Hilbert College",
          "Latitude": 42.75464,
          "Longitude": -78.820257,
          "Undergraduate enrollment": 746
         },
         {
          "Institution Name": "Hiram College",
          "Latitude": 41.3107,
          "Longitude": -81.14398100000003,
          "Undergraduate enrollment": 1210
         },
         {
          "Institution Name": "Hiwassee College",
          "Latitude": 35.558912,
          "Longitude": -84.36411700000002,
          "Undergraduate enrollment": 302
         },
         {
          "Institution Name": "Hobart William Smith Colleges",
          "Latitude": 42.858131,
          "Longitude": -76.985516,
          "Undergraduate enrollment": 2237
         },
         {
          "Institution Name": "Hobe Sound Bible College",
          "Latitude": 27.066304,
          "Longitude": -80.13184,
          "Undergraduate enrollment": 233
         },
         {
          "Institution Name": "Hodges University",
          "Latitude": 26.27591,
          "Longitude": -81.738388,
          "Undergraduate enrollment": 1078
         },
         {
          "Institution Name": "Hofstra University",
          "Latitude": 40.71595900000001,
          "Longitude": -73.60078,
          "Undergraduate enrollment": 6861
         },
         {
          "Institution Name": "Hollins University",
          "Latitude": 37.354201,
          "Longitude": -79.943277,
          "Undergraduate enrollment": 645
         },
         {
          "Institution Name": "Holy Apostles College and Seminary",
          "Latitude": 41.60682,
          "Longitude": -72.647853,
          "Undergraduate enrollment": 164
         },
         {
          "Institution Name": "Holy Cross College",
          "Latitude": 41.698996,
          "Longitude": -86.253822,
          "Undergraduate enrollment": 557
         },
         {
          "Institution Name": "Holy Family University",
          "Latitude": 40.060581,
          "Longitude": -74.986451,
          "Undergraduate enrollment": 2093
         },
         {
          "Institution Name": "Holy Names University",
          "Latitude": 37.802276,
          "Longitude": -122.187804,
          "Undergraduate enrollment": 591
         },
         {
          "Institution Name": "Homestead Schools",
          "Latitude": 33.809096000000004,
          "Longitude": -118.35009,
          "Undergraduate enrollment": 150
         },
         {
          "Institution Name": "Hondros College of Nursing",
          "Latitude": 40.084407,
          "Longitude": -82.901039,
          "Undergraduate enrollment": 2093
         },
         {
          "Institution Name": "Hood College",
          "Latitude": 39.420631,
          "Longitude": -77.419049,
          "Undergraduate enrollment": 1128
         },
         {
          "Institution Name": "Hood Theological Seminary",
          "Latitude": 35.64460300000001,
          "Longitude": -80.480643,
          "Undergraduate enrollment": 0
         },
         {
          "Institution Name": "Hope College",
          "Latitude": 42.787298,
          "Longitude": -86.102089,
          "Undergraduate enrollment": 3150
         },
         {
          "Institution Name": "Hope College of Arts and Sciences",
          "Latitude": 26.226156,
          "Longitude": -80.13967099999998,
          "Undergraduate enrollment": 120
         },
         {
          "Institution Name": "Hope International University",
          "Latitude": 33.87616,
          "Longitude": -117.88573,
          "Undergraduate enrollment": 868
         },
         {
          "Institution Name": "Horizon University",
          "Latitude": 39.894654,
          "Longitude": -85.986809,
          "Undergraduate enrollment": 16
         },
         {
          "Institution Name": "Houghton College",
          "Latitude": 42.426137,
          "Longitude": -78.155426,
          "Undergraduate enrollment": 1030
         },
         {
          "Institution Name": "Houston Baptist University",
          "Latitude": 29.693819,
          "Longitude": -95.515954,
          "Undergraduate enrollment": 2316
         },
         {
          "Institution Name": "Houston Graduate School of Theology",
          "Latitude": 29.673594,
          "Longitude": -95.448846,
          "Undergraduate enrollment": 0
         },
         {
          "Institution Name": "Howard Payne University",
          "Latitude": 31.716467,
          "Longitude": -98.985204,
          "Undergraduate enrollment": 981
         },
         {
          "Institution Name": "Howard University",
          "Latitude": 38.922392,
          "Longitude": -77.018966,
          "Undergraduate enrollment": 6354
         },
         {
          "Institution Name": "Hult International Business School",
          "Latitude": 42.369968,
          "Longitude": -71.070645,
          "Undergraduate enrollment": 512
         },
         {
          "Institution Name": "Humboldt State University",
          "Latitude": 40.877481,
          "Longitude": -124.078293,
          "Undergraduate enrollment": 7862
         },
         {
          "Institution Name": "Humphreys University-Stockton and Modesto Campuses",
          "Latitude": 38.011051,
          "Longitude": -121.316401,
          "Undergraduate enrollment": 324
         },
         {
          "Institution Name": "Huntingdon College",
          "Latitude": 32.35103400000001,
          "Longitude": -86.284366,
          "Undergraduate enrollment": 1102
         },
         {
          "Institution Name": "Huntington College of Health Sciences",
          "Latitude": 36.02788,
          "Longitude": -83.993531,
          "Undergraduate enrollment": 144
         },
         {
          "Institution Name": "Huntington University",
          "Latitude": 40.898152,
          "Longitude": -85.49731700000002,
          "Undergraduate enrollment": 1076
         },
         {
          "Institution Name": "Huntsville Bible College",
          "Latitude": 34.750363,
          "Longitude": -86.594888,
          "Undergraduate enrollment": 118
         },
         {
          "Institution Name": "Hussian College School of Art",
          "Latitude": 39.962505,
          "Longitude": -75.164185,
          "Undergraduate enrollment": 52
         },
         {
          "Institution Name": "Hussian College-Relativity Campus California",
          "Latitude": 34.054877000000005,
          "Longitude": -118.26069,
          "Undergraduate enrollment": 199
         },
         {
          "Institution Name": "Husson University",
          "Latitude": 44.829002,
          "Longitude": -68.791476,
          "Undergraduate enrollment": 2768
         },
         {
          "Institution Name": "Huston-Tillotson University",
          "Latitude": 30.264672,
          "Longitude": -97.721698,
          "Undergraduate enrollment": 1052
         },
         {
          "Institution Name": "Icahn School of Medicine at Mount Sinai",
          "Latitude": 40.790063,
          "Longitude": -73.952812,
          "Undergraduate enrollment": 0
         },
         {
          "Institution Name": "Idaho State University",
          "Latitude": 42.863832,
          "Longitude": -112.432312,
          "Undergraduate enrollment": 10557
         },
         {
          "Institution Name": "IGlobal University",
          "Latitude": 38.915226,
          "Longitude": -77.227315,
          "Undergraduate enrollment": 74
         },
         {
          "Institution Name": "Iliff School of Theology",
          "Latitude": 39.675927,
          "Longitude": -104.960657,
          "Undergraduate enrollment": 0
         },
         {
          "Institution Name": "Ilisagvik College",
          "Latitude": 71.324702,
          "Longitude": -156.679486,
          "Undergraduate enrollment": 111
         },
         {
          "Institution Name": "Illinois College",
          "Latitude": 39.7313,
          "Longitude": -90.246171,
          "Undergraduate enrollment": 959
         },
         {
          "Institution Name": "Illinois College of Optometry",
          "Latitude": 41.835447,
          "Longitude": -87.623016,
          "Undergraduate enrollment": 0
         },
         {
          "Institution Name": "Illinois Institute of Technology",
          "Latitude": 41.8313,
          "Longitude": -87.627321,
          "Undergraduate enrollment": 2900
         },
         {
          "Institution Name": "Illinois State University",
          "Latitude": 40.509403000000006,
          "Longitude": -88.99005799999998,
          "Undergraduate enrollment": 18330
         },
         {
          "Institution Name": "Illinois Wesleyan University",
          "Latitude": 40.489901,
          "Longitude": -88.992014,
          "Undergraduate enrollment": 1649
         },
         {
          "Institution Name": "Immaculata University",
          "Latitude": 40.027981,
          "Longitude": -75.570711,
          "Undergraduate enrollment": 1482
         },
         {
          "Institution Name": "Independence University",
          "Latitude": 41.232785,
          "Longitude": -112.011508,
          "Undergraduate enrollment": 8278
         },
         {
          "Institution Name": "Indian River State College",
          "Latitude": 27.42416,
          "Longitude": -80.358682,
          "Undergraduate enrollment": 17598
         },
         {
          "Institution Name": "Indiana Institute of Technology",
          "Latitude": 41.07836500000001,
          "Longitude": -85.116479,
          "Undergraduate enrollment": 7073
         },
         {
          "Institution Name": "Indiana State University",
          "Latitude": 39.469073,
          "Longitude": -87.40784599999998,
          "Undergraduate enrollment": 11583
         },
         {
          "Institution Name": "Indiana University of Pennsylvania-Main Campus",
          "Latitude": 40.617531,
          "Longitude": -79.15933199999998,
          "Undergraduate enrollment": 10258
         },
         {
          "Institution Name": "Indiana University-Bloomington",
          "Latitude": 39.16609,
          "Longitude": -86.52655899999998,
          "Undergraduate enrollment": 33429
         },
         {
          "Institution Name": "Indiana University-East",
          "Latitude": 39.868707,
          "Longitude": -84.881923,
          "Undergraduate enrollment": 3292
         },
         {
          "Institution Name": "Indiana University-Kokomo",
          "Latitude": 40.460062,
          "Longitude": -86.132048,
          "Undergraduate enrollment": 2876
         },
         {
          "Institution Name": "Indiana University-Northwest",
          "Latitude": 41.557324,
          "Longitude": -87.337249,
          "Undergraduate enrollment": 3700
         },
         {
          "Institution Name": "Indiana University-Purdue University-Fort Wayne",
          "Latitude": 41.117278000000006,
          "Longitude": -85.108962,
          "Undergraduate enrollment": 9957
         },
         {
          "Institution Name": "Indiana University-Purdue University-Indianapolis",
          "Latitude": 39.772948,
          "Longitude": -86.172217,
          "Undergraduate enrollment": 21610
         },
         {
          "Institution Name": "Indiana University-South Bend",
          "Latitude": 41.665324,
          "Longitude": -86.221991,
          "Undergraduate enrollment": 4876
         },
         {
          "Institution Name": "Indiana University-Southeast",
          "Latitude": 38.345191,
          "Longitude": -85.819985,
          "Undergraduate enrollment": 4823
         },
         {
          "Institution Name": "Indiana Wesleyan University-Marion",
          "Latitude": 40.517937,
          "Longitude": -85.667503,
          "Undergraduate enrollment": 2799
         },
         {
          "Institution Name": "Indiana Wesleyan University-National & Global",
          "Latitude": 40.510655,
          "Longitude": -85.67764100000002,
          "Undergraduate enrollment": 6575
         },
         {
          "Institution Name": "Institute for Clinical Social Work",
          "Latitude": 41.876064,
          "Longitude": -87.627217,
          "Undergraduate enrollment": 0
         },
         {
          "Institution Name": "Institute for Doctoral Studies in the Visual Arts",
          "Latitude": 43.65405,
          "Longitude": -70.272161,
          "Undergraduate enrollment": 0
         },
         {
          "Institution Name": "Institute of American Indian and Alaska Native Culture and Arts Development",
          "Latitude": 35.586563,
          "Longitude": -106.010015,
          "Undergraduate enrollment": 609
         },
         {
          "Institution Name": "Institute of Clinical Acupuncture & Oriental Med",
          "Latitude": 21.313602,
          "Longitude": -157.86111,
          "Undergraduate enrollment": 0
         },
         {
          "Institution Name": "Institute of Production and Recording",
          "Latitude": 44.982063,
          "Longitude": -93.272011,
          "Undergraduate enrollment": 212
         },
         {
          "Institution Name": "Institute of Taoist Education and Acupuncture",
          "Latitude": 39.987288,
          "Longitude": -105.139444,
          "Undergraduate enrollment": 0
         },
         {
          "Institution Name": "Institute of World Politics",
          "Latitude": 38.910537,
          "Longitude": -77.036112,
          "Undergraduate enrollment": 0
         },
         {
          "Institution Name": "Interdenominational Theological Center",
          "Latitude": 33.752338,
          "Longitude": -84.409207,
          "Undergraduate enrollment": 0
         },
         {
          "Institution Name": "Interior Designers Institute",
          "Latitude": 33.641393,
          "Longitude": -117.865722,
          "Undergraduate enrollment": 208
         },
         {
          "Institution Name": "International Baptist College and Seminary",
          "Latitude": 33.273788,
          "Longitude": -111.879629,
          "Undergraduate enrollment": 63
         },
         {
          "Institution Name": "International Business College-Fort Wayne",
          "Latitude": 41.035006,
          "Longitude": -85.257786,
          "Undergraduate enrollment": 244
         },
         {
          "Institution Name": "Iona College",
          "Latitude": 40.925725,
          "Longitude": -73.788046,
          "Undergraduate enrollment": 3178
         },
         {
          "Institution Name": "Iowa State University",
          "Latitude": 42.026212,
          "Longitude": -93.648504,
          "Undergraduate enrollment": 30571
         },
         {
          "Institution Name": "Iowa Wesleyan University",
          "Latitude": 40.973791,
          "Longitude": -91.552459,
          "Undergraduate enrollment": 628
         },
         {
          "Institution Name": "Ithaca College",
          "Latitude": 42.422154,
          "Longitude": -76.494136,
          "Undergraduate enrollment": 6059
         },
         {
          "Institution Name": "Jackson College",
          "Latitude": 42.16483,
          "Longitude": -84.403942,
          "Undergraduate enrollment": 4798
         },
         {
          "Institution Name": "Jackson State University",
          "Latitude": 32.296105,
          "Longitude": -90.207405,
          "Undergraduate enrollment": 6500
         },
         {
          "Institution Name": "Jacksonville State University",
          "Latitude": 33.822938,
          "Longitude": -85.765321,
          "Undergraduate enrollment": 7491
         },
         {
          "Institution Name": "Jacksonville University",
          "Latitude": 30.353227,
          "Longitude": -81.60458,
          "Undergraduate enrollment": 2877
         },
         {
          "Institution Name": "James Madison University",
          "Latitude": 38.436311,
          "Longitude": -78.87048399999998,
          "Undergraduate enrollment": 19975
         },
         {
          "Institution Name": "Jamestown Business College",
          "Latitude": 42.095452,
          "Longitude": -79.249601,
          "Undergraduate enrollment": 323
         },
         {
          "Institution Name": "Jarvis Christian College",
          "Latitude": 32.587942,
          "Longitude": -95.181513,
          "Undergraduate enrollment": 909
         },
         {
          "Institution Name": "Jefferson (Philadelphia University + Thomas Jefferson University)",
          "Latitude": 40.022882,
          "Longitude": -75.192645,
          "Undergraduate enrollment": 2685
         },
         {
          "Institution Name": "Jefferson College of Health Sciences",
          "Latitude": 37.265985,
          "Longitude": -79.939574,
          "Undergraduate enrollment": 775
         },
         {
          "Institution Name": "Jewish Theological Seminary of America",
          "Latitude": 40.811892,
          "Longitude": -73.96058199999997,
          "Undergraduate enrollment": 158
         },
         {
          "Institution Name": "John Brown University",
          "Latitude": 36.189812,
          "Longitude": -94.560283,
          "Undergraduate enrollment": 1972
         },
         {
          "Institution Name": "John Carroll University",
          "Latitude": 41.491321,
          "Longitude": -81.531338,
          "Undergraduate enrollment": 3080
         },
         {
          "Institution Name": "John F. Kennedy University",
          "Latitude": 37.956616,
          "Longitude": -122.054761,
          "Undergraduate enrollment": 96
         },
         {
          "Institution Name": "John Paul the Great Catholic University",
          "Latitude": 33.12085,
          "Longitude": -117.082401,
          "Undergraduate enrollment": 260
         },
         {
          "Institution Name": "John Wesley University",
          "Latitude": 35.994259,
          "Longitude": -79.998419,
          "Undergraduate enrollment": 135
         },
         {
          "Institution Name": "Johns Hopkins University",
          "Latitude": 39.328977,
          "Longitude": -76.621595,
          "Undergraduate enrollment": 6109
         },
         {
          "Institution Name": "Johnson & Wales University-Charlotte",
          "Latitude": 35.233502,
          "Longitude": -80.851208,
          "Undergraduate enrollment": 1892
         },
         {
          "Institution Name": "Johnson & Wales University-Denver",
          "Latitude": 39.746101,
          "Longitude": -104.906281,
          "Undergraduate enrollment": 1118
         },
         {
          "Institution Name": "Johnson & Wales University-North Miami",
          "Latitude": 25.894337,
          "Longitude": -80.164797,
          "Undergraduate enrollment": 1453
         },
         {
          "Institution Name": "Johnson & Wales University-Online",
          "Latitude": 41.819956,
          "Longitude": -71.41277,
          "Undergraduate enrollment": 688
         },
         {
          "Institution Name": "Johnson & Wales University-Providence",
          "Latitude": 41.819956,
          "Longitude": -71.41277,
          "Undergraduate enrollment": 7710
         },
         {
          "Institution Name": "Johnson C Smith University",
          "Latitude": 35.24303300000001,
          "Longitude": -80.857251,
          "Undergraduate enrollment": 1394
         },
         {
          "Institution Name": "Johnson State College",
          "Latitude": 44.641736,
          "Longitude": -72.671154,
          "Undergraduate enrollment": 1379
         },
         {
          "Institution Name": "Johnson University",
          "Latitude": 35.93715200000001,
          "Longitude": -83.750336,
          "Undergraduate enrollment": 814
         },
         {
          "Institution Name": "Johnson University Florida",
          "Latitude": 28.302547,
          "Longitude": -81.36305300000002,
          "Undergraduate enrollment": 182
         },
         {
          "Institution Name": "Jose Maria Vargas University",
          "Latitude": 26.009656,
          "Longitude": -80.281548,
          "Undergraduate enrollment": 310
         },
         {
          "Institution Name": "Judson College",
          "Latitude": 32.62925300000001,
          "Longitude": -87.315206,
          "Undergraduate enrollment": 315
         },
         {
          "Institution Name": "Judson University",
          "Latitude": 42.061754,
          "Longitude": -88.291336,
          "Undergraduate enrollment": 1081
         },
         {
          "Institution Name": "Jung Tao School of Classical Chinese Medicine",
          "Latitude": 36.263233,
          "Longitude": -81.785303,
          "Undergraduate enrollment": 0
         },
         {
          "Institution Name": "Juniata College",
          "Latitude": 40.500523,
          "Longitude": -78.017292,
          "Undergraduate enrollment": 1485
         },
         {
          "Institution Name": "Kalamazoo College",
          "Latitude": 42.290789,
          "Longitude": -85.601857,
          "Undergraduate enrollment": 1436
         },
         {
          "Institution Name": "Kansas Christian College",
          "Latitude": 38.994848,
          "Longitude": -94.666878,
          "Undergraduate enrollment": 141
         },
         {
          "Institution Name": "Kansas City Art Institute",
          "Latitude": 39.046353,
          "Longitude": -94.583594,
          "Undergraduate enrollment": 663
         },
         {
          "Institution Name": "Kansas City University of Medicine and Biosciences",
          "Latitude": 39.107553,
          "Longitude": -94.561374,
          "Undergraduate enrollment": 0
         },
         {
          "Institution Name": "Kansas City University of Medicine and Biosciences-Joplin",
          "Latitude": 37.057686,
          "Longitude": -94.527028,
          "Undergraduate enrollment": 0
         },
         {
          "Institution Name": "Kansas State University",
          "Latitude": 39.188648,
          "Longitude": -96.581077,
          "Undergraduate enrollment": 18488
         },
         {
          "Institution Name": "Kansas Wesleyan University",
          "Latitude": 38.813795,
          "Longitude": -97.607973,
          "Undergraduate enrollment": 693
         },
         {
          "Institution Name": "Kaplan University-Augusta Campus",
          "Latitude": 44.340912,
          "Longitude": -69.78978599999999,
          "Undergraduate enrollment": 427
         },
         {
          "Institution Name": "Kaplan University-Cedar Falls Campus",
          "Latitude": 42.474593,
          "Longitude": -92.448419,
          "Undergraduate enrollment": 214
         },
         {
          "Institution Name": "Kaplan University-Cedar Rapids Campus",
          "Latitude": 41.949597,
          "Longitude": -91.713507,
          "Undergraduate enrollment": 419
         },
         {
          "Institution Name": "Kaplan University-Davenport Campus",
          "Latitude": 41.555024,
          "Longitude": -90.550682,
          "Undergraduate enrollment": 25488
         },
         {
          "Institution Name": "Kaplan University-Des Moines Campus",
          "Latitude": 41.64517100000001,
          "Longitude": -93.778426,
          "Undergraduate enrollment": 657
         },
         {
          "Institution Name": "Kaplan University-Hagerstown Campus",
          "Latitude": 39.6729,
          "Longitude": -77.722799,
          "Undergraduate enrollment": 470
         },
         {
          "Institution Name": "Kaplan University-Indianapolis",
          "Latitude": 39.91844,
          "Longitude": -86.109501,
          "Undergraduate enrollment": 531
         },
         {
          "Institution Name": "Kaplan University-Lincoln Campus",
          "Latitude": 40.808915,
          "Longitude": -96.694181,
          "Undergraduate enrollment": 260
         },
         {
          "Institution Name": "Kaplan University-Maine Campus",
          "Latitude": 43.638956,
          "Longitude": -70.323915,
          "Undergraduate enrollment": 517
         },
         {
          "Institution Name": "Kaplan University-Mason City Campus",
          "Latitude": 43.149615,
          "Longitude": -93.238946,
          "Undergraduate enrollment": 133
         },
         {
          "Institution Name": "Kaplan University-Milwaukee",
          "Latitude": 43.038608,
          "Longitude": -87.913354,
          "Undergraduate enrollment": 283
         },
         {
          "Institution Name": "Kaplan University-Omaha Campus",
          "Latitude": 41.30951500000001,
          "Longitude": -96.072772,
          "Undergraduate enrollment": 391
         },
         {
          "Institution Name": "Kaplan University-St. Louis",
          "Latitude": 38.690763,
          "Longitude": -90.449121,
          "Undergraduate enrollment": 273
         },
         {
          "Institution Name": "Kean University",
          "Latitude": 40.677981,
          "Longitude": -74.233503,
          "Undergraduate enrollment": 11984
         },
         {
          "Institution Name": "Keck Graduate Institute",
          "Latitude": 34.093329,
          "Longitude": -117.72351,
          "Undergraduate enrollment": 0
         },
         {
          "Institution Name": "Keene State College",
          "Latitude": 42.92645200000001,
          "Longitude": -72.279276,
          "Undergraduate enrollment": 3780
         },
         {
          "Institution Name": "Kehilath Yakov Rabbinical Seminary",
          "Latitude": 41.22052100000001,
          "Longitude": -73.814887,
          "Undergraduate enrollment": 159
         },
         {
          "Institution Name": "Keiser University-Ft Lauderdale",
          "Latitude": 26.185869,
          "Longitude": -80.16395899999998,
          "Undergraduate enrollment": 16760
         },
         {
          "Institution Name": "Kendall College",
          "Latitude": 41.898756,
          "Longitude": -87.64893599999998,
          "Undergraduate enrollment": 1027
         },
         {
          "Institution Name": "Kennesaw State University",
          "Latitude": 34.038807,
          "Longitude": -84.583052,
          "Undergraduate enrollment": 32945
         },
         {
          "Institution Name": "Kenrick Glennon Seminary",
          "Latitude": 38.584608,
          "Longitude": -90.324024,
          "Undergraduate enrollment": 50
         },
         {
          "Institution Name": "Kent State University at Ashtabula",
          "Latitude": 41.888296,
          "Longitude": -80.830377,
          "Undergraduate enrollment": 1971
         },
         {
          "Institution Name": "Kent State University at East Liverpool",
          "Latitude": 40.616966,
          "Longitude": -80.576702,
          "Undergraduate enrollment": 1174
         },
         {
          "Institution Name": "Kent State University at Geauga",
          "Latitude": 41.483727,
          "Longitude": -81.143085,
          "Undergraduate enrollment": 2247
         },
         {
          "Institution Name": "Kent State University at Kent",
          "Latitude": 41.146653,
          "Longitude": -81.34253299999997,
          "Undergraduate enrollment": 23178
         },
         {
          "Institution Name": "Kent State University at Salem",
          "Latitude": 40.86408,
          "Longitude": -80.835458,
          "Undergraduate enrollment": 1694
         },
         {
          "Institution Name": "Kent State University at Stark",
          "Latitude": 40.868568,
          "Longitude": -81.43731,
          "Undergraduate enrollment": 4995
         },
         {
          "Institution Name": "Kent State University at Trumbull",
          "Latitude": 41.278748,
          "Longitude": -80.836233,
          "Undergraduate enrollment": 2277
         },
         {
          "Institution Name": "Kent State University at Tuscarawas",
          "Latitude": 40.467736,
          "Longitude": -81.40770699999999,
          "Undergraduate enrollment": 2131
         },
         {
          "Institution Name": "Kentucky Christian University",
          "Latitude": 38.338805,
          "Longitude": -82.945561,
          "Undergraduate enrollment": 592
         },
         {
          "Institution Name": "Kentucky Mountain Bible College",
          "Latitude": 37.603443,
          "Longitude": -83.438765,
          "Undergraduate enrollment": 83
         },
         {
          "Institution Name": "Kentucky State University",
          "Latitude": 38.201427,
          "Longitude": -84.855402,
          "Undergraduate enrollment": 1757
         },
         {
          "Institution Name": "Kentucky Wesleyan College",
          "Latitude": 37.744489,
          "Longitude": -87.119658,
          "Undergraduate enrollment": 716
         },
         {
          "Institution Name": "Kenyon College",
          "Latitude": 40.374408,
          "Longitude": -82.397977,
          "Undergraduate enrollment": 1677
         },
         {
          "Institution Name": "Kettering College",
          "Latitude": 39.695052,
          "Longitude": -84.192006,
          "Undergraduate enrollment": 632
         },
         {
          "Institution Name": "Kettering University",
          "Latitude": 43.012468,
          "Longitude": -83.71282,
          "Undergraduate enrollment": 1889
         },
         {
          "Institution Name": "Keuka College",
          "Latitude": 42.615253,
          "Longitude": -77.090562,
          "Undergraduate enrollment": 1647
         },
         {
          "Institution Name": "Key College",
          "Latitude": 26.138855,
          "Longitude": -80.114145,
          "Undergraduate enrollment": 60
         },
         {
          "Institution Name": "Keystone College",
          "Latitude": 41.558969,
          "Longitude": -75.777456,
          "Undergraduate enrollment": 1456
         },
         {
          "Institution Name": "King University",
          "Latitude": 36.585309,
          "Longitude": -82.159421,
          "Undergraduate enrollment": 1799
         },
         {
          "Institution Name": "King's College",
          "Latitude": 41.250097,
          "Longitude": -75.87982199999998,
          "Undergraduate enrollment": 2198
         },
         {
          "Institution Name": "Knox College",
          "Latitude": 40.943064,
          "Longitude": -90.373165,
          "Undergraduate enrollment": 1356
         },
         {
          "Institution Name": "Kutztown University of Pennsylvania",
          "Latitude": 40.513561,
          "Longitude": -75.78393299999998,
          "Undergraduate enrollment": 7489
         },
         {
          "Institution Name": "Kuyper College",
          "Latitude": 43.02195,
          "Longitude": -85.59265699999997,
          "Undergraduate enrollment": 184
         },
         {
          "Institution Name": "La Roche College",
          "Latitude": 40.568615,
          "Longitude": -80.01485100000002,
          "Undergraduate enrollment": 1378
         },
         {
          "Institution Name": "La Salle University",
          "Latitude": 40.037979,
          "Longitude": -75.153061,
          "Undergraduate enrollment": 3821
         },
         {
          "Institution Name": "La Sierra University",
          "Latitude": 33.910704,
          "Longitude": -117.500054,
          "Undergraduate enrollment": 2029
         },
         {
          "Institution Name": "Laboure College",
          "Latitude": 42.260866,
          "Longitude": -71.058279,
          "Undergraduate enrollment": 870
         },
         {
          "Institution Name": "Lackawanna College",
          "Latitude": 41.411556,
          "Longitude": -75.658963,
          "Undergraduate enrollment": 1604
         },
         {
          "Institution Name": "Lafayette College",
          "Latitude": 40.69956,
          "Longitude": -75.209786,
          "Undergraduate enrollment": 2594
         },
         {
          "Institution Name": "LaGrange College",
          "Latitude": 33.038564,
          "Longitude": -85.043113,
          "Undergraduate enrollment": 937
         },
         {
          "Institution Name": "Laguna College of Art and Design",
          "Latitude": 33.561448,
          "Longitude": -117.772564,
          "Undergraduate enrollment": 636
         },
         {
          "Institution Name": "Lake Erie College",
          "Latitude": 41.717841,
          "Longitude": -81.251817,
          "Undergraduate enrollment": 955
         },
         {
          "Institution Name": "Lake Erie College of Osteopathic Medicine",
          "Latitude": 42.080699,
          "Longitude": -80.10596899999999,
          "Undergraduate enrollment": 0
         },
         {
          "Institution Name": "Lake Forest College",
          "Latitude": 42.249574,
          "Longitude": -87.827454,
          "Undergraduate enrollment": 1508
         },
         {
          "Institution Name": "Lake Forest Graduate School of Management",
          "Latitude": 42.243432,
          "Longitude": -87.893204,
          "Undergraduate enrollment": 0
         },
         {
          "Institution Name": "Lake Michigan College",
          "Latitude": 42.097276,
          "Longitude": -86.393445,
          "Undergraduate enrollment": 3477
         },
         {
          "Institution Name": "Lake Superior State University",
          "Latitude": 46.492849,
          "Longitude": -84.365573,
          "Undergraduate enrollment": 1963
         },
         {
          "Institution Name": "Lake Washington Institute of Technology",
          "Latitude": 47.705077,
          "Longitude": -122.167131,
          "Undergraduate enrollment": 3697
         },
         {
          "Institution Name": "Lake-Sumter State College",
          "Latitude": 28.828649,
          "Longitude": -81.79719300000002,
          "Undergraduate enrollment": 4881
         },
         {
          "Institution Name": "Lakeland University",
          "Latitude": 43.841573,
          "Longitude": -87.883414,
          "Undergraduate enrollment": 1998
         },
         {
          "Institution Name": "Lakeview College of Nursing",
          "Latitude": 40.13855,
          "Longitude": -87.644379,
          "Undergraduate enrollment": 223
         },
         {
          "Institution Name": "Lamar University",
          "Latitude": 30.042738,
          "Longitude": -94.072244,
          "Undergraduate enrollment": 9268
         },
         {
          "Institution Name": "Lancaster Bible College",
          "Latitude": 40.075347,
          "Longitude": -76.287761,
          "Undergraduate enrollment": 1791
         },
         {
          "Institution Name": "Lancaster Theological Seminary",
          "Latitude": 40.045235,
          "Longitude": -76.317631,
          "Undergraduate enrollment": 0
         },
         {
          "Institution Name": "Lander University",
          "Latitude": 34.199892,
          "Longitude": -82.164736,
          "Undergraduate enrollment": 2787
         },
         {
          "Institution Name": "Landmark College",
          "Latitude": 42.977172,
          "Longitude": -72.51254899999998,
          "Undergraduate enrollment": 461
         },
         {
          "Institution Name": "Lane College",
          "Latitude": 35.627378,
          "Longitude": -88.806535,
          "Undergraduate enrollment": 1420
         },
         {
          "Institution Name": "Langston University",
          "Latitude": 35.943982,
          "Longitude": -97.260317,
          "Undergraduate enrollment": 2033
         },
         {
          "Institution Name": "Lasell College",
          "Latitude": 42.342148,
          "Longitude": -71.24347,
          "Undergraduate enrollment": 1731
         },
         {
          "Institution Name": "Lawrence Technological University",
          "Latitude": 42.474072,
          "Longitude": -83.25003000000002,
          "Undergraduate enrollment": 2191
         },
         {
          "Institution Name": "Lawrence University",
          "Latitude": 44.261323,
          "Longitude": -88.39782199999998,
          "Undergraduate enrollment": 1467
         },
         {
          "Institution Name": "Le Moyne College",
          "Latitude": 43.049192,
          "Longitude": -76.090435,
          "Undergraduate enrollment": 2788
         },
         {
          "Institution Name": "Le Moyne-Owen College",
          "Latitude": 35.118641,
          "Longitude": -90.034101,
          "Undergraduate enrollment": 863
         },
         {
          "Institution Name": "Lebanon Valley College",
          "Latitude": 40.330604,
          "Longitude": -76.514431,
          "Undergraduate enrollment": 1756
         },
         {
          "Institution Name": "Lee University",
          "Latitude": 35.166166,
          "Longitude": -84.870018,
          "Undergraduate enrollment": 4860
         },
         {
          "Institution Name": "Lees-McRae College",
          "Latitude": 36.162477,
          "Longitude": -81.87337099999998,
          "Undergraduate enrollment": 921
         },
         {
          "Institution Name": "Lehigh University",
          "Latitude": 40.606822,
          "Longitude": -75.380236,
          "Undergraduate enrollment": 5075
         },
         {
          "Institution Name": "Lenoir-Rhyne University",
          "Latitude": 35.739968,
          "Longitude": -81.327598,
          "Undergraduate enrollment": 1699
         },
         {
          "Institution Name": "Lesley University",
          "Latitude": 42.38012,
          "Longitude": -71.117303,
          "Undergraduate enrollment": 2096
         },
         {
          "Institution Name": "LeTourneau University",
          "Latitude": 32.467658,
          "Longitude": -94.72726,
          "Undergraduate enrollment": 2611
         },
         {
          "Institution Name": "Lewis & Clark College",
          "Latitude": 45.450882,
          "Longitude": -122.669137,
          "Undergraduate enrollment": 2106
         },
         {
          "Institution Name": "Lewis University",
          "Latitude": 41.605432,
          "Longitude": -88.079032,
          "Undergraduate enrollment": 4506
         },
         {
          "Institution Name": "Lewis-Clark State College",
          "Latitude": 46.412199,
          "Longitude": -117.024875,
          "Undergraduate enrollment": 3746
         },
         {
          "Institution Name": "Lexington Theological Seminary",
          "Latitude": 37.996332,
          "Longitude": -84.52607900000002,
          "Undergraduate enrollment": 0
         },
         {
          "Institution Name": "Liberty University",
          "Latitude": 37.350232,
          "Longitude": -79.18222,
          "Undergraduate enrollment": 45754
         },
         {
          "Institution Name": "Life Chiropractic College West",
          "Latitude": 37.638099,
          "Longitude": -122.117619,
          "Undergraduate enrollment": 0
         },
         {
          "Institution Name": "Life Pacific College",
          "Latitude": 34.098704999999995,
          "Longitude": -117.829388,
          "Undergraduate enrollment": 520
         },
         {
          "Institution Name": "Life University",
          "Latitude": 33.932781,
          "Longitude": -84.514729,
          "Undergraduate enrollment": 755
         },
         {
          "Institution Name": "LIM College",
          "Latitude": 40.75986500000001,
          "Longitude": -73.975054,
          "Undergraduate enrollment": 1427
         },
         {
          "Institution Name": "Limestone College",
          "Latitude": 35.057076,
          "Longitude": -81.64916099999998,
          "Undergraduate enrollment": 2597
         },
         {
          "Institution Name": "Lincoln Christian University",
          "Latitude": 40.148924,
          "Longitude": -89.346721,
          "Undergraduate enrollment": 466
         },
         {
          "Institution Name": "Lincoln College",
          "Latitude": 40.155442,
          "Longitude": -89.36153,
          "Undergraduate enrollment": 1121
         },
         {
          "Institution Name": "Lincoln College of New England-Southington",
          "Latitude": 41.632345,
          "Longitude": -72.92021700000002,
          "Undergraduate enrollment": 465
         },
         {
          "Institution Name": "Lincoln Memorial University",
          "Latitude": 36.578508,
          "Longitude": -83.660198,
          "Undergraduate enrollment": 1919
         },
         {
          "Institution Name": "Lincoln University",
          "Latitude": 37.804788,
          "Longitude": -122.269745,
          "Undergraduate enrollment": 107
         },
         {
          "Institution Name": "Lincoln University",
          "Latitude": 38.564431,
          "Longitude": -92.166724,
          "Undergraduate enrollment": 2512
         },
         {
          "Institution Name": "Lincoln University",
          "Latitude": 39.807723,
          "Longitude": -75.926458,
          "Undergraduate enrollment": 2002
         },
         {
          "Institution Name": "Lindenwood University",
          "Latitude": 38.785425,
          "Longitude": -90.501286,
          "Undergraduate enrollment": 6928
         },
         {
          "Institution Name": "Lindsey Wilson College",
          "Latitude": 37.101502,
          "Longitude": -85.29999699999998,
          "Undergraduate enrollment": 2068
         },
         {
          "Institution Name": "Linfield College-McMinnville Campus",
          "Latitude": 45.201173,
          "Longitude": -123.199642,
          "Undergraduate enrollment": 1535
         },
         {
          "Institution Name": "Linfield College-School of Nursing",
          "Latitude": 45.531476,
          "Longitude": -122.697773,
          "Undergraduate enrollment": 344
         },
         {
          "Institution Name": "Lipscomb University",
          "Latitude": 36.10469000000001,
          "Longitude": -86.799304,
          "Undergraduate enrollment": 2987
         },
         {
          "Institution Name": "LIU Brentwood",
          "Latitude": 40.799667,
          "Longitude": -73.26977099999998,
          "Undergraduate enrollment": 1
         },
         {
          "Institution Name": "LIU Brooklyn",
          "Latitude": 40.690677,
          "Longitude": -73.98112900000002,
          "Undergraduate enrollment": 3945
         },
         {
          "Institution Name": "LIU Hudson at Westchester",
          "Latitude": 41.048648,
          "Longitude": -73.705238,
          "Undergraduate enrollment": 0
         },
         {
          "Institution Name": "LIU Post",
          "Latitude": 40.820714,
          "Longitude": -73.593678,
          "Undergraduate enrollment": 6316
         },
         {
          "Institution Name": "LIU Riverhead",
          "Latitude": 40.876143,
          "Longitude": -72.6991,
          "Undergraduate enrollment": 28
         },
         {
          "Institution Name": "Living Arts College",
          "Latitude": 35.942892,
          "Longitude": -78.555726,
          "Undergraduate enrollment": 263
         },
         {
          "Institution Name": "Livingstone College",
          "Latitude": 35.67087700000001,
          "Longitude": -80.483956,
          "Undergraduate enrollment": 1150
         },
         {
          "Institution Name": "Lock Haven University",
          "Latitude": 41.141517,
          "Longitude": -77.46010799999998,
          "Undergraduate enrollment": 3472
         },
         {
          "Institution Name": "Logan University",
          "Latitude": 38.63133,
          "Longitude": -90.542333,
          "Undergraduate enrollment": 126
         },
         {
          "Institution Name": "Loma Linda University",
          "Latitude": 34.051241,
          "Longitude": -117.260605,
          "Undergraduate enrollment": 1183
         },
         {
          "Institution Name": "Longwood University",
          "Latitude": 37.301137,
          "Longitude": -78.39575,
          "Undergraduate enrollment": 4472
         },
         {
          "Institution Name": "Longy School of Music of Bard College",
          "Latitude": 42.378657,
          "Longitude": -71.123479,
          "Undergraduate enrollment": 46
         },
         {
          "Institution Name": "Loras College",
          "Latitude": 42.503908,
          "Longitude": -90.679023,
          "Undergraduate enrollment": 1397
         },
         {
          "Institution Name": "Los Angeles Academy of Figurative Art",
          "Latitude": 34.208209000000004,
          "Longitude": -118.5021,
          "Undergraduate enrollment": 14
         },
         {
          "Institution Name": "Los Angeles College of Music",
          "Latitude": 34.139293,
          "Longitude": -118.150113,
          "Undergraduate enrollment": 235
         },
         {
          "Institution Name": "Los Angeles Film School",
          "Latitude": 34.098214,
          "Longitude": -118.32827,
          "Undergraduate enrollment": 3653
         },
         {
          "Institution Name": "Louisiana College",
          "Latitude": 31.324528000000004,
          "Longitude": -92.425973,
          "Undergraduate enrollment": 987
         },
         {
          "Institution Name": "Louisiana State University and Agricultural & Mechanical College",
          "Latitude": 30.414986,
          "Longitude": -91.178921,
          "Undergraduate enrollment": 25444
         },
         {
          "Institution Name": "Louisiana State University Health Sciences Center-New Orleans",
          "Latitude": 29.957272,
          "Longitude": -90.083145,
          "Undergraduate enrollment": 921
         },
         {
          "Institution Name": "Louisiana State University Health Sciences Center-Shreveport",
          "Latitude": 32.480683,
          "Longitude": -93.761018,
          "Undergraduate enrollment": 28
         },
         {
          "Institution Name": "Louisiana State University-Alexandria",
          "Latitude": 31.178616,
          "Longitude": -92.414409,
          "Undergraduate enrollment": 3372
         },
         {
          "Institution Name": "Louisiana State University-Shreveport",
          "Latitude": 32.428465,
          "Longitude": -93.70561,
          "Undergraduate enrollment": 2638
         },
         {
          "Institution Name": "Louisiana Tech University",
          "Latitude": 32.528296999999995,
          "Longitude": -92.649963,
          "Undergraduate enrollment": 11328
         },
         {
          "Institution Name": "Louisville Presbyterian Theological Seminary",
          "Latitude": 38.237056,
          "Longitude": -85.68641099999998,
          "Undergraduate enrollment": 0
         },
         {
          "Institution Name": "Lourdes University",
          "Latitude": 41.710009,
          "Longitude": -83.706108,
          "Undergraduate enrollment": 1044
         },
         {
          "Institution Name": "Loyola Marymount University",
          "Latitude": 33.97085,
          "Longitude": -118.415744,
          "Undergraduate enrollment": 6391
         },
         {
          "Institution Name": "Loyola University Chicago",
          "Latitude": 42.000765,
          "Longitude": -87.65687199999998,
          "Undergraduate enrollment": 11420
         },
         {
          "Institution Name": "Loyola University Maryland",
          "Latitude": 39.346358,
          "Longitude": -76.621872,
          "Undergraduate enrollment": 3924
         },
         {
          "Institution Name": "Loyola University New Orleans",
          "Latitude": 29.936141,
          "Longitude": -90.120417,
          "Undergraduate enrollment": 2602
         },
         {
          "Institution Name": "Lubbock Christian University",
          "Latitude": 33.575973,
          "Longitude": -101.934426,
          "Undergraduate enrollment": 1484
         },
         {
          "Institution Name": "Luther College",
          "Latitude": 43.312304,
          "Longitude": -91.802809,
          "Undergraduate enrollment": 2053
         },
         {
          "Institution Name": "Luther Rice College & Seminary",
          "Latitude": 33.698126,
          "Longitude": -84.12317900000002,
          "Undergraduate enrollment": 312
         },
         {
          "Institution Name": "Luther Seminary",
          "Latitude": 44.984629,
          "Longitude": -93.196422,
          "Undergraduate enrollment": 0
         },
         {
          "Institution Name": "Lutheran School of Theology at Chicago",
          "Latitude": 41.79563,
          "Longitude": -87.598978,
          "Undergraduate enrollment": 0
         },
         {
          "Institution Name": "Lycoming College",
          "Latitude": 41.24666,
          "Longitude": -77,
          "Undergraduate enrollment": 1217
         },
         {
          "Institution Name": "Lynchburg College",
          "Latitude": 37.399774,
          "Longitude": -79.181653,
          "Undergraduate enrollment": 2050
         },
         {
          "Institution Name": "Lyndon State College",
          "Latitude": 44.534525,
          "Longitude": -72.024955,
          "Undergraduate enrollment": 1071
         },
         {
          "Institution Name": "Lynn University",
          "Latitude": 26.385985,
          "Longitude": -80.12280600000003,
          "Undergraduate enrollment": 2204
         },
         {
          "Institution Name": "Lyon College",
          "Latitude": 35.777619,
          "Longitude": -91.625354,
          "Undergraduate enrollment": 672
         },
         {
          "Institution Name": "Macalester College",
          "Latitude": 44.938565,
          "Longitude": -93.168053,
          "Undergraduate enrollment": 2136
         },
         {
          "Institution Name": "Machzikei Hadath Rabbinical College",
          "Latitude": 40.627937,
          "Longitude": -73.988378,
          "Undergraduate enrollment": 146
         },
         {
          "Institution Name": "MacMurray College",
          "Latitude": 39.730918,
          "Longitude": -90.223986,
          "Undergraduate enrollment": 521
         },
         {
          "Institution Name": "Madison Area Technical College",
          "Latitude": 43.12183,
          "Longitude": -89.32792099999998,
          "Undergraduate enrollment": 15366
         },
         {
          "Institution Name": "Madonna University",
          "Latitude": 42.384323,
          "Longitude": -83.40472199999998,
          "Undergraduate enrollment": 2456
         },
         {
          "Institution Name": "Maharishi University of Management",
          "Latitude": 41.017781,
          "Longitude": -91.967306,
          "Undergraduate enrollment": 324
         },
         {
          "Institution Name": "Maine College of Art",
          "Latitude": 43.655743,
          "Longitude": -70.261015,
          "Undergraduate enrollment": 459
         },
         {
          "Institution Name": "Maine Maritime Academy",
          "Latitude": 44.389654,
          "Longitude": -68.80434699999999,
          "Undergraduate enrollment": 1018
         },
         {
          "Institution Name": "Malone University",
          "Latitude": 40.825662,
          "Longitude": -81.376863,
          "Undergraduate enrollment": 1333
         },
         {
          "Institution Name": "Manchester University",
          "Latitude": 41.010549,
          "Longitude": -85.76264300000003,
          "Undergraduate enrollment": 1266
         },
         {
          "Institution Name": "Manhattan Christian College",
          "Latitude": 39.184806,
          "Longitude": -96.579383,
          "Undergraduate enrollment": 282
         },
         {
          "Institution Name": "Manhattan College",
          "Latitude": 40.889756,
          "Longitude": -73.901893,
          "Undergraduate enrollment": 3664
         },
         {
          "Institution Name": "Manhattan School of Music",
          "Latitude": 40.812312,
          "Longitude": -73.961334,
          "Undergraduate enrollment": 488
         },
         {
          "Institution Name": "Manhattanville College",
          "Latitude": 41.032187,
          "Longitude": -73.715645,
          "Undergraduate enrollment": 1725
         },
         {
          "Institution Name": "Mansfield University of Pennsylvania",
          "Latitude": 41.807467,
          "Longitude": -77.073901,
          "Undergraduate enrollment": 1826
         },
         {
          "Institution Name": "Maple Springs Baptist Bible College and Seminary",
          "Latitude": 38.86348,
          "Longitude": -76.942465,
          "Undergraduate enrollment": 36
         },
         {
          "Institution Name": "Maranatha Baptist University",
          "Latitude": 43.195013,
          "Longitude": -88.737016,
          "Undergraduate enrollment": 926
         },
         {
          "Institution Name": "Maria College of Albany",
          "Latitude": 42.657789,
          "Longitude": -73.806287,
          "Undergraduate enrollment": 855
         },
         {
          "Institution Name": "Marian University",
          "Latitude": 39.813233,
          "Longitude": -86.20264300000002,
          "Undergraduate enrollment": 2303
         },
         {
          "Institution Name": "Marian University",
          "Latitude": 43.777411,
          "Longitude": -88.420638,
          "Undergraduate enrollment": 1508
         },
         {
          "Institution Name": "Marietta College",
          "Latitude": 39.41668,
          "Longitude": -81.45004499999997,
          "Undergraduate enrollment": 1065
         },
         {
          "Institution Name": "Marist College",
          "Latitude": 41.720937,
          "Longitude": -73.935484,
          "Undergraduate enrollment": 5699
         },
         {
          "Institution Name": "Marlboro College",
          "Latitude": 42.839603,
          "Longitude": -72.736552,
          "Undergraduate enrollment": 185
         },
         {
          "Institution Name": "Marlboro College Graduate & Professional Studies",
          "Latitude": 42.840495,
          "Longitude": -72.725583,
          "Undergraduate enrollment": 1
         },
         {
          "Institution Name": "Marquette University",
          "Latitude": 43.03903,
          "Longitude": -87.927961,
          "Undergraduate enrollment": 8335
         },
         {
          "Institution Name": "Mars Hill University",
          "Latitude": 35.82752,
          "Longitude": -82.551827,
          "Undergraduate enrollment": 1263
         },
         {
          "Institution Name": "Marshall B Ketchum University",
          "Latitude": 33.889348,
          "Longitude": -117.886229,
          "Undergraduate enrollment": 0
         },
         {
          "Institution Name": "Marshall University",
          "Latitude": 38.422482,
          "Longitude": -82.42896400000002,
          "Undergraduate enrollment": 9489
         },
         {
          "Institution Name": "Martin Luther College",
          "Latitude": 44.30526,
          "Longitude": -94.472326,
          "Undergraduate enrollment": 899
         },
         {
          "Institution Name": "Martin Methodist College",
          "Latitude": 35.201019,
          "Longitude": -87.035661,
          "Undergraduate enrollment": 977
         },
         {
          "Institution Name": "Martin University",
          "Latitude": 39.798144,
          "Longitude": -86.103953,
          "Undergraduate enrollment": 263
         },
         {
          "Institution Name": "Mary Baldwin University",
          "Latitude": 38.15388400000001,
          "Longitude": -79.069273,
          "Undergraduate enrollment": 1136
         },
         {
          "Institution Name": "Marygrove College",
          "Latitude": 42.41441500000001,
          "Longitude": -83.15410899999998,
          "Undergraduate enrollment": 285
         },
         {
          "Institution Name": "Maryland Institute College of Art",
          "Latitude": 39.308792,
          "Longitude": -76.621033,
          "Undergraduate enrollment": 1749
         },
         {
          "Institution Name": "Maryland University of Integrative Health",
          "Latitude": 39.165872,
          "Longitude": -76.888025,
          "Undergraduate enrollment": 0
         },
         {
          "Institution Name": "Marylhurst University",
          "Latitude": 45.398436,
          "Longitude": -122.648645,
          "Undergraduate enrollment": 364
         },
         {
          "Institution Name": "Marymount California University",
          "Latitude": 33.734887,
          "Longitude": -118.333371,
          "Undergraduate enrollment": 929
         },
         {
          "Institution Name": "Marymount Manhattan College",
          "Latitude": 40.768787,
          "Longitude": -73.959767,
          "Undergraduate enrollment": 2150
         },
         {
          "Institution Name": "Marymount University",
          "Latitude": 38.905562,
          "Longitude": -77.128785,
          "Undergraduate enrollment": 2305
         },
         {
          "Institution Name": "Maryville College",
          "Latitude": 35.751969,
          "Longitude": -83.963853,
          "Undergraduate enrollment": 1181
         },
         {
          "Institution Name": "Maryville University of Saint Louis",
          "Latitude": 38.644774,
          "Longitude": -90.505998,
          "Undergraduate enrollment": 3183
         },
         {
          "Institution Name": "Marywood University",
          "Latitude": 41.434587,
          "Longitude": -75.634142,
          "Undergraduate enrollment": 1960
         },
         {
          "Institution Name": "Massachusetts College of Art and Design",
          "Latitude": 42.336862,
          "Longitude": -71.099275,
          "Undergraduate enrollment": 1933
         },
         {
          "Institution Name": "Massachusetts College of Liberal Arts",
          "Latitude": 42.691361,
          "Longitude": -73.102817,
          "Undergraduate enrollment": 1407
         },
         {
          "Institution Name": "Massachusetts Institute of Technology",
          "Latitude": 42.360095,
          "Longitude": -71.092115,
          "Undergraduate enrollment": 4547
         },
         {
          "Institution Name": "Massachusetts Maritime Academy",
          "Latitude": 41.739072,
          "Longitude": -70.624084,
          "Undergraduate enrollment": 1688
         },
         {
          "Institution Name": "Massachusetts School of Law",
          "Latitude": 42.682106,
          "Longitude": -71.19954,
          "Undergraduate enrollment": 0
         },
         {
          "Institution Name": "Mayo Clinic Graduate School of Biomedical Sciences",
          "Latitude": 44.02229000000001,
          "Longitude": -92.466494,
          "Undergraduate enrollment": 0
         },
         {
          "Institution Name": "Mayo Clinic School of Health Sciences",
          "Latitude": 44.022784,
          "Longitude": -92.466656,
          "Undergraduate enrollment": 215
         },
         {
          "Institution Name": "Mayo Clinic School of Medicine",
          "Latitude": 44.02215,
          "Longitude": -92.466428,
          "Undergraduate enrollment": 0
         },
         {
          "Institution Name": "Mayville State University",
          "Latitude": 47.505415,
          "Longitude": -97.322554,
          "Undergraduate enrollment": 1097
         },
         {
          "Institution Name": "McCormick Theological Seminary",
          "Latitude": 41.79597,
          "Longitude": -87.598511,
          "Undergraduate enrollment": 0
         },
         {
          "Institution Name": "McDaniel College",
          "Latitude": 39.584231,
          "Longitude": -77.001992,
          "Undergraduate enrollment": 1590
         },
         {
          "Institution Name": "McKendree University",
          "Latitude": 38.608154,
          "Longitude": -89.816822,
          "Undergraduate enrollment": 2104
         },
         {
          "Institution Name": "McMurry University",
          "Latitude": 32.429776000000004,
          "Longitude": -99.748682,
          "Undergraduate enrollment": 1105
         },
         {
          "Institution Name": "McNeese State University",
          "Latitude": 30.178187,
          "Longitude": -93.217222,
          "Undergraduate enrollment": 6926
         },
         {
          "Institution Name": "McPherson College",
          "Latitude": 38.371422,
          "Longitude": -97.642996,
          "Undergraduate enrollment": 725
         },
         {
          "Institution Name": "MCPHS University",
          "Latitude": 42.336825,
          "Longitude": -71.101244,
          "Undergraduate enrollment": 3882
         },
         {
          "Institution Name": "Meadville Lombard Theological School",
          "Latitude": 41.87402700000001,
          "Longitude": -87.624619,
          "Undergraduate enrollment": 0
         },
         {
          "Institution Name": "Mechon L'hoyroa",
          "Latitude": 41.117029,
          "Longitude": -74.058177,
          "Undergraduate enrollment": 40
         },
         {
          "Institution Name": "Medaille College",
          "Latitude": 42.92856,
          "Longitude": -78.855941,
          "Undergraduate enrollment": 1528
         },
         {
          "Institution Name": "Medical College of Wisconsin",
          "Latitude": 43.044527,
          "Longitude": -88.022674,
          "Undergraduate enrollment": 0
         },
         {
          "Institution Name": "Medical Prep Institute of Tampa Bay",
          "Latitude": 28.033188,
          "Longitude": -82.43285999999998,
          "Undergraduate enrollment": 183
         },
         {
          "Institution Name": "Medical University of South Carolina",
          "Latitude": 32.784363,
          "Longitude": -79.947158,
          "Undergraduate enrollment": 303
         },
         {
          "Institution Name": "Meharry Medical College",
          "Latitude": 36.165458,
          "Longitude": -86.80737099999997,
          "Undergraduate enrollment": 0
         },
         {
          "Institution Name": "Memphis College of Art",
          "Latitude": 35.145874,
          "Longitude": -89.993707,
          "Undergraduate enrollment": 278
         },
         {
          "Institution Name": "Memphis Theological Seminary",
          "Latitude": 35.133109999999995,
          "Longitude": -89.982653,
          "Undergraduate enrollment": 0
         },
         {
          "Institution Name": "Menlo College",
          "Latitude": 37.453475,
          "Longitude": -122.190797,
          "Undergraduate enrollment": 744
         },
         {
          "Institution Name": "Mercer University",
          "Latitude": 32.831787,
          "Longitude": -83.64829499999998,
          "Undergraduate enrollment": 4747
         },
         {
          "Institution Name": "Mercy College",
          "Latitude": 41.021626,
          "Longitude": -73.874447,
          "Undergraduate enrollment": 6864
         },
         {
          "Institution Name": "Mercy College of Health Sciences",
          "Latitude": 41.594559,
          "Longitude": -93.626238,
          "Undergraduate enrollment": 758
         },
         {
          "Institution Name": "Mercy College of Ohio",
          "Latitude": 41.658319,
          "Longitude": -83.552538,
          "Undergraduate enrollment": 1404
         },
         {
          "Institution Name": "Mercyhurst University",
          "Latitude": 42.10578,
          "Longitude": -80.053412,
          "Undergraduate enrollment": 2452
         },
         {
          "Institution Name": "Meredith College",
          "Latitude": 35.799351,
          "Longitude": -78.689995,
          "Undergraduate enrollment": 1682
         },
         {
          "Institution Name": "Merrimack College",
          "Latitude": 42.668352,
          "Longitude": -71.124216,
          "Undergraduate enrollment": 3535
         },
         {
          "Institution Name": "Mesivta of Eastern Parkway-Yeshiva Zichron Meilech",
          "Latitude": 40.635236,
          "Longitude": -73.979327,
          "Undergraduate enrollment": 30
         },
         {
          "Institution Name": "Mesivta Torah Vodaath Rabbinical Seminary",
          "Latitude": 40.6382,
          "Longitude": -73.96939499999998,
          "Undergraduate enrollment": 252
         },
         {
          "Institution Name": "Mesivtha Tifereth Jerusalem of America",
          "Latitude": 40.713812,
          "Longitude": -73.991271,
          "Undergraduate enrollment": 49
         },
         {
          "Institution Name": "Messenger College",
          "Latitude": 32.831171999999995,
          "Longitude": -97.100318,
          "Undergraduate enrollment": 51
         },
         {
          "Institution Name": "Messiah College",
          "Latitude": 40.156579,
          "Longitude": -76.98826899999997,
          "Undergraduate enrollment": 2759
         },
         {
          "Institution Name": "Methodist College",
          "Latitude": 40.7804,
          "Longitude": -89.682864,
          "Undergraduate enrollment": 675
         },
         {
          "Institution Name": "Methodist Theological School in Ohio",
          "Latitude": 40.253643,
          "Longitude": -83.060146,
          "Undergraduate enrollment": 0
         },
         {
          "Institution Name": "Methodist University",
          "Latitude": 35.135058,
          "Longitude": -78.874426,
          "Undergraduate enrollment": 1933
         },
         {
          "Institution Name": "Metropolitan College of New York",
          "Latitude": 40.708706,
          "Longitude": -74.014702,
          "Undergraduate enrollment": 777
         },
         {
          "Institution Name": "Metropolitan State University",
          "Latitude": 44.957256,
          "Longitude": -93.074361,
          "Undergraduate enrollment": 7317
         },
         {
          "Institution Name": "Metropolitan State University of Denver",
          "Latitude": 39.744202,
          "Longitude": -105.00504,
          "Undergraduate enrollment": 19666
         },
         {
          "Institution Name": "MGH Institute of Health Professions",
          "Latitude": 42.375018,
          "Longitude": -71.054002,
          "Undergraduate enrollment": 195
         },
         {
          "Institution Name": "Miami Dade College",
          "Latitude": 25.777717000000006,
          "Longitude": -80.19085600000003,
          "Undergraduate enrollment": 56001
         },
         {
          "Institution Name": "Miami Regional University",
          "Latitude": 25.810667,
          "Longitude": -80.26700699999998,
          "Undergraduate enrollment": 638
         },
         {
          "Institution Name": "Miami University-Hamilton",
          "Latitude": 39.377448,
          "Longitude": -84.563385,
          "Undergraduate enrollment": 2737
         },
         {
          "Institution Name": "Miami University-Middletown",
          "Latitude": 39.523776,
          "Longitude": -84.35724,
          "Undergraduate enrollment": 1973
         },
         {
          "Institution Name": "Miami University-Oxford",
          "Latitude": 39.507757,
          "Longitude": -84.732954,
          "Undergraduate enrollment": 17147
         },
         {
          "Institution Name": "Michigan School of Professional Psychology",
          "Latitude": 42.491427,
          "Longitude": -83.359575,
          "Undergraduate enrollment": 0
         },
         {
          "Institution Name": "Michigan State University",
          "Latitude": 42.73212,
          "Longitude": -84.476111,
          "Undergraduate enrollment": 38996
         },
         {
          "Institution Name": "Michigan State University-College of Law",
          "Latitude": 42.725733,
          "Longitude": -84.47352,
          "Undergraduate enrollment": 0
         },
         {
          "Institution Name": "Michigan Technological University",
          "Latitude": 47.11866,
          "Longitude": -88.54809200000003,
          "Undergraduate enrollment": 5890
         },
         {
          "Institution Name": "Mid-America Christian University",
          "Latitude": 35.34778499999999,
          "Longitude": -97.578297,
          "Undergraduate enrollment": 1626
         },
         {
          "Institution Name": "Mid-America College of Funeral Service",
          "Latitude": 38.31209000000001,
          "Longitude": -85.74469599999998,
          "Undergraduate enrollment": 101
         },
         {
          "Institution Name": "Mid-Atlantic Christian University",
          "Latitude": 36.304673,
          "Longitude": -76.217139,
          "Undergraduate enrollment": 192
         },
         {
          "Institution Name": "Mid-South Christian College",
          "Latitude": 35.064172,
          "Longitude": -89.911799,
          "Undergraduate enrollment": 19
         },
         {
          "Institution Name": "MidAmerica Nazarene University",
          "Latitude": 38.875615,
          "Longitude": -94.781635,
          "Undergraduate enrollment": 1308
         },
         {
          "Institution Name": "Middle Georgia State University",
          "Latitude": 32.808091999999995,
          "Longitude": -83.732058,
          "Undergraduate enrollment": 7221
         },
         {
          "Institution Name": "Middle Tennessee School of Anesthesia Inc",
          "Latitude": 36.252997,
          "Longitude": -86.683396,
          "Undergraduate enrollment": 0
         },
         {
          "Institution Name": "Middle Tennessee State University",
          "Latitude": 35.848005,
          "Longitude": -86.360618,
          "Undergraduate enrollment": 19523
         },
         {
          "Institution Name": "Middlebury College",
          "Latitude": 44.009117,
          "Longitude": -73.176068,
          "Undergraduate enrollment": 2549
         },
         {
          "Institution Name": "Middlebury Institute of International Studies at Monterey",
          "Latitude": 36.599736,
          "Longitude": -121.897325,
          "Undergraduate enrollment": 13
         },
         {
          "Institution Name": "Midland College",
          "Latitude": 32.029646,
          "Longitude": -102.106153,
          "Undergraduate enrollment": 5564
         },
         {
          "Institution Name": "Midland University",
          "Latitude": 41.43674,
          "Longitude": -96.488008,
          "Undergraduate enrollment": 1658
         },
         {
          "Institution Name": "Midstate College",
          "Latitude": 40.761916,
          "Longitude": -89.59885899999998,
          "Undergraduate enrollment": 279
         },
         {
          "Institution Name": "Midway University",
          "Latitude": 38.146126,
          "Longitude": -84.67814200000002,
          "Undergraduate enrollment": 1002
         },
         {
          "Institution Name": "Midwest College of Oriental Medicine-Evanston",
          "Latitude": 42.04729,
          "Longitude": -87.68154399999997,
          "Undergraduate enrollment": 22
         },
         {
          "Institution Name": "Midwest College of Oriental Medicine-Racine",
          "Latitude": 42.678051,
          "Longitude": -87.856679,
          "Undergraduate enrollment": 19
         },
         {
          "Institution Name": "Midwestern Baptist Theological Seminary",
          "Latitude": 39.185691,
          "Longitude": -94.573185,
          "Undergraduate enrollment": 418
         },
         {
          "Institution Name": "Midwestern State University",
          "Latitude": 33.874809,
          "Longitude": -98.519386,
          "Undergraduate enrollment": 5330
         },
         {
          "Institution Name": "Midwestern University-Downers Grove",
          "Latitude": 41.828115,
          "Longitude": -87.99834200000002,
          "Undergraduate enrollment": 0
         },
         {
          "Institution Name": "Midwestern University-Glendale",
          "Latitude": 33.663853,
          "Longitude": -112.183633,
          "Undergraduate enrollment": 0
         },
         {
          "Institution Name": "Midwives College of Utah",
          "Latitude": 40.71089,
          "Longitude": -111.857036,
          "Undergraduate enrollment": 242
         },
         {
          "Institution Name": "Miles College",
          "Latitude": 33.482442,
          "Longitude": -86.908751,
          "Undergraduate enrollment": 1650
         },
         {
          "Institution Name": "Millennia Atlantic University",
          "Latitude": 25.808134,
          "Longitude": -80.352717,
          "Undergraduate enrollment": 95
         },
         {
          "Institution Name": "Miller-Motte College-Wilmington",
          "Latitude": 34.242761,
          "Longitude": -77.882359,
          "Undergraduate enrollment": 1708
         },
         {
          "Institution Name": "Millersville University of Pennsylvania",
          "Latitude": 40.000337,
          "Longitude": -76.357381,
          "Undergraduate enrollment": 6758
         },
         {
          "Institution Name": "Milligan College",
          "Latitude": 36.300147,
          "Longitude": -82.29406999999998,
          "Undergraduate enrollment": 859
         },
         {
          "Institution Name": "Millikin University",
          "Latitude": 39.842612,
          "Longitude": -88.976298,
          "Undergraduate enrollment": 1950
         },
         {
          "Institution Name": "Mills College",
          "Latitude": 37.781425,
          "Longitude": -122.182294,
          "Undergraduate enrollment": 761
         },
         {
          "Institution Name": "Millsaps College",
          "Latitude": 32.322746,
          "Longitude": -90.179957,
          "Undergraduate enrollment": 807
         },
         {
          "Institution Name": "Milwaukee Institute of Art & Design",
          "Latitude": 43.030917,
          "Longitude": -87.907925,
          "Undergraduate enrollment": 660
         },
         {
          "Institution Name": "Milwaukee School of Engineering",
          "Latitude": 43.045364,
          "Longitude": -87.907691,
          "Undergraduate enrollment": 2610
         },
         {
          "Institution Name": "Minneapolis College of Art and Design",
          "Latitude": 44.956988,
          "Longitude": -93.274705,
          "Undergraduate enrollment": 688
         },
         {
          "Institution Name": "Minnesota State University Moorhead",
          "Latitude": 46.867153,
          "Longitude": -96.759532,
          "Undergraduate enrollment": 5130
         },
         {
          "Institution Name": "Minnesota State University-Mankato",
          "Latitude": 44.146712,
          "Longitude": -93.99945,
          "Undergraduate enrollment": 12782
         },
         {
          "Institution Name": "Minot State University",
          "Latitude": 48.246961,
          "Longitude": -101.29861,
          "Undergraduate enrollment": 2956
         },
         {
          "Institution Name": "MiraCosta College",
          "Latitude": 33.190483,
          "Longitude": -117.302606,
          "Undergraduate enrollment": 14617
         },
         {
          "Institution Name": "Mirrer Yeshiva Cent Institute",
          "Latitude": 40.605043,
          "Longitude": -73.966049,
          "Undergraduate enrollment": 137
         },
         {
          "Institution Name": "Misericordia University",
          "Latitude": 41.345277,
          "Longitude": -75.971541,
          "Undergraduate enrollment": 2146
         },
         {
          "Institution Name": "Mississippi College",
          "Latitude": 32.335515,
          "Longitude": -90.329821,
          "Undergraduate enrollment": 3242
         },
         {
          "Institution Name": "Mississippi State University",
          "Latitude": 33.454852,
          "Longitude": -88.790139,
          "Undergraduate enrollment": 18312
         },
         {
          "Institution Name": "Mississippi University for Women",
          "Latitude": 33.493305,
          "Longitude": -88.418601,
          "Undergraduate enrollment": 2577
         },
         {
          "Institution Name": "Mississippi Valley State University",
          "Latitude": 33.514142,
          "Longitude": -90.341274,
          "Undergraduate enrollment": 1977
         },
         {
          "Institution Name": "Missouri Baptist University",
          "Latitude": 38.641526,
          "Longitude": -90.462586,
          "Undergraduate enrollment": 4508
         },
         {
          "Institution Name": "Missouri Southern State University",
          "Latitude": 37.095155,
          "Longitude": -94.461689,
          "Undergraduate enrollment": 6021
         },
         {
          "Institution Name": "Missouri State University-Springfield",
          "Latitude": 37.199258,
          "Longitude": -93.281281,
          "Undergraduate enrollment": 20364
         },
         {
          "Institution Name": "Missouri University of Science and Technology",
          "Latitude": 37.953426,
          "Longitude": -91.775583,
          "Undergraduate enrollment": 6919
         },
         {
          "Institution Name": "Missouri Valley College",
          "Latitude": 39.108522,
          "Longitude": -93.190654,
          "Undergraduate enrollment": 1798
         },
         {
          "Institution Name": "Missouri Western State University",
          "Latitude": 39.7575,
          "Longitude": -94.785643,
          "Undergraduate enrollment": 5292
         },
         {
          "Institution Name": "Mitchell College",
          "Latitude": 41.328013,
          "Longitude": -72.09523,
          "Undergraduate enrollment": 707
         },
         {
          "Institution Name": "Mitchell Hamline School of Law",
          "Latitude": 44.94202,
          "Longitude": -93.138224,
          "Undergraduate enrollment": 0
         },
         {
          "Institution Name": "Modesto Junior College",
          "Latitude": 37.652042,
          "Longitude": -121.009723,
          "Undergraduate enrollment": 17880
         },
         {
          "Institution Name": "Molloy College",
          "Latitude": 40.685941,
          "Longitude": -73.626183,
          "Undergraduate enrollment": 3534
         },
         {
          "Institution Name": "Monmouth College",
          "Latitude": 40.914824,
          "Longitude": -90.63731,
          "Undergraduate enrollment": 1033
         },
         {
          "Institution Name": "Monmouth University",
          "Latitude": 40.280066,
          "Longitude": -74.006447,
          "Undergraduate enrollment": 4706
         },
         {
          "Institution Name": "Monroe College",
          "Latitude": 40.864459,
          "Longitude": -73.900215,
          "Undergraduate enrollment": 5514
         },
         {
          "Institution Name": "Montana State University",
          "Latitude": 45.666726,
          "Longitude": -111.048812,
          "Undergraduate enrollment": 14652
         },
         {
          "Institution Name": "Montana State University-Billings",
          "Latitude": 45.796896,
          "Longitude": -108.523009,
          "Undergraduate enrollment": 4021
         },
         {
          "Institution Name": "Montana State University-Northern",
          "Latitude": 48.54149,
          "Longitude": -109.687806,
          "Undergraduate enrollment": 1163
         },
         {
          "Institution Name": "Montana Tech of the University of Montana",
          "Latitude": 46.012868,
          "Longitude": -112.559511,
          "Undergraduate enrollment": 1659
         },
         {
          "Institution Name": "Montclair State University",
          "Latitude": 40.860414,
          "Longitude": -74.198141,
          "Undergraduate enrollment": 16852
         },
         {
          "Institution Name": "Montreat College",
          "Latitude": 35.646577,
          "Longitude": -82.2976,
          "Undergraduate enrollment": 757
         },
         {
          "Institution Name": "Montserrat College of Art",
          "Latitude": 42.550212,
          "Longitude": -70.876131,
          "Undergraduate enrollment": 368
         },
         {
          "Institution Name": "Moody Bible Institute",
          "Latitude": 41.897822,
          "Longitude": -87.633459,
          "Undergraduate enrollment": 2714
         },
         {
          "Institution Name": "Moore College of Art and Design",
          "Latitude": 39.957078,
          "Longitude": -75.172105,
          "Undergraduate enrollment": 373
         },
         {
          "Institution Name": "Moravian College",
          "Latitude": 40.630947,
          "Longitude": -75.383638,
          "Undergraduate enrollment": 2083
         },
         {
          "Institution Name": "Morehead State University",
          "Latitude": 38.186768,
          "Longitude": -83.434021,
          "Undergraduate enrollment": 9661
         },
         {
          "Institution Name": "Morehouse College",
          "Latitude": 33.745982,
          "Longitude": -84.414917,
          "Undergraduate enrollment": 2202
         },
         {
          "Institution Name": "Morehouse School of Medicine",
          "Latitude": 33.742888,
          "Longitude": -84.41186,
          "Undergraduate enrollment": 0
         },
         {
          "Institution Name": "Morgan State University",
          "Latitude": 39.344161,
          "Longitude": -76.585565,
          "Undergraduate enrollment": 6440
         },
         {
          "Institution Name": "Morningside College",
          "Latitude": 42.473891,
          "Longitude": -96.359464,
          "Undergraduate enrollment": 1322
         },
         {
          "Institution Name": "Morris College",
          "Latitude": 33.938574,
          "Longitude": -80.34615500000002,
          "Undergraduate enrollment": 747
         },
         {
          "Institution Name": "Morrisville State College",
          "Latitude": 42.893962,
          "Longitude": -75.64058299999998,
          "Undergraduate enrollment": 3063
         },
         {
          "Institution Name": "Mount Aloysius College",
          "Latitude": 40.459679,
          "Longitude": -78.600898,
          "Undergraduate enrollment": 1688
         },
         {
          "Institution Name": "Mount Angel Seminary",
          "Latitude": 45.057871,
          "Longitude": -122.775405,
          "Undergraduate enrollment": 53
         },
         {
          "Institution Name": "Mount Carmel College of Nursing",
          "Latitude": 39.956625,
          "Longitude": -83.021501,
          "Undergraduate enrollment": 880
         },
         {
          "Institution Name": "Mount Holyoke College",
          "Latitude": 42.256838,
          "Longitude": -72.57551099999998,
          "Undergraduate enrollment": 2210
         },
         {
          "Institution Name": "Mount Ida College",
          "Latitude": 42.293525,
          "Longitude": -71.193175,
          "Undergraduate enrollment": 1522
         },
         {
          "Institution Name": "Mount Marty College",
          "Latitude": 42.874475,
          "Longitude": -97.409904,
          "Undergraduate enrollment": 876
         },
         {
          "Institution Name": "Mount Mary University",
          "Latitude": 43.072507,
          "Longitude": -88.030732,
          "Undergraduate enrollment": 700
         },
         {
          "Institution Name": "Mount Mercy University",
          "Latitude": 42.001931,
          "Longitude": -91.650991,
          "Undergraduate enrollment": 1517
         },
         {
          "Institution Name": "Mount Saint Joseph University",
          "Latitude": 39.095893,
          "Longitude": -84.639453,
          "Undergraduate enrollment": 1318
         },
         {
          "Institution Name": "Mount Saint Mary College",
          "Latitude": 41.513872,
          "Longitude": -74.01265500000002,
          "Undergraduate enrollment": 2036
         },
         {
          "Institution Name": "Mount Saint Mary's University",
          "Latitude": 34.085315,
          "Longitude": -118.482879,
          "Undergraduate enrollment": 2602
         },
         {
          "Institution Name": "Mount St. Mary's University",
          "Latitude": 39.681705,
          "Longitude": -77.351887,
          "Undergraduate enrollment": 1817
         },
         {
          "Institution Name": "Mount Vernon Nazarene University",
          "Latitude": 40.372901,
          "Longitude": -82.471074,
          "Undergraduate enrollment": 1828
         },
         {
          "Institution Name": "Mt Sierra College",
          "Latitude": 34.142703999999995,
          "Longitude": -117.987321,
          "Undergraduate enrollment": 202
         },
         {
          "Institution Name": "Muhlenberg College",
          "Latitude": 40.596416,
          "Longitude": -75.50850200000002,
          "Undergraduate enrollment": 2367
         },
         {
          "Institution Name": "Multnomah University",
          "Latitude": 45.527139,
          "Longitude": -122.575557,
          "Undergraduate enrollment": 394
         },
         {
          "Institution Name": "Murray State University",
          "Latitude": 36.612419,
          "Longitude": -88.323629,
          "Undergraduate enrollment": 8559
         },
         {
          "Institution Name": "Musicians Institute",
          "Latitude": 34.101265000000005,
          "Longitude": -118.337582,
          "Undergraduate enrollment": 990
         },
         {
          "Institution Name": "Muskingum University",
          "Latitude": 39.996426,
          "Longitude": -81.73703,
          "Undergraduate enrollment": 1558
         },
         {
          "Institution Name": "Naropa University",
          "Latitude": 40.014235,
          "Longitude": -105.266987,
          "Undergraduate enrollment": 397
         },
         {
          "Institution Name": "Nashotah House",
          "Latitude": 43.082193,
          "Longitude": -88.423743,
          "Undergraduate enrollment": 0
         },
         {
          "Institution Name": "National American University-Albuquerque",
          "Latitude": 35.102915,
          "Longitude": -106.591497,
          "Undergraduate enrollment": 190
         },
         {
          "Institution Name": "National American University-Albuquerque West",
          "Latitude": 35.19988400000001,
          "Longitude": -106.653498,
          "Undergraduate enrollment": 163
         },
         {
          "Institution Name": "National American University-Austin",
          "Latitude": 30.437732,
          "Longitude": -97.696742,
          "Undergraduate enrollment": 222
         },
         {
          "Institution Name": "National American University-Bellevue",
          "Latitude": 41.141522,
          "Longitude": -95.967384,
          "Undergraduate enrollment": 98
         },
         {
          "Institution Name": "National American University-Bloomington",
          "Latitude": 44.861354,
          "Longitude": -93.228673,
          "Undergraduate enrollment": 68
         },
         {
          "Institution Name": "National American University-Brooklyn Center",
          "Latitude": 45.067311,
          "Longitude": -93.307619,
          "Undergraduate enrollment": 125
         },
         {
          "Institution Name": "National American University-Burnsville",
          "Latitude": 44.773371,
          "Longitude": -93.28605,
          "Undergraduate enrollment": 44
         },
         {
          "Institution Name": "National American University-Career Point College Teachout Site",
          "Latitude": 29.493372,
          "Longitude": -98.551158,
          "Undergraduate enrollment": 287
         },
         {
          "Institution Name": "National American University-Centennial",
          "Latitude": 39.567327,
          "Longitude": -104.960106,
          "Undergraduate enrollment": 176
         },
         {
          "Institution Name": "National American University-Colorado Springs",
          "Latitude": 38.952175,
          "Longitude": -104.790957,
          "Undergraduate enrollment": 196
         },
         {
          "Institution Name": "National American University-Colorado Springs South",
          "Latitude": 38.847542,
          "Longitude": -104.722124,
          "Undergraduate enrollment": 152
         },
         {
          "Institution Name": "National American University-Ellsworth AFB Extension",
          "Latitude": 44.140362,
          "Longitude": -103.079296,
          "Undergraduate enrollment": 295
         },
         {
          "Institution Name": "National American University-Garden City",
          "Latitude": 37.970526,
          "Longitude": -100.849205,
          "Undergraduate enrollment": 48
         },
         {
          "Institution Name": "National American University-Georgetown",
          "Latitude": 30.629212,
          "Longitude": -97.693185,
          "Undergraduate enrollment": 138
         },
         {
          "Institution Name": "National American University-Harold D. Buckingham Graduate School",
          "Latitude": 30.35133,
          "Longitude": -97.752171,
          "Undergraduate enrollment": 0
         },
         {
          "Institution Name": "National American University-Houston",
          "Latitude": 29.783669,
          "Longitude": -95.586234,
          "Undergraduate enrollment": 77
         },
         {
          "Institution Name": "National American University-Independence",
          "Latitude": 39.052713,
          "Longitude": -94.360702,
          "Undergraduate enrollment": 255
         },
         {
          "Institution Name": "National American University-Indianapolis",
          "Latitude": 39.92198,
          "Longitude": -86.222601,
          "Undergraduate enrollment": 96
         },
         {
          "Institution Name": "National American University-Lee's Summit",
          "Latitude": 38.919788,
          "Longitude": -94.402645,
          "Undergraduate enrollment": 154
         },
         {
          "Institution Name": "National American University-Lewisville",
          "Latitude": 32.992384,
          "Longitude": -96.978279,
          "Undergraduate enrollment": 107
         },
         {
          "Institution Name": "National American University-Mesquite",
          "Latitude": 32.80385,
          "Longitude": -96.625431,
          "Undergraduate enrollment": 105
         },
         {
          "Institution Name": "National American University-Overland Park",
          "Latitude": 38.941097,
          "Longitude": -94.703885,
          "Undergraduate enrollment": 207
         },
         {
          "Institution Name": "National American University-Rapid City",
          "Latitude": 44.03152,
          "Longitude": -103.250223,
          "Undergraduate enrollment": 1346
         },
         {
          "Institution Name": "National American University-Richardson",
          "Latitude": 32.95518,
          "Longitude": -96.768201,
          "Undergraduate enrollment": 150
         },
         {
          "Institution Name": "National American University-Rochester",
          "Latitude": 44.064095,
          "Longitude": -92.496177,
          "Undergraduate enrollment": 81
         },
         {
          "Institution Name": "National American University-Roseville",
          "Latitude": 45.009443,
          "Longitude": -93.162659,
          "Undergraduate enrollment": 99
         },
         {
          "Institution Name": "National American University-Sioux Falls",
          "Latitude": 43.495677,
          "Longitude": -96.789651,
          "Undergraduate enrollment": 219
         },
         {
          "Institution Name": "National American University-Tulsa",
          "Latitude": 36.046839,
          "Longitude": -95.905505,
          "Undergraduate enrollment": 172
         },
         {
          "Institution Name": "National American University-Watertown",
          "Latitude": 44.889215,
          "Longitude": -97.069586,
          "Undergraduate enrollment": 70
         },
         {
          "Institution Name": "National American University-Westwood Teach-Out Site",
          "Latitude": 39.72132,
          "Longitude": -104.822831,
          "Undergraduate enrollment": 0
         },
         {
          "Institution Name": "National American University-Wichita",
          "Latitude": 37.722498,
          "Longitude": -97.251731,
          "Undergraduate enrollment": 130
         },
         {
          "Institution Name": "National American University-Wichita West",
          "Latitude": 37.710465,
          "Longitude": -97.440995,
          "Undergraduate enrollment": 90
         },
         {
          "Institution Name": "National American University-Zona Rosa",
          "Latitude": 39.251758,
          "Longitude": -94.666532,
          "Undergraduate enrollment": 149
         },
         {
          "Institution Name": "National Graduate School of Quality Management",
          "Latitude": 41.562403,
          "Longitude": -70.61202800000002,
          "Undergraduate enrollment": 101
         },
         {
          "Institution Name": "National Louis University",
          "Latitude": 41.880093,
          "Longitude": -87.62469899999998,
          "Undergraduate enrollment": 1883
         },
         {
          "Institution Name": "National Paralegal College",
          "Latitude": 33.530663,
          "Longitude": -112.064275,
          "Undergraduate enrollment": 754
         },
         {
          "Institution Name": "National University",
          "Latitude": 32.909894,
          "Longitude": -117.243026,
          "Undergraduate enrollment": 7877
         },
         {
          "Institution Name": "National University of Health Sciences",
          "Latitude": 41.861697,
          "Longitude": -88.013171,
          "Undergraduate enrollment": 70
         },
         {
          "Institution Name": "National University of Natural Medicine",
          "Latitude": 45.501931,
          "Longitude": -122.6766,
          "Undergraduate enrollment": 38
         },
         {
          "Institution Name": "Navajo Technical University",
          "Latitude": 35.687431,
          "Longitude": -108.149392,
          "Undergraduate enrollment": 1765
         },
         {
          "Institution Name": "Nazarene Bible College",
          "Latitude": 38.814671,
          "Longitude": -104.751176,
          "Undergraduate enrollment": 743
         },
         {
          "Institution Name": "Nazarene Theological Seminary",
          "Latitude": 39.009265,
          "Longitude": -94.565781,
          "Undergraduate enrollment": 0
         },
         {
          "Institution Name": "Nazareth College",
          "Latitude": 43.101576,
          "Longitude": -77.518579,
          "Undergraduate enrollment": 2194
         },
         {
          "Institution Name": "Nebraska Christian College of Hope International University",
          "Latitude": 41.12314,
          "Longitude": -96.09437,
          "Undergraduate enrollment": 146
         },
         {
          "Institution Name": "Nebraska Methodist College of Nursing & Allied Health",
          "Latitude": 41.265973,
          "Longitude": -96.048511,
          "Undergraduate enrollment": 881
         },
         {
          "Institution Name": "Nebraska Wesleyan University",
          "Latitude": 40.839098,
          "Longitude": -96.64831,
          "Undergraduate enrollment": 1779
         },
         {
          "Institution Name": "Ner Israel Rabbinical College",
          "Latitude": 39.388021,
          "Longitude": -76.75352600000002,
          "Undergraduate enrollment": 265
         },
         {
          "Institution Name": "Neumann University",
          "Latitude": 39.874876,
          "Longitude": -75.440022,
          "Undergraduate enrollment": 2085
         },
         {
          "Institution Name": "Neumont College of Computer Science",
          "Latitude": 40.76609600000001,
          "Longitude": -111.890573,
          "Undergraduate enrollment": 484
         },
         {
          "Institution Name": "Nevada State College",
          "Latitude": 35.982345,
          "Longitude": -114.938044,
          "Undergraduate enrollment": 4216
         },
         {
          "Institution Name": "New Brunswick Theological Seminary",
          "Latitude": 40.501314,
          "Longitude": -74.449368,
          "Undergraduate enrollment": 0
         },
         {
          "Institution Name": "New College of Florida",
          "Latitude": 27.384925,
          "Longitude": -82.55858,
          "Undergraduate enrollment": 835
         },
         {
          "Institution Name": "New England College",
          "Latitude": 43.176403,
          "Longitude": -71.822282,
          "Undergraduate enrollment": 1844
         },
         {
          "Institution Name": "New England College of Business and Finance",
          "Latitude": 42.353619,
          "Longitude": -71.056671,
          "Undergraduate enrollment": 941
         },
         {
          "Institution Name": "New England College of Optometry",
          "Latitude": 42.35185300000001,
          "Longitude": -71.08682900000002,
          "Undergraduate enrollment": 0
         },
         {
          "Institution Name": "New England Culinary Institute",
          "Latitude": 44.261307,
          "Longitude": -72.57508100000003,
          "Undergraduate enrollment": 144
         },
         {
          "Institution Name": "New England Institute of Technology",
          "Latitude": 41.661783,
          "Longitude": -71.502892,
          "Undergraduate enrollment": 2658
         },
         {
          "Institution Name": "New England Law-Boston",
          "Latitude": 42.350833,
          "Longitude": -71.0665,
          "Undergraduate enrollment": 0
         },
         {
          "Institution Name": "New Hampshire Institute of Art",
          "Latitude": 42.992953,
          "Longitude": -71.458947,
          "Undergraduate enrollment": 308
         },
         {
          "Institution Name": "New Hope Christian College-Eugene",
          "Latitude": 44.032674,
          "Longitude": -123.15355,
          "Undergraduate enrollment": 86
         },
         {
          "Institution Name": "New Jersey City University",
          "Latitude": 40.709937,
          "Longitude": -74.08726999999998,
          "Undergraduate enrollment": 6508
         },
         {
          "Institution Name": "New Jersey Institute of Technology",
          "Latitude": 40.741997,
          "Longitude": -74.177113,
          "Undergraduate enrollment": 8483
         },
         {
          "Institution Name": "New Mexico Highlands University",
          "Latitude": 35.59623300000001,
          "Longitude": -105.219197,
          "Undergraduate enrollment": 1935
         },
         {
          "Institution Name": "New Mexico Institute of Mining and Technology",
          "Latitude": 34.067041,
          "Longitude": -106.905211,
          "Undergraduate enrollment": 1471
         },
         {
          "Institution Name": "New Mexico State University-Main Campus",
          "Latitude": 32.281568,
          "Longitude": -106.752069,
          "Undergraduate enrollment": 11713
         },
         {
          "Institution Name": "New York Academy of Art",
          "Latitude": 40.718388,
          "Longitude": -74.006019,
          "Undergraduate enrollment": 0
         },
         {
          "Institution Name": "New York Chiropractic College",
          "Latitude": 42.91173,
          "Longitude": -76.756232,
          "Undergraduate enrollment": 0
         },
         {
          "Institution Name": "New York College of Health Professions",
          "Latitude": 40.809329,
          "Longitude": -73.516191,
          "Undergraduate enrollment": 380
         },
         {
          "Institution Name": "New York College of Podiatric Medicine",
          "Latitude": 40.805037,
          "Longitude": -73.940496,
          "Undergraduate enrollment": 0
         },
         {
          "Institution Name": "New York College of Traditional Chinese Medicine",
          "Latitude": 40.73945,
          "Longitude": -73.638911,
          "Undergraduate enrollment": 68
         },
         {
          "Institution Name": "New York Film Academy",
          "Latitude": 34.152076,
          "Longitude": -118.335567,
          "Undergraduate enrollment": 1080
         },
         {
          "Institution Name": "New York Institute of Technology",
          "Latitude": 40.812447,
          "Longitude": -73.6078,
          "Undergraduate enrollment": 3664
         },
         {
          "Institution Name": "New York Law School",
          "Latitude": 40.717998,
          "Longitude": -74.006969,
          "Undergraduate enrollment": 0
         },
         {
          "Institution Name": "New York Medical College",
          "Latitude": 41.085031,
          "Longitude": -73.81004200000002,
          "Undergraduate enrollment": 0
         },
         {
          "Institution Name": "New York School of Interior Design",
          "Latitude": 40.768615,
          "Longitude": -73.962404,
          "Undergraduate enrollment": 368
         },
         {
          "Institution Name": "New York Theological Seminary",
          "Latitude": 40.810869,
          "Longitude": -73.96379300000002,
          "Undergraduate enrollment": 0
         },
         {
          "Institution Name": "New York University",
          "Latitude": 40.729452,
          "Longitude": -73.997264,
          "Undergraduate enrollment": 26417
         },
         {
          "Institution Name": "Newberry College",
          "Latitude": 34.285868,
          "Longitude": -81.619777,
          "Undergraduate enrollment": 1181
         },
         {
          "Institution Name": "Newbury College",
          "Latitude": 42.331032,
          "Longitude": -71.14208199999999,
          "Undergraduate enrollment": 620
         },
         {
          "Institution Name": "Newman University",
          "Latitude": 37.672643,
          "Longitude": -97.37768,
          "Undergraduate enrollment": 2810
         },
         {
          "Institution Name": "Newschool of Architecture and Design",
          "Latitude": 32.71331,
          "Longitude": -117.153305,
          "Undergraduate enrollment": 436
         },
         {
          "Institution Name": "Niagara University",
          "Latitude": 43.137279,
          "Longitude": -79.036689,
          "Undergraduate enrollment": 2994
         },
         {
          "Institution Name": "Nicholls State University",
          "Latitude": 29.794486,
          "Longitude": -90.801571,
          "Undergraduate enrollment": 5685
         },
         {
          "Institution Name": "Nichols College",
          "Latitude": 42.044033,
          "Longitude": -71.930283,
          "Undergraduate enrollment": 1340
         },
         {
          "Institution Name": "Nightingale College",
          "Latitude": 40.76528,
          "Longitude": -111.890777,
          "Undergraduate enrollment": 326
         },
         {
          "Institution Name": "Norfolk State University",
          "Latitude": 36.848429,
          "Longitude": -76.261375,
          "Undergraduate enrollment": 4687
         },
         {
          "Institution Name": "North American University",
          "Latitude": 29.646303000000003,
          "Longitude": -95.588338,
          "Undergraduate enrollment": 340
         },
         {
          "Institution Name": "North Carolina A & T State University",
          "Latitude": 36.07282,
          "Longitude": -79.773375,
          "Undergraduate enrollment": 10341
         },
         {
          "Institution Name": "North Carolina Central University",
          "Latitude": 35.974237,
          "Longitude": -78.898602,
          "Undergraduate enrollment": 6355
         },
         {
          "Institution Name": "North Carolina State University at Raleigh",
          "Latitude": 35.785111,
          "Longitude": -78.67451700000002,
          "Undergraduate enrollment": 24150
         },
         {
          "Institution Name": "North Carolina Wesleyan College",
          "Latitude": 36.019665,
          "Longitude": -77.77398199999998,
          "Undergraduate enrollment": 2093
         },
         {
          "Institution Name": "North Central College",
          "Latitude": 41.77576,
          "Longitude": -88.14279,
          "Undergraduate enrollment": 2769
         },
         {
          "Institution Name": "North Central University",
          "Latitude": 44.968625,
          "Longitude": -93.261511,
          "Undergraduate enrollment": 1076
         },
         {
          "Institution Name": "North Dakota State University-Main Campus",
          "Latitude": 46.893127,
          "Longitude": -96.800838,
          "Undergraduate enrollment": 11984
         },
         {
          "Institution Name": "North Florida Community College",
          "Latitude": 30.473841,
          "Longitude": -83.420732,
          "Undergraduate enrollment": 1367
         },
         {
          "Institution Name": "North Greenville University",
          "Latitude": 35.069758,
          "Longitude": -82.37026,
          "Undergraduate enrollment": 2358
         },
         {
          "Institution Name": "North Park University",
          "Latitude": 41.975268,
          "Longitude": -87.709948,
          "Undergraduate enrollment": 2029
         },
         {
          "Institution Name": "North Seattle College",
          "Latitude": 47.698408,
          "Longitude": -122.333584,
          "Undergraduate enrollment": 6259
         },
         {
          "Institution Name": "Northcentral University",
          "Latitude": 32.736670000000004,
          "Longitude": -117.214911,
          "Undergraduate enrollment": 89
         },
         {
          "Institution Name": "Northeast Catholic College",
          "Latitude": 43.314908,
          "Longitude": -71.83444399999998,
          "Undergraduate enrollment": 71
         },
         {
          "Institution Name": "Northeast Ohio Medical University",
          "Latitude": 41.102919,
          "Longitude": -81.245302,
          "Undergraduate enrollment": 0
         },
         {
          "Institution Name": "Northeastern Illinois University",
          "Latitude": 41.980399,
          "Longitude": -87.718983,
          "Undergraduate enrollment": 7113
         },
         {
          "Institution Name": "Northeastern Seminary",
          "Latitude": 43.122873,
          "Longitude": -77.8007,
          "Undergraduate enrollment": 0
         },
         {
          "Institution Name": "Northeastern State University",
          "Latitude": 35.919939,
          "Longitude": -94.967229,
          "Undergraduate enrollment": 6828
         },
         {
          "Institution Name": "Northeastern University",
          "Latitude": 42.339992,
          "Longitude": -71.088782,
          "Undergraduate enrollment": 13825
         },
         {
          "Institution Name": "Northeastern University Professional Advancement Network",
          "Latitude": 42.339477,
          "Longitude": -71.087841,
          "Undergraduate enrollment": 3769
         },
         {
          "Institution Name": "Northern Arizona University",
          "Latitude": 35.188449,
          "Longitude": -111.653724,
          "Undergraduate enrollment": 27084
         },
         {
          "Institution Name": "Northern Baptist Theological Seminary",
          "Latitude": 41.842402,
          "Longitude": -87.99985500000003,
          "Undergraduate enrollment": 0
         },
         {
          "Institution Name": "Northern Illinois University",
          "Latitude": 41.933869,
          "Longitude": -88.766428,
          "Undergraduate enrollment": 13457
         },
         {
          "Institution Name": "Northern Kentucky University",
          "Latitude": 39.029714,
          "Longitude": -84.463483,
          "Undergraduate enrollment": 12329
         },
         {
          "Institution Name": "Northern Michigan University",
          "Latitude": 46.559751,
          "Longitude": -87.40656800000002,
          "Undergraduate enrollment": 7018
         },
         {
          "Institution Name": "Northern New Mexico College",
          "Latitude": 36.004073,
          "Longitude": -106.084395,
          "Undergraduate enrollment": 948
         },
         {
          "Institution Name": "Northern State University",
          "Latitude": 45.450829,
          "Longitude": -98.484728,
          "Undergraduate enrollment": 3162
         },
         {
          "Institution Name": "Northland College",
          "Latitude": 46.579087,
          "Longitude": -90.87476,
          "Undergraduate enrollment": 635
         },
         {
          "Institution Name": "Northpoint Bible College",
          "Latitude": 42.765366,
          "Longitude": -71.079336,
          "Undergraduate enrollment": 324
         },
         {
          "Institution Name": "Northwest Christian University",
          "Latitude": 44.047483,
          "Longitude": -123.079754,
          "Undergraduate enrollment": 605
         },
         {
          "Institution Name": "Northwest College of Art & Design",
          "Latitude": 47.710943,
          "Longitude": -122.604201,
          "Undergraduate enrollment": 85
         },
         {
          "Institution Name": "Northwest Florida State College",
          "Latitude": 30.540017,
          "Longitude": -86.47456,
          "Undergraduate enrollment": 5727
         },
         {
          "Institution Name": "Northwest Indian College",
          "Latitude": 48.794131,
          "Longitude": -122.614656,
          "Undergraduate enrollment": 544
         },
         {
          "Institution Name": "Northwest Missouri State University",
          "Latitude": 40.351692,
          "Longitude": -94.883339,
          "Undergraduate enrollment": 5474
         },
         {
          "Institution Name": "Northwest Nazarene University",
          "Latitude": 43.562411,
          "Longitude": -116.565783,
          "Undergraduate enrollment": 1480
         },
         {
          "Institution Name": "Northwest University",
          "Latitude": 47.657945,
          "Longitude": -122.192763,
          "Undergraduate enrollment": 950
         },
         {
          "Institution Name": "Northwest University-College of Adult and Professional Studies",
          "Latitude": 47.657502,
          "Longitude": -122.195774,
          "Undergraduate enrollment": 1020
         },
         {
          "Institution Name": "Northwestern College",
          "Latitude": 42.999007,
          "Longitude": -96.058772,
          "Undergraduate enrollment": 1041
         },
         {
          "Institution Name": "Northwestern Health Sciences University",
          "Latitude": 44.850963,
          "Longitude": -93.311222,
          "Undergraduate enrollment": 89
         },
         {
          "Institution Name": "Northwestern Michigan College",
          "Latitude": 44.765436,
          "Longitude": -85.58551700000002,
          "Undergraduate enrollment": 3954
         },
         {
          "Institution Name": "Northwestern Oklahoma State University",
          "Latitude": 36.796658,
          "Longitude": -98.667673,
          "Undergraduate enrollment": 1879
         },
         {
          "Institution Name": "Northwestern State University of Louisiana",
          "Latitude": 31.750666,
          "Longitude": -93.097797,
          "Undergraduate enrollment": 9443
         },
         {
          "Institution Name": "Northwestern University",
          "Latitude": 42.050356,
          "Longitude": -87.679858,
          "Undergraduate enrollment": 8700
         },
         {
          "Institution Name": "Northwood University",
          "Latitude": 43.628717,
          "Longitude": -84.27682,
          "Undergraduate enrollment": 2951
         },
         {
          "Institution Name": "Norwich University",
          "Latitude": 44.140237,
          "Longitude": -72.65978299999998,
          "Undergraduate enrollment": 3225
         },
         {
          "Institution Name": "Nossi College of Art",
          "Latitude": 36.24334,
          "Longitude": -86.73852099999998,
          "Undergraduate enrollment": 253
         },
         {
          "Institution Name": "Notre Dame College",
          "Latitude": 41.506894,
          "Longitude": -81.51661700000002,
          "Undergraduate enrollment": 1736
         },
         {
          "Institution Name": "Notre Dame de Namur University",
          "Latitude": 37.517501,
          "Longitude": -122.284618,
          "Undergraduate enrollment": 924
         },
         {
          "Institution Name": "Notre Dame of Maryland University",
          "Latitude": 39.350612,
          "Longitude": -76.619739,
          "Undergraduate enrollment": 816
         },
         {
          "Institution Name": "Nova Southeastern University",
          "Latitude": 26.079337,
          "Longitude": -80.24248,
          "Undergraduate enrollment": 4497
         },
         {
          "Institution Name": "Nueta Hidatsa Sahnish College",
          "Latitude": 47.983311,
          "Longitude": -102.472814,
          "Undergraduate enrollment": 228
         },
         {
          "Institution Name": "Nyack College",
          "Latitude": 41.081957,
          "Longitude": -73.927863,
          "Undergraduate enrollment": 1398
         },
         {
          "Institution Name": "O'More College of Design",
          "Latitude": 35.92022700000001,
          "Longitude": -86.868319,
          "Undergraduate enrollment": 157
         },
         {
          "Institution Name": "Oak Hills Christian College",
          "Latitude": 47.425836,
          "Longitude": -94.901503,
          "Undergraduate enrollment": 103
         },
         {
          "Institution Name": "Oakland City University",
          "Latitude": 38.340891,
          "Longitude": -87.35144,
          "Undergraduate enrollment": 1113
         },
         {
          "Institution Name": "Oakland University",
          "Latitude": 42.674573,
          "Longitude": -83.216418,
          "Undergraduate enrollment": 15901
         },
         {
          "Institution Name": "Oakwood University",
          "Latitude": 34.756344,
          "Longitude": -86.65270500000003,
          "Undergraduate enrollment": 1650
         },
         {
          "Institution Name": "Oberlin College",
          "Latitude": 41.291992,
          "Longitude": -82.21679499999998,
          "Undergraduate enrollment": 2827
         },
         {
          "Institution Name": "Oblate School of Theology",
          "Latitude": 29.505488,
          "Longitude": -98.503348,
          "Undergraduate enrollment": 0
         },
         {
          "Institution Name": "Occidental College",
          "Latitude": 34.126224,
          "Longitude": -118.210783,
          "Undergraduate enrollment": 1972
         },
         {
          "Institution Name": "Oglala Lakota College",
          "Latitude": 43.366813,
          "Longitude": -102.240331,
          "Undergraduate enrollment": 1216
         },
         {
          "Institution Name": "Oglethorpe University",
          "Latitude": 33.875440999999995,
          "Longitude": -84.333687,
          "Undergraduate enrollment": 1250
         },
         {
          "Institution Name": "Ohio Christian University",
          "Latitude": 39.613155,
          "Longitude": -82.904885,
          "Undergraduate enrollment": 3990
         },
         {
          "Institution Name": "Ohio Dominican University",
          "Latitude": 39.992764,
          "Longitude": -82.940689,
          "Undergraduate enrollment": 1177
         },
         {
          "Institution Name": "Ohio Northern University",
          "Latitude": 40.7662,
          "Longitude": -83.82744100000002,
          "Undergraduate enrollment": 2312
         },
         {
          "Institution Name": "Ohio State University-Lima Campus",
          "Latitude": 40.738521,
          "Longitude": -84.02384,
          "Undergraduate enrollment": 1007
         },
         {
          "Institution Name": "Ohio State University-Main Campus",
          "Latitude": 39.999324,
          "Longitude": -83.014853,
          "Undergraduate enrollment": 45946
         },
         {
          "Institution Name": "Ohio State University-Mansfield Campus",
          "Latitude": 40.796536,
          "Longitude": -82.58019399999998,
          "Undergraduate enrollment": 1056
         },
         {
          "Institution Name": "Ohio State University-Marion Campus",
          "Latitude": 40.577779,
          "Longitude": -83.090597,
          "Undergraduate enrollment": 1194
         },
         {
          "Institution Name": "Ohio State University-Newark Campus",
          "Latitude": 40.069314,
          "Longitude": -82.447441,
          "Undergraduate enrollment": 2607
         },
         {
          "Institution Name": "Ohio University-Chillicothe Campus",
          "Latitude": 39.329404,
          "Longitude": -83.002175,
          "Undergraduate enrollment": 1691
         },
         {
          "Institution Name": "Ohio University-Eastern Campus",
          "Latitude": 40.073392,
          "Longitude": -80.976073,
          "Undergraduate enrollment": 611
         },
         {
          "Institution Name": "Ohio University-Lancaster Campus",
          "Latitude": 39.73875200000001,
          "Longitude": -82.586069,
          "Undergraduate enrollment": 1615
         },
         {
          "Institution Name": "Ohio University-Main Campus",
          "Latitude": 39.326798,
          "Longitude": -82.100985,
          "Undergraduate enrollment": 23167
         },
         {
          "Institution Name": "Ohio University-Southern Campus",
          "Latitude": 38.524781,
          "Longitude": -82.666876,
          "Undergraduate enrollment": 1387
         },
         {
          "Institution Name": "Ohio University-Zanesville Campus",
          "Latitude": 39.96098,
          "Longitude": -82.031063,
          "Undergraduate enrollment": 1204
         },
         {
          "Institution Name": "Ohio Valley University",
          "Latitude": 39.312447,
          "Longitude": -81.537808,
          "Undergraduate enrollment": 527
         },
         {
          "Institution Name": "Ohio Wesleyan University",
          "Latitude": 40.295963,
          "Longitude": -83.069757,
          "Undergraduate enrollment": 1560
         },
         {
          "Institution Name": "Ohr Hameir Theological Seminary",
          "Latitude": 41.268725,
          "Longitude": -73.88979300000003,
          "Undergraduate enrollment": 101
         },
         {
          "Institution Name": "Oklahoma Baptist University",
          "Latitude": 35.360492,
          "Longitude": -96.932459,
          "Undergraduate enrollment": 1965
         },
         {
          "Institution Name": "Oklahoma Christian University",
          "Latitude": 35.611412,
          "Longitude": -97.469526,
          "Undergraduate enrollment": 1972
         },
         {
          "Institution Name": "Oklahoma City University",
          "Latitude": 35.495271,
          "Longitude": -97.541242,
          "Undergraduate enrollment": 1714
         },
         {
          "Institution Name": "Oklahoma Panhandle State University",
          "Latitude": 36.594518,
          "Longitude": -101.638488,
          "Undergraduate enrollment": 1138
         },
         {
          "Institution Name": "Oklahoma State University Center for Health Sciences",
          "Latitude": 36.137977,
          "Longitude": -96.005702,
          "Undergraduate enrollment": 0
         },
         {
          "Institution Name": "Oklahoma State University Institute of Technology",
          "Latitude": 35.62693400000001,
          "Longitude": -95.940373,
          "Undergraduate enrollment": 2496
         },
         {
          "Institution Name": "Oklahoma State University-Main Campus",
          "Latitude": 36.123085,
          "Longitude": -97.069743,
          "Undergraduate enrollment": 20992
         },
         {
          "Institution Name": "Oklahoma State University-Oklahoma City",
          "Latitude": 35.474969,
          "Longitude": -97.581959,
          "Undergraduate enrollment": 5839
         },
         {
          "Institution Name": "Oklahoma Wesleyan University",
          "Latitude": 36.717453000000006,
          "Longitude": -95.95671,
          "Undergraduate enrollment": 1006
         },
         {
          "Institution Name": "Old Dominion University",
          "Latitude": 36.886418,
          "Longitude": -76.30666,
          "Undergraduate enrollment": 19540
         },
         {
          "Institution Name": "Olivet College",
          "Latitude": 42.442891,
          "Longitude": -84.923891,
          "Undergraduate enrollment": 1177
         },
         {
          "Institution Name": "Olivet Nazarene University",
          "Latitude": 41.155237,
          "Longitude": -87.875165,
          "Undergraduate enrollment": 3371
         },
         {
          "Institution Name": "Olympic College",
          "Latitude": 47.574769,
          "Longitude": -122.635113,
          "Undergraduate enrollment": 6476
         },
         {
          "Institution Name": "Oral Roberts University",
          "Latitude": 36.049129,
          "Longitude": -95.952547,
          "Undergraduate enrollment": 3381
         },
         {
          "Institution Name": "Oregon College of Art and Craft",
          "Latitude": 45.511121,
          "Longitude": -122.761912,
          "Undergraduate enrollment": 109
         },
         {
          "Institution Name": "Oregon College of Oriental Medicine",
          "Latitude": 45.524121,
          "Longitude": -122.671099,
          "Undergraduate enrollment": 0
         },
         {
          "Institution Name": "Oregon Health & Science University",
          "Latitude": 45.498772,
          "Longitude": -122.686096,
          "Undergraduate enrollment": 776
         },
         {
          "Institution Name": "Oregon Institute of Technology",
          "Latitude": 42.25715200000001,
          "Longitude": -121.785177,
          "Undergraduate enrollment": 5380
         },
         {
          "Institution Name": "Oregon State University",
          "Latitude": 44.56395,
          "Longitude": -123.274723,
          "Undergraduate enrollment": 25838
         },
         {
          "Institution Name": "Oregon State University-Cascades Campus",
          "Latitude": 44.042795,
          "Longitude": -121.333703,
          "Undergraduate enrollment": 955
         },
         {
          "Institution Name": "Otis College of Art and Design",
          "Latitude": 33.956607,
          "Longitude": -118.416615,
          "Undergraduate enrollment": 1062
         },
         {
          "Institution Name": "Ottawa University-Jeffersonville",
          "Latitude": 38.327179,
          "Longitude": -85.71137,
          "Undergraduate enrollment": 75
         },
         {
          "Institution Name": "Ottawa University-Kansas City",
          "Latitude": 38.932055,
          "Longitude": -94.635461,
          "Undergraduate enrollment": 345
         },
         {
          "Institution Name": "Ottawa University-Milwaukee",
          "Latitude": 43.02963,
          "Longitude": -88.115185,
          "Undergraduate enrollment": 166
         },
         {
          "Institution Name": "Ottawa University-Online",
          "Latitude": 38.602351,
          "Longitude": -95.264165,
          "Undergraduate enrollment": 157
         },
         {
          "Institution Name": "Ottawa University-Ottawa",
          "Latitude": 38.603173,
          "Longitude": -95.264187,
          "Undergraduate enrollment": 671
         },
         {
          "Institution Name": "Ottawa University-Phoenix",
          "Latitude": 33.572173,
          "Longitude": -112.113001,
          "Undergraduate enrollment": 340
         },
         {
          "Institution Name": "Otterbein University",
          "Latitude": 40.125327,
          "Longitude": -82.936444,
          "Undergraduate enrollment": 2480
         },
         {
          "Institution Name": "Ouachita Baptist University",
          "Latitude": 34.126093,
          "Longitude": -93.052471,
          "Undergraduate enrollment": 1545
         },
         {
          "Institution Name": "Our Lady of the Lake University",
          "Latitude": 29.425611,
          "Longitude": -98.54395,
          "Undergraduate enrollment": 1342
         },
         {
          "Institution Name": "Oxford Graduate School",
          "Latitude": 35.468142,
          "Longitude": -85.053774,
          "Undergraduate enrollment": 0
         },
         {
          "Institution Name": "Ozark Christian College",
          "Latitude": 37.103172,
          "Longitude": -94.510622,
          "Undergraduate enrollment": 587
         },
         {
          "Institution Name": "Pace University-New York",
          "Latitude": 40.711014,
          "Longitude": -74.004719,
          "Undergraduate enrollment": 8674
         },
         {
          "Institution Name": "Pacific College",
          "Latitude": 33.680043,
          "Longitude": -117.873382,
          "Undergraduate enrollment": 350
         },
         {
          "Institution Name": "Pacific College of Oriental Medicine-Chicago",
          "Latitude": 41.886588,
          "Longitude": -87.625488,
          "Undergraduate enrollment": 44
         },
         {
          "Institution Name": "Pacific College of Oriental Medicine-New York",
          "Latitude": 40.7088,
          "Longitude": -74.006721,
          "Undergraduate enrollment": 158
         },
         {
          "Institution Name": "Pacific College of Oriental Medicine-San Diego",
          "Latitude": 32.778391,
          "Longitude": -117.16073,
          "Undergraduate enrollment": 161
         },
         {
          "Institution Name": "Pacific Lutheran University",
          "Latitude": 47.14516,
          "Longitude": -122.440421,
          "Undergraduate enrollment": 2766
         },
         {
          "Institution Name": "Pacific Northwest College of Art",
          "Latitude": 45.526766,
          "Longitude": -122.678182,
          "Undergraduate enrollment": 418
         },
         {
          "Institution Name": "Pacific Northwest University of Health Sciences",
          "Latitude": 46.602872,
          "Longitude": -120.45598,
          "Undergraduate enrollment": 0
         },
         {
          "Institution Name": "Pacific Oaks College",
          "Latitude": 34.153382,
          "Longitude": -118.151323,
          "Undergraduate enrollment": 467
         },
         {
          "Institution Name": "Pacific Rim Christian University",
          "Latitude": 21.328198,
          "Longitude": -157.888379,
          "Undergraduate enrollment": 121
         },
         {
          "Institution Name": "Pacific School of Religion",
          "Latitude": 37.876599,
          "Longitude": -122.263331,
          "Undergraduate enrollment": 0
         },
         {
          "Institution Name": "Pacific States University",
          "Latitude": 34.061315,
          "Longitude": -118.298408,
          "Undergraduate enrollment": 8
         },
         {
          "Institution Name": "Pacific Union College",
          "Latitude": 38.570585,
          "Longitude": -122.440308,
          "Undergraduate enrollment": 1226
         },
         {
          "Institution Name": "Pacific University",
          "Latitude": 45.521394,
          "Longitude": -123.108777,
          "Undergraduate enrollment": 1876
         },
         {
          "Institution Name": "Pacifica Graduate Institute",
          "Latitude": 34.420881,
          "Longitude": -119.580414,
          "Undergraduate enrollment": 0
         },
         {
          "Institution Name": "Paier College of Art Inc",
          "Latitude": 41.347714,
          "Longitude": -72.935048,
          "Undergraduate enrollment": 79
         },
         {
          "Institution Name": "Paine College",
          "Latitude": 33.469545000000004,
          "Longitude": -81.993225,
          "Undergraduate enrollment": 426
         },
         {
          "Institution Name": "Palm Beach Atlantic University",
          "Latitude": 26.7044,
          "Longitude": -80.05247,
          "Undergraduate enrollment": 3003
         },
         {
          "Institution Name": "Palm Beach State College",
          "Latitude": 26.61256,
          "Longitude": -80.08653000000002,
          "Undergraduate enrollment": 30052
         },
         {
          "Institution Name": "Palmer College of Chiropractic",
          "Latitude": 41.529021,
          "Longitude": -90.574607,
          "Undergraduate enrollment": 41
         },
         {
          "Institution Name": "Palo Alto University",
          "Latitude": 37.382216,
          "Longitude": -122.18743700000002,
          "Undergraduate enrollment": 125
         },
         {
          "Institution Name": "Pardee RAND Graduate School",
          "Latitude": 34.00973,
          "Longitude": -118.490655,
          "Undergraduate enrollment": 0
         },
         {
          "Institution Name": "Park University",
          "Latitude": 39.189256,
          "Longitude": -94.679041,
          "Undergraduate enrollment": 9861
         },
         {
          "Institution Name": "Parker University",
          "Latitude": 32.880340999999994,
          "Longitude": -96.893572,
          "Undergraduate enrollment": 330
         },
         {
          "Institution Name": "Pasco-Hernando State College",
          "Latitude": 28.2751,
          "Longitude": -82.646727,
          "Undergraduate enrollment": 11947
         },
         {
          "Institution Name": "Paul Quinn College",
          "Latitude": 32.677195000000005,
          "Longitude": -96.755864,
          "Undergraduate enrollment": 519
         },
         {
          "Institution Name": "Paul Smiths College of Arts and Science",
          "Latitude": 44.433965,
          "Longitude": -74.252675,
          "Undergraduate enrollment": 771
         },
         {
          "Institution Name": "Payne Theological Seminary",
          "Latitude": 39.715286,
          "Longitude": -83.88487099999998,
          "Undergraduate enrollment": 0
         },
         {
          "Institution Name": "Peirce College",
          "Latitude": 39.945483,
          "Longitude": -75.166332,
          "Undergraduate enrollment": 1389
         },
         {
          "Institution Name": "Peninsula College",
          "Latitude": 48.101295,
          "Longitude": -123.412865,
          "Undergraduate enrollment": 2094
         },
         {
          "Institution Name": "Pennsylvania Academy of the Fine Arts",
          "Latitude": 39.955692,
          "Longitude": -75.16345600000002,
          "Undergraduate enrollment": 188
         },
         {
          "Institution Name": "Pennsylvania College of Art and Design",
          "Latitude": 40.041152,
          "Longitude": -76.308769,
          "Undergraduate enrollment": 260
         },
         {
          "Institution Name": "Pennsylvania College of Health Sciences",
          "Latitude": 40.060419,
          "Longitude": -76.247035,
          "Undergraduate enrollment": 1686
         },
         {
          "Institution Name": "Pennsylvania College of Technology",
          "Latitude": 41.234145,
          "Longitude": -77.02366500000002,
          "Undergraduate enrollment": 5457
         },
         {
          "Institution Name": "Pennsylvania State University-College of Medicine",
          "Latitude": 40.264245,
          "Longitude": -76.67408,
          "Undergraduate enrollment": 0
         },
         {
          "Institution Name": "Pennsylvania State University-Dickinson Law",
          "Latitude": 40.199443,
          "Longitude": -77.19779399999999,
          "Undergraduate enrollment": 0
         },
         {
          "Institution Name": "Pennsylvania State University-Main Campus",
          "Latitude": 40.7965,
          "Longitude": -77.862848,
          "Undergraduate enrollment": 40835
         },
         {
          "Institution Name": "Pennsylvania State University-Penn State Abington",
          "Latitude": 40.11683,
          "Longitude": -75.109083,
          "Undergraduate enrollment": 3888
         },
         {
          "Institution Name": "Pennsylvania State University-Penn State Altoona",
          "Latitude": 40.54092,
          "Longitude": -78.408247,
          "Undergraduate enrollment": 3482
         },
         {
          "Institution Name": "Pennsylvania State University-Penn State Beaver",
          "Latitude": 40.678254,
          "Longitude": -80.296235,
          "Undergraduate enrollment": 655
         },
         {
          "Institution Name": "Pennsylvania State University-Penn State Berks",
          "Latitude": 40.357987,
          "Longitude": -75.97214100000002,
          "Undergraduate enrollment": 2719
         },
         {
          "Institution Name": "Pennsylvania State University-Penn State Brandywine",
          "Latitude": 39.926381,
          "Longitude": -75.44698299999997,
          "Undergraduate enrollment": 1438
         },
         {
          "Institution Name": "Pennsylvania State University-Penn State DuBois",
          "Latitude": 41.126941,
          "Longitude": -78.751784,
          "Undergraduate enrollment": 585
         },
         {
          "Institution Name": "Pennsylvania State University-Penn State Erie-Behrend College",
          "Latitude": 42.119433,
          "Longitude": -79.983773,
          "Undergraduate enrollment": 4345
         },
         {
          "Institution Name": "Pennsylvania State University-Penn State Fayette- Eberly",
          "Latitude": 39.947217,
          "Longitude": -79.65776899999999,
          "Undergraduate enrollment": 652
         },
         {
          "Institution Name": "Pennsylvania State University-Penn State Great Valley",
          "Latitude": 40.052256,
          "Longitude": -75.522545,
          "Undergraduate enrollment": 0
         },
         {
          "Institution Name": "Pennsylvania State University-Penn State Greater Allegheny",
          "Latitude": 40.345582,
          "Longitude": -79.82744699999998,
          "Undergraduate enrollment": 497
         },
         {
          "Institution Name": "Pennsylvania State University-Penn State Harrisburg",
          "Latitude": 40.203766,
          "Longitude": -76.7423,
          "Undergraduate enrollment": 4286
         },
         {
          "Institution Name": "Pennsylvania State University-Penn State Hazleton",
          "Latitude": 40.983958,
          "Longitude": -76.031061,
          "Undergraduate enrollment": 755
         },
         {
          "Institution Name": "Pennsylvania State University-Penn State Lehigh Valley",
          "Latitude": 40.559208,
          "Longitude": -75.402507,
          "Undergraduate enrollment": 900
         },
         {
          "Institution Name": "Pennsylvania State University-Penn State Mont Alto",
          "Latitude": 39.842047,
          "Longitude": -77.542355,
          "Undergraduate enrollment": 917
         },
         {
          "Institution Name": "Pennsylvania State University-Penn State New Kensington",
          "Latitude": 40.55115900000001,
          "Longitude": -79.697232,
          "Undergraduate enrollment": 595
         },
         {
          "Institution Name": "Pennsylvania State University-Penn State Schuylkill",
          "Latitude": 40.640499,
          "Longitude": -76.166326,
          "Undergraduate enrollment": 732
         },
         {
          "Institution Name": "Pennsylvania State University-Penn State Shenango",
          "Latitude": 41.235053,
          "Longitude": -80.508764,
          "Undergraduate enrollment": 490
         },
         {
          "Institution Name": "Pennsylvania State University-Penn State Wilkes-Barre",
          "Latitude": 41.306003,
          "Longitude": -76.016599,
          "Undergraduate enrollment": 456
         },
         {
          "Institution Name": "Pennsylvania State University-Penn State Worthington Scranton",
          "Latitude": 41.440258,
          "Longitude": -75.620583,
          "Undergraduate enrollment": 1029
         },
         {
          "Institution Name": "Pennsylvania State University-Penn State York",
          "Latitude": 39.952327,
          "Longitude": -76.702835,
          "Undergraduate enrollment": 967
         },
         {
          "Institution Name": "Pennsylvania State University-World Campus",
          "Latitude": 40.832783,
          "Longitude": -77.841594,
          "Undergraduate enrollment": 8513
         },
         {
          "Institution Name": "Pensacola State College",
          "Latitude": 30.479267,
          "Longitude": -87.200265,
          "Undergraduate enrollment": 9655
         },
         {
          "Institution Name": "Pentecostal Theological Seminary",
          "Latitude": 35.162528,
          "Longitude": -84.868326,
          "Undergraduate enrollment": 201
         },
         {
          "Institution Name": "Pepperdine University",
          "Latitude": 34.037786,
          "Longitude": -118.707077,
          "Undergraduate enrollment": 3604
         },
         {
          "Institution Name": "Peru State College",
          "Latitude": 40.474689,
          "Longitude": -95.732731,
          "Undergraduate enrollment": 2046
         },
         {
          "Institution Name": "Pfeiffer University",
          "Latitude": 35.484696,
          "Longitude": -80.283168,
          "Undergraduate enrollment": 813
         },
         {
          "Institution Name": "Philadelphia College of Osteopathic Medicine",
          "Latitude": 40.004885,
          "Longitude": -75.216092,
          "Undergraduate enrollment": 0
         },
         {
          "Institution Name": "Philander Smith College",
          "Latitude": 34.737131,
          "Longitude": -92.283015,
          "Undergraduate enrollment": 891
         },
         {
          "Institution Name": "Phillips Graduate University",
          "Latitude": 34.242,
          "Longitude": -118.567688,
          "Undergraduate enrollment": 0
         },
         {
          "Institution Name": "Phillips School of Nursing at Mount Sinai Beth Israel",
          "Latitude": 40.744973,
          "Longitude": -73.990936,
          "Undergraduate enrollment": 178
         },
         {
          "Institution Name": "Phillips Theological Seminary",
          "Latitude": 36.167983,
          "Longitude": -95.868146,
          "Undergraduate enrollment": 0
         },
         {
          "Institution Name": "Phoenix Institute of Herbal Medicine & Acupuncture",
          "Latitude": 33.522890000000004,
          "Longitude": -112.068783,
          "Undergraduate enrollment": 0
         },
         {
          "Institution Name": "Phoenix Seminary",
          "Latitude": 33.581645,
          "Longitude": -111.910665,
          "Undergraduate enrollment": 0
         },
         {
          "Institution Name": "Piedmont College",
          "Latitude": 34.566042,
          "Longitude": -83.542126,
          "Undergraduate enrollment": 1281
         },
         {
          "Institution Name": "Piedmont International University",
          "Latitude": 36.087962,
          "Longitude": -80.250153,
          "Undergraduate enrollment": 336
         },
         {
          "Institution Name": "Pierce College-Fort Steilacoom",
          "Latitude": 47.172082,
          "Longitude": -122.570935,
          "Undergraduate enrollment": 6048
         },
         {
          "Institution Name": "Pillar College",
          "Latitude": 40.738539,
          "Longitude": -74.16915300000002,
          "Undergraduate enrollment": 501
         },
         {
          "Institution Name": "Pima Medical Institute-Tucson",
          "Latitude": 32.2502,
          "Longitude": -110.921301,
          "Undergraduate enrollment": 2300
         },
         {
          "Institution Name": "Pinchot University",
          "Latitude": 47.600511,
          "Longitude": -122.331256,
          "Undergraduate enrollment": 0
         },
         {
          "Institution Name": "Pine Manor College",
          "Latitude": 42.320827,
          "Longitude": -71.156464,
          "Undergraduate enrollment": 419
         },
         {
          "Institution Name": "Pioneer Pacific College",
          "Latitude": 45.321099,
          "Longitude": -122.76826,
          "Undergraduate enrollment": 1036
         },
         {
          "Institution Name": "Pittsburg State University",
          "Latitude": 37.392071,
          "Longitude": -94.702473,
          "Undergraduate enrollment": 5706
         },
         {
          "Institution Name": "Pittsburgh Technical College",
          "Latitude": 40.424679,
          "Longitude": -80.18940400000002,
          "Undergraduate enrollment": 1835
         },
         {
          "Institution Name": "Pittsburgh Theological Seminary",
          "Latitude": 40.467347,
          "Longitude": -79.921397,
          "Undergraduate enrollment": 0
         },
         {
          "Institution Name": "Pitzer College",
          "Latitude": 34.104107,
          "Longitude": -117.706675,
          "Undergraduate enrollment": 1074
         },
         {
          "Institution Name": "Platt College-Anaheim",
          "Latitude": 33.809417,
          "Longitude": -117.878211,
          "Undergraduate enrollment": 240
         },
         {
          "Institution Name": "Platt College-Aurora",
          "Latitude": 39.661195,
          "Longitude": -104.854614,
          "Undergraduate enrollment": 236
         },
         {
          "Institution Name": "Platt College-Los Angeles",
          "Latitude": 34.081723,
          "Longitude": -118.150013,
          "Undergraduate enrollment": 587
         },
         {
          "Institution Name": "Platt College-Ontario",
          "Latitude": 34.068595,
          "Longitude": -117.571744,
          "Undergraduate enrollment": 527
         },
         {
          "Institution Name": "Platt College-Riverside",
          "Latitude": 33.932922999999995,
          "Longitude": -117.298365,
          "Undergraduate enrollment": 524
         },
         {
          "Institution Name": "Platt College-San Diego",
          "Latitude": 32.763729999999995,
          "Longitude": -117.063483,
          "Undergraduate enrollment": 178
         },
         {
          "Institution Name": "Plaza College",
          "Latitude": 40.714894,
          "Longitude": -73.83115600000002,
          "Undergraduate enrollment": 909
         },
         {
          "Institution Name": "Plymouth State University",
          "Latitude": 43.759573,
          "Longitude": -71.690164,
          "Undergraduate enrollment": 4148
         },
         {
          "Institution Name": "Point Loma Nazarene University",
          "Latitude": 32.718391,
          "Longitude": -117.25026499999998,
          "Undergraduate enrollment": 3100
         },
         {
          "Institution Name": "Point Park University",
          "Latitude": 40.438768,
          "Longitude": -80.002061,
          "Undergraduate enrollment": 3281
         },
         {
          "Institution Name": "Point University",
          "Latitude": 32.87912,
          "Longitude": -85.184931,
          "Undergraduate enrollment": 1926
         },
         {
          "Institution Name": "Polk State College",
          "Latitude": 28.032411,
          "Longitude": -81.711873,
          "Undergraduate enrollment": 10659
         },
         {
          "Institution Name": "Polytechnic University of Puerto Rico-Miami",
          "Latitude": 25.80915,
          "Longitude": -80.328482,
          "Undergraduate enrollment": 61
         },
         {
          "Institution Name": "Polytechnic University of Puerto Rico-Orlando",
          "Latitude": 28.55158,
          "Longitude": -81.253943,
          "Undergraduate enrollment": 124
         },
         {
          "Institution Name": "Pomona College",
          "Latitude": 34.098298,
          "Longitude": -117.711944,
          "Undergraduate enrollment": 1599
         },
         {
          "Institution Name": "Pontifical College Josephinum",
          "Latitude": 40.120735,
          "Longitude": -83.018829,
          "Undergraduate enrollment": 90
         },
         {
          "Institution Name": "Pontifical Faculty of the Immaculate Conception at the Dominican House of Studies",
          "Latitude": 38.931652,
          "Longitude": -76.998724,
          "Undergraduate enrollment": 0
         },
         {
          "Institution Name": "Pontifical John Paul II Institute for Studies on Marriage and Family",
          "Latitude": 38.933246,
          "Longitude": -76.99860600000002,
          "Undergraduate enrollment": 0
         },
         {
          "Institution Name": "Pope St John XXIII National Seminary",
          "Latitude": 42.339408,
          "Longitude": -71.311059,
          "Undergraduate enrollment": 0
         },
         {
          "Institution Name": "Portland State University",
          "Latitude": 45.511601,
          "Longitude": -122.686289,
          "Undergraduate enrollment": 21167
         },
         {
          "Institution Name": "Post University",
          "Latitude": 41.535549,
          "Longitude": -73.081497,
          "Undergraduate enrollment": 7844
         },
         {
          "Institution Name": "Potomac State College of West Virginia University",
          "Latitude": 39.438323,
          "Longitude": -78.981441,
          "Undergraduate enrollment": 1410
         },
         {
          "Institution Name": "Prairie View A & M University",
          "Latitude": 30.092425,
          "Longitude": -95.989475,
          "Undergraduate enrollment": 7975
         },
         {
          "Institution Name": "Pratt Institute-Main",
          "Latitude": 40.691297,
          "Longitude": -73.96431,
          "Undergraduate enrollment": 3645
         },
         {
          "Institution Name": "Presbyterian College",
          "Latitude": 34.465834,
          "Longitude": -81.87448,
          "Undergraduate enrollment": 1016
         },
         {
          "Institution Name": "Presbyterian Theological Seminary in America",
          "Latitude": 33.88856,
          "Longitude": -118.047065,
          "Undergraduate enrollment": 41
         },
         {
          "Institution Name": "Prescott College",
          "Latitude": 34.5452,
          "Longitude": -112.477185,
          "Undergraduate enrollment": 390
         },
         {
          "Institution Name": "Presentation College",
          "Latitude": 45.483339,
          "Longitude": -98.49129,
          "Undergraduate enrollment": 761
         },
         {
          "Institution Name": "Presidio Graduate School",
          "Latitude": 37.80026,
          "Longitude": -122.475292,
          "Undergraduate enrollment": 0
         },
         {
          "Institution Name": "Princeton Theological Seminary",
          "Latitude": 40.345849,
          "Longitude": -74.66645,
          "Undergraduate enrollment": 0
         },
         {
          "Institution Name": "Princeton University",
          "Latitude": 40.348732,
          "Longitude": -74.65936500000002,
          "Undergraduate enrollment": 5394
         },
         {
          "Institution Name": "Providence Christian College",
          "Latitude": 34.172467,
          "Longitude": -118.118842,
          "Undergraduate enrollment": 167
         },
         {
          "Institution Name": "Providence College",
          "Latitude": 41.842742,
          "Longitude": -71.437446,
          "Undergraduate enrollment": 4079
         },
         {
          "Institution Name": "Provo College",
          "Latitude": 40.245294,
          "Longitude": -111.68431,
          "Undergraduate enrollment": 502
         },
         {
          "Institution Name": "Pueblo Community College",
          "Latitude": 38.262124,
          "Longitude": -104.636258,
          "Undergraduate enrollment": 5991
         },
         {
          "Institution Name": "Purdue University Northwest",
          "Latitude": 41.584324,
          "Longitude": -87.474236,
          "Undergraduate enrollment": 11134
         },
         {
          "Institution Name": "Purdue University-Main Campus",
          "Latitude": 40.428206,
          "Longitude": -86.914435,
          "Undergraduate enrollment": 32132
         },
         {
          "Institution Name": "Queens University of Charlotte",
          "Latitude": 35.189051,
          "Longitude": -80.83350899999998,
          "Undergraduate enrollment": 1719
         },
         {
          "Institution Name": "Quincy University",
          "Latitude": 39.938898,
          "Longitude": -91.385975,
          "Undergraduate enrollment": 989
         },
         {
          "Institution Name": "Quinnipiac University",
          "Latitude": 41.41891500000001,
          "Longitude": -72.89411700000002,
          "Undergraduate enrollment": 7305
         },
         {
          "Institution Name": "Rabbi Jacob Joseph School",
          "Latitude": 40.501001,
          "Longitude": -74.397954,
          "Undergraduate enrollment": 86
         },
         {
          "Institution Name": "Rabbinical Academy Mesivta Rabbi Chaim Berlin",
          "Latitude": 40.618467,
          "Longitude": -73.963702,
          "Undergraduate enrollment": 151
         },
         {
          "Institution Name": "Rabbinical College Beth Shraga",
          "Latitude": 41.114116,
          "Longitude": -74.07258,
          "Undergraduate enrollment": 39
         },
         {
          "Institution Name": "Rabbinical College Bobover Yeshiva Bnei Zion",
          "Latitude": 40.631954,
          "Longitude": -73.985026,
          "Undergraduate enrollment": 305
         },
         {
          "Institution Name": "Rabbinical College of America",
          "Latitude": 40.805705,
          "Longitude": -74.49878000000002,
          "Undergraduate enrollment": 227
         },
         {
          "Institution Name": "Rabbinical College of Long Island",
          "Latitude": 40.586427,
          "Longitude": -73.670238,
          "Undergraduate enrollment": 143
         },
         {
          "Institution Name": "Rabbinical College of Ohr Shimon Yisroel",
          "Latitude": 40.704389,
          "Longitude": -73.956772,
          "Undergraduate enrollment": 227
         },
         {
          "Institution Name": "Rabbinical College Ohr Yisroel",
          "Latitude": 40.629707,
          "Longitude": -73.896524,
          "Undergraduate enrollment": 116
         },
         {
          "Institution Name": "Rabbinical College Telshe",
          "Latitude": 41.593533,
          "Longitude": -81.485261,
          "Undergraduate enrollment": 37
         },
         {
          "Institution Name": "Rabbinical Seminary of America",
          "Latitude": 40.72308,
          "Longitude": -73.817161,
          "Undergraduate enrollment": 263
         },
         {
          "Institution Name": "Radford University",
          "Latitude": 37.136914,
          "Longitude": -80.54973100000002,
          "Undergraduate enrollment": 8418
         },
         {
          "Institution Name": "Radiological Technologies University VT",
          "Latitude": 41.67338,
          "Longitude": -86.24973,
          "Undergraduate enrollment": 50
         },
         {
          "Institution Name": "Ramapo College of New Jersey",
          "Latitude": 41.080942,
          "Longitude": -74.174086,
          "Undergraduate enrollment": 5618
         },
         {
          "Institution Name": "Randall University",
          "Latitude": 35.300757,
          "Longitude": -97.491107,
          "Undergraduate enrollment": 304
         },
         {
          "Institution Name": "Randolph College",
          "Latitude": 37.437429,
          "Longitude": -79.17079,
          "Undergraduate enrollment": 663
         },
         {
          "Institution Name": "Randolph-Macon College",
          "Latitude": 37.76043,
          "Longitude": -77.47841600000002,
          "Undergraduate enrollment": 1453
         },
         {
          "Institution Name": "Ranken Technical College",
          "Latitude": 38.653303,
          "Longitude": -90.248465,
          "Undergraduate enrollment": 1644
         },
         {
          "Institution Name": "Rasmussen College-Florida",
          "Latitude": 29.140099,
          "Longitude": -82.197343,
          "Undergraduate enrollment": 8141
         },
         {
          "Institution Name": "Rasmussen College-Illinois",
          "Latitude": 42.267628,
          "Longitude": -88.99885400000002,
          "Undergraduate enrollment": 1674
         },
         {
          "Institution Name": "Rasmussen College-Kansas",
          "Latitude": 39.056302,
          "Longitude": -95.751719,
          "Undergraduate enrollment": 376
         },
         {
          "Institution Name": "Rasmussen College-Minnesota",
          "Latitude": 45.548117,
          "Longitude": -94.206254,
          "Undergraduate enrollment": 4506
         },
         {
          "Institution Name": "Rasmussen College-North Dakota",
          "Latitude": 46.848362,
          "Longitude": -96.848937,
          "Undergraduate enrollment": 527
         },
         {
          "Institution Name": "Rasmussen College-Wisconsin",
          "Latitude": 44.526244,
          "Longitude": -88.080783,
          "Undergraduate enrollment": 706
         },
         {
          "Institution Name": "Reconstructionist Rabbinical College",
          "Latitude": 40.08768900000001,
          "Longitude": -75.149506,
          "Undergraduate enrollment": 0
         },
         {
          "Institution Name": "Red Rocks Community College",
          "Latitude": 39.720277,
          "Longitude": -105.150094,
          "Undergraduate enrollment": 7323
         },
         {
          "Institution Name": "Reed College",
          "Latitude": 45.48095900000001,
          "Longitude": -122.630348,
          "Undergraduate enrollment": 1447
         },
         {
          "Institution Name": "Reformed Presbyterian Theological Seminary",
          "Latitude": 40.447417,
          "Longitude": -79.897657,
          "Undergraduate enrollment": 0
         },
         {
          "Institution Name": "Reformed University",
          "Latitude": 33.971965999999995,
          "Longitude": -84.07814,
          "Undergraduate enrollment": 117
         },
         {
          "Institution Name": "Regent University",
          "Latitude": 36.801173,
          "Longitude": -76.194627,
          "Undergraduate enrollment": 4279
         },
         {
          "Institution Name": "Regis College",
          "Latitude": 42.351105,
          "Longitude": -71.309126,
          "Undergraduate enrollment": 1250
         },
         {
          "Institution Name": "Regis University",
          "Latitude": 39.788175,
          "Longitude": -105.030756,
          "Undergraduate enrollment": 4084
         },
         {
          "Institution Name": "Reinhardt University",
          "Latitude": 34.319756,
          "Longitude": -84.554264,
          "Undergraduate enrollment": 1408
         },
         {
          "Institution Name": "Relay Graduate School of Education",
          "Latitude": 40.740511,
          "Longitude": -73.99340699999998,
          "Undergraduate enrollment": 170
         },
         {
          "Institution Name": "Remington College-Dallas Campus",
          "Latitude": 32.8606,
          "Longitude": -96.654112,
          "Undergraduate enrollment": 971
         },
         {
          "Institution Name": "Remington College-Fort Worth Campus",
          "Latitude": 32.775981,
          "Longitude": -97.213562,
          "Undergraduate enrollment": 558
         },
         {
          "Institution Name": "Remington College-Heathrow Campus",
          "Latitude": 28.784765000000004,
          "Longitude": -81.359465,
          "Undergraduate enrollment": 267
         },
         {
          "Institution Name": "Remington College-Honolulu Campus",
          "Latitude": 21.309273,
          "Longitude": -157.86002299999996,
          "Undergraduate enrollment": 287
         },
         {
          "Institution Name": "Remington College-Memphis Campus",
          "Latitude": 35.071403000000004,
          "Longitude": -89.98988100000003,
          "Undergraduate enrollment": 697
         },
         {
          "Institution Name": "Remington College-Mobile Campus",
          "Latitude": 30.671139,
          "Longitude": -88.145035,
          "Undergraduate enrollment": 373
         },
         {
          "Institution Name": "Remington College-North Houston Campus",
          "Latitude": 29.946669,
          "Longitude": -95.424917,
          "Undergraduate enrollment": 554
         },
         {
          "Institution Name": "Remington College-Shreveport Campus",
          "Latitude": 32.403166,
          "Longitude": -93.793578,
          "Undergraduate enrollment": 399
         },
         {
          "Institution Name": "Rensselaer at Hartford",
          "Latitude": 41.773462,
          "Longitude": -72.673916,
          "Undergraduate enrollment": 0
         },
         {
          "Institution Name": "Rensselaer Polytechnic Institute",
          "Latitude": 42.729978,
          "Longitude": -73.67664599999998,
          "Undergraduate enrollment": 6366
         },
         {
          "Institution Name": "Renton Technical College",
          "Latitude": 47.489206,
          "Longitude": -122.176303,
          "Undergraduate enrollment": 3763
         },
         {
          "Institution Name": "Research College of Nursing",
          "Latitude": 39.006611,
          "Longitude": -94.556762,
          "Undergraduate enrollment": 129
         },
         {
          "Institution Name": "Resurrection University",
          "Latitude": 41.90748,
          "Longitude": -87.685291,
          "Undergraduate enrollment": 684
         },
         {
          "Institution Name": "Rhode Island College",
          "Latitude": 41.842415,
          "Longitude": -71.46556,
          "Undergraduate enrollment": 7077
         },
         {
          "Institution Name": "Rhode Island School of Design",
          "Latitude": 41.825935,
          "Longitude": -71.407692,
          "Undergraduate enrollment": 1976
         },
         {
          "Institution Name": "Rhodes College",
          "Latitude": 35.154424,
          "Longitude": -89.989187,
          "Undergraduate enrollment": 1988
         },
         {
          "Institution Name": "Rice University",
          "Latitude": 29.717897,
          "Longitude": -95.402035,
          "Undergraduate enrollment": 4001
         },
         {
          "Institution Name": "Richmont Graduate University",
          "Latitude": 35.036337,
          "Longitude": -85.274642,
          "Undergraduate enrollment": 0
         },
         {
          "Institution Name": "Rider University",
          "Latitude": 40.278796,
          "Longitude": -74.737833,
          "Undergraduate enrollment": 4094
         },
         {
          "Institution Name": "Ringling College of Art and Design",
          "Latitude": 27.360931,
          "Longitude": -82.547803,
          "Undergraduate enrollment": 1456
         },
         {
          "Institution Name": "Rio Hondo College",
          "Latitude": 34.01987800000001,
          "Longitude": -118.033329,
          "Undergraduate enrollment": 19948
         },
         {
          "Institution Name": "Ripon College",
          "Latitude": 43.844135,
          "Longitude": -88.842333,
          "Undergraduate enrollment": 756
         },
         {
          "Institution Name": "Rivier University",
          "Latitude": 42.738676,
          "Longitude": -71.45626,
          "Undergraduate enrollment": 1426
         },
         {
          "Institution Name": "Roanoke College",
          "Latitude": 37.29686,
          "Longitude": -80.056433,
          "Undergraduate enrollment": 2035
         },
         {
          "Institution Name": "Robert Morris University",
          "Latitude": 40.520415,
          "Longitude": -80.210468,
          "Undergraduate enrollment": 4243
         },
         {
          "Institution Name": "Robert Morris University Illinois",
          "Latitude": 41.876278000000006,
          "Longitude": -87.62706800000002,
          "Undergraduate enrollment": 2003
         },
         {
          "Institution Name": "Roberts Wesleyan College",
          "Latitude": 43.125755,
          "Longitude": -77.798498,
          "Undergraduate enrollment": 1321
         },
         {
          "Institution Name": "Rochester College",
          "Latitude": 42.667521,
          "Longitude": -83.144959,
          "Undergraduate enrollment": 1153
         },
         {
          "Institution Name": "Rochester Institute of Technology",
          "Latitude": 43.084188,
          "Longitude": -77.67385999999998,
          "Undergraduate enrollment": 13515
         },
         {
          "Institution Name": "Rockford University",
          "Latitude": 42.270639,
          "Longitude": -89.019536,
          "Undergraduate enrollment": 1062
         },
         {
          "Institution Name": "Rockhurst University",
          "Latitude": 39.032318,
          "Longitude": -94.573003,
          "Undergraduate enrollment": 2208
         },
         {
          "Institution Name": "Rocky Mountain College",
          "Latitude": 45.796522,
          "Longitude": -108.554075,
          "Undergraduate enrollment": 898
         },
         {
          "Institution Name": "Rocky Mountain College of Art and Design",
          "Latitude": 39.74332,
          "Longitude": -105.069911,
          "Undergraduate enrollment": 864
         },
         {
          "Institution Name": "Rocky Mountain University of Health Professions",
          "Latitude": 40.211724,
          "Longitude": -111.656188,
          "Undergraduate enrollment": 0
         },
         {
          "Institution Name": "Rocky Vista University",
          "Latitude": 39.563516,
          "Longitude": -104.815034,
          "Undergraduate enrollment": 0
         },
         {
          "Institution Name": "Roger Williams University",
          "Latitude": 41.650214,
          "Longitude": -71.260374,
          "Undergraduate enrollment": 4703
         },
         {
          "Institution Name": "Roger Williams University School of Law",
          "Latitude": 41.650974,
          "Longitude": -71.261978,
          "Undergraduate enrollment": 0
         },
         {
          "Institution Name": "Rogers State University",
          "Latitude": 36.321437,
          "Longitude": -95.635718,
          "Undergraduate enrollment": 3697
         },
         {
          "Institution Name": "Rollins College",
          "Latitude": 28.592787,
          "Longitude": -81.349239,
          "Undergraduate enrollment": 2612
         },
         {
          "Institution Name": "Roosevelt University",
          "Latitude": 41.876055,
          "Longitude": -87.62495200000002,
          "Undergraduate enrollment": 2578
         },
         {
          "Institution Name": "Rosalind Franklin University of Medicine and Science",
          "Latitude": 42.300069,
          "Longitude": -87.85963199999998,
          "Undergraduate enrollment": 0
         },
         {
          "Institution Name": "Rose-Hulman Institute of Technology",
          "Latitude": 39.48360200000001,
          "Longitude": -87.32674899999998,
          "Undergraduate enrollment": 2168
         },
         {
          "Institution Name": "Roseman University of Health Sciences",
          "Latitude": 36.073182,
          "Longitude": -115.064633,
          "Undergraduate enrollment": 505
         },
         {
          "Institution Name": "Rosemont College",
          "Latitude": 40.033417,
          "Longitude": -75.32925,
          "Undergraduate enrollment": 635
         },
         {
          "Institution Name": "Rowan University",
          "Latitude": 39.709108,
          "Longitude": -75.119119,
          "Undergraduate enrollment": 15401
         },
         {
          "Institution Name": "Rush University",
          "Latitude": 41.874742,
          "Longitude": -87.668581,
          "Undergraduate enrollment": 109
         },
         {
          "Institution Name": "Rust College",
          "Latitude": 34.776862,
          "Longitude": -89.446999,
          "Undergraduate enrollment": 860
         },
         {
          "Institution Name": "Rutgers University-Camden",
          "Latitude": 39.948064,
          "Longitude": -75.12224,
          "Undergraduate enrollment": 5489
         },
         {
          "Institution Name": "Rutgers University-New Brunswick",
          "Latitude": 40.498769,
          "Longitude": -74.446251,
          "Undergraduate enrollment": 35641
         },
         {
          "Institution Name": "Rutgers University-Newark",
          "Latitude": 40.739122,
          "Longitude": -74.175809,
          "Undergraduate enrollment": 8551
         },
         {
          "Institution Name": "Sacred Heart Major Seminary",
          "Latitude": 42.375248,
          "Longitude": -83.111682,
          "Undergraduate enrollment": 285
         },
         {
          "Institution Name": "Sacred Heart Seminary and School of Theology",
          "Latitude": 42.910829,
          "Longitude": -88.04438,
          "Undergraduate enrollment": 0
         },
         {
          "Institution Name": "Sacred Heart University",
          "Latitude": 41.220893,
          "Longitude": -73.243332,
          "Undergraduate enrollment": 5603
         },
         {
          "Institution Name": "SAE Expression College",
          "Latitude": 37.847631,
          "Longitude": -122.2954,
          "Undergraduate enrollment": 345
         },
         {
          "Institution Name": "Saginaw Valley State University",
          "Latitude": 43.51176,
          "Longitude": -83.96427299999998,
          "Undergraduate enrollment": 7846
         },
         {
          "Institution Name": "Saint Ambrose University",
          "Latitude": 41.54065,
          "Longitude": -90.579854,
          "Undergraduate enrollment": 2368
         },
         {
          "Institution Name": "Saint Anselm College",
          "Latitude": 42.986889,
          "Longitude": -71.503622,
          "Undergraduate enrollment": 1964
         },
         {
          "Institution Name": "Saint Anthony College of Nursing",
          "Latitude": 42.310147,
          "Longitude": -88.991968,
          "Undergraduate enrollment": 199
         },
         {
          "Institution Name": "Saint Augustine College",
          "Latitude": 41.972414,
          "Longitude": -87.662806,
          "Undergraduate enrollment": 1256
         },
         {
          "Institution Name": "Saint Augustine's University",
          "Latitude": 35.785468,
          "Longitude": -78.621301,
          "Undergraduate enrollment": 974
         },
         {
          "Institution Name": "Saint Charles Borromeo Seminary-Overbrook",
          "Latitude": 39.99133,
          "Longitude": -75.255675,
          "Undergraduate enrollment": 95
         },
         {
          "Institution Name": "Saint Cloud State University",
          "Latitude": 45.553227,
          "Longitude": -94.152657,
          "Undergraduate enrollment": 13128
         },
         {
          "Institution Name": "Saint Edward's University",
          "Latitude": 30.229844,
          "Longitude": -97.75763,
          "Undergraduate enrollment": 3941
         },
         {
          "Institution Name": "Saint Francis Medical Center College of Nursing",
          "Latitude": 40.701241,
          "Longitude": -89.590322,
          "Undergraduate enrollment": 405
         },
         {
          "Institution Name": "Saint Francis University",
          "Latitude": 40.506734,
          "Longitude": -78.63904000000002,
          "Undergraduate enrollment": 2117
         },
         {
          "Institution Name": "Saint John Fisher College",
          "Latitude": 43.116259,
          "Longitude": -77.513056,
          "Undergraduate enrollment": 2749
         },
         {
          "Institution Name": "Saint John Vianney College Seminary",
          "Latitude": 25.742579,
          "Longitude": -80.337411,
          "Undergraduate enrollment": 56
         },
         {
          "Institution Name": "Saint John's Seminary",
          "Latitude": 42.344146,
          "Longitude": -71.161998,
          "Undergraduate enrollment": 26
         },
         {
          "Institution Name": "Saint Johns River State College",
          "Latitude": 29.647516,
          "Longitude": -81.681387,
          "Undergraduate enrollment": 7249
         },
         {
          "Institution Name": "Saint Johns University",
          "Latitude": 45.580075,
          "Longitude": -94.393621,
          "Undergraduate enrollment": 1720
         },
         {
          "Institution Name": "Saint Joseph Seminary College",
          "Latitude": 30.526778000000004,
          "Longitude": -90.113621,
          "Undergraduate enrollment": 146
         },
         {
          "Institution Name": "Saint Joseph's College of Maine",
          "Latitude": 43.826314,
          "Longitude": -70.483373,
          "Undergraduate enrollment": 1533
         },
         {
          "Institution Name": "Saint Joseph's University",
          "Latitude": 39.994442,
          "Longitude": -75.238343,
          "Undergraduate enrollment": 5144
         },
         {
          "Institution Name": "Saint Leo University",
          "Latitude": 28.336776,
          "Longitude": -82.257801,
          "Undergraduate enrollment": 9671
         },
         {
          "Institution Name": "Saint Louis Christian College",
          "Latitude": 38.775771,
          "Longitude": -90.294569,
          "Undergraduate enrollment": 82
         },
         {
          "Institution Name": "Saint Louis University",
          "Latitude": 38.636801,
          "Longitude": -90.2351,
          "Undergraduate enrollment": 9910
         },
         {
          "Institution Name": "Saint Luke's College of Health Sciences",
          "Latitude": 39.051884,
          "Longitude": -94.594656,
          "Undergraduate enrollment": 478
         },
         {
          "Institution Name": "Saint Martin's University",
          "Latitude": 47.041068,
          "Longitude": -122.816354,
          "Undergraduate enrollment": 1316
         },
         {
          "Institution Name": "Saint Mary's College",
          "Latitude": 41.707274,
          "Longitude": -86.256947,
          "Undergraduate enrollment": 1531
         },
         {
          "Institution Name": "Saint Mary's College of California",
          "Latitude": 37.840731,
          "Longitude": -122.109031,
          "Undergraduate enrollment": 2777
         },
         {
          "Institution Name": "Saint Mary's University of Minnesota",
          "Latitude": 44.044736,
          "Longitude": -91.695449,
          "Undergraduate enrollment": 1503
         },
         {
          "Institution Name": "Saint Mary-of-the-Woods College",
          "Latitude": 39.508546,
          "Longitude": -87.463791,
          "Undergraduate enrollment": 660
         },
         {
          "Institution Name": "Saint Meinrad School of Theology",
          "Latitude": 38.165546,
          "Longitude": -86.810388,
          "Undergraduate enrollment": 0
         },
         {
          "Institution Name": "Saint Michael's College",
          "Latitude": 44.49455800000001,
          "Longitude": -73.167069,
          "Undergraduate enrollment": 1792
         },
         {
          "Institution Name": "Saint Norbert College",
          "Latitude": 44.44483,
          "Longitude": -88.067812,
          "Undergraduate enrollment": 2067
         },
         {
          "Institution Name": "Saint Paul School of Theology",
          "Latitude": 38.880458,
          "Longitude": -94.641277,
          "Undergraduate enrollment": 0
         },
         {
          "Institution Name": "Saint Peter's University",
          "Latitude": 40.727105,
          "Longitude": -74.071541,
          "Undergraduate enrollment": 2637
         },
         {
          "Institution Name": "Saint Vincent College",
          "Latitude": 40.29265,
          "Longitude": -79.403762,
          "Undergraduate enrollment": 1667
         },
         {
          "Institution Name": "Saint Vincent de Paul Regional Seminary",
          "Latitude": 26.516538,
          "Longitude": -80.125185,
          "Undergraduate enrollment": 0
         },
         {
          "Institution Name": "Saint Vincent Seminary",
          "Latitude": 40.29265,
          "Longitude": -79.403762,
          "Undergraduate enrollment": 0
         },
         {
          "Institution Name": "Saint Vladimirs Orthodox Theological Seminary",
          "Latitude": 40.969393,
          "Longitude": -73.82435799999998,
          "Undergraduate enrollment": 0
         },
         {
          "Institution Name": "Saint Xavier University",
          "Latitude": 41.707199,
          "Longitude": -87.714749,
          "Undergraduate enrollment": 2942
         },
         {
          "Institution Name": "Salem College",
          "Latitude": 36.086271,
          "Longitude": -80.241297,
          "Undergraduate enrollment": 824
         },
         {
          "Institution Name": "Salem International University",
          "Latitude": 39.288632,
          "Longitude": -80.57176700000002,
          "Undergraduate enrollment": 892
         },
         {
          "Institution Name": "Salem State University",
          "Latitude": 42.503575,
          "Longitude": -70.89023399999998,
          "Undergraduate enrollment": 7110
         },
         {
          "Institution Name": "Salisbury University",
          "Latitude": 38.34648,
          "Longitude": -75.604815,
          "Undergraduate enrollment": 7782
         },
         {
          "Institution Name": "Salish Kootenai College",
          "Latitude": 47.598592,
          "Longitude": -114.111635,
          "Undergraduate enrollment": 809
         },
         {
          "Institution Name": "Salus University",
          "Latitude": 40.085774,
          "Longitude": -75.129511,
          "Undergraduate enrollment": 0
         },
         {
          "Institution Name": "Salve Regina University",
          "Latitude": 41.471545,
          "Longitude": -71.30124,
          "Undergraduate enrollment": 2180
         },
         {
          "Institution Name": "Sam Houston State University",
          "Latitude": 30.714738,
          "Longitude": -95.546205,
          "Undergraduate enrollment": 18416
         },
         {
          "Institution Name": "Samford University",
          "Latitude": 33.464128,
          "Longitude": -86.791799,
          "Undergraduate enrollment": 3373
         },
         {
          "Institution Name": "Samuel Merritt University",
          "Latitude": 37.82029,
          "Longitude": -122.266331,
          "Undergraduate enrollment": 919
         },
         {
          "Institution Name": "San Diego Christian College",
          "Latitude": 32.842403999999995,
          "Longitude": -116.978112,
          "Undergraduate enrollment": 658
         },
         {
          "Institution Name": "San Diego Mesa College",
          "Latitude": 32.803825,
          "Longitude": -117.169165,
          "Undergraduate enrollment": 23532
         },
         {
          "Institution Name": "San Diego State University",
          "Latitude": 32.77525,
          "Longitude": -117.071228,
          "Undergraduate enrollment": 30272
         },
         {
          "Institution Name": "San Francisco Art Institute",
          "Latitude": 37.803575,
          "Longitude": -122.417,
          "Undergraduate enrollment": 299
         },
         {
          "Institution Name": "San Francisco Conservatory of Music",
          "Latitude": 37.775543,
          "Longitude": -122.420292,
          "Undergraduate enrollment": 205
         },
         {
          "Institution Name": "San Francisco State University",
          "Latitude": 37.721345,
          "Longitude": -122.477905,
          "Undergraduate enrollment": 26680
         },
         {
          "Institution Name": "San Francisco Theological Seminary",
          "Latitude": 37.969952,
          "Longitude": -122.565407,
          "Undergraduate enrollment": 0
         },
         {
          "Institution Name": "San Ignacio University",
          "Latitude": 25.812652,
          "Longitude": -80.36555200000002,
          "Undergraduate enrollment": 187
         },
         {
          "Institution Name": "San Joaquin College of Law",
          "Latitude": 36.82448,
          "Longitude": -119.697657,
          "Undergraduate enrollment": 0
         },
         {
          "Institution Name": "San Joaquin Valley College-Visalia",
          "Latitude": 36.328049,
          "Longitude": -119.384981,
          "Undergraduate enrollment": 5239
         },
         {
          "Institution Name": "San Jose State University",
          "Latitude": 37.336569,
          "Longitude": -121.880621,
          "Undergraduate enrollment": 27778
         },
         {
          "Institution Name": "Sanford-Brown College-Online",
          "Latitude": 28.02103,
          "Longitude": -82.520771,
          "Undergraduate enrollment": 25
         },
         {
          "Institution Name": "Sanford-Brown College-Seattle",
          "Latitude": 47.450291,
          "Longitude": -122.255062,
          "Undergraduate enrollment": 12
         },
         {
          "Institution Name": "Sanford-Brown College-Tampa",
          "Latitude": 27.953202,
          "Longitude": -82.504615,
          "Undergraduate enrollment": 8
         },
         {
          "Institution Name": "Santa Ana College",
          "Latitude": 33.759203,
          "Longitude": -117.888384,
          "Undergraduate enrollment": 28083
         },
         {
          "Institution Name": "Santa Barbara Business College-Bakersfield",
          "Latitude": 35.359544,
          "Longitude": -119.061264,
          "Undergraduate enrollment": 332
         },
         {
          "Institution Name": "Santa Barbara Business College-Santa Maria",
          "Latitude": 34.937806,
          "Longitude": -120.433296,
          "Undergraduate enrollment": 78
         },
         {
          "Institution Name": "Santa Barbara Business College-Ventura",
          "Latitude": 34.257884000000004,
          "Longitude": -119.226434,
          "Undergraduate enrollment": 235
         },
         {
          "Institution Name": "Santa Clara University",
          "Latitude": 37.348362,
          "Longitude": -121.93784,
          "Undergraduate enrollment": 5499
         },
         {
          "Institution Name": "Santa Fe College",
          "Latitude": 29.681037,
          "Longitude": -82.433143,
          "Undergraduate enrollment": 14588
         },
         {
          "Institution Name": "Santa Fe University of Art and Design",
          "Latitude": 35.658664,
          "Longitude": -105.976796,
          "Undergraduate enrollment": 161
         },
         {
          "Institution Name": "Santa Monica College",
          "Latitude": 34.017022,
          "Longitude": -118.469765,
          "Undergraduate enrollment": 29760
         },
         {
          "Institution Name": "Sarah Lawrence College",
          "Latitude": 40.9355,
          "Longitude": -73.843727,
          "Undergraduate enrollment": 1399
         },
         {
          "Institution Name": "Savannah College of Art and Design",
          "Latitude": 32.072963,
          "Longitude": -81.093849,
          "Undergraduate enrollment": 10674
         },
         {
          "Institution Name": "Savannah Law School",
          "Latitude": 32.069007,
          "Longitude": -81.093905,
          "Undergraduate enrollment": 0
         },
         {
          "Institution Name": "Savannah State University",
          "Latitude": 32.024781,
          "Longitude": -81.063377,
          "Undergraduate enrollment": 4239
         },
         {
          "Institution Name": "Saybrook University",
          "Latitude": 37.80446,
          "Longitude": -122.27239099999998,
          "Undergraduate enrollment": 0
         },
         {
          "Institution Name": "Schiller International University",
          "Latitude": 27.893935,
          "Longitude": -82.757492,
          "Undergraduate enrollment": 330
         },
         {
          "Institution Name": "School of Architecture at Taliesin",
          "Latitude": 33.607097,
          "Longitude": -111.845411,
          "Undergraduate enrollment": 0
         },
         {
          "Institution Name": "School of the Art Institute of Chicago",
          "Latitude": 41.88105,
          "Longitude": -87.62575799999998,
          "Undergraduate enrollment": 2889
         },
         {
          "Institution Name": "School of Visual Arts",
          "Latitude": 40.738809,
          "Longitude": -73.982359,
          "Undergraduate enrollment": 3750
         },
         {
          "Institution Name": "Schoolcraft College",
          "Latitude": 42.419279,
          "Longitude": -83.43095799999998,
          "Undergraduate enrollment": 10558
         },
         {
          "Institution Name": "Schreiner University",
          "Latitude": 30.031458,
          "Longitude": -99.130586,
          "Undergraduate enrollment": 1249
         },
         {
          "Institution Name": "Scripps College",
          "Latitude": 34.104147,
          "Longitude": -117.711294,
          "Undergraduate enrollment": 1065
         },
         {
          "Institution Name": "Seattle Central College",
          "Latitude": 47.616748,
          "Longitude": -122.321231,
          "Undergraduate enrollment": 6928
         },
         {
          "Institution Name": "Seattle Film Institute",
          "Latitude": 47.64894,
          "Longitude": -122.377121,
          "Undergraduate enrollment": 80
         },
         {
          "Institution Name": "Seattle Institute of Oriental Medicine",
          "Latitude": 47.678029,
          "Longitude": -122.323444,
          "Undergraduate enrollment": 0
         },
         {
          "Institution Name": "Seattle Pacific University",
          "Latitude": 47.650214,
          "Longitude": -122.361667,
          "Undergraduate enrollment": 2900
         },
         {
          "Institution Name": "Seattle University",
          "Latitude": 47.608859,
          "Longitude": -122.318851,
          "Undergraduate enrollment": 4560
         },
         {
          "Institution Name": "Selma University",
          "Latitude": 32.420387,
          "Longitude": -87.032392,
          "Undergraduate enrollment": 311
         },
         {
          "Institution Name": "Seminole State College of Florida",
          "Latitude": 28.745482,
          "Longitude": -81.308003,
          "Undergraduate enrollment": 17550
         },
         {
          "Institution Name": "Sentara College of Health Sciences",
          "Latitude": 36.777001,
          "Longitude": -76.242722,
          "Undergraduate enrollment": 440
         },
         {
          "Institution Name": "Seton Hall University",
          "Latitude": 40.742336,
          "Longitude": -74.246027,
          "Undergraduate enrollment": 5969
         },
         {
          "Institution Name": "Seton Hill University",
          "Latitude": 40.309407,
          "Longitude": -79.55743299999997,
          "Undergraduate enrollment": 2092
         },
         {
          "Institution Name": "Sewanee-The University of the South",
          "Latitude": 35.20443,
          "Longitude": -85.917772,
          "Undergraduate enrollment": 1702
         },
         {
          "Institution Name": "Sh'or Yoshuv Rabbinical College",
          "Latitude": 40.605227,
          "Longitude": -73.740085,
          "Undergraduate enrollment": 130
         },
         {
          "Institution Name": "Shasta Bible College and Graduate School",
          "Latitude": 40.566034,
          "Longitude": -122.314419,
          "Undergraduate enrollment": 42
         },
         {
          "Institution Name": "Shasta College",
          "Latitude": 40.625731,
          "Longitude": -122.317982,
          "Undergraduate enrollment": 9160
         },
         {
          "Institution Name": "Shaw University",
          "Latitude": 35.771181,
          "Longitude": -78.637693,
          "Undergraduate enrollment": 1546
         },
         {
          "Institution Name": "Shawnee State University",
          "Latitude": 38.730867,
          "Longitude": -82.993769,
          "Undergraduate enrollment": 3406
         },
         {
          "Institution Name": "Shenandoah University",
          "Latitude": 39.166058,
          "Longitude": -78.158376,
          "Undergraduate enrollment": 2063
         },
         {
          "Institution Name": "Shepherd University",
          "Latitude": 39.43307100000001,
          "Longitude": -77.804101,
          "Undergraduate enrollment": 3421
         },
         {
          "Institution Name": "Shepherds Theological Seminary",
          "Latitude": 35.744334,
          "Longitude": -78.742623,
          "Undergraduate enrollment": 0
         },
         {
          "Institution Name": "Sherman College of Straight Chiropractic",
          "Latitude": 35.014602000000004,
          "Longitude": -81.985878,
          "Undergraduate enrollment": 0
         },
         {
          "Institution Name": "Shiloh University",
          "Latitude": 41.459135,
          "Longitude": -91.705724,
          "Undergraduate enrollment": 20
         },
         {
          "Institution Name": "Shippensburg University of Pennsylvania",
          "Latitude": 40.057933,
          "Longitude": -77.522335,
          "Undergraduate enrollment": 5574
         },
         {
          "Institution Name": "Shorter University",
          "Latitude": 34.257543,
          "Longitude": -85.196529,
          "Undergraduate enrollment": 1403
         },
         {
          "Institution Name": "Shorter University-College of Adult & Professional Programs",
          "Latitude": 33.92788,
          "Longitude": -84.482166,
          "Undergraduate enrollment": 113
         },
         {
          "Institution Name": "Siena College",
          "Latitude": 42.717602,
          "Longitude": -73.7526,
          "Undergraduate enrollment": 3164
         },
         {
          "Institution Name": "Siena Heights University",
          "Latitude": 41.905624,
          "Longitude": -84.01884100000002,
          "Undergraduate enrollment": 2302
         },
         {
          "Institution Name": "Sierra Nevada College",
          "Latitude": 39.244278,
          "Longitude": -119.939125,
          "Undergraduate enrollment": 448
         },
         {
          "Institution Name": "Silver Lake College of the Holy Family",
          "Latitude": 44.071038,
          "Longitude": -87.742961,
          "Undergraduate enrollment": 392
         },
         {
          "Institution Name": "Simmons College",
          "Latitude": 42.3393,
          "Longitude": -71.099967,
          "Undergraduate enrollment": 1739
         },
         {
          "Institution Name": "Simmons College of Kentucky",
          "Latitude": 38.239519,
          "Longitude": -85.764811,
          "Undergraduate enrollment": 216
         },
         {
          "Institution Name": "Simpson College",
          "Latitude": 41.365503,
          "Longitude": -93.563471,
          "Undergraduate enrollment": 1432
         },
         {
          "Institution Name": "Simpson University",
          "Latitude": 40.61331,
          "Longitude": -122.333048,
          "Undergraduate enrollment": 777
         },
         {
          "Institution Name": "Sinte Gleska University",
          "Latitude": 43.298878,
          "Longitude": -100.622549,
          "Undergraduate enrollment": 512
         },
         {
          "Institution Name": "Sioux Falls Seminary",
          "Latitude": 43.525446,
          "Longitude": -96.735896,
          "Undergraduate enrollment": 0
         },
         {
          "Institution Name": "SIT Graduate Institute",
          "Latitude": 42.891035,
          "Longitude": -72.56738,
          "Undergraduate enrollment": 0
         },
         {
          "Institution Name": "Sitting Bull College",
          "Latitude": 46.085288,
          "Longitude": -100.674735,
          "Undergraduate enrollment": 289
         },
         {
          "Institution Name": "Skagit Valley College",
          "Latitude": 48.437194,
          "Longitude": -122.30894,
          "Undergraduate enrollment": 4670
         },
         {
          "Institution Name": "Skidmore College",
          "Latitude": 43.097035,
          "Longitude": -73.785335,
          "Undergraduate enrollment": 2680
         },
         {
          "Institution Name": "Skyline College",
          "Latitude": 37.63042,
          "Longitude": -122.467335,
          "Undergraduate enrollment": 9235
         },
         {
          "Institution Name": "Slippery Rock University of Pennsylvania",
          "Latitude": 41.062719,
          "Longitude": -80.045965,
          "Undergraduate enrollment": 7609
         },
         {
          "Institution Name": "Smith College",
          "Latitude": 42.318111,
          "Longitude": -72.638097,
          "Undergraduate enrollment": 2521
         },
         {
          "Institution Name": "Snow College",
          "Latitude": 39.360177,
          "Longitude": -111.58296,
          "Undergraduate enrollment": 5563
         },
         {
          "Institution Name": "Sofia University",
          "Latitude": 37.430325,
          "Longitude": -122.10866,
          "Undergraduate enrollment": 11
         },
         {
          "Institution Name": "Soka University of America",
          "Latitude": 33.554546,
          "Longitude": -117.735344,
          "Undergraduate enrollment": 412
         },
         {
          "Institution Name": "Solano Community College",
          "Latitude": 38.235881,
          "Longitude": -122.122368,
          "Undergraduate enrollment": 9625
         },
         {
          "Institution Name": "Sonoma State University",
          "Latitude": 38.340274,
          "Longitude": -122.677066,
          "Undergraduate enrollment": 8667
         },
         {
          "Institution Name": "Sotheby's Institute of Art-NY",
          "Latitude": 40.756988,
          "Longitude": -73.97223199999998,
          "Undergraduate enrollment": 0
         },
         {
          "Institution Name": "South Baylo University",
          "Latitude": 33.847936,
          "Longitude": -117.958663,
          "Undergraduate enrollment": 53
         },
         {
          "Institution Name": "South Carolina State University",
          "Latitude": 33.497968,
          "Longitude": -80.848722,
          "Undergraduate enrollment": 2524
         },
         {
          "Institution Name": "South College",
          "Latitude": 35.96163,
          "Longitude": -83.974783,
          "Undergraduate enrollment": 1410
         },
         {
          "Institution Name": "South Dakota School of Mines and Technology",
          "Latitude": 44.075439,
          "Longitude": -103.205753,
          "Undergraduate enrollment": 2421
         },
         {
          "Institution Name": "South Dakota State University",
          "Latitude": 44.317485,
          "Longitude": -96.782139,
          "Undergraduate enrollment": 10885
         },
         {
          "Institution Name": "South Florida Bible College and Theological Seminary",
          "Latitude": 26.302940000000003,
          "Longitude": -80.134508,
          "Undergraduate enrollment": 277
         },
         {
          "Institution Name": "South Florida State College",
          "Latitude": 27.569740000000003,
          "Longitude": -81.508667,
          "Undergraduate enrollment": 2860
         },
         {
          "Institution Name": "South Georgia State College",
          "Latitude": 31.495903,
          "Longitude": -82.855231,
          "Undergraduate enrollment": 2540
         },
         {
          "Institution Name": "South Seattle College",
          "Latitude": 47.5475,
          "Longitude": -122.352672,
          "Undergraduate enrollment": 6716
         },
         {
          "Institution Name": "South Texas College",
          "Latitude": 26.217591,
          "Longitude": -98.253634,
          "Undergraduate enrollment": 31321
         },
         {
          "Institution Name": "South Texas College of Law Houston",
          "Latitude": 29.753171,
          "Longitude": -95.36455,
          "Undergraduate enrollment": 0
         },
         {
          "Institution Name": "South University-Accelerated Graduate Programs",
          "Latitude": 33.936076,
          "Longitude": -84.35527900000002,
          "Undergraduate enrollment": 0
         },
         {
          "Institution Name": "South University-Austin",
          "Latitude": 30.479474,
          "Longitude": -97.689972,
          "Undergraduate enrollment": 390
         },
         {
          "Institution Name": "South University-Cleveland",
          "Latitude": 41.431412,
          "Longitude": -81.496974,
          "Undergraduate enrollment": 292
         },
         {
          "Institution Name": "South University-Columbia",
          "Latitude": 34.098042,
          "Longitude": -80.961839,
          "Undergraduate enrollment": 806
         },
         {
          "Institution Name": "South University-High Point",
          "Latitude": 36.040441,
          "Longitude": -79.96354699999998,
          "Undergraduate enrollment": 309
         },
         {
          "Institution Name": "South University-Montgomery",
          "Latitude": 32.34268400000001,
          "Longitude": -86.216488,
          "Undergraduate enrollment": 369
         },
         {
          "Institution Name": "South University-Novi",
          "Latitude": 42.495506,
          "Longitude": -83.457358,
          "Undergraduate enrollment": 277
         },
         {
          "Institution Name": "South University-Savannah",
          "Latitude": 31.999571000000003,
          "Longitude": -81.105435,
          "Undergraduate enrollment": 497
         },
         {
          "Institution Name": "South University-Tampa",
          "Latitude": 27.982269,
          "Longitude": -82.500357,
          "Undergraduate enrollment": 543
         },
         {
          "Institution Name": "South University-The Art Institute of Dallas",
          "Latitude": 32.871014,
          "Longitude": -96.76783,
          "Undergraduate enrollment": 755
         },
         {
          "Institution Name": "South University-West Palm Beach",
          "Latitude": 26.69215,
          "Longitude": -80.20021899999998,
          "Undergraduate enrollment": 699
         },
         {
          "Institution Name": "South University–Richmond",
          "Latitude": 37.64706,
          "Longitude": -77.599967,
          "Undergraduate enrollment": 504
         },
         {
          "Institution Name": "South University–Savannah Online",
          "Latitude": 31.999481,
          "Longitude": -81.105531,
          "Undergraduate enrollment": 4056
         },
         {
          "Institution Name": "South University–Virginia Beach",
          "Latitude": 36.8336,
          "Longitude": -76.124288,
          "Undergraduate enrollment": 453
         },
         {
          "Institution Name": "Southeast Missouri Hospital College of Nursing and Health Sciences",
          "Latitude": 37.302453,
          "Longitude": -89.54587,
          "Undergraduate enrollment": 206
         },
         {
          "Institution Name": "Southeast Missouri State University",
          "Latitude": 37.311107,
          "Longitude": -89.531187,
          "Undergraduate enrollment": 10458
         },
         {
          "Institution Name": "Southeastern Baptist College",
          "Latitude": 31.748512,
          "Longitude": -89.149373,
          "Undergraduate enrollment": 38
         },
         {
          "Institution Name": "Southeastern Baptist Theological Seminary",
          "Latitude": 35.981858,
          "Longitude": -78.513755,
          "Undergraduate enrollment": 406
         },
         {
          "Institution Name": "Southeastern Louisiana University",
          "Latitude": 30.514652,
          "Longitude": -90.468676,
          "Undergraduate enrollment": 13317
         },
         {
          "Institution Name": "Southeastern Oklahoma State University",
          "Latitude": 34.006808,
          "Longitude": -96.376864,
          "Undergraduate enrollment": 3122
         },
         {
          "Institution Name": "Southeastern University",
          "Latitude": 28.029733,
          "Longitude": -81.918382,
          "Undergraduate enrollment": 6240
         },
         {
          "Institution Name": "Southern Adventist University",
          "Latitude": 35.049136,
          "Longitude": -85.050878,
          "Undergraduate enrollment": 2600
         },
         {
          "Institution Name": "Southern Arkansas University Main Campus",
          "Latitude": 33.291618,
          "Longitude": -93.235922,
          "Undergraduate enrollment": 3475
         },
         {
          "Institution Name": "Southern California Institute of Architecture",
          "Latitude": 34.044215,
          "Longitude": -118.232799,
          "Undergraduate enrollment": 264
         },
         {
          "Institution Name": "Southern California Institute of Technology",
          "Latitude": 33.8381,
          "Longitude": -117.950661,
          "Undergraduate enrollment": 583
         },
         {
          "Institution Name": "Southern California Seminary",
          "Latitude": 32.799614,
          "Longitude": -116.90546100000002,
          "Undergraduate enrollment": 51
         },
         {
          "Institution Name": "Southern California University of Health Sciences",
          "Latitude": 33.922965999999995,
          "Longitude": -117.983401,
          "Undergraduate enrollment": 591
         },
         {
          "Institution Name": "Southern California University SOMA",
          "Latitude": 34.06125,
          "Longitude": -118.300056,
          "Undergraduate enrollment": 0
         },
         {
          "Institution Name": "Southern College of Optometry",
          "Latitude": 35.138252,
          "Longitude": -90.019856,
          "Undergraduate enrollment": 0
         },
         {
          "Institution Name": "Southern Connecticut State University",
          "Latitude": 41.333225,
          "Longitude": -72.947897,
          "Undergraduate enrollment": 7947
         },
         {
          "Institution Name": "Southern Illinois University-Carbondale",
          "Latitude": 37.714193,
          "Longitude": -89.21727299999998,
          "Undergraduate enrollment": 10987
         },
         {
          "Institution Name": "Southern Illinois University-Edwardsville",
          "Latitude": 38.793949,
          "Longitude": -89.99777900000002,
          "Undergraduate enrollment": 11402
         },
         {
          "Institution Name": "Southern Methodist University",
          "Latitude": 32.845254,
          "Longitude": -96.784855,
          "Undergraduate enrollment": 6452
         },
         {
          "Institution Name": "Southern Nazarene University",
          "Latitude": 35.513295,
          "Longitude": -97.629504,
          "Undergraduate enrollment": 1521
         },
         {
          "Institution Name": "Southern New Hampshire University",
          "Latitude": 43.038922,
          "Longitude": -71.451842,
          "Undergraduate enrollment": 70661
         },
         {
          "Institution Name": "Southern Oregon University",
          "Latitude": 42.185077,
          "Longitude": -122.695081,
          "Undergraduate enrollment": 5523
         },
         {
          "Institution Name": "Southern States University",
          "Latitude": 32.767544,
          "Longitude": -117.201297,
          "Undergraduate enrollment": 52
         },
         {
          "Institution Name": "Southern Technical College",
          "Latitude": 26.596097,
          "Longitude": -81.87764399999998,
          "Undergraduate enrollment": 887
         },
         {
          "Institution Name": "Southern University and A & M College",
          "Latitude": 30.524558000000006,
          "Longitude": -91.190105,
          "Undergraduate enrollment": 5149
         },
         {
          "Institution Name": "Southern University at New Orleans",
          "Latitude": 30.026162,
          "Longitude": -90.044912,
          "Undergraduate enrollment": 2108
         },
         {
          "Institution Name": "Southern University Law Center",
          "Latitude": 30.523898,
          "Longitude": -91.194417,
          "Undergraduate enrollment": 0
         },
         {
          "Institution Name": "Southern Utah University",
          "Latitude": 37.674617,
          "Longitude": -113.070146,
          "Undergraduate enrollment": 8550
         },
         {
          "Institution Name": "Southern Vermont College",
          "Latitude": 42.867713,
          "Longitude": -73.218518,
          "Undergraduate enrollment": 361
         },
         {
          "Institution Name": "Southern Virginia University",
          "Latitude": 37.740368,
          "Longitude": -79.35037,
          "Undergraduate enrollment": 911
         },
         {
          "Institution Name": "Southern Wesleyan University",
          "Latitude": 34.728068,
          "Longitude": -82.761586,
          "Undergraduate enrollment": 1360
         },
         {
          "Institution Name": "Southwest Acupuncture College-Boulder",
          "Latitude": 40.069443,
          "Longitude": -105.199471,
          "Undergraduate enrollment": 0
         },
         {
          "Institution Name": "Southwest Acupuncture College-Santa Fe",
          "Latitude": 35.66184699999999,
          "Longitude": -105.949973,
          "Undergraduate enrollment": 0
         },
         {
          "Institution Name": "Southwest Baptist University",
          "Latitude": 37.602425,
          "Longitude": -93.407056,
          "Undergraduate enrollment": 2822
         },
         {
          "Institution Name": "Southwest College of Naturopathic Medicine & Health Sciences",
          "Latitude": 33.40789,
          "Longitude": -111.89442,
          "Undergraduate enrollment": 0
         },
         {
          "Institution Name": "Southwest Minnesota State University",
          "Latitude": 44.45373,
          "Longitude": -95.759548,
          "Undergraduate enrollment": 6713
         },
         {
          "Institution Name": "Southwest University at El Paso",
          "Latitude": 31.788352000000003,
          "Longitude": -106.413168,
          "Undergraduate enrollment": 1527
         },
         {
          "Institution Name": "Southwest University of Visual Arts-Albuquerque",
          "Latitude": 35.088818,
          "Longitude": -106.589352,
          "Undergraduate enrollment": 66
         },
         {
          "Institution Name": "Southwest University of Visual Arts-Tucson",
          "Latitude": 32.252879,
          "Longitude": -110.927265,
          "Undergraduate enrollment": 125
         },
         {
          "Institution Name": "Southwestern Adventist University",
          "Latitude": 32.397617,
          "Longitude": -97.32702,
          "Undergraduate enrollment": 798
         },
         {
          "Institution Name": "Southwestern Assemblies of God University",
          "Latitude": 32.40443,
          "Longitude": -96.853492,
          "Undergraduate enrollment": 1790
         },
         {
          "Institution Name": "Southwestern Christian College",
          "Latitude": 32.735508,
          "Longitude": -96.285649,
          "Undergraduate enrollment": 159
         },
         {
          "Institution Name": "Southwestern Christian University",
          "Latitude": 35.513314,
          "Longitude": -97.63934,
          "Undergraduate enrollment": 620
         },
         {
          "Institution Name": "Southwestern College",
          "Latitude": 37.248608,
          "Longitude": -96.975405,
          "Undergraduate enrollment": 1147
         },
         {
          "Institution Name": "Southwestern College",
          "Latitude": 35.636241,
          "Longitude": -106.052585,
          "Undergraduate enrollment": 0
         },
         {
          "Institution Name": "Southwestern Law School",
          "Latitude": 34.061558000000005,
          "Longitude": -118.288375,
          "Undergraduate enrollment": 0
         },
         {
          "Institution Name": "Southwestern Oklahoma State University",
          "Latitude": 35.535281,
          "Longitude": -98.707768,
          "Undergraduate enrollment": 4623
         },
         {
          "Institution Name": "Southwestern University",
          "Latitude": 30.634341,
          "Longitude": -97.665738,
          "Undergraduate enrollment": 1396
         },
         {
          "Institution Name": "Spalding University",
          "Latitude": 38.242407,
          "Longitude": -85.757725,
          "Undergraduate enrollment": 1250
         },
         {
          "Institution Name": "Spartan College of Aeronautics and Technology",
          "Latitude": 36.176642,
          "Longitude": -95.878902,
          "Undergraduate enrollment": 1127
         },
         {
          "Institution Name": "Spelman College",
          "Latitude": 33.745279,
          "Longitude": -84.411527,
          "Undergraduate enrollment": 2137
         },
         {
          "Institution Name": "Spencerian College-Louisville",
          "Latitude": 38.232177,
          "Longitude": -85.631276,
          "Undergraduate enrollment": 396
         },
         {
          "Institution Name": "Spertus College",
          "Latitude": 41.873881,
          "Longitude": -87.624785,
          "Undergraduate enrollment": 0
         },
         {
          "Institution Name": "Spokane Community College",
          "Latitude": 47.674034000000006,
          "Longitude": -117.360065,
          "Undergraduate enrollment": 10014
         },
         {
          "Institution Name": "Spokane Falls Community College",
          "Latitude": 47.676741,
          "Longitude": -117.463538,
          "Undergraduate enrollment": 5589
         },
         {
          "Institution Name": "Spring Arbor University",
          "Latitude": 42.206568,
          "Longitude": -84.556074,
          "Undergraduate enrollment": 1957
         },
         {
          "Institution Name": "Spring Hill College",
          "Latitude": 30.694751,
          "Longitude": -88.138199,
          "Undergraduate enrollment": 1377
         },
         {
          "Institution Name": "Springfield College",
          "Latitude": 42.101576,
          "Longitude": -72.556751,
          "Undergraduate enrollment": 2227
         },
         {
          "Institution Name": "Springfield College-School of Professional and Continuing Studies",
          "Latitude": 42.1022,
          "Longitude": -72.556647,
          "Undergraduate enrollment": 682
         },
         {
          "Institution Name": "St Bernard's School of Theology and Ministry",
          "Latitude": 43.102185,
          "Longitude": -77.526326,
          "Undergraduate enrollment": 0
         },
         {
          "Institution Name": "St Bonaventure University",
          "Latitude": 42.080191,
          "Longitude": -78.481107,
          "Undergraduate enrollment": 1622
         },
         {
          "Institution Name": "St Catherine University",
          "Latitude": 44.924926,
          "Longitude": -93.183761,
          "Undergraduate enrollment": 3158
         },
         {
          "Institution Name": "St Francis College",
          "Latitude": 40.69322800000001,
          "Longitude": -73.992164,
          "Undergraduate enrollment": 2288
         },
         {
          "Institution Name": "St John's University-New York",
          "Latitude": 40.722523,
          "Longitude": -73.796104,
          "Undergraduate enrollment": 16761
         },
         {
          "Institution Name": "St Lawrence University",
          "Latitude": 44.589879,
          "Longitude": -75.161343,
          "Undergraduate enrollment": 2414
         },
         {
          "Institution Name": "St Louis College of Health Careers-Fenton",
          "Latitude": 38.544635,
          "Longitude": -90.470904,
          "Undergraduate enrollment": 426
         },
         {
          "Institution Name": "St Luke's College",
          "Latitude": 42.520081,
          "Longitude": -96.404724,
          "Undergraduate enrollment": 274
         },
         {
          "Institution Name": "St Mary's College of Maryland",
          "Latitude": 38.188075,
          "Longitude": -76.43105899999998,
          "Undergraduate enrollment": 1570
         },
         {
          "Institution Name": "St Olaf College",
          "Latitude": 44.461529,
          "Longitude": -93.182039,
          "Undergraduate enrollment": 3035
         },
         {
          "Institution Name": "St Petersburg College",
          "Latitude": 27.902420000000006,
          "Longitude": -82.717331,
          "Undergraduate enrollment": 29548
         },
         {
          "Institution Name": "St Thomas University",
          "Latitude": 25.922071,
          "Longitude": -80.253273,
          "Undergraduate enrollment": 2906
         },
         {
          "Institution Name": "St Vincent's College",
          "Latitude": 41.201198,
          "Longitude": -73.20110600000002,
          "Undergraduate enrollment": 485
         },
         {
          "Institution Name": "St. Andrews University",
          "Latitude": 34.74563,
          "Longitude": -79.478567,
          "Undergraduate enrollment": 638
         },
         {
          "Institution Name": "St. John's College",
          "Latitude": 38.981598,
          "Longitude": -76.491359,
          "Undergraduate enrollment": 458
         },
         {
          "Institution Name": "St. John's College",
          "Latitude": 35.666974,
          "Longitude": -105.912478,
          "Undergraduate enrollment": 322
         },
         {
          "Institution Name": "St. John's College-Department of Nursing",
          "Latitude": 39.807602,
          "Longitude": -89.64532,
          "Undergraduate enrollment": 118
         },
         {
          "Institution Name": "St. Joseph's College-Long Island",
          "Latitude": 40.775933,
          "Longitude": -73.024661,
          "Undergraduate enrollment": 3059
         },
         {
          "Institution Name": "St. Joseph's College-New York",
          "Latitude": 40.690418,
          "Longitude": -73.967664,
          "Undergraduate enrollment": 929
         },
         {
          "Institution Name": "St. Louis College of Pharmacy",
          "Latitude": 38.636904,
          "Longitude": -90.260617,
          "Undergraduate enrollment": 448
         },
         {
          "Institution Name": "St. Mary's University",
          "Latitude": 29.453244,
          "Longitude": -98.562778,
          "Undergraduate enrollment": 2327
         },
         {
          "Institution Name": "St. Thomas Aquinas College",
          "Latitude": 41.041576,
          "Longitude": -73.936799,
          "Undergraduate enrollment": 1778
         },
         {
          "Institution Name": "Stanbridge University",
          "Latitude": 33.678878999999995,
          "Longitude": -117.857636,
          "Undergraduate enrollment": 1173
         },
         {
          "Institution Name": "Stanford University",
          "Latitude": 37.429434,
          "Longitude": -122.167359,
          "Undergraduate enrollment": 7064
         },
         {
          "Institution Name": "Starr King School for the Ministry",
          "Latitude": 37.876939,
          "Longitude": -122.261778,
          "Undergraduate enrollment": 0
         },
         {
          "Institution Name": "State College of Florida-Manatee-Sarasota",
          "Latitude": 27.43804,
          "Longitude": -82.590887,
          "Undergraduate enrollment": 10886
         },
         {
          "Institution Name": "State University of New York at New Paltz",
          "Latitude": 41.740936,
          "Longitude": -74.082188,
          "Undergraduate enrollment": 6733
         },
         {
          "Institution Name": "Stephen F Austin State University",
          "Latitude": 31.621056,
          "Longitude": -94.64908,
          "Undergraduate enrollment": 10985
         },
         {
          "Institution Name": "Stephens College",
          "Latitude": 38.95204,
          "Longitude": -92.319204,
          "Undergraduate enrollment": 653
         },
         {
          "Institution Name": "Sterling College",
          "Latitude": 38.219937,
          "Longitude": -98.208644,
          "Undergraduate enrollment": 697
         },
         {
          "Institution Name": "Sterling College",
          "Latitude": 44.65225,
          "Longitude": -72.382372,
          "Undergraduate enrollment": 154
         },
         {
          "Institution Name": "Stetson University",
          "Latitude": 29.035475,
          "Longitude": -81.30074599999998,
          "Undergraduate enrollment": 3065
         },
         {
          "Institution Name": "Stevens Institute of Technology",
          "Latitude": 40.744776,
          "Longitude": -74.025334,
          "Undergraduate enrollment": 3123
         },
         {
          "Institution Name": "Stevens-Henager College",
          "Latitude": 40.659626,
          "Longitude": -111.902145,
          "Undergraduate enrollment": 563
         },
         {
          "Institution Name": "Stevens-Henager College",
          "Latitude": 40.269691,
          "Longitude": -111.713264,
          "Undergraduate enrollment": 143
         },
         {
          "Institution Name": "Stevens-Henager College",
          "Latitude": 41.71803900000001,
          "Longitude": -111.835961,
          "Undergraduate enrollment": 72
         },
         {
          "Institution Name": "Stevens-Henager College",
          "Latitude": 41.232847,
          "Longitude": -112.011617,
          "Undergraduate enrollment": 205
         },
         {
          "Institution Name": "Stevens-Henager College",
          "Latitude": 43.591087,
          "Longitude": -116.27828999999998,
          "Undergraduate enrollment": 259
         },
         {
          "Institution Name": "Stevens-Henager College",
          "Latitude": 37.095406,
          "Longitude": -113.557643,
          "Undergraduate enrollment": 111
         },
         {
          "Institution Name": "Stevens-Henager College",
          "Latitude": 43.48346,
          "Longitude": -112.05156,
          "Undergraduate enrollment": 111
         },
         {
          "Institution Name": "Stevens-The Institute of Business & Arts",
          "Latitude": 38.632917,
          "Longitude": -90.201157,
          "Undergraduate enrollment": 121
         },
         {
          "Institution Name": "Stevenson University",
          "Latitude": 39.421988,
          "Longitude": -76.70209200000002,
          "Undergraduate enrollment": 3397
         },
         {
          "Institution Name": "Stillman College",
          "Latitude": 33.200006,
          "Longitude": -87.585278,
          "Undergraduate enrollment": 677
         },
         {
          "Institution Name": "Stockton University",
          "Latitude": 39.492036,
          "Longitude": -74.531087,
          "Undergraduate enrollment": 8275
         },
         {
          "Institution Name": "Stone Child College",
          "Latitude": 48.289808,
          "Longitude": -109.870182,
          "Undergraduate enrollment": 554
         },
         {
          "Institution Name": "Stonehill College",
          "Latitude": 42.05905,
          "Longitude": -71.080632,
          "Undergraduate enrollment": 2498
         },
         {
          "Institution Name": "Stony Brook University",
          "Latitude": 40.91476,
          "Longitude": -73.12046,
          "Undergraduate enrollment": 17364
         },
         {
          "Institution Name": "Stratford University",
          "Latitude": 38.874798,
          "Longitude": -77.31097,
          "Undergraduate enrollment": 1981
         },
         {
          "Institution Name": "Strayer University-Alabama",
          "Latitude": 33.43872,
          "Longitude": -86.71766099999998,
          "Undergraduate enrollment": 666
         },
         {
          "Institution Name": "Strayer University-Arkansas",
          "Latitude": 34.74735,
          "Longitude": -92.396031,
          "Undergraduate enrollment": 219
         },
         {
          "Institution Name": "Strayer University-Delaware",
          "Latitude": 39.686127,
          "Longitude": -75.660093,
          "Undergraduate enrollment": 267
         },
         {
          "Institution Name": "Strayer University-District of Columbia",
          "Latitude": 38.904881,
          "Longitude": -77.034133,
          "Undergraduate enrollment": 691
         },
         {
          "Institution Name": "Strayer University-Florida",
          "Latitude": 27.989986,
          "Longitude": -82.546836,
          "Undergraduate enrollment": 1607
         },
         {
          "Institution Name": "Strayer University-Georgia",
          "Latitude": 33.874236,
          "Longitude": -84.275624,
          "Undergraduate enrollment": 5530
         },
         {
          "Institution Name": "Strayer University-Global Region",
          "Latitude": 38.90485,
          "Longitude": -77.034001,
          "Undergraduate enrollment": 5569
         },
         {
          "Institution Name": "Strayer University-Maryland",
          "Latitude": 38.827438,
          "Longitude": -76.91803900000002,
          "Undergraduate enrollment": 2294
         },
         {
          "Institution Name": "Strayer University-Mississippi",
          "Latitude": 32.301002000000004,
          "Longitude": -90.187874,
          "Undergraduate enrollment": 283
         },
         {
          "Institution Name": "Strayer University-New Jersey",
          "Latitude": 39.939316,
          "Longitude": -75.015401,
          "Undergraduate enrollment": 772
         },
         {
          "Institution Name": "Strayer University-North Carolina",
          "Latitude": 35.86546,
          "Longitude": -78.822452,
          "Undergraduate enrollment": 3981
         },
         {
          "Institution Name": "Strayer University-Pennsylvania",
          "Latitude": 40.137976,
          "Longitude": -74.965749,
          "Undergraduate enrollment": 1789
         },
         {
          "Institution Name": "Strayer University-South Carolina",
          "Latitude": 34.85654,
          "Longitude": -82.357811,
          "Undergraduate enrollment": 1831
         },
         {
          "Institution Name": "Strayer University-Tennessee",
          "Latitude": 35.077513,
          "Longitude": -89.89925500000003,
          "Undergraduate enrollment": 2052
         },
         {
          "Institution Name": "Strayer University-Texas",
          "Latitude": 30.371175,
          "Longitude": -97.73985,
          "Undergraduate enrollment": 1749
         },
         {
          "Institution Name": "Strayer University-Virginia",
          "Latitude": 38.890995,
          "Longitude": -77.08529399999998,
          "Undergraduate enrollment": 4269
         },
         {
          "Institution Name": "Strayer University-West Virginia",
          "Latitude": 38.454703,
          "Longitude": -81.928375,
          "Undergraduate enrollment": 142
         },
         {
          "Institution Name": "Suffolk University",
          "Latitude": 42.358944,
          "Longitude": -71.061788,
          "Undergraduate enrollment": 5030
         },
         {
          "Institution Name": "Sul Ross State University",
          "Latitude": 30.363139,
          "Longitude": -103.651469,
          "Undergraduate enrollment": 2294
         },
         {
          "Institution Name": "Sullivan College of Technology and Design",
          "Latitude": 38.200284,
          "Longitude": -85.688947,
          "Undergraduate enrollment": 306
         },
         {
          "Institution Name": "Sullivan University",
          "Latitude": 38.212824,
          "Longitude": -85.670489,
          "Undergraduate enrollment": 2594
         },
         {
          "Institution Name": "SUM Bible College and Theological Seminary",
          "Latitude": 38.620464,
          "Longitude": -121.055684,
          "Undergraduate enrollment": 512
         },
         {
          "Institution Name": "Summit Christian College",
          "Latitude": 41.829274,
          "Longitude": -103.675715,
          "Undergraduate enrollment": 30
         },
         {
          "Institution Name": "SUNY at Albany",
          "Latitude": 42.685489,
          "Longitude": -73.824662,
          "Undergraduate enrollment": 13508
         },
         {
          "Institution Name": "SUNY at Fredonia",
          "Latitude": 42.452236,
          "Longitude": -79.337375,
          "Undergraduate enrollment": 4393
         },
         {
          "Institution Name": "SUNY at Purchase College",
          "Latitude": 41.047223,
          "Longitude": -73.701955,
          "Undergraduate enrollment": 4063
         },
         {
          "Institution Name": "SUNY Buffalo State",
          "Latitude": 42.933832,
          "Longitude": -78.882125,
          "Undergraduate enrollment": 8527
         },
         {
          "Institution Name": "SUNY College at Brockport",
          "Latitude": 43.211926,
          "Longitude": -77.947188,
          "Undergraduate enrollment": 7180
         },
         {
          "Institution Name": "SUNY College at Geneseo",
          "Latitude": 42.796645,
          "Longitude": -77.821894,
          "Undergraduate enrollment": 5556
         },
         {
          "Institution Name": "SUNY College at Old Westbury",
          "Latitude": 40.799021,
          "Longitude": -73.571907,
          "Undergraduate enrollment": 4635
         },
         {
          "Institution Name": "SUNY College at Oswego",
          "Latitude": 43.454287,
          "Longitude": -76.540798,
          "Undergraduate enrollment": 7125
         },
         {
          "Institution Name": "SUNY College at Plattsburgh",
          "Latitude": 44.69293,
          "Longitude": -73.466536,
          "Undergraduate enrollment": 5351
         },
         {
          "Institution Name": "SUNY College at Potsdam",
          "Latitude": 44.662148,
          "Longitude": -74.973815,
          "Undergraduate enrollment": 3321
         },
         {
          "Institution Name": "SUNY College of Agriculture and Technology at Cobleskill",
          "Latitude": 42.67253400000001,
          "Longitude": -74.49825799999998,
          "Undergraduate enrollment": 2291
         },
         {
          "Institution Name": "SUNY College of Environmental Science and Forestry",
          "Latitude": 43.034765,
          "Longitude": -76.138724,
          "Undergraduate enrollment": 1791
         },
         {
          "Institution Name": "SUNY College of Optometry",
          "Latitude": 40.754465,
          "Longitude": -73.982236,
          "Undergraduate enrollment": 0
         },
         {
          "Institution Name": "SUNY College of Technology at Alfred",
          "Latitude": 42.255262,
          "Longitude": -77.794632,
          "Undergraduate enrollment": 3686
         },
         {
          "Institution Name": "SUNY College of Technology at Canton",
          "Latitude": 44.60409600000001,
          "Longitude": -75.182906,
          "Undergraduate enrollment": 3180
         },
         {
          "Institution Name": "SUNY College of Technology at Delhi",
          "Latitude": 42.269859,
          "Longitude": -74.924612,
          "Undergraduate enrollment": 3465
         },
         {
          "Institution Name": "SUNY Cortland",
          "Latitude": 42.598022,
          "Longitude": -76.18865500000003,
          "Undergraduate enrollment": 6346
         },
         {
          "Institution Name": "SUNY Downstate Medical Center",
          "Latitude": 40.653855,
          "Longitude": -73.94553499999998,
          "Undergraduate enrollment": 225
         },
         {
          "Institution Name": "SUNY Empire State College",
          "Latitude": 43.077283,
          "Longitude": -73.782484,
          "Undergraduate enrollment": 9810
         },
         {
          "Institution Name": "SUNY Maritime College",
          "Latitude": 40.807217,
          "Longitude": -73.795309,
          "Undergraduate enrollment": 1641
         },
         {
          "Institution Name": "SUNY Oneonta",
          "Latitude": 42.468861,
          "Longitude": -75.063632,
          "Undergraduate enrollment": 5940
         },
         {
          "Institution Name": "SUNY Polytechnic Institute",
          "Latitude": 43.137701,
          "Longitude": -75.22984100000002,
          "Undergraduate enrollment": 2179
         },
         {
          "Institution Name": "Susquehanna University",
          "Latitude": 40.797502,
          "Longitude": -76.87532900000002,
          "Undergraduate enrollment": 2351
         },
         {
          "Institution Name": "Swarthmore College",
          "Latitude": 39.90515900000001,
          "Longitude": -75.35427800000002,
          "Undergraduate enrollment": 1577
         },
         {
          "Institution Name": "Sweet Briar College",
          "Latitude": 37.556725,
          "Longitude": -79.081014,
          "Undergraduate enrollment": 319
         },
         {
          "Institution Name": "Syracuse University",
          "Latitude": 43.040176,
          "Longitude": -76.136975,
          "Undergraduate enrollment": 15252
         },
         {
          "Institution Name": "Tabor College",
          "Latitude": 38.348606,
          "Longitude": -97.200949,
          "Undergraduate enrollment": 711
         },
         {
          "Institution Name": "Tacoma Community College",
          "Latitude": 47.244622,
          "Longitude": -122.524793,
          "Undergraduate enrollment": 6496
         },
         {
          "Institution Name": "Taft University System",
          "Latitude": 39.70591,
          "Longitude": -104.933037,
          "Undergraduate enrollment": 8
         },
         {
          "Institution Name": "Talladega College",
          "Latitude": 33.433471999999995,
          "Longitude": -86.11270400000002,
          "Undergraduate enrollment": 782
         },
         {
          "Institution Name": "Tallahassee Community College",
          "Latitude": 30.443866,
          "Longitude": -84.339,
          "Undergraduate enrollment": 11782
         },
         {
          "Institution Name": "Talmudic College of Florida",
          "Latitude": 25.811996,
          "Longitude": -80.13629300000002,
          "Undergraduate enrollment": 31
         },
         {
          "Institution Name": "Talmudical Academy-New Jersey",
          "Latitude": 40.217456,
          "Longitude": -74.250167,
          "Undergraduate enrollment": 60
         },
         {
          "Institution Name": "Talmudical Institute of Upstate New York",
          "Latitude": 43.147062,
          "Longitude": -77.574943,
          "Undergraduate enrollment": 9
         },
         {
          "Institution Name": "Talmudical Seminary of Bobov",
          "Latitude": 40.634485,
          "Longitude": -73.995378,
          "Undergraduate enrollment": 406
         },
         {
          "Institution Name": "Talmudical Seminary Oholei Torah",
          "Latitude": 40.670089,
          "Longitude": -73.945759,
          "Undergraduate enrollment": 300
         },
         {
          "Institution Name": "Talmudical Yeshiva of Philadelphia",
          "Latitude": 39.989249,
          "Longitude": -75.247964,
          "Undergraduate enrollment": 114
         },
         {
          "Institution Name": "Tarleton State University",
          "Latitude": 32.214988,
          "Longitude": -98.214866,
          "Undergraduate enrollment": 11288
         },
         {
          "Institution Name": "Taylor University",
          "Latitude": 40.456246,
          "Longitude": -85.497034,
          "Undergraduate enrollment": 2110
         },
         {
          "Institution Name": "Teachers College at Columbia University",
          "Latitude": 40.810216,
          "Longitude": -73.960194,
          "Undergraduate enrollment": 0
         },
         {
          "Institution Name": "Telshe Yeshiva-Chicago",
          "Latitude": 41.975536,
          "Longitude": -87.71755,
          "Undergraduate enrollment": 65
         },
         {
          "Institution Name": "Temple University",
          "Latitude": 39.980546,
          "Longitude": -75.156859,
          "Undergraduate enrollment": 29580
         },
         {
          "Institution Name": "Tennessee State University",
          "Latitude": 36.16899,
          "Longitude": -86.82937,
          "Undergraduate enrollment": 6505
         },
         {
          "Institution Name": "Tennessee Technological University",
          "Latitude": 36.17465900000001,
          "Longitude": -85.503957,
          "Undergraduate enrollment": 9365
         },
         {
          "Institution Name": "Tennessee Wesleyan University",
          "Latitude": 35.446331,
          "Longitude": -84.59272800000002,
          "Undergraduate enrollment": 935
         },
         {
          "Institution Name": "Texas A & M International University",
          "Latitude": 27.573504,
          "Longitude": -99.435225,
          "Undergraduate enrollment": 6799
         },
         {
          "Institution Name": "Texas A & M University-Central Texas",
          "Latitude": 31.053407,
          "Longitude": -97.775182,
          "Undergraduate enrollment": 1940
         },
         {
          "Institution Name": "Texas A & M University-College Station",
          "Latitude": 30.618726,
          "Longitude": -96.336475,
          "Undergraduate enrollment": 53065
         },
         {
          "Institution Name": "Texas A & M University-Commerce",
          "Latitude": 33.243745000000004,
          "Longitude": -95.908451,
          "Undergraduate enrollment": 8494
         },
         {
          "Institution Name": "Texas A & M University-Corpus Christi",
          "Latitude": 27.713723,
          "Longitude": -97.32395,
          "Undergraduate enrollment": 10170
         },
         {
          "Institution Name": "Texas A & M University-Kingsville",
          "Latitude": 27.525168,
          "Longitude": -97.882387,
          "Undergraduate enrollment": 6785
         },
         {
          "Institution Name": "Texas A&M University-San Antonio",
          "Latitude": 29.304762,
          "Longitude": -98.52417,
          "Undergraduate enrollment": 5401
         },
         {
          "Institution Name": "Texas A&M University-Texarkana",
          "Latitude": 33.490482,
          "Longitude": -94.103617,
          "Undergraduate enrollment": 1610
         },
         {
          "Institution Name": "Texas Chiropractic College Foundation Inc",
          "Latitude": 29.66482,
          "Longitude": -95.15012,
          "Undergraduate enrollment": 0
         },
         {
          "Institution Name": "Texas Christian University",
          "Latitude": 32.709568,
          "Longitude": -97.361537,
          "Undergraduate enrollment": 9011
         },
         {
          "Institution Name": "Texas College",
          "Latitude": 32.374559999999995,
          "Longitude": -95.312454,
          "Undergraduate enrollment": 992
         },
         {
          "Institution Name": "Texas Health and Science University",
          "Latitude": 30.233148,
          "Longitude": -97.785296,
          "Undergraduate enrollment": 17
         },
         {
          "Institution Name": "Texas Lutheran University",
          "Latitude": 29.573261,
          "Longitude": -97.982669,
          "Undergraduate enrollment": 1359
         },
         {
          "Institution Name": "Texas Southern University",
          "Latitude": 29.722468,
          "Longitude": -95.361961,
          "Undergraduate enrollment": 7967
         },
         {
          "Institution Name": "Texas State University",
          "Latitude": 29.888885,
          "Longitude": -97.943029,
          "Undergraduate enrollment": 34180
         },
         {
          "Institution Name": "Texas Tech University",
          "Latitude": 33.583448,
          "Longitude": -101.874783,
          "Undergraduate enrollment": 30737
         },
         {
          "Institution Name": "Texas Tech University Health Sciences Center",
          "Latitude": 33.589284,
          "Longitude": -101.891915,
          "Undergraduate enrollment": 1597
         },
         {
          "Institution Name": "Texas Wesleyan University",
          "Latitude": 32.732962,
          "Longitude": -97.279613,
          "Undergraduate enrollment": 1674
         },
         {
          "Institution Name": "Texas Woman's University",
          "Latitude": 33.227002,
          "Longitude": -97.129088,
          "Undergraduate enrollment": 10310
         },
         {
          "Institution Name": "The Art Institute of Atlanta",
          "Latitude": 33.936024,
          "Longitude": -84.35525200000002,
          "Undergraduate enrollment": 1582
         },
         {
          "Institution Name": "The Art Institute of Austin",
          "Latitude": 30.479036,
          "Longitude": -97.675263,
          "Undergraduate enrollment": 638
         },
         {
          "Institution Name": "The Art Institute of Charleston",
          "Latitude": 32.781424,
          "Longitude": -79.926971,
          "Undergraduate enrollment": 316
         },
         {
          "Institution Name": "The Art Institute of Charlotte",
          "Latitude": 35.181837,
          "Longitude": -80.92750699999998,
          "Undergraduate enrollment": 451
         },
         {
          "Institution Name": "The Art Institute of Cincinnati-AIC College of Design",
          "Latitude": 39.285831,
          "Longitude": -84.451296,
          "Undergraduate enrollment": 20
         },
         {
          "Institution Name": "The Art Institute of Colorado",
          "Latitude": 39.735587,
          "Longitude": -104.985847,
          "Undergraduate enrollment": 611
         },
         {
          "Institution Name": "The Art Institute of Fort Lauderdale",
          "Latitude": 26.101096,
          "Longitude": -80.123514,
          "Undergraduate enrollment": 651
         },
         {
          "Institution Name": "The Art Institute of Houston",
          "Latitude": 29.730258000000006,
          "Longitude": -95.445598,
          "Undergraduate enrollment": 1096
         },
         {
          "Institution Name": "The Art Institute of Indianapolis",
          "Latitude": 39.920113,
          "Longitude": -86.22168,
          "Undergraduate enrollment": 536
         },
         {
          "Institution Name": "The Art Institute of Las Vegas",
          "Latitude": 36.024552,
          "Longitude": -115.090268,
          "Undergraduate enrollment": 683
         },
         {
          "Institution Name": "The Art Institute of Michigan",
          "Latitude": 42.499807,
          "Longitude": -83.443117,
          "Undergraduate enrollment": 532
         },
         {
          "Institution Name": "The Art Institute of Philadelphia",
          "Latitude": 39.951125,
          "Longitude": -75.16813,
          "Undergraduate enrollment": 842
         },
         {
          "Institution Name": "The Art Institute of Phoenix",
          "Latitude": 33.566817,
          "Longitude": -112.107494,
          "Undergraduate enrollment": 652
         },
         {
          "Institution Name": "The Art Institute of Pittsburgh",
          "Latitude": 40.447429,
          "Longitude": -79.98902199999998,
          "Undergraduate enrollment": 431
         },
         {
          "Institution Name": "The Art Institute of Pittsburgh-Online Division",
          "Latitude": 40.44751,
          "Longitude": -79.98906099999998,
          "Undergraduate enrollment": 2940
         },
         {
          "Institution Name": "The Art Institute of Portland",
          "Latitude": 45.524116,
          "Longitude": -122.682644,
          "Undergraduate enrollment": 491
         },
         {
          "Institution Name": "The Art Institute of Raleigh-Durham",
          "Latitude": 35.991975,
          "Longitude": -78.905445,
          "Undergraduate enrollment": 370
         },
         {
          "Institution Name": "The Art Institute of San Antonio",
          "Latitude": 29.532925,
          "Longitude": -98.56556,
          "Undergraduate enrollment": 747
         },
         {
          "Institution Name": "The Art Institute of Seattle",
          "Latitude": 47.612271,
          "Longitude": -122.349179,
          "Undergraduate enrollment": 857
         },
         {
          "Institution Name": "The Art Institute of Tennessee-Nashville",
          "Latitude": 36.154574,
          "Longitude": -86.635403,
          "Undergraduate enrollment": 395
         },
         {
          "Institution Name": "The Art Institute of Virginia Beach",
          "Latitude": 36.842383,
          "Longitude": -76.131737,
          "Undergraduate enrollment": 370
         },
         {
          "Institution Name": "The Art Institute of Washington",
          "Latitude": 38.895859,
          "Longitude": -77.072631,
          "Undergraduate enrollment": 498
         },
         {
          "Institution Name": "The Baptist College of Florida",
          "Latitude": 30.962708000000006,
          "Longitude": -85.50393100000002,
          "Undergraduate enrollment": 405
         },
         {
          "Institution Name": "The Chicago School of Professional Psychology at Chicago",
          "Latitude": 41.888293,
          "Longitude": -87.63379,
          "Undergraduate enrollment": 0
         },
         {
          "Institution Name": "The Chicago School of Professional Psychology at Irvine",
          "Latitude": 33.650763,
          "Longitude": -117.838089,
          "Undergraduate enrollment": 0
         },
         {
          "Institution Name": "The Chicago School of Professional Psychology at Los Angeles",
          "Latitude": 34.047958,
          "Longitude": -118.257251,
          "Undergraduate enrollment": 138
         },
         {
          "Institution Name": "The Chicago School of Professional Psychology at San Diego",
          "Latitude": 32.718575,
          "Longitude": -117.167054,
          "Undergraduate enrollment": 0
         },
         {
          "Institution Name": "The Chicago School of Professional Psychology at Washington DC",
          "Latitude": 38.90163,
          "Longitude": -77.03307099999998,
          "Undergraduate enrollment": 0
         },
         {
          "Institution Name": "The Chicago School of Professional Psychology at Xavier University of Louisiana",
          "Latitude": 29.96527,
          "Longitude": -90.107924,
          "Undergraduate enrollment": 0
         },
         {
          "Institution Name": "The Christ College of Nursing and Health Sciences",
          "Latitude": 39.121821,
          "Longitude": -84.509564,
          "Undergraduate enrollment": 914
         },
         {
          "Institution Name": "The College of Health Care Professions-Northwest",
          "Latitude": 29.799602,
          "Longitude": -95.454298,
          "Undergraduate enrollment": 1402
         },
         {
          "Institution Name": "The College of Idaho",
          "Latitude": 43.652284,
          "Longitude": -116.677992,
          "Undergraduate enrollment": 936
         },
         {
          "Institution Name": "The College of New Jersey",
          "Latitude": 40.268651,
          "Longitude": -74.778791,
          "Undergraduate enrollment": 6955
         },
         {
          "Institution Name": "The College of New Rochelle",
          "Latitude": 40.899427,
          "Longitude": -73.781104,
          "Undergraduate enrollment": 2538
         },
         {
          "Institution Name": "The College of Saint Rose",
          "Latitude": 42.664297,
          "Longitude": -73.786661,
          "Undergraduate enrollment": 2504
         },
         {
          "Institution Name": "The College of Saint Scholastica",
          "Latitude": 46.816082,
          "Longitude": -92.106134,
          "Undergraduate enrollment": 2676
         },
         {
          "Institution Name": "The College of Westchester",
          "Latitude": 41.033687,
          "Longitude": -73.78440400000002,
          "Undergraduate enrollment": 916
         },
         {
          "Institution Name": "The College of Wooster",
          "Latitude": 40.81046,
          "Longitude": -81.934674,
          "Undergraduate enrollment": 1980
         },
         {
          "Institution Name": "The Creative Center",
          "Latitude": 41.290922,
          "Longitude": -96.082837,
          "Undergraduate enrollment": 51
         },
         {
          "Institution Name": "The Evergreen State College",
          "Latitude": 47.07382,
          "Longitude": -122.977492,
          "Undergraduate enrollment": 3610
         },
         {
          "Institution Name": "The General Theological Seminary",
          "Latitude": 40.745563,
          "Longitude": -74.00378,
          "Undergraduate enrollment": 0
         },
         {
          "Institution Name": "The Illinois Institute of Art-Chicago",
          "Latitude": 41.888723,
          "Longitude": -87.637632,
          "Undergraduate enrollment": 753
         },
         {
          "Institution Name": "The Illinois Institute of Art-Schaumburg",
          "Latitude": 42.048249,
          "Longitude": -88.044026,
          "Undergraduate enrollment": 383
         },
         {
          "Institution Name": "The John Marshall Law School",
          "Latitude": 41.877966,
          "Longitude": -87.628567,
          "Undergraduate enrollment": 0
         },
         {
          "Institution Name": "The Juilliard School",
          "Latitude": 40.773725,
          "Longitude": -73.982913,
          "Undergraduate enrollment": 566
         },
         {
          "Institution Name": "The King's College",
          "Latitude": 40.706677,
          "Longitude": -74.012342,
          "Undergraduate enrollment": 555
         },
         {
          "Institution Name": "The King's University",
          "Latitude": 32.93973,
          "Longitude": -97.121526,
          "Undergraduate enrollment": 400
         },
         {
          "Institution Name": "The Master's University and Seminary",
          "Latitude": 34.381755,
          "Longitude": -118.518193,
          "Undergraduate enrollment": 1344
         },
         {
          "Institution Name": "The New England Conservatory of Music",
          "Latitude": 42.340946,
          "Longitude": -71.08629,
          "Undergraduate enrollment": 436
         },
         {
          "Institution Name": "The New School",
          "Latitude": 40.735508,
          "Longitude": -73.997114,
          "Undergraduate enrollment": 7125
         },
         {
          "Institution Name": "The Restaurant School at Walnut Hill College",
          "Latitude": 39.955098,
          "Longitude": -75.20749,
          "Undergraduate enrollment": 334
         },
         {
          "Institution Name": "The Sage Colleges",
          "Latitude": 42.72822,
          "Longitude": -73.693711,
          "Undergraduate enrollment": 1305
         },
         {
          "Institution Name": "The Santa Barbara and Ventura Colleges of Law at Santa Barbara",
          "Latitude": 34.424541999999995,
          "Longitude": -119.70516,
          "Undergraduate enrollment": 0
         },
         {
          "Institution Name": "The Santa Barbara and Ventura Colleges of Law at Ventura",
          "Latitude": 34.25747,
          "Longitude": -119.232988,
          "Undergraduate enrollment": 0
         },
         {
          "Institution Name": "The Seattle School of Theology & Psychology",
          "Latitude": 47.613373,
          "Longitude": -122.350945,
          "Undergraduate enrollment": 0
         },
         {
          "Institution Name": "The University of Alabama",
          "Latitude": 33.211875,
          "Longitude": -87.545978,
          "Undergraduate enrollment": 33305
         },
         {
          "Institution Name": "The University of Findlay",
          "Latitude": 41.053344,
          "Longitude": -83.652313,
          "Undergraduate enrollment": 3562
         },
         {
          "Institution Name": "The University of Montana",
          "Latitude": 46.859312,
          "Longitude": -113.982912,
          "Undergraduate enrollment": 9323
         },
         {
          "Institution Name": "The University of Montana-Western",
          "Latitude": 45.208306,
          "Longitude": -112.63926399999998,
          "Undergraduate enrollment": 1538
         },
         {
          "Institution Name": "The University of Tampa",
          "Latitude": 27.948455,
          "Longitude": -82.46483,
          "Undergraduate enrollment": 7971
         },
         {
          "Institution Name": "The University of Tennessee-Chattanooga",
          "Latitude": 35.048247,
          "Longitude": -85.299812,
          "Undergraduate enrollment": 10176
         },
         {
          "Institution Name": "The University of Tennessee-Health Science Center",
          "Latitude": 35.14063400000001,
          "Longitude": -90.030435,
          "Undergraduate enrollment": 341
         },
         {
          "Institution Name": "The University of Tennessee-Knoxville",
          "Latitude": 35.952082,
          "Longitude": -83.925852,
          "Undergraduate enrollment": 22317
         },
         {
          "Institution Name": "The University of Tennessee-Martin",
          "Latitude": 36.340338,
          "Longitude": -88.864211,
          "Undergraduate enrollment": 6330
         },
         {
          "Institution Name": "The University of Texas at Arlington",
          "Latitude": 32.729718,
          "Longitude": -97.11296,
          "Undergraduate enrollment": 33307
         },
         {
          "Institution Name": "The University of Texas at Austin",
          "Latitude": 30.282825,
          "Longitude": -97.738273,
          "Undergraduate enrollment": 40492
         },
         {
          "Institution Name": "The University of Texas at Dallas",
          "Latitude": 32.984673,
          "Longitude": -96.749702,
          "Undergraduate enrollment": 18470
         },
         {
          "Institution Name": "The University of Texas at El Paso",
          "Latitude": 31.771697,
          "Longitude": -106.50356,
          "Undergraduate enrollment": 21341
         },
         {
          "Institution Name": "The University of Texas at San Antonio",
          "Latitude": 29.582418,
          "Longitude": -98.621386,
          "Undergraduate enrollment": 26444
         },
         {
          "Institution Name": "The University of Texas at Tyler",
          "Latitude": 32.315772,
          "Longitude": -95.254337,
          "Undergraduate enrollment": 7440
         },
         {
          "Institution Name": "The University of Texas Health Science Center at Houston",
          "Latitude": 29.702873,
          "Longitude": -95.403183,
          "Undergraduate enrollment": 709
         },
         {
          "Institution Name": "The University of Texas Health Science Center at San Antonio",
          "Latitude": 29.504716,
          "Longitude": -98.57606,
          "Undergraduate enrollment": 807
         },
         {
          "Institution Name": "The University of Texas MD Anderson Cancer Center",
          "Latitude": 29.707016,
          "Longitude": -95.396804,
          "Undergraduate enrollment": 321
         },
         {
          "Institution Name": "The University of Texas Medical Branch",
          "Latitude": 29.310758,
          "Longitude": -94.775956,
          "Undergraduate enrollment": 733
         },
         {
          "Institution Name": "The University of Texas of the Permian Basin",
          "Latitude": 31.889509000000004,
          "Longitude": -102.329634,
          "Undergraduate enrollment": 6065
         },
         {
          "Institution Name": "The University of Texas Rio Grande Valley",
          "Latitude": 26.306759000000003,
          "Longitude": -98.173567,
          "Undergraduate enrollment": 24220
         },
         {
          "Institution Name": "The University of the Arts",
          "Latitude": 39.946017,
          "Longitude": -75.165888,
          "Undergraduate enrollment": 1681
         },
         {
          "Institution Name": "The University of Virginia's College at Wise",
          "Latitude": 36.971468,
          "Longitude": -82.558728,
          "Undergraduate enrollment": 2095
         },
         {
          "Institution Name": "The University of West Florida",
          "Latitude": 30.549076,
          "Longitude": -87.21851099999998,
          "Undergraduate enrollment": 10002
         },
         {
          "Institution Name": "The Wright Institute",
          "Latitude": 37.86822100000001,
          "Longitude": -122.253168,
          "Undergraduate enrollment": 0
         },
         {
          "Institution Name": "Theological Seminary of the Reformed Episcopal Church",
          "Latitude": 40.168935,
          "Longitude": -75.290124,
          "Undergraduate enrollment": 0
         },
         {
          "Institution Name": "Thiel College",
          "Latitude": 41.41354000000001,
          "Longitude": -80.384383,
          "Undergraduate enrollment": 766
         },
         {
          "Institution Name": "Thomas Aquinas College",
          "Latitude": 34.429009,
          "Longitude": -119.087141,
          "Undergraduate enrollment": 369
         },
         {
          "Institution Name": "Thomas College",
          "Latitude": 44.524909,
          "Longitude": -69.664734,
          "Undergraduate enrollment": 1663
         },
         {
          "Institution Name": "Thomas Edison State University",
          "Latitude": 40.220487,
          "Longitude": -74.768562,
          "Undergraduate enrollment": 11141
         },
         {
          "Institution Name": "Thomas Jefferson School of Law",
          "Latitude": 32.71014,
          "Longitude": -117.154191,
          "Undergraduate enrollment": 0
         },
         {
          "Institution Name": "Thomas Jefferson University",
          "Latitude": 39.948274,
          "Longitude": -75.158266,
          "Undergraduate enrollment": 816
         },
         {
          "Institution Name": "Thomas More College",
          "Latitude": 39.022963,
          "Longitude": -84.568923,
          "Undergraduate enrollment": 1880
         },
         {
          "Institution Name": "Thomas More College of Liberal Arts",
          "Latitude": 42.80683,
          "Longitude": -71.48437,
          "Undergraduate enrollment": 90
         },
         {
          "Institution Name": "Thomas University",
          "Latitude": 30.815576,
          "Longitude": -83.963587,
          "Undergraduate enrollment": 1118
         },
         {
          "Institution Name": "Thunderbird School of Global Management",
          "Latitude": 33.620887,
          "Longitude": -112.180861,
          "Undergraduate enrollment": 0
         },
         {
          "Institution Name": "Tiffin University",
          "Latitude": 41.118316,
          "Longitude": -83.184197,
          "Undergraduate enrollment": 2243
         },
         {
          "Institution Name": "Toccoa Falls College",
          "Latitude": 34.593414,
          "Longitude": -83.357617,
          "Undergraduate enrollment": 1411
         },
         {
          "Institution Name": "Torah Temimah Talmudical Seminary",
          "Latitude": 40.63598,
          "Longitude": -73.971994,
          "Undergraduate enrollment": 66
         },
         {
          "Institution Name": "Tougaloo College",
          "Latitude": 32.403014,
          "Longitude": -90.16076,
          "Undergraduate enrollment": 793
         },
         {
          "Institution Name": "Touro College",
          "Latitude": 40.753199,
          "Longitude": -73.98940400000002,
          "Undergraduate enrollment": 6426
         },
         {
          "Institution Name": "Touro University California",
          "Latitude": 38.085479,
          "Longitude": -122.263949,
          "Undergraduate enrollment": 0
         },
         {
          "Institution Name": "Touro University Nevada",
          "Latitude": 36.043189,
          "Longitude": -115.024012,
          "Undergraduate enrollment": 18
         },
         {
          "Institution Name": "Touro University Worldwide",
          "Latitude": 33.808683,
          "Longitude": -118.057754,
          "Undergraduate enrollment": 538
         },
         {
          "Institution Name": "Towson University",
          "Latitude": 39.393622,
          "Longitude": -76.611164,
          "Undergraduate enrollment": 19596
         },
         {
          "Institution Name": "Transylvania University",
          "Latitude": 38.05298300000001,
          "Longitude": -84.493202,
          "Undergraduate enrollment": 966
         },
         {
          "Institution Name": "Trevecca Nazarene University",
          "Latitude": 36.141324,
          "Longitude": -86.754238,
          "Undergraduate enrollment": 2219
         },
         {
          "Institution Name": "Tri-State Bible College",
          "Latitude": 38.426238,
          "Longitude": -82.579887,
          "Undergraduate enrollment": 35
         },
         {
          "Institution Name": "Tri-State College of Acupuncture",
          "Latitude": 40.739862,
          "Longitude": -74.002085,
          "Undergraduate enrollment": 0
         },
         {
          "Institution Name": "Tribeca Flashpoint College",
          "Latitude": 41.88278,
          "Longitude": -87.631164,
          "Undergraduate enrollment": 314
         },
         {
          "Institution Name": "Trident University International",
          "Latitude": 33.805244,
          "Longitude": -118.034759,
          "Undergraduate enrollment": 4371
         },
         {
          "Institution Name": "Trine University",
          "Latitude": 41.632502,
          "Longitude": -85.008009,
          "Undergraduate enrollment": 4098
         },
         {
          "Institution Name": "Trine University-Regional/Non-Traditional Campuses",
          "Latitude": 41.172352,
          "Longitude": -85.106453,
          "Undergraduate enrollment": 368
         },
         {
          "Institution Name": "Trinity Baptist College",
          "Latitude": 30.311171,
          "Longitude": -81.79626,
          "Undergraduate enrollment": 353
         },
         {
          "Institution Name": "Trinity Bible College and Graduate School",
          "Latitude": 46.001037,
          "Longitude": -98.517906,
          "Undergraduate enrollment": 191
         },
         {
          "Institution Name": "Trinity Christian College",
          "Latitude": 41.667687,
          "Longitude": -87.783973,
          "Undergraduate enrollment": 1107
         },
         {
          "Institution Name": "Trinity College",
          "Latitude": 41.747451,
          "Longitude": -72.69088199999999,
          "Undergraduate enrollment": 2221
         },
         {
          "Institution Name": "Trinity College of Florida",
          "Latitude": 28.194732,
          "Longitude": -82.678318,
          "Undergraduate enrollment": 189
         },
         {
          "Institution Name": "Trinity College of Nursing & Health Sciences",
          "Latitude": 41.484924,
          "Longitude": -90.568862,
          "Undergraduate enrollment": 213
         },
         {
          "Institution Name": "Trinity Episcopal School for Ministry",
          "Latitude": 40.593403,
          "Longitude": -80.23017800000002,
          "Undergraduate enrollment": 0
         },
         {
          "Institution Name": "Trinity International University-Florida",
          "Latitude": 25.973916,
          "Longitude": -80.350735,
          "Undergraduate enrollment": 156
         },
         {
          "Institution Name": "Trinity International University-Illinois",
          "Latitude": 42.197945,
          "Longitude": -87.880851,
          "Undergraduate enrollment": 934
         },
         {
          "Institution Name": "Trinity Law School",
          "Latitude": 33.766071000000004,
          "Longitude": -117.852059,
          "Undergraduate enrollment": 0
         },
         {
          "Institution Name": "Trinity Lutheran Seminary",
          "Latitude": 39.95624,
          "Longitude": -82.94063100000002,
          "Undergraduate enrollment": 0
         },
         {
          "Institution Name": "Trinity School of Health and Allied Sciences",
          "Latitude": 33.858764,
          "Longitude": -118.296542,
          "Undergraduate enrollment": 113
         },
         {
          "Institution Name": "Trinity University",
          "Latitude": 29.46286,
          "Longitude": -98.482577,
          "Undergraduate enrollment": 2395
         },
         {
          "Institution Name": "Trinity Washington University",
          "Latitude": 38.927398,
          "Longitude": -77.004261,
          "Undergraduate enrollment": 1534
         },
         {
          "Institution Name": "Trocaire College",
          "Latitude": 42.846693,
          "Longitude": -78.812398,
          "Undergraduate enrollment": 1399
         },
         {
          "Institution Name": "Troy University",
          "Latitude": 31.800672,
          "Longitude": -85.957094,
          "Undergraduate enrollment": 14000
         },
         {
          "Institution Name": "Truett McConnell University",
          "Latitude": 34.596306,
          "Longitude": -83.74891099999998,
          "Undergraduate enrollment": 2573
         },
         {
          "Institution Name": "Truman State University",
          "Latitude": 40.188267,
          "Longitude": -92.581658,
          "Undergraduate enrollment": 5898
         },
         {
          "Institution Name": "Tufts University",
          "Latitude": 42.408465,
          "Longitude": -71.120316,
          "Undergraduate enrollment": 5541
         },
         {
          "Institution Name": "Tulane University of Louisiana",
          "Latitude": 29.940069,
          "Longitude": -90.122144,
          "Undergraduate enrollment": 7871
         },
         {
          "Institution Name": "Turtle Mountain Community College",
          "Latitude": 48.883758,
          "Longitude": -99.750836,
          "Undergraduate enrollment": 567
         },
         {
          "Institution Name": "Tusculum College",
          "Latitude": 36.172558,
          "Longitude": -82.761716,
          "Undergraduate enrollment": 1488
         },
         {
          "Institution Name": "Tuskegee University",
          "Latitude": 32.4309,
          "Longitude": -85.708492,
          "Undergraduate enrollment": 2833
         },
         {
          "Institution Name": "Tyler Junior College",
          "Latitude": 32.336015,
          "Longitude": -95.284129,
          "Undergraduate enrollment": 11649
         },
         {
          "Institution Name": "Unification Theological Seminary",
          "Latitude": 42.003336,
          "Longitude": -73.924306,
          "Undergraduate enrollment": 0
         },
         {
          "Institution Name": "Unilatina International College",
          "Latitude": 25.97989,
          "Longitude": -80.283123,
          "Undergraduate enrollment": 76
         },
         {
          "Institution Name": "Union College",
          "Latitude": 36.870875,
          "Longitude": -83.88847700000002,
          "Undergraduate enrollment": 1094
         },
         {
          "Institution Name": "Union College",
          "Latitude": 42.818097,
          "Longitude": -73.928788,
          "Undergraduate enrollment": 2267
         },
         {
          "Institution Name": "Union College",
          "Latitude": 40.77477800000001,
          "Longitude": -96.651095,
          "Undergraduate enrollment": 781
         },
         {
          "Institution Name": "Union Institute & University",
          "Latitude": 39.126921,
          "Longitude": -84.50016600000002,
          "Undergraduate enrollment": 813
         },
         {
          "Institution Name": "Union Presbyterian Seminary",
          "Latitude": 37.578935,
          "Longitude": -77.44931700000002,
          "Undergraduate enrollment": 0
         },
         {
          "Institution Name": "Union Theological Seminary in the City of New York",
          "Latitude": 40.811823,
          "Longitude": -73.961549,
          "Undergraduate enrollment": 0
         },
         {
          "Institution Name": "Union University",
          "Latitude": 35.676896,
          "Longitude": -88.858524,
          "Undergraduate enrollment": 2181
         },
         {
          "Institution Name": "United Lutheran Seminary",
          "Latitude": 39.831701,
          "Longitude": -77.244111,
          "Undergraduate enrollment": 0
         },
         {
          "Institution Name": "United States Merchant Marine Academy",
          "Latitude": 40.81357,
          "Longitude": -73.76300400000002,
          "Undergraduate enrollment": 954
         },
         {
          "Institution Name": "United States Sports Academy",
          "Latitude": 30.639329,
          "Longitude": -87.91163,
          "Undergraduate enrollment": 103
         },
         {
          "Institution Name": "United States University",
          "Latitude": 32.7769,
          "Longitude": -117.154904,
          "Undergraduate enrollment": 99
         },
         {
          "Institution Name": "United Talmudical Seminary",
          "Latitude": 40.705687,
          "Longitude": -73.959113,
          "Undergraduate enrollment": 1944
         },
         {
          "Institution Name": "United Theological Seminary",
          "Latitude": 39.813423,
          "Longitude": -84.27691300000002,
          "Undergraduate enrollment": 0
         },
         {
          "Institution Name": "United Theological Seminary of the Twin Cities",
          "Latitude": 45.058244,
          "Longitude": -93.226,
          "Undergraduate enrollment": 0
         },
         {
          "Institution Name": "United Tribes Technical College",
          "Latitude": 46.767157,
          "Longitude": -100.755131,
          "Undergraduate enrollment": 315
         },
         {
          "Institution Name": "Unitek College",
          "Latitude": 37.50904,
          "Longitude": -121.961761,
          "Undergraduate enrollment": 2715
         },
         {
          "Institution Name": "Unity College",
          "Latitude": 44.603165,
          "Longitude": -69.33227600000001,
          "Undergraduate enrollment": 704
         },
         {
          "Institution Name": "University at Buffalo",
          "Latitude": 43.000942,
          "Longitude": -78.789458,
          "Undergraduate enrollment": 21020
         },
         {
          "Institution Name": "University of Advancing Technology",
          "Latitude": 33.377712,
          "Longitude": -111.976087,
          "Undergraduate enrollment": 772
         },
         {
          "Institution Name": "University of Akron Main Campus",
          "Latitude": 41.078551,
          "Longitude": -81.511679,
          "Undergraduate enrollment": 16872
         },
         {
          "Institution Name": "University of Alabama at Birmingham",
          "Latitude": 33.505697,
          "Longitude": -86.799345,
          "Undergraduate enrollment": 13134
         },
         {
          "Institution Name": "University of Alabama in Huntsville",
          "Latitude": 34.724557,
          "Longitude": -86.640449,
          "Undergraduate enrollment": 7090
         },
         {
          "Institution Name": "University of Alaska Anchorage",
          "Latitude": 61.190163,
          "Longitude": -149.82619,
          "Undergraduate enrollment": 14955
         },
         {
          "Institution Name": "University of Alaska Fairbanks",
          "Latitude": 64.85755999999999,
          "Longitude": -147.823146,
          "Undergraduate enrollment": 6639
         },
         {
          "Institution Name": "University of Alaska Southeast",
          "Latitude": 58.384846,
          "Longitude": -134.63825500000002,
          "Undergraduate enrollment": 2060
         },
         {
          "Institution Name": "University of Antelope Valley",
          "Latitude": 34.683587,
          "Longitude": -118.134968,
          "Undergraduate enrollment": 672
         },
         {
          "Institution Name": "University of Arizona",
          "Latitude": 32.232671999999994,
          "Longitude": -110.950815,
          "Undergraduate enrollment": 34101
         },
         {
          "Institution Name": "University of Arizona-South",
          "Latitude": 31.567832,
          "Longitude": -110.245117,
          "Undergraduate enrollment": 417
         },
         {
          "Institution Name": "University of Arkansas",
          "Latitude": 36.07000900000001,
          "Longitude": -94.176981,
          "Undergraduate enrollment": 23044
         },
         {
          "Institution Name": "University of Arkansas at Little Rock",
          "Latitude": 34.723254,
          "Longitude": -92.339778,
          "Undergraduate enrollment": 8793
         },
         {
          "Institution Name": "University of Arkansas at Monticello",
          "Latitude": 33.590909,
          "Longitude": -91.811153,
          "Undergraduate enrollment": 3417
         },
         {
          "Institution Name": "University of Arkansas at Pine Bluff",
          "Latitude": 34.244031,
          "Longitude": -92.018683,
          "Undergraduate enrollment": 2517
         },
         {
          "Institution Name": "University of Arkansas for Medical Sciences",
          "Latitude": 34.749047999999995,
          "Longitude": -92.320046,
          "Undergraduate enrollment": 646
         },
         {
          "Institution Name": "University of Arkansas-Fort Smith",
          "Latitude": 35.38418400000001,
          "Longitude": -94.373729,
          "Undergraduate enrollment": 6620
         },
         {
          "Institution Name": "University of Baltimore",
          "Latitude": 39.305834,
          "Longitude": -76.616591,
          "Undergraduate enrollment": 2949
         },
         {
          "Institution Name": "University of Bridgeport",
          "Latitude": 41.164741,
          "Longitude": -73.190166,
          "Undergraduate enrollment": 3129
         },
         {
          "Institution Name": "University of California-Berkeley",
          "Latitude": 37.871918,
          "Longitude": -122.260463,
          "Undergraduate enrollment": 30574
         },
         {
          "Institution Name": "University of California-Davis",
          "Latitude": 38.539667,
          "Longitude": -121.749567,
          "Undergraduate enrollment": 30066
         },
         {
          "Institution Name": "University of California-Hastings College of Law",
          "Latitude": 37.781137,
          "Longitude": -122.4157,
          "Undergraduate enrollment": 0
         },
         {
          "Institution Name": "University of California-Irvine",
          "Latitude": 33.648434,
          "Longitude": -117.841248,
          "Undergraduate enrollment": 29307
         },
         {
          "Institution Name": "University of California-Los Angeles",
          "Latitude": 34.068892,
          "Longitude": -118.443901,
          "Undergraduate enrollment": 31002
         },
         {
          "Institution Name": "University of California-Merced",
          "Latitude": 37.366237,
          "Longitude": -120.424944,
          "Undergraduate enrollment": 7375
         },
         {
          "Institution Name": "University of California-Riverside",
          "Latitude": 33.97246,
          "Longitude": -117.32741,
          "Undergraduate enrollment": 20073
         },
         {
          "Institution Name": "University of California-San Diego",
          "Latitude": 32.876598,
          "Longitude": -117.237793,
          "Undergraduate enrollment": 28587
         },
         {
          "Institution Name": "University of California-San Francisco",
          "Latitude": 37.762736,
          "Longitude": -122.458049,
          "Undergraduate enrollment": 0
         },
         {
          "Institution Name": "University of California-Santa Barbara",
          "Latitude": 34.416297,
          "Longitude": -119.846426,
          "Undergraduate enrollment": 22186
         },
         {
          "Institution Name": "University of California-Santa Cruz",
          "Latitude": 36.995584,
          "Longitude": -122.058801,
          "Undergraduate enrollment": 17577
         },
         {
          "Institution Name": "University of Central Arkansas",
          "Latitude": 35.077945,
          "Longitude": -92.457672,
          "Undergraduate enrollment": 9548
         },
         {
          "Institution Name": "University of Central Florida",
          "Latitude": 28.602159000000004,
          "Longitude": -81.200889,
          "Undergraduate enrollment": 56853
         },
         {
          "Institution Name": "University of Central Missouri",
          "Latitude": 38.759111,
          "Longitude": -93.737428,
          "Undergraduate enrollment": 9801
         },
         {
          "Institution Name": "University of Central Oklahoma",
          "Latitude": 35.6552,
          "Longitude": -97.471508,
          "Undergraduate enrollment": 14343
         },
         {
          "Institution Name": "University of Charleston",
          "Latitude": 38.333367,
          "Longitude": -81.616244,
          "Undergraduate enrollment": 1831
         },
         {
          "Institution Name": "University of Chicago",
          "Latitude": 41.787994,
          "Longitude": -87.59953900000002,
          "Undergraduate enrollment": 6310
         },
         {
          "Institution Name": "University of Cincinnati-Blue Ash College",
          "Latitude": 39.234333,
          "Longitude": -84.399956,
          "Undergraduate enrollment": 4779
         },
         {
          "Institution Name": "University of Cincinnati-Clermont College",
          "Latitude": 39.080645,
          "Longitude": -84.19436999999998,
          "Undergraduate enrollment": 2799
         },
         {
          "Institution Name": "University of Cincinnati-Main Campus",
          "Latitude": 39.131159,
          "Longitude": -84.51428,
          "Undergraduate enrollment": 26559
         },
         {
          "Institution Name": "University of Colorado Boulder",
          "Latitude": 40.008781,
          "Longitude": -105.270823,
          "Undergraduate enrollment": 29056
         },
         {
          "Institution Name": "University of Colorado Colorado Springs",
          "Latitude": 38.892735,
          "Longitude": -104.800296,
          "Undergraduate enrollment": 10808
         },
         {
          "Institution Name": "University of Colorado Denver/Anschutz Medical Campus",
          "Latitude": 39.745149,
          "Longitude": -104.837722,
          "Undergraduate enrollment": 15586
         },
         {
          "Institution Name": "University of Connecticut",
          "Latitude": 41.809098,
          "Longitude": -72.249948,
          "Undergraduate enrollment": 19241
         },
         {
          "Institution Name": "University of Connecticut-Avery Point",
          "Latitude": 41.316419,
          "Longitude": -72.065336,
          "Undergraduate enrollment": 657
         },
         {
          "Institution Name": "University of Connecticut-Hartford Campus",
          "Latitude": 41.762673,
          "Longitude": -72.672175,
          "Undergraduate enrollment": 1279
         },
         {
          "Institution Name": "University of Connecticut-Stamford",
          "Latitude": 41.056081,
          "Longitude": -73.54220600000002,
          "Undergraduate enrollment": 1796
         },
         {
          "Institution Name": "University of Connecticut-Waterbury Campus",
          "Latitude": 41.555617,
          "Longitude": -73.039242,
          "Undergraduate enrollment": 872
         },
         {
          "Institution Name": "University of Dallas",
          "Latitude": 32.846202000000005,
          "Longitude": -96.921573,
          "Undergraduate enrollment": 1450
         },
         {
          "Institution Name": "University of Dayton",
          "Latitude": 39.739547,
          "Longitude": -84.176113,
          "Undergraduate enrollment": 8499
         },
         {
          "Institution Name": "University of Delaware",
          "Latitude": 39.679577,
          "Longitude": -75.752822,
          "Undergraduate enrollment": 19750
         },
         {
          "Institution Name": "University of Denver",
          "Latitude": 39.678005,
          "Longitude": -104.963259,
          "Undergraduate enrollment": 5765
         },
         {
          "Institution Name": "University of Detroit Mercy",
          "Latitude": 42.414222,
          "Longitude": -83.139158,
          "Undergraduate enrollment": 2843
         },
         {
          "Institution Name": "University of Dubuque",
          "Latitude": 42.49726,
          "Longitude": -90.693428,
          "Undergraduate enrollment": 1958
         },
         {
          "Institution Name": "University of East-West Medicine",
          "Latitude": 37.3864,
          "Longitude": -121.997011,
          "Undergraduate enrollment": 0
         },
         {
          "Institution Name": "University of Evansville",
          "Latitude": 37.971549,
          "Longitude": -87.531644,
          "Undergraduate enrollment": 2342
         },
         {
          "Institution Name": "University of Florida",
          "Latitude": 29.646290000000004,
          "Longitude": -82.347911,
          "Undergraduate enrollment": 35247
         },
         {
          "Institution Name": "University of Florida-Online",
          "Latitude": 29.649413,
          "Longitude": -82.339848,
          "Undergraduate enrollment": 2865
         },
         {
          "Institution Name": "University of Fort Lauderdale",
          "Latitude": 26.147098,
          "Longitude": -80.204938,
          "Undergraduate enrollment": 58
         },
         {
          "Institution Name": "University of Georgia",
          "Latitude": 33.956262,
          "Longitude": -83.374039,
          "Undergraduate enrollment": 28848
         },
         {
          "Institution Name": "University of Hartford",
          "Latitude": 41.798591,
          "Longitude": -72.715213,
          "Undergraduate enrollment": 5069
         },
         {
          "Institution Name": "University of Hawaii at Hilo",
          "Latitude": 19.701189000000007,
          "Longitude": -155.080847,
          "Undergraduate enrollment": 2971
         },
         {
          "Institution Name": "University of Hawaii at Manoa",
          "Latitude": 21.298598,
          "Longitude": -157.818979,
          "Undergraduate enrollment": 12881
         },
         {
          "Institution Name": "University of Hawaii Maui College",
          "Latitude": 20.88956,
          "Longitude": -156.477252,
          "Undergraduate enrollment": 3302
         },
         {
          "Institution Name": "University of Hawaii-West Oahu",
          "Latitude": 21.35531,
          "Longitude": -158.056403,
          "Undergraduate enrollment": 3082
         },
         {
          "Institution Name": "University of Holy Cross",
          "Latitude": 29.912003,
          "Longitude": -89.99445,
          "Undergraduate enrollment": 912
         },
         {
          "Institution Name": "University of Houston",
          "Latitude": 29.720393,
          "Longitude": -95.343537,
          "Undergraduate enrollment": 37215
         },
         {
          "Institution Name": "University of Houston-Clear Lake",
          "Latitude": 29.582523,
          "Longitude": -95.098129,
          "Undergraduate enrollment": 5798
         },
         {
          "Institution Name": "University of Houston-Downtown",
          "Latitude": 29.7661,
          "Longitude": -95.359338,
          "Undergraduate enrollment": 12407
         },
         {
          "Institution Name": "University of Houston-Victoria",
          "Latitude": 28.816438,
          "Longitude": -96.978193,
          "Undergraduate enrollment": 3273
         },
         {
          "Institution Name": "University of Idaho",
          "Latitude": 46.727406,
          "Longitude": -117.014167,
          "Undergraduate enrollment": 9885
         },
         {
          "Institution Name": "University of Illinois at Chicago",
          "Latitude": 41.871837,
          "Longitude": -87.650503,
          "Undergraduate enrollment": 19448
         },
         {
          "Institution Name": "University of Illinois at Springfield",
          "Latitude": 39.729524,
          "Longitude": -89.616796,
          "Undergraduate enrollment": 2932
         },
         {
          "Institution Name": "University of Illinois at Urbana-Champaign",
          "Latitude": 40.104718,
          "Longitude": -88.229114,
          "Undergraduate enrollment": 33955
         },
         {
          "Institution Name": "University of Indianapolis",
          "Latitude": 39.709571,
          "Longitude": -86.133969,
          "Undergraduate enrollment": 4488
         },
         {
          "Institution Name": "University of Iowa",
          "Latitude": 41.661935,
          "Longitude": -91.536425,
          "Undergraduate enrollment": 24503
         },
         {
          "Institution Name": "University of Jamestown",
          "Latitude": 46.914302,
          "Longitude": -98.698416,
          "Undergraduate enrollment": 914
         },
         {
          "Institution Name": "University of Kansas",
          "Latitude": 38.958549,
          "Longitude": -95.247567,
          "Undergraduate enrollment": 19338
         },
         {
          "Institution Name": "University of Kentucky",
          "Latitude": 38.038911,
          "Longitude": -84.504747,
          "Undergraduate enrollment": 22425
         },
         {
          "Institution Name": "University of La Verne",
          "Latitude": 34.10086,
          "Longitude": -117.772634,
          "Undergraduate enrollment": 5168
         },
         {
          "Institution Name": "University of Louisiana at Lafayette",
          "Latitude": 30.212191,
          "Longitude": -92.020165,
          "Undergraduate enrollment": 15666
         },
         {
          "Institution Name": "University of Louisiana at Monroe",
          "Latitude": 32.527747999999995,
          "Longitude": -92.07374,
          "Undergraduate enrollment": 7948
         },
         {
          "Institution Name": "University of Louisville",
          "Latitude": 38.216862,
          "Longitude": -85.760412,
          "Undergraduate enrollment": 15546
         },
         {
          "Institution Name": "University of Maine",
          "Latitude": 44.899257,
          "Longitude": -68.669332,
          "Undergraduate enrollment": 9279
         },
         {
          "Institution Name": "University of Maine at Augusta",
          "Latitude": 44.337746,
          "Longitude": -69.796396,
          "Undergraduate enrollment": 4014
         },
         {
          "Institution Name": "University of Maine at Farmington",
          "Latitude": 44.666911,
          "Longitude": -70.147121,
          "Undergraduate enrollment": 1811
         },
         {
          "Institution Name": "University of Maine at Fort Kent",
          "Latitude": 47.250389,
          "Longitude": -68.58931899999999,
          "Undergraduate enrollment": 1760
         },
         {
          "Institution Name": "University of Maine at Machias",
          "Latitude": 44.708803,
          "Longitude": -67.458025,
          "Undergraduate enrollment": 701
         },
         {
          "Institution Name": "University of Maine at Presque Isle",
          "Latitude": 46.672285,
          "Longitude": -68.016343,
          "Undergraduate enrollment": 1414
         },
         {
          "Institution Name": "University of Management and Technology",
          "Latitude": 38.89743,
          "Longitude": -77.072001,
          "Undergraduate enrollment": 917
         },
         {
          "Institution Name": "University of Mary",
          "Latitude": 46.723767,
          "Longitude": -100.75274,
          "Undergraduate enrollment": 2237
         },
         {
          "Institution Name": "University of Mary Hardin-Baylor",
          "Latitude": 31.066798,
          "Longitude": -97.463479,
          "Undergraduate enrollment": 3333
         },
         {
          "Institution Name": "University of Mary Washington",
          "Latitude": 38.302492,
          "Longitude": -77.476055,
          "Undergraduate enrollment": 4398
         },
         {
          "Institution Name": "University of Maryland Eastern Shore",
          "Latitude": 38.207386,
          "Longitude": -75.686852,
          "Undergraduate enrollment": 2861
         },
         {
          "Institution Name": "University of Maryland  Baltimore",
          "Latitude": 39.286864,
          "Longitude": -76.623983,
          "Undergraduate enrollment": 929
         },
         {
          "Institution Name": "University of Maryland-Baltimore County",
          "Latitude": 39.256686,
          "Longitude": -76.711607,
          "Undergraduate enrollment": 11234
         },
         {
          "Institution Name": "University of Maryland-College Park",
          "Latitude": 38.98817800000001,
          "Longitude": -76.944721,
          "Undergraduate enrollment": 29868
         },
         {
          "Institution Name": "University of Maryland-University College",
          "Latitude": 38.912706,
          "Longitude": -76.847584,
          "Undergraduate enrollment": 45604
         },
         {
          "Institution Name": "University of Massachusetts Medical School Worcester",
          "Latitude": 42.278002,
          "Longitude": -71.76214399999998,
          "Undergraduate enrollment": 0
         },
         {
          "Institution Name": "University of Massachusetts-Amherst",
          "Latitude": 42.385999,
          "Longitude": -72.526728,
          "Undergraduate enrollment": 23388
         },
         {
          "Institution Name": "University of Massachusetts-Boston",
          "Latitude": 42.312881,
          "Longitude": -71.036865,
          "Undergraduate enrollment": 12660
         },
         {
          "Institution Name": "University of Massachusetts-Dartmouth",
          "Latitude": 41.62869,
          "Longitude": -71.004552,
          "Undergraduate enrollment": 6763
         },
         {
          "Institution Name": "University of Massachusetts-Lowell",
          "Latitude": 42.652864,
          "Longitude": -71.326809,
          "Undergraduate enrollment": 14012
         },
         {
          "Institution Name": "University of Memphis",
          "Latitude": 35.118878,
          "Longitude": -89.938068,
          "Undergraduate enrollment": 17396
         },
         {
          "Institution Name": "University of Miami",
          "Latitude": 25.72126,
          "Longitude": -80.278662,
          "Undergraduate enrollment": 10832
         },
         {
          "Institution Name": "University of Michigan-Ann Arbor",
          "Latitude": 42.275921,
          "Longitude": -83.742769,
          "Undergraduate enrollment": 29821
         },
         {
          "Institution Name": "University of Michigan-Dearborn",
          "Latitude": 42.317287,
          "Longitude": -83.23141700000002,
          "Undergraduate enrollment": 7132
         },
         {
          "Institution Name": "University of Michigan-Flint",
          "Latitude": 43.01875,
          "Longitude": -83.690276,
          "Undergraduate enrollment": 6434
         },
         {
          "Institution Name": "University of Minnesota-Crookston",
          "Latitude": 47.802536,
          "Longitude": -96.606188,
          "Undergraduate enrollment": 2834
         },
         {
          "Institution Name": "University of Minnesota-Duluth",
          "Latitude": 46.817126,
          "Longitude": -92.084385,
          "Undergraduate enrollment": 10118
         },
         {
          "Institution Name": "University of Minnesota-Morris",
          "Latitude": 45.589829,
          "Longitude": -95.901756,
          "Undergraduate enrollment": 1627
         },
         {
          "Institution Name": "University of Minnesota-Rochester",
          "Latitude": 44.022339,
          "Longitude": -92.463471,
          "Undergraduate enrollment": 472
         },
         {
          "Institution Name": "University of Minnesota-Twin Cities",
          "Latitude": 44.972851,
          "Longitude": -93.235464,
          "Undergraduate enrollment": 35433
         },
         {
          "Institution Name": "University of Mississippi",
          "Latitude": 34.365528999999995,
          "Longitude": -89.53743399999998,
          "Undergraduate enrollment": 18737
         },
         {
          "Institution Name": "University of Missouri-Columbia",
          "Latitude": 38.94531,
          "Longitude": -92.328843,
          "Undergraduate enrollment": 23799
         },
         {
          "Institution Name": "University of Missouri-Kansas City",
          "Latitude": 39.034179,
          "Longitude": -94.582141,
          "Undergraduate enrollment": 11372
         },
         {
          "Institution Name": "University of Missouri-St Louis",
          "Latitude": 38.710312,
          "Longitude": -90.311091,
          "Undergraduate enrollment": 13787
         },
         {
          "Institution Name": "University of Mobile",
          "Latitude": 30.793247,
          "Longitude": -88.128934,
          "Undergraduate enrollment": 1443
         },
         {
          "Institution Name": "University of Montevallo",
          "Latitude": 33.10625,
          "Longitude": -86.865099,
          "Undergraduate enrollment": 2346
         },
         {
          "Institution Name": "University of Mount Olive",
          "Latitude": 35.208166,
          "Longitude": -78.069388,
          "Undergraduate enrollment": 3207
         },
         {
          "Institution Name": "University of Mount Union",
          "Latitude": 40.905256,
          "Longitude": -81.111029,
          "Undergraduate enrollment": 2095
         },
         {
          "Institution Name": "University of Nebraska at Kearney",
          "Latitude": 40.701287,
          "Longitude": -99.09807,
          "Undergraduate enrollment": 4843
         },
         {
          "Institution Name": "University of Nebraska at Omaha",
          "Latitude": 41.258769,
          "Longitude": -96.008516,
          "Undergraduate enrollment": 12624
         },
         {
          "Institution Name": "University of Nebraska Medical Center",
          "Latitude": 41.256312,
          "Longitude": -95.973966,
          "Undergraduate enrollment": 860
         },
         {
          "Institution Name": "University of Nebraska-Lincoln",
          "Latitude": 40.817598,
          "Longitude": -96.700508,
          "Undergraduate enrollment": 20954
         },
         {
          "Institution Name": "University of Nevada-Las Vegas",
          "Latitude": 36.106047,
          "Longitude": -115.138462,
          "Undergraduate enrollment": 25279
         },
         {
          "Institution Name": "University of Nevada-Reno",
          "Latitude": 39.543642,
          "Longitude": -119.815377,
          "Undergraduate enrollment": 18348
         },
         {
          "Institution Name": "University of New England",
          "Latitude": 43.458591,
          "Longitude": -70.38535,
          "Undergraduate enrollment": 4423
         },
         {
          "Institution Name": "University of New Hampshire at Manchester",
          "Latitude": 42.987209,
          "Longitude": -71.468755,
          "Undergraduate enrollment": 737
         },
         {
          "Institution Name": "University of New Hampshire-Main Campus",
          "Latitude": 43.135934000000006,
          "Longitude": -70.93246500000002,
          "Undergraduate enrollment": 13005
         },
         {
          "Institution Name": "University of New Hampshire-School of Law",
          "Latitude": 43.207371,
          "Longitude": -71.545152,
          "Undergraduate enrollment": 0
         },
         {
          "Institution Name": "University of New Haven",
          "Latitude": 41.291314,
          "Longitude": -72.961472,
          "Undergraduate enrollment": 5216
         },
         {
          "Institution Name": "University of New Mexico-Main Campus",
          "Latitude": 35.083868,
          "Longitude": -106.620155,
          "Undergraduate enrollment": 20354
         },
         {
          "Institution Name": "University of New Orleans",
          "Latitude": 30.027704,
          "Longitude": -90.067142,
          "Undergraduate enrollment": 6472
         },
         {
          "Institution Name": "University of North Alabama",
          "Latitude": 34.806738,
          "Longitude": -87.681361,
          "Undergraduate enrollment": 6064
         },
         {
          "Institution Name": "University of North Carolina at Asheville",
          "Latitude": 35.617068,
          "Longitude": -82.565392,
          "Undergraduate enrollment": 3826
         },
         {
          "Institution Name": "University of North Carolina at Chapel Hill",
          "Latitude": 35.911769,
          "Longitude": -79.050969,
          "Undergraduate enrollment": 18862
         },
         {
          "Institution Name": "University of North Carolina at Charlotte",
          "Latitude": 35.306022,
          "Longitude": -80.730919,
          "Undergraduate enrollment": 23914
         },
         {
          "Institution Name": "University of North Carolina at Greensboro",
          "Latitude": 36.068236,
          "Longitude": -79.809414,
          "Undergraduate enrollment": 16439
         },
         {
          "Institution Name": "University of North Carolina at Pembroke",
          "Latitude": 34.688313,
          "Longitude": -79.200347,
          "Undergraduate enrollment": 5481
         },
         {
          "Institution Name": "University of North Carolina School of the Arts",
          "Latitude": 36.076183,
          "Longitude": -80.235672,
          "Undergraduate enrollment": 873
         },
         {
          "Institution Name": "University of North Carolina Wilmington",
          "Latitude": 34.225223,
          "Longitude": -77.875527,
          "Undergraduate enrollment": 14502
         },
         {
          "Institution Name": "University of North Dakota",
          "Latitude": 47.921654,
          "Longitude": -97.071738,
          "Undergraduate enrollment": 11000
         },
         {
          "Institution Name": "University of North Florida",
          "Latitude": 30.27194,
          "Longitude": -81.50914399999998,
          "Undergraduate enrollment": 14255
         },
         {
          "Institution Name": "University of North Georgia",
          "Latitude": 34.530219,
          "Longitude": -83.985694,
          "Undergraduate enrollment": 18173
         },
         {
          "Institution Name": "University of North Texas",
          "Latitude": 33.211178000000004,
          "Longitude": -97.148422,
          "Undergraduate enrollment": 31448
         },
         {
          "Institution Name": "University of North Texas at Dallas",
          "Latitude": 32.659588,
          "Longitude": -96.803446,
          "Undergraduate enrollment": 2687
         },
         {
          "Institution Name": "University of North Texas Health Science Center",
          "Latitude": 32.749907,
          "Longitude": -97.369138,
          "Undergraduate enrollment": 0
         },
         {
          "Institution Name": "University of Northern Colorado",
          "Latitude": 40.410855,
          "Longitude": -104.692777,
          "Undergraduate enrollment": 10092
         },
         {
          "Institution Name": "University of Northern Iowa",
          "Latitude": 42.514923,
          "Longitude": -92.459703,
          "Undergraduate enrollment": 9961
         },
         {
          "Institution Name": "University of Northwestern Ohio",
          "Latitude": 40.762917,
          "Longitude": -84.157004,
          "Undergraduate enrollment": 3655
         },
         {
          "Institution Name": "University of Northwestern-St Paul",
          "Latitude": 45.033703,
          "Longitude": -93.167822,
          "Undergraduate enrollment": 3328
         },
         {
          "Institution Name": "University of Notre Dame",
          "Latitude": 41.703058,
          "Longitude": -86.238959,
          "Undergraduate enrollment": 8576
         },
         {
          "Institution Name": "University of Oklahoma-Health Sciences Center",
          "Latitude": 35.47928,
          "Longitude": -97.496289,
          "Undergraduate enrollment": 786
         },
         {
          "Institution Name": "University of Oklahoma-Norman Campus",
          "Latitude": 35.209407,
          "Longitude": -97.444211,
          "Undergraduate enrollment": 22032
         },
         {
          "Institution Name": "University of Oregon",
          "Latitude": 44.045146,
          "Longitude": -123.075792,
          "Undergraduate enrollment": 19340
         },
         {
          "Institution Name": "University of Pennsylvania",
          "Latitude": 39.950929,
          "Longitude": -75.19391,
          "Undergraduate enrollment": 11716
         },
         {
          "Institution Name": "University of Phoenix-Alabama",
          "Latitude": 33.417171999999994,
          "Longitude": -86.68344499999998,
          "Undergraduate enrollment": 14
         },
         {
          "Institution Name": "University of Phoenix-Arizona",
          "Latitude": 33.40213,
          "Longitude": -111.965987,
          "Undergraduate enrollment": 80898
         },
         {
          "Institution Name": "University of Phoenix-Arkansas",
          "Latitude": 34.74917,
          "Longitude": -92.395081,
          "Undergraduate enrollment": 26
         },
         {
          "Institution Name": "University of Phoenix-California",
          "Latitude": 33.685771,
          "Longitude": -117.885007,
          "Undergraduate enrollment": 8125
         },
         {
          "Institution Name": "University of Phoenix-Colorado",
          "Latitude": 39.55155,
          "Longitude": -104.873171,
          "Undergraduate enrollment": 225
         },
         {
          "Institution Name": "University of Phoenix-Florida",
          "Latitude": 28.445605,
          "Longitude": -81.419552,
          "Undergraduate enrollment": 592
         },
         {
          "Institution Name": "University of Phoenix-Georgia",
          "Latitude": 33.979979,
          "Longitude": -84.34155,
          "Undergraduate enrollment": 408
         },
         {
          "Institution Name": "University of Phoenix-Hawaii",
          "Latitude": 21.307923,
          "Longitude": -157.863834,
          "Undergraduate enrollment": 661
         },
         {
          "Institution Name": "University of Phoenix-Idaho",
          "Latitude": 43.616444,
          "Longitude": -116.205603,
          "Undergraduate enrollment": 5
         },
         {
          "Institution Name": "University of Phoenix-Illinois",
          "Latitude": 42.057708,
          "Longitude": -88.04259499999998,
          "Undergraduate enrollment": 134
         },
         {
          "Institution Name": "University of Phoenix-Indiana",
          "Latitude": 39.899315,
          "Longitude": -86.05945,
          "Undergraduate enrollment": 19
         },
         {
          "Institution Name": "University of Phoenix-Kentucky",
          "Latitude": 38.224504,
          "Longitude": -85.560664,
          "Undergraduate enrollment": 18
         },
         {
          "Institution Name": "University of Phoenix-Louisiana",
          "Latitude": 30.422403000000006,
          "Longitude": -91.150412,
          "Undergraduate enrollment": 56
         },
         {
          "Institution Name": "University of Phoenix-Maryland",
          "Latitude": 39.189991,
          "Longitude": -76.815804,
          "Undergraduate enrollment": 29
         },
         {
          "Institution Name": "University of Phoenix-Massachusetts",
          "Latitude": 42.22735,
          "Longitude": -71.032616,
          "Undergraduate enrollment": 22
         },
         {
          "Institution Name": "University of Phoenix-Michigan",
          "Latitude": 42.482261,
          "Longitude": -83.242621,
          "Undergraduate enrollment": 132
         },
         {
          "Institution Name": "University of Phoenix-Missouri",
          "Latitude": 38.757062,
          "Longitude": -90.466779,
          "Undergraduate enrollment": 73
         },
         {
          "Institution Name": "University of Phoenix-Nevada",
          "Latitude": 36.12164,
          "Longitude": -115.322506,
          "Undergraduate enrollment": 477
         },
         {
          "Institution Name": "University of Phoenix-New Jersey",
          "Latitude": 40.726763,
          "Longitude": -74.03313100000003,
          "Undergraduate enrollment": 111
         },
         {
          "Institution Name": "University of Phoenix-New Mexico",
          "Latitude": 35.197176,
          "Longitude": -106.580351,
          "Undergraduate enrollment": 217
         },
         {
          "Institution Name": "University of Phoenix-North Carolina",
          "Latitude": 35.152358,
          "Longitude": -80.94934599999998,
          "Undergraduate enrollment": 133
         },
         {
          "Institution Name": "University of Phoenix-Ohio",
          "Latitude": 41.465872,
          "Longitude": -81.493218,
          "Undergraduate enrollment": 29
         },
         {
          "Institution Name": "University of Phoenix-Oklahoma",
          "Latitude": 36.131612,
          "Longitude": -95.821371,
          "Undergraduate enrollment": 12
         },
         {
          "Institution Name": "University of Phoenix-Oregon",
          "Latitude": 45.424135,
          "Longitude": -122.745086,
          "Undergraduate enrollment": 18
         },
         {
          "Institution Name": "University of Phoenix-Pennsylvania",
          "Latitude": 39.95219,
          "Longitude": -75.169354,
          "Undergraduate enrollment": 141
         },
         {
          "Institution Name": "University of Phoenix-South Carolina",
          "Latitude": 34.098845000000004,
          "Longitude": -80.95585200000002,
          "Undergraduate enrollment": 38
         },
         {
          "Institution Name": "University of Phoenix-Tennessee",
          "Latitude": 36.144575,
          "Longitude": -86.690329,
          "Undergraduate enrollment": 201
         },
         {
          "Institution Name": "University of Phoenix-Texas",
          "Latitude": 29.7837,
          "Longitude": -95.585258,
          "Undergraduate enrollment": 1374
         },
         {
          "Institution Name": "University of Phoenix-Utah",
          "Latitude": 40.653835,
          "Longitude": -111.904474,
          "Undergraduate enrollment": 122
         },
         {
          "Institution Name": "University of Phoenix-Virginia",
          "Latitude": 37.64257,
          "Longitude": -77.563516,
          "Undergraduate enrollment": 191
         },
         {
          "Institution Name": "University of Phoenix-Washington",
          "Latitude": 47.4684,
          "Longitude": -122.246405,
          "Undergraduate enrollment": 138
         },
         {
          "Institution Name": "University of Phoenix-Washington DC",
          "Latitude": 38.898436,
          "Longitude": -77.010367,
          "Undergraduate enrollment": 70
         },
         {
          "Institution Name": "University of Phoenix-Wisconsin",
          "Latitude": 43.150733,
          "Longitude": -88.049308,
          "Undergraduate enrollment": 11
         },
         {
          "Institution Name": "University of Pikeville",
          "Latitude": 37.479232,
          "Longitude": -82.521063,
          "Undergraduate enrollment": 1560
         },
         {
          "Institution Name": "University of Pittsburgh-Bradford",
          "Latitude": 41.943415,
          "Longitude": -78.673701,
          "Undergraduate enrollment": 1336
         },
         {
          "Institution Name": "University of Pittsburgh-Greensburg",
          "Latitude": 40.276447,
          "Longitude": -79.532676,
          "Undergraduate enrollment": 1523
         },
         {
          "Institution Name": "University of Pittsburgh-Johnstown",
          "Latitude": 40.265957,
          "Longitude": -78.834163,
          "Undergraduate enrollment": 2784
         },
         {
          "Institution Name": "University of Pittsburgh-Pittsburgh Campus",
          "Latitude": 40.444388,
          "Longitude": -79.953254,
          "Undergraduate enrollment": 19326
         },
         {
          "Institution Name": "University of Portland",
          "Latitude": 45.572724,
          "Longitude": -122.726691,
          "Undergraduate enrollment": 3883
         },
         {
          "Institution Name": "University of Providence",
          "Latitude": 47.490713,
          "Longitude": -111.270604,
          "Undergraduate enrollment": 930
         },
         {
          "Institution Name": "University of Puget Sound",
          "Latitude": 47.26308,
          "Longitude": -122.478982,
          "Undergraduate enrollment": 2413
         },
         {
          "Institution Name": "University of Redlands",
          "Latitude": 34.064218,
          "Longitude": -117.163218,
          "Undergraduate enrollment": 3130
         },
         {
          "Institution Name": "University of Rhode Island",
          "Latitude": 41.484691,
          "Longitude": -71.52735600000003,
          "Undergraduate enrollment": 15107
         },
         {
          "Institution Name": "University of Richmond",
          "Latitude": 37.577393,
          "Longitude": -77.53880600000002,
          "Undergraduate enrollment": 3265
         },
         {
          "Institution Name": "University of Rio Grande",
          "Latitude": 38.881764,
          "Longitude": -82.378852,
          "Undergraduate enrollment": 1753
         },
         {
          "Institution Name": "University of Rochester",
          "Latitude": 43.126397,
          "Longitude": -77.631202,
          "Undergraduate enrollment": 6546
         },
         {
          "Institution Name": "University of Saint Francis-Fort Wayne",
          "Latitude": 41.087205,
          "Longitude": -85.177246,
          "Undergraduate enrollment": 1906
         },
         {
          "Institution Name": "University of Saint Joseph",
          "Latitude": 41.781041,
          "Longitude": -72.72965,
          "Undergraduate enrollment": 810
         },
         {
          "Institution Name": "University of Saint Mary",
          "Latitude": 39.27939600000001,
          "Longitude": -94.906743,
          "Undergraduate enrollment": 748
         },
         {
          "Institution Name": "University of Saint Mary of the Lake",
          "Latitude": 42.28070200000001,
          "Longitude": -88.000262,
          "Undergraduate enrollment": 0
         },
         {
          "Institution Name": "University of San Diego",
          "Latitude": 32.77142,
          "Longitude": -117.188721,
          "Undergraduate enrollment": 5774
         },
         {
          "Institution Name": "University of San Francisco",
          "Latitude": 37.775564,
          "Longitude": -122.450977,
          "Undergraduate enrollment": 6845
         },
         {
          "Institution Name": "University of Science and Arts of Oklahoma",
          "Latitude": 35.031392,
          "Longitude": -97.95641,
          "Undergraduate enrollment": 882
         },
         {
          "Institution Name": "University of Scranton",
          "Latitude": 41.406556,
          "Longitude": -75.656915,
          "Undergraduate enrollment": 3810
         },
         {
          "Institution Name": "University of Sioux Falls",
          "Latitude": 43.531574,
          "Longitude": -96.738229,
          "Undergraduate enrollment": 1215
         },
         {
          "Institution Name": "University of South Alabama",
          "Latitude": 30.696033,
          "Longitude": -88.17871099999998,
          "Undergraduate enrollment": 10988
         },
         {
          "Institution Name": "University of South Carolina-Aiken",
          "Latitude": 33.572703999999995,
          "Longitude": -81.767612,
          "Undergraduate enrollment": 3354
         },
         {
          "Institution Name": "University of South Carolina-Beaufort",
          "Latitude": 32.303308,
          "Longitude": -80.97359499999997,
          "Undergraduate enrollment": 2077
         },
         {
          "Institution Name": "University of South Carolina-Columbia",
          "Latitude": 33.996788,
          "Longitude": -81.026935,
          "Undergraduate enrollment": 26362
         },
         {
          "Institution Name": "University of South Carolina-Upstate",
          "Latitude": 34.996403,
          "Longitude": -81.97058299999998,
          "Undergraduate enrollment": 5775
         },
         {
          "Institution Name": "University of South Dakota",
          "Latitude": 42.786019,
          "Longitude": -96.925283,
          "Undergraduate enrollment": 7648
         },
         {
          "Institution Name": "University of South Florida-Main Campus",
          "Latitude": 28.061458,
          "Longitude": -82.413232,
          "Undergraduate enrollment": 31772
         },
         {
          "Institution Name": "University of South Florida-Sarasota-Manatee",
          "Latitude": 27.39158,
          "Longitude": -82.562725,
          "Undergraduate enrollment": 1935
         },
         {
          "Institution Name": "University of South Florida-St Petersburg",
          "Latitude": 27.763872,
          "Longitude": -82.636136,
          "Undergraduate enrollment": 4251
         },
         {
          "Institution Name": "University of Southern California",
          "Latitude": 34.021281,
          "Longitude": -118.284169,
          "Undergraduate enrollment": 19170
         },
         {
          "Institution Name": "University of Southern Indiana",
          "Latitude": 37.962374,
          "Longitude": -87.677214,
          "Undergraduate enrollment": 9688
         },
         {
          "Institution Name": "University of Southern Maine",
          "Latitude": 43.662863,
          "Longitude": -70.274247,
          "Undergraduate enrollment": 6110
         },
         {
          "Institution Name": "University of Southern Mississippi",
          "Latitude": 31.32661,
          "Longitude": -89.331236,
          "Undergraduate enrollment": 11815
         },
         {
          "Institution Name": "University of St Francis",
          "Latitude": 41.532225,
          "Longitude": -88.096057,
          "Undergraduate enrollment": 1599
         },
         {
          "Institution Name": "University of St Thomas",
          "Latitude": 44.943439,
          "Longitude": -93.188986,
          "Undergraduate enrollment": 6199
         },
         {
          "Institution Name": "University of St Thomas",
          "Latitude": 29.736438,
          "Longitude": -95.393102,
          "Undergraduate enrollment": 1816
         },
         {
          "Institution Name": "University of St. Augustine for Health Sciences",
          "Latitude": 33.151849,
          "Longitude": -117.165964,
          "Undergraduate enrollment": 0
         },
         {
          "Institution Name": "University of Texas Health Science Center at Tyler",
          "Latitude": 32.425963,
          "Longitude": -95.213526,
          "Undergraduate enrollment": 0
         },
         {
          "Institution Name": "University of Texas Southwestern Medical Center",
          "Latitude": 32.812307000000004,
          "Longitude": -96.841156,
          "Undergraduate enrollment": 0
         },
         {
          "Institution Name": "University of the Cumberlands",
          "Latitude": 36.737048,
          "Longitude": -84.16164599999998,
          "Undergraduate enrollment": 3315
         },
         {
          "Institution Name": "University of the District of Columbia",
          "Latitude": 38.943819,
          "Longitude": -77.066247,
          "Undergraduate enrollment": 3859
         },
         {
          "Institution Name": "University of the District of Columbia-David A Clarke School of Law",
          "Latitude": 38.94621,
          "Longitude": -77.065221,
          "Undergraduate enrollment": 0
         },
         {
          "Institution Name": "University of the Incarnate Word",
          "Latitude": 29.46708,
          "Longitude": -98.46583,
          "Undergraduate enrollment": 5994
         },
         {
          "Institution Name": "University of the Ozarks",
          "Latitude": 35.476278,
          "Longitude": -93.467221,
          "Undergraduate enrollment": 755
         },
         {
          "Institution Name": "University of the Pacific",
          "Latitude": 37.981424,
          "Longitude": -121.312301,
          "Undergraduate enrollment": 3548
         },
         {
          "Institution Name": "University of the Potomac-VA Campus",
          "Latitude": 38.917192,
          "Longitude": -77.237563,
          "Undergraduate enrollment": 37
         },
         {
          "Institution Name": "University of the Potomac-Washington DC Campus",
          "Latitude": 38.90054,
          "Longitude": -77.032531,
          "Undergraduate enrollment": 72
         },
         {
          "Institution Name": "University of the Rockies",
          "Latitude": 39.748777,
          "Longitude": -104.99657,
          "Undergraduate enrollment": 0
         },
         {
          "Institution Name": "University of the Sciences",
          "Latitude": 39.946412,
          "Longitude": -75.207001,
          "Undergraduate enrollment": 1277
         },
         {
          "Institution Name": "University of the Southwest",
          "Latitude": 32.775496000000004,
          "Longitude": -103.186948,
          "Undergraduate enrollment": 509
         },
         {
          "Institution Name": "University of the West",
          "Latitude": 34.045984999999995,
          "Longitude": -118.082964,
          "Undergraduate enrollment": 185
         },
         {
          "Institution Name": "University of Toledo",
          "Latitude": 41.660572,
          "Longitude": -83.614714,
          "Undergraduate enrollment": 16194
         },
         {
          "Institution Name": "University of Tulsa",
          "Latitude": 36.152324,
          "Longitude": -95.945941,
          "Undergraduate enrollment": 3343
         },
         {
          "Institution Name": "University of Utah",
          "Latitude": 40.762484,
          "Longitude": -111.846044,
          "Undergraduate enrollment": 24635
         },
         {
          "Institution Name": "University of Valley Forge",
          "Latitude": 40.117835,
          "Longitude": -75.5469,
          "Undergraduate enrollment": 704
         },
         {
          "Institution Name": "University of Vermont",
          "Latitude": 44.477325,
          "Longitude": -73.196646,
          "Undergraduate enrollment": 11339
         },
         {
          "Institution Name": "University of Virginia-Main Campus",
          "Latitude": 38.035665,
          "Longitude": -78.503428,
          "Undergraduate enrollment": 16655
         },
         {
          "Institution Name": "University of Washington-Bothell Campus",
          "Latitude": 47.759773,
          "Longitude": -122.191293,
          "Undergraduate enrollment": 5365
         },
         {
          "Institution Name": "University of Washington-Seattle Campus",
          "Latitude": 47.65538,
          "Longitude": -122.30514,
          "Undergraduate enrollment": 31331
         },
         {
          "Institution Name": "University of Washington-Tacoma Campus",
          "Latitude": 47.244594,
          "Longitude": -122.438541,
          "Undergraduate enrollment": 4436
         },
         {
          "Institution Name": "University of West Alabama",
          "Latitude": 32.588132,
          "Longitude": -88.186329,
          "Undergraduate enrollment": 2111
         },
         {
          "Institution Name": "University of West Georgia",
          "Latitude": 33.573621,
          "Longitude": -85.097762,
          "Undergraduate enrollment": 11229
         },
         {
          "Institution Name": "University of Western States",
          "Latitude": 45.543253,
          "Longitude": -122.525979,
          "Undergraduate enrollment": 48
         },
         {
          "Institution Name": "University of Wisconsin Colleges",
          "Latitude": 43.06821400000001,
          "Longitude": -89.39859,
          "Undergraduate enrollment": 11486
         },
         {
          "Institution Name": "University of Wisconsin-Eau Claire",
          "Latitude": 44.798284,
          "Longitude": -91.501906,
          "Undergraduate enrollment": 10183
         },
         {
          "Institution Name": "University of Wisconsin-Green Bay",
          "Latitude": 44.532298,
          "Longitude": -87.919973,
          "Undergraduate enrollment": 6811
         },
         {
          "Institution Name": "University of Wisconsin-La Crosse",
          "Latitude": 43.81568,
          "Longitude": -91.23186,
          "Undergraduate enrollment": 9705
         },
         {
          "Institution Name": "University of Wisconsin-Madison",
          "Latitude": 43.075409,
          "Longitude": -89.404098,
          "Undergraduate enrollment": 31358
         },
         {
          "Institution Name": "University of Wisconsin-Milwaukee",
          "Latitude": 43.076848,
          "Longitude": -87.880488,
          "Undergraduate enrollment": 20360
         },
         {
          "Institution Name": "University of Wisconsin-Milwaukee Flex",
          "Latitude": 43.076848,
          "Longitude": -87.880488,
          "Undergraduate enrollment": 501
         },
         {
          "Institution Name": "University of Wisconsin-Oshkosh",
          "Latitude": 44.026206,
          "Longitude": -88.549369,
          "Undergraduate enrollment": 12410
         },
         {
          "Institution Name": "University of Wisconsin-Parkside",
          "Latitude": 42.647718,
          "Longitude": -87.855231,
          "Undergraduate enrollment": 4137
         },
         {
          "Institution Name": "University of Wisconsin-Platteville",
          "Latitude": 42.733451,
          "Longitude": -90.48622,
          "Undergraduate enrollment": 7611
         },
         {
          "Institution Name": "University of Wisconsin-River Falls",
          "Latitude": 44.8534,
          "Longitude": -92.622641,
          "Undergraduate enrollment": 5678
         },
         {
          "Institution Name": "University of Wisconsin-Stevens Point",
          "Latitude": 44.529582,
          "Longitude": -89.570934,
          "Undergraduate enrollment": 7894
         },
         {
          "Institution Name": "University of Wisconsin-Stout",
          "Latitude": 44.873187,
          "Longitude": -91.926653,
          "Undergraduate enrollment": 8131
         },
         {
          "Institution Name": "University of Wisconsin-Superior",
          "Latitude": 46.717629,
          "Longitude": -92.091007,
          "Undergraduate enrollment": 2373
         },
         {
          "Institution Name": "University of Wisconsin-Whitewater",
          "Latitude": 42.835563,
          "Longitude": -88.742368,
          "Undergraduate enrollment": 11133
         },
         {
          "Institution Name": "University of Wyoming",
          "Latitude": 41.311773,
          "Longitude": -105.57931,
          "Undergraduate enrollment": 9791
         },
         {
          "Institution Name": "Upper Iowa University",
          "Latitude": 42.838283,
          "Longitude": -91.799543,
          "Undergraduate enrollment": 4271
         },
         {
          "Institution Name": "Upstate Medical University",
          "Latitude": 43.041819,
          "Longitude": -76.14000899999998,
          "Undergraduate enrollment": 250
         },
         {
          "Institution Name": "Urbana University",
          "Latitude": 40.102594,
          "Longitude": -83.760301,
          "Undergraduate enrollment": 1508
         },
         {
          "Institution Name": "Urshan Graduate School of Theology",
          "Latitude": 38.801695,
          "Longitude": -90.364462,
          "Undergraduate enrollment": 0
         },
         {
          "Institution Name": "Ursinus College",
          "Latitude": 40.193023,
          "Longitude": -75.456505,
          "Undergraduate enrollment": 1507
         },
         {
          "Institution Name": "Ursuline College",
          "Latitude": 41.497035,
          "Longitude": -81.465118,
          "Undergraduate enrollment": 621
         },
         {
          "Institution Name": "Uta Mesivta of Kiryas Joel",
          "Latitude": 41.333864,
          "Longitude": -74.161179,
          "Undergraduate enrollment": 1864
         },
         {
          "Institution Name": "Utah State University",
          "Latitude": 41.740748,
          "Longitude": -111.81391,
          "Undergraduate enrollment": 24618
         },
         {
          "Institution Name": "Utah Valley University",
          "Latitude": 40.281078,
          "Longitude": -111.716456,
          "Undergraduate enrollment": 36868
         },
         {
          "Institution Name": "Utica College",
          "Latitude": 43.096213,
          "Longitude": -75.27291600000002,
          "Undergraduate enrollment": 3685
         },
         {
          "Institution Name": "Valdosta State University",
          "Latitude": 30.847402,
          "Longitude": -83.289282,
          "Undergraduate enrollment": 8778
         },
         {
          "Institution Name": "Valencia College",
          "Latitude": 28.520898,
          "Longitude": -81.471466,
          "Undergraduate enrollment": 44834
         },
         {
          "Institution Name": "Valley City State University",
          "Latitude": 46.918517,
          "Longitude": -98.00389,
          "Undergraduate enrollment": 1372
         },
         {
          "Institution Name": "Valparaiso University",
          "Latitude": 41.462239,
          "Longitude": -87.040172,
          "Undergraduate enrollment": 3224
         },
         {
          "Institution Name": "Vanderbilt University",
          "Latitude": 36.14659,
          "Longitude": -86.80336899999998,
          "Undergraduate enrollment": 6885
         },
         {
          "Institution Name": "VanderCook College of Music",
          "Latitude": 41.836833,
          "Longitude": -87.629138,
          "Undergraduate enrollment": 122
         },
         {
          "Institution Name": "Vanguard University of Southern California",
          "Latitude": 33.662686,
          "Longitude": -117.900911,
          "Undergraduate enrollment": 1840
         },
         {
          "Institution Name": "Vassar College",
          "Latitude": 41.686895,
          "Longitude": -73.895088,
          "Undergraduate enrollment": 2353
         },
         {
          "Institution Name": "Vatterott College-Sunset Hills",
          "Latitude": 38.521336,
          "Longitude": -90.417566,
          "Undergraduate enrollment": 316
         },
         {
          "Institution Name": "Vaughn College of Aeronautics and Technology",
          "Latitude": 40.768348,
          "Longitude": -73.881721,
          "Undergraduate enrollment": 1496
         },
         {
          "Institution Name": "Vermont College of Fine Arts",
          "Latitude": 44.25521,
          "Longitude": -72.567616,
          "Undergraduate enrollment": 0
         },
         {
          "Institution Name": "Vermont Law School",
          "Latitude": 43.821406,
          "Longitude": -72.52091899999998,
          "Undergraduate enrollment": 0
         },
         {
          "Institution Name": "Vermont Technical College",
          "Latitude": 43.939623,
          "Longitude": -72.60449799999998,
          "Undergraduate enrollment": 1610
         },
         {
          "Institution Name": "Villa Maria College",
          "Latitude": 42.91223,
          "Longitude": -78.796823,
          "Undergraduate enrollment": 596
         },
         {
          "Institution Name": "Villanova University",
          "Latitude": 40.039388,
          "Longitude": -75.345457,
          "Undergraduate enrollment": 6950
         },
         {
          "Institution Name": "Vincennes University",
          "Latitude": 38.687766,
          "Longitude": -87.51993900000002,
          "Undergraduate enrollment": 18914
         },
         {
          "Institution Name": "Virginia Baptist College",
          "Latitude": 38.29058,
          "Longitude": -77.53133100000002,
          "Undergraduate enrollment": 227
         },
         {
          "Institution Name": "Virginia Beach Theological Seminary",
          "Latitude": 36.765993,
          "Longitude": -76.189475,
          "Undergraduate enrollment": 1
         },
         {
          "Institution Name": "Virginia College-Birmingham",
          "Latitude": 33.471075,
          "Longitude": -86.818106,
          "Undergraduate enrollment": 2087
         },
         {
          "Institution Name": "Virginia College-Charleston",
          "Latitude": 32.907064,
          "Longitude": -80.024799,
          "Undergraduate enrollment": 388
         },
         {
          "Institution Name": "Virginia College-Huntsville",
          "Latitude": 34.703457,
          "Longitude": -86.590914,
          "Undergraduate enrollment": 491
         },
         {
          "Institution Name": "Virginia Commonwealth University",
          "Latitude": 37.547631,
          "Longitude": -77.453597,
          "Undergraduate enrollment": 23663
         },
         {
          "Institution Name": "Virginia International University",
          "Latitude": 38.84905,
          "Longitude": -77.347751,
          "Undergraduate enrollment": 68
         },
         {
          "Institution Name": "Virginia Marti College of Art and Design",
          "Latitude": 41.484253,
          "Longitude": -81.769767,
          "Undergraduate enrollment": 133
         },
         {
          "Institution Name": "Virginia Military Institute",
          "Latitude": 37.7896,
          "Longitude": -79.437067,
          "Undergraduate enrollment": 1722
         },
         {
          "Institution Name": "Virginia Polytechnic Institute and State University",
          "Latitude": 37.229012,
          "Longitude": -80.423675,
          "Undergraduate enrollment": 27193
         },
         {
          "Institution Name": "Virginia State University",
          "Latitude": 37.236453,
          "Longitude": -77.419886,
          "Undergraduate enrollment": 4302
         },
         {
          "Institution Name": "Virginia Tech Carilion School of Medicine",
          "Latitude": 37.257489,
          "Longitude": -79.942599,
          "Undergraduate enrollment": 0
         },
         {
          "Institution Name": "Virginia Union University",
          "Latitude": 37.562405,
          "Longitude": -77.450903,
          "Undergraduate enrollment": 1295
         },
         {
          "Institution Name": "Virginia University of Lynchburg",
          "Latitude": 37.395135,
          "Longitude": -79.15151800000002,
          "Undergraduate enrollment": 268
         },
         {
          "Institution Name": "Virginia University of Oriental Medicine",
          "Latitude": 38.844541,
          "Longitude": -77.269749,
          "Undergraduate enrollment": 0
         },
         {
          "Institution Name": "Virginia Wesleyan University",
          "Latitude": 36.868417,
          "Longitude": -76.18606,
          "Undergraduate enrollment": 1436
         },
         {
          "Institution Name": "Visible Music College",
          "Latitude": 35.144586,
          "Longitude": -90.04938100000003,
          "Undergraduate enrollment": 124
         },
         {
          "Institution Name": "Vista College-Online",
          "Latitude": 32.95518,
          "Longitude": -96.768201,
          "Undergraduate enrollment": 565
         },
         {
          "Institution Name": "Viterbo University",
          "Latitude": 43.803133,
          "Longitude": -91.244297,
          "Undergraduate enrollment": 1773
         },
         {
          "Institution Name": "Voorhees College",
          "Latitude": 33.307199,
          "Longitude": -81.127863,
          "Undergraduate enrollment": 475
         },
         {
          "Institution Name": "Wabash College",
          "Latitude": 40.037588,
          "Longitude": -86.906,
          "Undergraduate enrollment": 864
         },
         {
          "Institution Name": "Wade College",
          "Latitude": 32.80086,
          "Longitude": -96.819524,
          "Undergraduate enrollment": 151
         },
         {
          "Institution Name": "Wagner College",
          "Latitude": 40.615588,
          "Longitude": -74.092913,
          "Undergraduate enrollment": 1794
         },
         {
          "Institution Name": "Wake Forest University",
          "Latitude": 36.133609,
          "Longitude": -80.277446,
          "Undergraduate enrollment": 5102
         },
         {
          "Institution Name": "Walden University",
          "Latitude": 44.98125,
          "Longitude": -93.265738,
          "Undergraduate enrollment": 7442
         },
         {
          "Institution Name": "Waldorf University",
          "Latitude": 43.262923,
          "Longitude": -93.641714,
          "Undergraduate enrollment": 2126
         },
         {
          "Institution Name": "Walla Walla University",
          "Latitude": 46.048088,
          "Longitude": -118.389555,
          "Undergraduate enrollment": 1649
         },
         {
          "Institution Name": "Walsh College of Accountancy and Business Administration",
          "Latitude": 42.573888,
          "Longitude": -83.14719699999998,
          "Undergraduate enrollment": 893
         },
         {
          "Institution Name": "Walsh University",
          "Latitude": 40.873908,
          "Longitude": -81.36993100000002,
          "Undergraduate enrollment": 2009
         },
         {
          "Institution Name": "Warner Pacific College",
          "Latitude": 45.506265,
          "Longitude": -122.592498,
          "Undergraduate enrollment": 400
         },
         {
          "Institution Name": "Warner Pacific College Adult Degree Program",
          "Latitude": 45.503764,
          "Longitude": -122.56253,
          "Undergraduate enrollment": 415
         },
         {
          "Institution Name": "Warner University",
          "Latitude": 27.825751,
          "Longitude": -81.599972,
          "Undergraduate enrollment": 1002
         },
         {
          "Institution Name": "Warren Wilson College",
          "Latitude": 35.610328,
          "Longitude": -82.442619,
          "Undergraduate enrollment": 589
         },
         {
          "Institution Name": "Wartburg College",
          "Latitude": 42.7277,
          "Longitude": -92.483387,
          "Undergraduate enrollment": 1527
         },
         {
          "Institution Name": "Wartburg Theological Seminary",
          "Latitude": 42.485761,
          "Longitude": -90.691225,
          "Undergraduate enrollment": 0
         },
         {
          "Institution Name": "Washburn University",
          "Latitude": 39.03377800000001,
          "Longitude": -95.702222,
          "Undergraduate enrollment": 5873
         },
         {
          "Institution Name": "Washington & Jefferson College",
          "Latitude": 40.170622,
          "Longitude": -80.24049000000002,
          "Undergraduate enrollment": 1405
         },
         {
          "Institution Name": "Washington Adventist University",
          "Latitude": 38.986349,
          "Longitude": -77.000608,
          "Undergraduate enrollment": 873
         },
         {
          "Institution Name": "Washington and Lee University",
          "Latitude": 37.788939,
          "Longitude": -79.44301800000002,
          "Undergraduate enrollment": 1827
         },
         {
          "Institution Name": "Washington College",
          "Latitude": 39.217329,
          "Longitude": -76.06878,
          "Undergraduate enrollment": 1484
         },
         {
          "Institution Name": "Washington State University",
          "Latitude": 46.730448,
          "Longitude": -117.158168,
          "Undergraduate enrollment": 25277
         },
         {
          "Institution Name": "Washington University in St Louis",
          "Latitude": 38.647929,
          "Longitude": -90.310604,
          "Undergraduate enrollment": 7675
         },
         {
          "Institution Name": "Watkins College of Art Design & Film",
          "Latitude": 36.194659,
          "Longitude": -86.805888,
          "Undergraduate enrollment": 205
         },
         {
          "Institution Name": "Wayland Baptist University",
          "Latitude": 34.187677,
          "Longitude": -101.730042,
          "Undergraduate enrollment": 3561
         },
         {
          "Institution Name": "Wayne State College",
          "Latitude": 42.241556,
          "Longitude": -97.015122,
          "Undergraduate enrollment": 2757
         },
         {
          "Institution Name": "Wayne State University",
          "Latitude": 42.358994,
          "Longitude": -83.068998,
          "Undergraduate enrollment": 17297
         },
         {
          "Institution Name": "Waynesburg University",
          "Latitude": 39.89987100000001,
          "Longitude": -80.186205,
          "Undergraduate enrollment": 1376
         },
         {
          "Institution Name": "Webb Institute",
          "Latitude": 40.884444,
          "Longitude": -73.644909,
          "Undergraduate enrollment": 98
         },
         {
          "Institution Name": "Webber International University",
          "Latitude": 27.838778,
          "Longitude": -81.532315,
          "Undergraduate enrollment": 626
         },
         {
          "Institution Name": "Weber State University",
          "Latitude": 41.192591,
          "Longitude": -111.944845,
          "Undergraduate enrollment": 27111
         },
         {
          "Institution Name": "Webster University",
          "Latitude": 38.588875,
          "Longitude": -90.345151,
          "Undergraduate enrollment": 3074
         },
         {
          "Institution Name": "Weill Cornell Medical College",
          "Latitude": 40.764738,
          "Longitude": -73.954839,
          "Undergraduate enrollment": 0
         },
         {
          "Institution Name": "Welch College",
          "Latitude": 36.36719,
          "Longitude": -86.549153,
          "Undergraduate enrollment": 348
         },
         {
          "Institution Name": "Wellesley College",
          "Latitude": 42.291554,
          "Longitude": -71.306605,
          "Undergraduate enrollment": 2508
         },
         {
          "Institution Name": "Wells College",
          "Latitude": 42.742943,
          "Longitude": -76.696028,
          "Undergraduate enrollment": 488
         },
         {
          "Institution Name": "Wenatchee Valley College",
          "Latitude": 47.431234,
          "Longitude": -120.337198,
          "Undergraduate enrollment": 3556
         },
         {
          "Institution Name": "Wentworth Institute of Technology",
          "Latitude": 42.336632,
          "Longitude": -71.094983,
          "Undergraduate enrollment": 4265
         },
         {
          "Institution Name": "Wesley Biblical Seminary",
          "Latitude": 32.355011,
          "Longitude": -90.159447,
          "Undergraduate enrollment": 0
         },
         {
          "Institution Name": "Wesley College",
          "Latitude": 39.163182,
          "Longitude": -75.527716,
          "Undergraduate enrollment": 1446
         },
         {
          "Institution Name": "Wesley Theological Seminary",
          "Latitude": 38.939606,
          "Longitude": -77.08995999999998,
          "Undergraduate enrollment": 0
         },
         {
          "Institution Name": "Wesleyan College",
          "Latitude": 32.876037,
          "Longitude": -83.715417,
          "Undergraduate enrollment": 564
         },
         {
          "Institution Name": "Wesleyan University",
          "Latitude": 41.554665,
          "Longitude": -72.657146,
          "Undergraduate enrollment": 2976
         },
         {
          "Institution Name": "West Chester University of Pennsylvania",
          "Latitude": 39.953398,
          "Longitude": -75.59812,
          "Undergraduate enrollment": 14451
         },
         {
          "Institution Name": "West Coast University-Center for Graduate Studies",
          "Latitude": 34.081505,
          "Longitude": -118.29131,
          "Undergraduate enrollment": 0
         },
         {
          "Institution Name": "West Coast University-Dallas",
          "Latitude": 32.827459999999995,
          "Longitude": -96.873805,
          "Undergraduate enrollment": 608
         },
         {
          "Institution Name": "West Coast University-Los Angeles",
          "Latitude": 34.187134,
          "Longitude": -118.39941,
          "Undergraduate enrollment": 1660
         },
         {
          "Institution Name": "West Coast University-Miami",
          "Latitude": 25.81071,
          "Longitude": -80.347651,
          "Undergraduate enrollment": 687
         },
         {
          "Institution Name": "West Coast University-Ontario",
          "Latitude": 34.066590999999995,
          "Longitude": -117.590035,
          "Undergraduate enrollment": 1253
         },
         {
          "Institution Name": "West Coast University-Orange County",
          "Latitude": 33.81104000000001,
          "Longitude": -117.911811,
          "Undergraduate enrollment": 1973
         },
         {
          "Institution Name": "West Liberty University",
          "Latitude": 40.164417,
          "Longitude": -80.60225600000003,
          "Undergraduate enrollment": 2176
         },
         {
          "Institution Name": "West Los Angeles College",
          "Latitude": 34.005578,
          "Longitude": -118.387578,
          "Undergraduate enrollment": 10477
         },
         {
          "Institution Name": "West Texas A & M University",
          "Latitude": 34.982789000000004,
          "Longitude": -101.914736,
          "Undergraduate enrollment": 7394
         },
         {
          "Institution Name": "West Virginia School of Osteopathic Medicine",
          "Latitude": 37.804273,
          "Longitude": -80.43782,
          "Undergraduate enrollment": 0
         },
         {
          "Institution Name": "West Virginia State University",
          "Latitude": 38.380541,
          "Longitude": -81.765034,
          "Undergraduate enrollment": 3755
         },
         {
          "Institution Name": "West Virginia University",
          "Latitude": 39.634371,
          "Longitude": -79.954391,
          "Undergraduate enrollment": 22501
         },
         {
          "Institution Name": "West Virginia University at Parkersburg",
          "Latitude": 39.216379,
          "Longitude": -81.506192,
          "Undergraduate enrollment": 2482
         },
         {
          "Institution Name": "West Virginia University Institute of Technology",
          "Latitude": 37.775924,
          "Longitude": -81.184072,
          "Undergraduate enrollment": 1623
         },
         {
          "Institution Name": "West Virginia Wesleyan College",
          "Latitude": 38.990661,
          "Longitude": -80.218969,
          "Undergraduate enrollment": 1320
         },
         {
          "Institution Name": "Westcliff University",
          "Latitude": 33.650826,
          "Longitude": -117.838381,
          "Undergraduate enrollment": 469
         },
         {
          "Institution Name": "Western Carolina University",
          "Latitude": 35.308979,
          "Longitude": -83.186258,
          "Undergraduate enrollment": 9406
         },
         {
          "Institution Name": "Western Connecticut State University",
          "Latitude": 41.400365,
          "Longitude": -73.444264,
          "Undergraduate enrollment": 5082
         },
         {
          "Institution Name": "Western Governors University",
          "Latitude": 40.68481,
          "Longitude": -111.869752,
          "Undergraduate enrollment": 72385
         },
         {
          "Institution Name": "Western Illinois University",
          "Latitude": 40.468086,
          "Longitude": -90.686899,
          "Undergraduate enrollment": 7599
         },
         {
          "Institution Name": "Western International University",
          "Latitude": 33.403294,
          "Longitude": -111.964527,
          "Undergraduate enrollment": 597
         },
         {
          "Institution Name": "Western Kentucky University",
          "Latitude": 36.985035,
          "Longitude": -86.456828,
          "Undergraduate enrollment": 17656
         },
         {
          "Institution Name": "Western Michigan University",
          "Latitude": 42.282194,
          "Longitude": -85.613759,
          "Undergraduate enrollment": 17936
         },
         {
          "Institution Name": "Western Michigan University Homer Stryker M.D. School of Medicine",
          "Latitude": 42.289571,
          "Longitude": -85.57943,
          "Undergraduate enrollment": 0
         },
         {
          "Institution Name": "Western Michigan University-Thomas M. Cooley Law School",
          "Latitude": 42.731,
          "Longitude": -84.554429,
          "Undergraduate enrollment": 0
         },
         {
          "Institution Name": "Western Nevada College",
          "Latitude": 39.186158,
          "Longitude": -119.79036,
          "Undergraduate enrollment": 3642
         },
         {
          "Institution Name": "Western New England University",
          "Latitude": 42.115017,
          "Longitude": -72.520466,
          "Undergraduate enrollment": 2736
         },
         {
          "Institution Name": "Western New Mexico University",
          "Latitude": 32.7767,
          "Longitude": -108.283284,
          "Undergraduate enrollment": 2167
         },
         {
          "Institution Name": "Western Oregon University",
          "Latitude": 44.852235,
          "Longitude": -123.23830900000002,
          "Undergraduate enrollment": 4759
         },
         {
          "Institution Name": "Western Seminary",
          "Latitude": 45.512091,
          "Longitude": -122.606374,
          "Undergraduate enrollment": 0
         },
         {
          "Institution Name": "Western State College of Law at Argosy University",
          "Latitude": 33.658464,
          "Longitude": -117.760902,
          "Undergraduate enrollment": 0
         },
         {
          "Institution Name": "Western State Colorado University",
          "Latitude": 38.549436,
          "Longitude": -106.918439,
          "Undergraduate enrollment": 2431
         },
         {
          "Institution Name": "Western Theological Seminary",
          "Latitude": 42.78624600000001,
          "Longitude": -86.10324,
          "Undergraduate enrollment": 0
         },
         {
          "Institution Name": "Western University of Health Sciences",
          "Latitude": 34.058091999999995,
          "Longitude": -117.747732,
          "Undergraduate enrollment": 0
         },
         {
          "Institution Name": "Western Washington University",
          "Latitude": 48.737812,
          "Longitude": -122.485734,
          "Undergraduate enrollment": 14968
         },
         {
          "Institution Name": "Westfield State University",
          "Latitude": 42.131589,
          "Longitude": -72.795673,
          "Undergraduate enrollment": 5584
         },
         {
          "Institution Name": "Westminster College",
          "Latitude": 41.119272,
          "Longitude": -80.331017,
          "Undergraduate enrollment": 1191
         },
         {
          "Institution Name": "Westminster College",
          "Latitude": 40.730779,
          "Longitude": -111.855757,
          "Undergraduate enrollment": 2030
         },
         {
          "Institution Name": "Westminster College",
          "Latitude": 38.849354,
          "Longitude": -91.955273,
          "Undergraduate enrollment": 767
         },
         {
          "Institution Name": "Westminster Theological Seminary",
          "Latitude": 40.09815,
          "Longitude": -75.176327,
          "Undergraduate enrollment": 0
         },
         {
          "Institution Name": "Westminster Theological Seminary in California",
          "Latitude": 33.121447,
          "Longitude": -117.046371,
          "Undergraduate enrollment": 0
         },
         {
          "Institution Name": "Westmont College",
          "Latitude": 34.450151,
          "Longitude": -119.662517,
          "Undergraduate enrollment": 1300
         },
         {
          "Institution Name": "Whatcom Community College",
          "Latitude": 48.7939,
          "Longitude": -122.493253,
          "Undergraduate enrollment": 4411
         },
         {
          "Institution Name": "Wheaton College",
          "Latitude": 41.966813,
          "Longitude": -71.184167,
          "Undergraduate enrollment": 1688
         },
         {
          "Institution Name": "Wheaton College",
          "Latitude": 41.870176,
          "Longitude": -88.099643,
          "Undergraduate enrollment": 2391
         },
         {
          "Institution Name": "Wheeling Jesuit University",
          "Latitude": 40.070873,
          "Longitude": -80.690804,
          "Undergraduate enrollment": 719
         },
         {
          "Institution Name": "Wheelock College",
          "Latitude": 42.341753,
          "Longitude": -71.106412,
          "Undergraduate enrollment": 612
         },
         {
          "Institution Name": "Whitman College",
          "Latitude": 46.06981500000001,
          "Longitude": -118.331546,
          "Undergraduate enrollment": 1510
         },
         {
          "Institution Name": "Whittier College",
          "Latitude": 33.977625,
          "Longitude": -118.028402,
          "Undergraduate enrollment": 1681
         },
         {
          "Institution Name": "Whitworth University",
          "Latitude": 47.753358,
          "Longitude": -117.41671399999998,
          "Undergraduate enrollment": 2251
         },
         {
          "Institution Name": "Whitworth University-Adult Degree Programs",
          "Latitude": 47.751642,
          "Longitude": -117.411568,
          "Undergraduate enrollment": 314
         },
         {
          "Institution Name": "Wichita State University",
          "Latitude": 37.718882,
          "Longitude": -97.292361,
          "Undergraduate enrollment": 12398
         },
         {
          "Institution Name": "Widener University",
          "Latitude": 39.861689,
          "Longitude": -75.355363,
          "Undergraduate enrollment": 3436
         },
         {
          "Institution Name": "Wilberforce University",
          "Latitude": 39.707291,
          "Longitude": -83.880595,
          "Undergraduate enrollment": 609
         },
         {
          "Institution Name": "Wiley College",
          "Latitude": 32.537646,
          "Longitude": -94.376821,
          "Undergraduate enrollment": 1323
         },
         {
          "Institution Name": "Wilkes University",
          "Latitude": 41.244199,
          "Longitude": -75.89026199999998,
          "Undergraduate enrollment": 2491
         },
         {
          "Institution Name": "Willamette University",
          "Latitude": 44.935457,
          "Longitude": -123.030537,
          "Undergraduate enrollment": 1948
         },
         {
          "Institution Name": "William Carey University",
          "Latitude": 31.305264,
          "Longitude": -89.291815,
          "Undergraduate enrollment": 3097
         },
         {
          "Institution Name": "William James College",
          "Latitude": 42.294995,
          "Longitude": -71.20325600000002,
          "Undergraduate enrollment": 5
         },
         {
          "Institution Name": "William Jessup University",
          "Latitude": 38.81972800000001,
          "Longitude": -121.292312,
          "Undergraduate enrollment": 1204
         },
         {
          "Institution Name": "William Jewell College",
          "Latitude": 39.247844,
          "Longitude": -94.413126,
          "Undergraduate enrollment": 928
         },
         {
          "Institution Name": "William Paterson University of New Jersey",
          "Latitude": 40.945255,
          "Longitude": -74.200248,
          "Undergraduate enrollment": 8838
         },
         {
          "Institution Name": "William Peace University",
          "Latitude": 35.789139,
          "Longitude": -78.637697,
          "Undergraduate enrollment": 930
         },
         {
          "Institution Name": "William Penn University",
          "Latitude": 41.310111,
          "Longitude": -92.647095,
          "Undergraduate enrollment": 1282
         },
         {
          "Institution Name": "William Woods University",
          "Latitude": 38.860287,
          "Longitude": -91.950416,
          "Undergraduate enrollment": 956
         },
         {
          "Institution Name": "Williams Baptist College",
          "Latitude": 36.125676,
          "Longitude": -90.940277,
          "Undergraduate enrollment": 494
         },
         {
          "Institution Name": "Williams College",
          "Latitude": 42.712725,
          "Longitude": -73.203132,
          "Undergraduate enrollment": 2080
         },
         {
          "Institution Name": "Williamson Christian College",
          "Latitude": 35.95616,
          "Longitude": -86.828311,
          "Undergraduate enrollment": 43
         },
         {
          "Institution Name": "Wilmington College",
          "Latitude": 39.444744,
          "Longitude": -83.818342,
          "Undergraduate enrollment": 1169
         },
         {
          "Institution Name": "Wilmington University",
          "Latitude": 39.682299,
          "Longitude": -75.586998,
          "Undergraduate enrollment": 8440
         },
         {
          "Institution Name": "Wilson College",
          "Latitude": 39.949659,
          "Longitude": -77.650712,
          "Undergraduate enrollment": 827
         },
         {
          "Institution Name": "Winebrenner Theological Seminary",
          "Latitude": 41.052464,
          "Longitude": -83.650711,
          "Undergraduate enrollment": 0
         },
         {
          "Institution Name": "Wingate University",
          "Latitude": 34.986064,
          "Longitude": -80.44305,
          "Undergraduate enrollment": 2592
         },
         {
          "Institution Name": "Winona State University",
          "Latitude": 44.046159,
          "Longitude": -91.643723,
          "Undergraduate enrollment": 7460
         },
         {
          "Institution Name": "Winston-Salem State University",
          "Latitude": 36.089554,
          "Longitude": -80.225033,
          "Undergraduate enrollment": 4688
         },
         {
          "Institution Name": "Winthrop University",
          "Latitude": 34.941515,
          "Longitude": -81.03140400000002,
          "Undergraduate enrollment": 5014
         },
         {
          "Institution Name": "Wisconsin Lutheran College",
          "Latitude": 43.036943,
          "Longitude": -88.02271800000003,
          "Undergraduate enrollment": 992
         },
         {
          "Institution Name": "Wisconsin School of Professional Psychology",
          "Latitude": 43.10534000000001,
          "Longitude": -88.026735,
          "Undergraduate enrollment": 0
         },
         {
          "Institution Name": "Wittenberg University",
          "Latitude": 39.934029,
          "Longitude": -83.815445,
          "Undergraduate enrollment": 1857
         },
         {
          "Institution Name": "Wofford College",
          "Latitude": 34.959411,
          "Longitude": -81.93356800000002,
          "Undergraduate enrollment": 1678
         },
         {
          "Institution Name": "Wolford College",
          "Latitude": 26.268227000000003,
          "Longitude": -81.792132,
          "Undergraduate enrollment": 0
         },
         {
          "Institution Name": "Won Institute of Graduate Studies",
          "Latitude": 40.09931,
          "Longitude": -75.154336,
          "Undergraduate enrollment": 0
         },
         {
          "Institution Name": "Wongu University of Oriental Medicine",
          "Latitude": 36.03274,
          "Longitude": -115.117581,
          "Undergraduate enrollment": 0
         },
         {
          "Institution Name": "Woodbury University",
          "Latitude": 34.208011,
          "Longitude": -118.341147,
          "Undergraduate enrollment": 1024
         },
         {
          "Institution Name": "Worcester Polytechnic Institute",
          "Latitude": 42.274853,
          "Longitude": -71.808339,
          "Undergraduate enrollment": 4435
         },
         {
          "Institution Name": "Worcester State University",
          "Latitude": 42.26753400000001,
          "Longitude": -71.84401899999997,
          "Undergraduate enrollment": 5495
         },
         {
          "Institution Name": "World Medicine Institute",
          "Latitude": 21.296439000000003,
          "Longitude": -157.754719,
          "Undergraduate enrollment": 0
         },
         {
          "Institution Name": "World Mission University",
          "Latitude": 34.064918,
          "Longitude": -118.289484,
          "Undergraduate enrollment": 142
         },
         {
          "Institution Name": "Wright Graduate University for the Realization of Human Potential",
          "Latitude": 42.767178,
          "Longitude": -88.59108499999998,
          "Undergraduate enrollment": 0
         },
         {
          "Institution Name": "Wright State University-Lake Campus",
          "Latitude": 40.546074,
          "Longitude": -84.509194,
          "Undergraduate enrollment": 1037
         },
         {
          "Institution Name": "Wright State University-Main Campus",
          "Latitude": 39.780634,
          "Longitude": -84.064881,
          "Undergraduate enrollment": 12115
         },
         {
          "Institution Name": "Xavier University",
          "Latitude": 39.149547,
          "Longitude": -84.47465,
          "Undergraduate enrollment": 4634
         },
         {
          "Institution Name": "Xavier University of Louisiana",
          "Latitude": 29.964162,
          "Longitude": -90.107307,
          "Undergraduate enrollment": 2293
         },
         {
          "Institution Name": "Yakima Valley College",
          "Latitude": 46.586098,
          "Longitude": -120.528525,
          "Undergraduate enrollment": 4007
         },
         {
          "Institution Name": "Yale University",
          "Latitude": 41.311158,
          "Longitude": -72.926688,
          "Undergraduate enrollment": 5746
         },
         {
          "Institution Name": "Yeshiva Bais Aharon",
          "Latitude": 40.101002,
          "Longitude": -74.203094,
          "Undergraduate enrollment": 44
         },
         {
          "Institution Name": "Yeshiva College of the Nations Capital",
          "Latitude": 39.042404,
          "Longitude": -77.03056600000002,
          "Undergraduate enrollment": 25
         },
         {
          "Institution Name": "Yeshiva D'monsey Rabbinical College",
          "Latitude": 41.114173,
          "Longitude": -74.06472099999998,
          "Undergraduate enrollment": 70
         },
         {
          "Institution Name": "Yeshiva Derech Chaim",
          "Latitude": 40.636889,
          "Longitude": -73.97975699999998,
          "Undergraduate enrollment": 83
         },
         {
          "Institution Name": "Yeshiva Gedola Ohr Yisrael",
          "Latitude": 40.61359,
          "Longitude": -73.944041,
          "Undergraduate enrollment": 39
         },
         {
          "Institution Name": "Yeshiva Gedolah Imrei Yosef D'spinka",
          "Latitude": 40.628468,
          "Longitude": -73.992328,
          "Undergraduate enrollment": 105
         },
         {
          "Institution Name": "Yeshiva Gedolah Kesser Torah",
          "Latitude": 41.124819,
          "Longitude": -74.06855300000002,
          "Undergraduate enrollment": 71
         },
         {
          "Institution Name": "Yeshiva Gedolah of Greater Detroit",
          "Latitude": 42.471924,
          "Longitude": -83.200754,
          "Undergraduate enrollment": 60
         },
         {
          "Institution Name": "Yeshiva Gedolah Shaarei Shmuel",
          "Latitude": 40.091,
          "Longitude": -74.19759599999998,
          "Undergraduate enrollment": 81
         },
         {
          "Institution Name": "Yeshiva Gedolah Zichron Leyma",
          "Latitude": 40.6992,
          "Longitude": -74.268351,
          "Undergraduate enrollment": 21
         },
         {
          "Institution Name": "Yeshiva Karlin Stolin",
          "Latitude": 40.624918,
          "Longitude": -73.983373,
          "Undergraduate enrollment": 151
         },
         {
          "Institution Name": "Yeshiva Kollel Tifereth Elizer",
          "Latitude": 40.637096,
          "Longitude": -73.992171,
          "Undergraduate enrollment": 78
         },
         {
          "Institution Name": "Yeshiva of Far Rockaway Derech Ayson Rabbinical Seminary",
          "Latitude": 40.60049,
          "Longitude": -73.743901,
          "Undergraduate enrollment": 33
         },
         {
          "Institution Name": "Yeshiva of Machzikai Hadas",
          "Latitude": 40.638194,
          "Longitude": -73.98785500000002,
          "Undergraduate enrollment": 413
         },
         {
          "Institution Name": "Yeshiva of Nitra Rabbinical College",
          "Latitude": 41.22085,
          "Longitude": -73.72842299999998,
          "Undergraduate enrollment": 186
         },
         {
          "Institution Name": "Yeshiva of the Telshe Alumni",
          "Latitude": 40.896668,
          "Longitude": -73.911096,
          "Undergraduate enrollment": 116
         },
         {
          "Institution Name": "Yeshiva Ohr Elchonon Chabad West Coast Talmudical Seminary",
          "Latitude": 34.085494,
          "Longitude": -118.346688,
          "Undergraduate enrollment": 143
         },
         {
          "Institution Name": "Yeshiva Ohr Naftoli",
          "Latitude": 41.45698400000001,
          "Longitude": -74.046291,
          "Undergraduate enrollment": 24
         },
         {
          "Institution Name": "Yeshiva Shaar Ephraim",
          "Latitude": 41.116935,
          "Longitude": -74.060858,
          "Undergraduate enrollment": 117
         },
         {
          "Institution Name": "Yeshiva Shaar Hatorah",
          "Latitude": 40.703795,
          "Longitude": -73.834252,
          "Undergraduate enrollment": 82
         },
         {
          "Institution Name": "Yeshiva Shaarei Torah of Rockland",
          "Latitude": 41.12362,
          "Longitude": -74.090159,
          "Undergraduate enrollment": 93
         },
         {
          "Institution Name": "Yeshiva Sholom Shachna",
          "Latitude": 40.6275,
          "Longitude": -73.973431,
          "Undergraduate enrollment": 105
         },
         {
          "Institution Name": "Yeshiva Toras Chaim",
          "Latitude": 40.098692,
          "Longitude": -74.18214300000002,
          "Undergraduate enrollment": 222
         },
         {
          "Institution Name": "Yeshiva University",
          "Latitude": 40.850605,
          "Longitude": -73.929873,
          "Undergraduate enrollment": 2757
         },
         {
          "Institution Name": "Yeshiva Yesodei Hatorah",
          "Latitude": 40.065908,
          "Longitude": -74.202016,
          "Undergraduate enrollment": 65
         },
         {
          "Institution Name": "Yeshiva Zichron Aryeh",
          "Latitude": 40.606105,
          "Longitude": -73.764423,
          "Undergraduate enrollment": 24
         },
         {
          "Institution Name": "Yeshivah Gedolah Rabbinical College",
          "Latitude": 25.782445000000006,
          "Longitude": -80.141334,
          "Undergraduate enrollment": 24
         },
         {
          "Institution Name": "Yeshivas Be'er Yitzchok",
          "Latitude": 40.682465,
          "Longitude": -74.213255,
          "Undergraduate enrollment": 43
         },
         {
          "Institution Name": "Yeshivas Maharit D'Satmar",
          "Latitude": 41.33127,
          "Longitude": -74.159642,
          "Undergraduate enrollment": 99
         },
         {
          "Institution Name": "Yeshivas Novominsk",
          "Latitude": 40.623293,
          "Longitude": -73.990095,
          "Undergraduate enrollment": 154
         },
         {
          "Institution Name": "Yeshivath Beth Moshe",
          "Latitude": 41.394852,
          "Longitude": -75.656191,
          "Undergraduate enrollment": 34
         },
         {
          "Institution Name": "Yeshivath Viznitz",
          "Latitude": 41.114682,
          "Longitude": -74.070243,
          "Undergraduate enrollment": 517
         },
         {
          "Institution Name": "Yeshivath Zichron Moshe",
          "Latitude": 41.73048,
          "Longitude": -74.62182299999998,
          "Undergraduate enrollment": 165
         },
         {
          "Institution Name": "Yo San University of Traditional Chinese Medicine",
          "Latitude": 33.993287,
          "Longitude": -118.442756,
          "Undergraduate enrollment": 0
         },
         {
          "Institution Name": "York College",
          "Latitude": 40.869526,
          "Longitude": -97.579352,
          "Undergraduate enrollment": 431
         },
         {
          "Institution Name": "York College of Pennsylvania",
          "Latitude": 39.94614,
          "Longitude": -76.72798399999998,
          "Undergraduate enrollment": 4171
         },
         {
          "Institution Name": "Young Harris College",
          "Latitude": 34.933523,
          "Longitude": -83.84586999999998,
          "Undergraduate enrollment": 1202
         },
         {
          "Institution Name": "Youngstown State University",
          "Latitude": 41.104928,
          "Longitude": -80.64659,
          "Undergraduate enrollment": 11269
         }
        ]
       },
       "layer": [
        {
         "data": {
          "format": {
           "feature": "states",
           "type": "topojson"
          },
          "url": "https://vega.github.io/vega-datasets/data/us-10m.json"
         },
         "height": 500,
         "mark": {
          "fill": "lightgray",
          "stroke": "white",
          "type": "geoshape"
         },
         "projection": {
          "type": "albersUsa"
         },
         "width": 800
        },
        {
         "data": {
          "name": "data-6c6e00e0a31cc10e908b2b380c1ac807"
         },
         "encoding": {
          "color": {
           "field": "Undergraduate enrollment",
           "scale": {
            "scheme": "darkgreen"
           },
           "type": "quantitative"
          },
          "latitude": {
           "field": "Latitude",
           "type": "quantitative"
          },
          "longitude": {
           "field": "Longitude",
           "type": "quantitative"
          },
          "size": {
           "field": "Undergraduate enrollment",
           "title": "Size",
           "type": "quantitative"
          },
          "tooltip": [
           {
            "field": "Institution Name",
            "type": "nominal"
           },
           {
            "field": "Undergraduate enrollment",
            "type": "quantitative"
           }
          ]
         },
         "mark": "circle",
         "title": "4-Year colleges in the Continental United States by Undergraduate Size"
        }
       ]
      },
      "image/png": "[encoded data removed]",
      "text/plain": [
       "<VegaLite 3 object>\n",
       "\n",
       "If you see this message, it means the renderer has not been properly enabled\n",
       "for the frontend that you are using. For more information, see\n",
       "https://altair-viz.github.io/user_guide/troubleshooting.html\n"
      ]
     },
     "execution_count": 4,
     "metadata": {},
     "output_type": "execute_result"
    }
   ],
   "source": [
    "states = alt.topo_feature(data.us_10m.url, feature='states')\n",
    "\n",
    "# US states background\n",
    "background = alt.Chart(states).mark_geoshape(\n",
    "    fill='lightgray',\n",
    "    stroke='white'\n",
    ").properties(\n",
    "    width=800,\n",
    "    height=500\n",
    ").project('albersUsa')\n",
    "\n",
    "\n",
    "# airport positions on background\n",
    "points = alt.Chart(colleges_clean).mark_circle().encode(\n",
    "    longitude='Longitude:Q',\n",
    "    latitude='Latitude:Q',\n",
    "    size=alt.Size('Undergraduate enrollment:Q', title='Size'),\n",
    "    color=alt.Color('Undergraduate enrollment:Q', scale=alt.Scale(scheme='darkgreen') ),\n",
    "    tooltip=['Institution Name:N','Undergraduate enrollment:Q']\n",
    ").properties(\n",
    "    title='4-Year colleges in the Continental United States by Undergraduate Size'\n",
    ")\n",
    "\n",
    "background + points"
   ]
  }
 ],
 "metadata": {
  "kernelspec": {
   "display_name": "Python 3",
   "language": "python",
   "name": "python3"
  },
  "language_info": {
   "codemirror_mode": {
    "name": "ipython",
    "version": 3
   },
   "file_extension": ".py",
   "mimetype": "text/x-python",
   "name": "python",
   "nbconvert_exporter": "python",
   "pygments_lexer": "ipython3",
   "version": "3.6.7"
  }
 },
 "nbformat": 4,
 "nbformat_minor": 4
}
